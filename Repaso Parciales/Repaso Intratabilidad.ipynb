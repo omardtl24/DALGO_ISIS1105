{
 "cells": [
  {
   "cell_type": "markdown",
   "metadata": {},
   "source": [
    "1. Subconjunto\n",
    "2. Que el dinero sea mayor o igual a la cota"
   ]
  },
  {
   "cell_type": "code",
   "execution_count": null,
   "metadata": {},
   "outputs": [],
   "source": [
    "class Persona:\n",
    "    def __init__(self,nombre,dinero):\n",
    "        self.nombre = nombre\n",
    "        self.dinero = dinero\n",
    "\n",
    "def verify(A,C,K,S):\n",
    "    #Verificar que sea subconjunto\n",
    "    for x in S:\n",
    "        if x not in A: return False\n",
    "    \n",
    "    #Cota de dinero\n",
    "    c = 0\n",
    "    for x in S:\n",
    "        isNotFighted = True\n",
    "        for y in S:\n",
    "            isFighted = isFighted and (x,y) not in C\n",
    "\n"
   ]
  }
 ],
 "metadata": {
  "language_info": {
   "name": "python"
  }
 },
 "nbformat": 4,
 "nbformat_minor": 2
}
