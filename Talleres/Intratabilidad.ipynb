{
 "cells": [
  {
   "cell_type": "markdown",
   "metadata": {},
   "source": [
    "## Problemas NP-Hard"
   ]
  },
  {
   "cell_type": "markdown",
   "metadata": {
    "vscode": {
     "languageId": "plaintext"
    }
   },
   "source": [
    "Dado un grafo no dirigido, identificar el subgrafo completo de mayor tamaño"
   ]
  },
  {
   "cell_type": "markdown",
   "metadata": {},
   "source": [
    "### Optimización"
   ]
  },
  {
   "cell_type": "markdown",
   "metadata": {},
   "source": [
    "| E/S | Nombre | Tipo | Descripción |\n",
    "|-|-|-|-|\n",
    "| E | V | **Set** of **Nodos** | Conjunto inicial de los nodos |\n",
    "| E | E | **List** of **Pairs** of **Nodos** | Conjunto de ejes o conexiones entre nodos |\n",
    "| S | R | **Set** of **Nodos** | Subconjunto de nodos que componen el subgrafo más grande |"
   ]
  },
  {
   "cell_type": "markdown",
   "metadata": {},
   "source": [
    "##### Funciones\n",
    "\n",
    "$\\text{isComplete}(S,e) = \\forall x,y \\,\\,| \\,\\, x,y  \\in S \\wedge x \\neq y: (x,y) \\in e$\n",
    "\n",
    "\n",
    "##### Precondicion y Postcondicion\n",
    "\n",
    "$Q : \\{ \\textbf{true}\\}$\n",
    "\n",
    "$R : \\{\\text{isComplete}(R,E) \\wedge (\\forall S \\in P(V) \\,\\,| \\,\\, \\text{isComplete}(S,E) : |S| \\leq |R|) \\}$"
   ]
  },
  {
   "cell_type": "markdown",
   "metadata": {},
   "source": [
    "### Decisión"
   ]
  },
  {
   "cell_type": "markdown",
   "metadata": {},
   "source": [
    "| E/S | Nombre | Tipo | Descripción |\n",
    "|-|-|-|-|\n",
    "| E | V | **Set** of **Nodos** | Conjunto inicial de los nodos |\n",
    "| E | E | **List** of **Pairs** of **Nodos** | Conjunto de ejes o conexiones entre nodos |\n",
    "| E | T | **nat** | Cota de tamaño de subgrafo |\n",
    "| S | b | **boolean** | Si existe un subgrafo de tamaño menor o igual a $T$ |"
   ]
  },
  {
   "cell_type": "markdown",
   "metadata": {},
   "source": [
    "##### Funciones\n",
    "\n",
    "$\\text{isComplete}(S,e) = \\forall x,y \\,\\,| \\,\\, x,y  \\in S \\wedge x \\neq y: (x,y) \\in e$\n",
    "\n",
    "\n",
    "##### Precondicion y Postcondicion\n",
    "\n",
    "$Q : \\{ \\textbf{true}\\}$\n",
    "\n",
    "$R : \\{b \\equiv (\\exists S \\in P(V) \\,\\,| \\,\\, \\text{isComplete}(S,E) : |S| \\leq T) \\}$"
   ]
  },
  {
   "cell_type": "markdown",
   "metadata": {},
   "source": [
    "### Verificación"
   ]
  },
  {
   "cell_type": "markdown",
   "metadata": {},
   "source": [
    "| E/S | Nombre | Tipo | Descripción |\n",
    "|-|-|-|-|\n",
    "| E | V | **Set** of **Nodos** | Conjunto inicial de los nodos |\n",
    "| E | E | **List** of **Pairs** of **Nodos** | Conjunto de ejes o conexiones entre nodos |\n",
    "| E | T | **nat** | Cota de tamaño de subgrafo |\n",
    "| E | R | **Set** of **Nodos** | Subconjunto de nodos que componen el subgrafo más grande |\n",
    "| S | b | **boolean** | Si el subgrafo dado es completo y es de tamaño menor o igual a T |"
   ]
  },
  {
   "cell_type": "markdown",
   "metadata": {},
   "source": [
    "##### Funciones\n",
    "\n",
    "$\\text{isComplete}(S,e) = \\forall x,y \\,\\,| \\,\\, x,y  \\in S \\wedge x \\neq y: (x,y) \\in e$\n",
    "\n",
    "\n",
    "##### Precondicion y Postcondicion\n",
    "\n",
    "$Q : \\{ R \\subseteq V\\}$\n",
    "\n",
    "$R : \\{b \\equiv ( \\text{isComplete}(R,E) \\wedge |R| \\leq T) \\}$"
   ]
  }
 ],
 "metadata": {
  "language_info": {
   "name": "python"
  }
 },
 "nbformat": 4,
 "nbformat_minor": 2
}
