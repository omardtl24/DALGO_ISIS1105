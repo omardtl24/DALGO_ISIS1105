{
 "cells": [
  {
   "cell_type": "markdown",
   "metadata": {},
   "source": [
    "# Desarollo Problemas Grafos"
   ]
  },
  {
   "cell_type": "markdown",
   "metadata": {},
   "source": [
    "## Problema 2"
   ]
  },
  {
   "cell_type": "markdown",
   "metadata": {},
   "source": [
    "La Superintendencia Bancaria tiene un registro de préstamos que cada entidad bancaria hace a\n",
    "otra en el país. Con esta información, la Superintendencia está interesada en detectar si hay\n",
    "autopréstamos en el sistema. Además de casos de prestamos directos de una entidad a si misma,\n",
    "una autoprestamo también puede ser un esquema en el que una entidad se presta plata a si\n",
    "misma a traves de una cadena de prestamos que inicia y termina en la misma entidad. Dada la\n",
    "relación p de prestamos entre entidades, determinar si existe algún autopréstamo.\n"
   ]
  },
  {
   "cell_type": "markdown",
   "metadata": {},
   "source": [
    "### Entradas, Salidas, Precondición, Postcondición"
   ]
  },
  {
   "cell_type": "markdown",
   "metadata": {},
   "source": [
    "| E/S | Nombre | Tipo | Descripción |\n",
    "|-----|--------|------|-------------|\n",
    "| E   |   G    |  List of **tuples**   | Relaciones de préstamos entre las entidades bancarias |\n",
    "| S   |   b    | **boolean** | Representa si existe algun autoprestamo de alguna entidad |"
   ]
  },
  {
   "cell_type": "markdown",
   "metadata": {},
   "source": [
    "### Estructura de grafo a utilizar\n",
    "\n",
    "En este problema tendremos un grafo que tendrá los siguientes elementos:\n",
    "\n",
    "* Nodos o Vertices: Representan las diferentes entidades bancarias que entran a ser estudiadas en el problema.\n",
    "* Arcos o Aristas: Representan si existe un prestamo desde una entidad bancaria $A$ a una entidad bancaria $B$, su costo representa el valor del prestamo (Costo 0 representa que no hay prestamo).\n",
    "* Dirigido: El grafo a representar es dirigido ya que el sentido de un prestamo es importante (No es lo mismo que $A$ le preste a $B$ que $B$ le preste a $A$)"
   ]
  },
  {
   "cell_type": "markdown",
   "metadata": {},
   "source": [
    "### Diseño del Algoritmo a utilizar"
   ]
  },
  {
   "cell_type": "markdown",
   "metadata": {},
   "source": [
    "El algoritmo que se diseñara determinara si existen algun bucle en el grafo en el que hubo prestamos. Un bucle representa que hubo cierta cantidad de dinero que se presto desde $A$ y que volvio a $A$ pasando por 0 o mas nodos distintos.\n",
    "\n",
    "Para nuestro propósito, se utilizará el algoritmo de BFS para identificar los bucles."
   ]
  },
  {
   "cell_type": "code",
   "execution_count": null,
   "metadata": {},
   "outputs": [],
   "source": [
    "class Graph:\n",
    "    def __init__(self, list):\n",
    "        self.Adj = {}\n",
    "        for source, destiny, cost in list:\n",
    "            if source not in self.g: \n",
    "                self.Adj[source] = []\n",
    "            if destiny not in self.adjacencylist: \n",
    "                self.Adj[source] = []\n",
    "            self.Adj[source].append(destiny)\n",
    "        self.nodes = set(self.Adj.keys())\n",
    "\n",
    "def BFS(G , source):\n",
    "    if source not in G.nodes: raise \"Not valid source for the given graph\"\n",
    "\n",
    "    color = {}\n",
    "    d = {}\n",
    "    p = {}\n",
    "\n",
    "    for u in G.nodes:\n",
    "        if u!=source:\n",
    "            color[u] = 'White'\n",
    "            d[u] = float(\"inf\")\n",
    "            p[u] = None\n",
    "    \n",
    "    color[source] = \"Gray\"\n",
    "    d[source] = 0\n",
    "    p[source] = None\n",
    "    Q = []\n",
    "    Q.append(source)\n",
    "    while len(Q)!=0:\n",
    "        u = Q.pop(0)\n",
    "        for v in G.Adj[u]:\n",
    "            if color[v]=='White':\n",
    "                color[v]=='Gray'\n",
    "                d[v] = d[u]+1\n",
    "                p[v] = u\n",
    "                Q.append(v)\n",
    "        color[u] == 'Black'\n",
    "\n",
    "\n",
    "\n"
   ]
  }
 ],
 "metadata": {
  "kernelspec": {
   "display_name": "Python 3",
   "language": "python",
   "name": "python3"
  },
  "language_info": {
   "name": "python",
   "version": "3.11.9"
  }
 },
 "nbformat": 4,
 "nbformat_minor": 2
}
