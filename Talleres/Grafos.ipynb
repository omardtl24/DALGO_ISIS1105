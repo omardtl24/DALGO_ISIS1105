{
 "cells": [
  {
   "cell_type": "markdown",
   "metadata": {},
   "source": [
    "# Desarollo Problemas Grafos"
   ]
  },
  {
   "cell_type": "markdown",
   "metadata": {},
   "source": [
    "## Problema 1"
   ]
  },
  {
   "cell_type": "markdown",
   "metadata": {},
   "source": [
    "La teoría de los seis grados de separación dice que una persona podría conocer a cualquier otra\n",
    "persona del mundo siguiendo una cadena de personas que se conocen entre si de tamaño\n",
    "máximo 6. Suponiendo que una persona conoce a otra si y solo si tienen una relación de amistad\n",
    "en la red social Facebook, diseñar un algoritmo que reciba la base de datos de relaciones de\n",
    "amistad de esta red social y determine si la teoria de los seis grados de separación se cumple.\n"
   ]
  },
  {
   "cell_type": "markdown",
   "metadata": {},
   "source": [
    "### Entradas y Salidas"
   ]
  },
  {
   "cell_type": "markdown",
   "metadata": {},
   "source": [
    "| E/S | Nombre | Tipo | Descripción |\n",
    "|-----|--------|------|-------------|\n",
    "| E   |   G    |  List of **tuples** of **string** | Parejas de personas que son amigas en Facebook |\n",
    "| E   |   N    |  List of **string**  | Lista de personas involucradas en la red social |\n",
    "| S   |   b    | **boolean** | Representa si se cumple la regla de los seis grados de separación |"
   ]
  },
  {
   "cell_type": "markdown",
   "metadata": {},
   "source": [
    "### Estructura de grafo a utilizar"
   ]
  },
  {
   "cell_type": "markdown",
   "metadata": {},
   "source": [
    "En este problema tendremos un grafo que tendrá los siguientes elementos:\n",
    "\n",
    "* Nodos o Vertices: Representan las diferentes personas que están en la red social facebook.\n",
    "* Arcos o Aristas: Representan si existe una relación de amistad entre dos personas en Facebook.\n",
    "* Dirigido: El grafo a representar es no dirigido, ya que para tener una relación de amistad, esta se debio generar por ambas partes (En otras redes sociales donde se tiene el concepto de seguidor se trataría de forma diferente, pero al estar en el contexto de facebook, se puede tratar como un grafo no dirigido)"
   ]
  },
  {
   "cell_type": "markdown",
   "metadata": {},
   "source": [
    "### Diseño de algoritmo a utilizar"
   ]
  },
  {
   "cell_type": "markdown",
   "metadata": {},
   "source": [
    "Para este problema, debemos identificar que el grafo es conexo y que para todo nodo, su distancia minima es mayor o igual a 6. Dado que el grafo es no dirigido y no tiene costos, se puede hacer esta tarea usando BFS o DFS.\n",
    "\n",
    "Se tomo la decisión de implementar BFS para solucionar este problema"
   ]
  },
  {
   "cell_type": "code",
   "execution_count": 147,
   "metadata": {},
   "outputs": [],
   "source": [
    "from collections import deque\n",
    "\n",
    "class Graph:\n",
    "    def __init__(self, edges, nodes):\n",
    "        self.nodes = nodes\n",
    "        self.edges = set(edges)\n",
    "        self.Adj = {n:set() for n in nodes}\n",
    "        for source, destiny in edges:\n",
    "            self.Adj[source].add(destiny)\n",
    "            self.Adj[destiny].add(source)\n",
    "\n",
    "def BFSCheck(g,u):\n",
    "    states = {}\n",
    "    distance = {}\n",
    "    for n in g.nodes:\n",
    "        states[n]=\"No Visitado\"\n",
    "        distance[n] = float(\"inf\")\n",
    "    \n",
    "    q = deque()\n",
    "    q.append(u)\n",
    "    states[u] = \"Visitado\"\n",
    "    distance[u] = 0\n",
    "    visited = 1\n",
    "    while len(q)!=0:\n",
    "        u = q.popleft()\n",
    "        for v in g.Adj[u]:\n",
    "            if states[v]==\"No Visitado\":\n",
    "                q.append(v)\n",
    "                visited+=1\n",
    "                distance[v] = distance[u]+1\n",
    "                states[v]=\"Visitado\"\n",
    "                if distance[v]>6:\n",
    "                    return False\n",
    "    return visited == len(g.nodes) \n",
    "\n",
    "def sixDegreeCheck(g):\n",
    "    for node in g.nodes:\n",
    "        b = BFSCheck(g,node)\n",
    "        if not b: return False\n",
    "    return True"
   ]
  },
  {
   "cell_type": "code",
   "execution_count": 148,
   "metadata": {},
   "outputs": [
    {
     "name": "stdout",
     "output_type": "stream",
     "text": [
      "En la red no se cumple la teoría de los seis grados de separación\n"
     ]
    }
   ],
   "source": [
    "people = [f\"Persona{i}\" for i in range(1,9)]\n",
    "friendship = [\n",
    "    (\"Persona1\",\"Persona2\"),\n",
    "    (\"Persona2\",\"Persona3\"),\n",
    "    (\"Persona3\",\"Persona4\"),\n",
    "    (\"Persona4\",\"Persona5\"),\n",
    "    (\"Persona5\",\"Persona6\"),\n",
    "    (\"Persona6\",\"Persona7\"),\n",
    "    (\"Persona7\",\"Persona8\")\n",
    "]\n",
    "g = Graph(friendship, people)\n",
    "b = sixDegreeCheck(g)\n",
    "\n",
    "if b: print(\"En la red se cumple la teoría de los seis grados de separación\")\n",
    "else: print(\"En la red no se cumple la teoría de los seis grados de separación\")"
   ]
  },
  {
   "cell_type": "code",
   "execution_count": 149,
   "metadata": {},
   "outputs": [
    {
     "name": "stdout",
     "output_type": "stream",
     "text": [
      "En la red si se cumple la teoría de los seis grados de separación\n"
     ]
    }
   ],
   "source": [
    "people = [f\"Persona{i}\" for i in range(1,8)]\n",
    "friendship = [\n",
    "    (\"Persona1\",\"Persona2\"),\n",
    "    (\"Persona1\",\"Persona3\"),\n",
    "    (\"Persona1\",\"Persona4\"),\n",
    "    (\"Persona1\",\"Persona5\"),\n",
    "    (\"Persona3\",\"Persona6\"),\n",
    "    (\"Persona6\",\"Persona7\")\n",
    "]\n",
    "g = Graph(friendship, people)\n",
    "b = sixDegreeCheck(g)\n",
    "\n",
    "if b: print(\"En la red si se cumple la teoría de los seis grados de separación\")\n",
    "else: print(\"En la red no se cumple la teoría de los seis grados de separación\")"
   ]
  },
  {
   "cell_type": "markdown",
   "metadata": {},
   "source": [
    "## Problema 2"
   ]
  },
  {
   "cell_type": "markdown",
   "metadata": {},
   "source": [
    "La Superintendencia Bancaria tiene un registro de préstamos que cada entidad bancaria hace a\n",
    "otra en el país. Con esta información, la Superintendencia está interesada en detectar si hay\n",
    "autopréstamos en el sistema. Además de casos de prestamos directos de una entidad a si misma,\n",
    "una autoprestamo también puede ser un esquema en el que una entidad se presta plata a si\n",
    "misma a traves de una cadena de prestamos que inicia y termina en la misma entidad. Dada la\n",
    "relación p de prestamos entre entidades, determinar si existe algún autopréstamo.\n"
   ]
  },
  {
   "cell_type": "markdown",
   "metadata": {},
   "source": [
    "### Entradas y Salidas"
   ]
  },
  {
   "cell_type": "markdown",
   "metadata": {},
   "source": [
    "| E/S | Nombre | Tipo | Descripción |\n",
    "|-----|--------|------|-------------|\n",
    "| E   |   G    |  List of **tuples**  | Relaciones de préstamos entre las entidades bancarias |\n",
    "| E   |   N    |  List of **string**  | Lista de entidades bancarias |\n",
    "| S   |   b    | **boolean** | Representa si existe algun autoprestamo de alguna entidad |"
   ]
  },
  {
   "cell_type": "markdown",
   "metadata": {},
   "source": [
    "### Estructura de grafo a utilizar"
   ]
  },
  {
   "cell_type": "markdown",
   "metadata": {},
   "source": [
    "En este problema tendremos un grafo que tendrá los siguientes elementos:\n",
    "\n",
    "* Nodos o Vertices: Representan las diferentes entidades bancarias que entran a ser estudiadas en el problema.\n",
    "* Arcos o Aristas: Representan si existe un prestamo desde una entidad bancaria $A$ a una entidad bancaria $B$, su costo representa el valor del prestamo (Costo 0 representa que no hay prestamo).\n",
    "* Dirigido: El grafo a representar es dirigido ya que el sentido de un prestamo es importante (No es lo mismo que $A$ le preste a $B$ que $B$ le preste a $A$)"
   ]
  },
  {
   "cell_type": "markdown",
   "metadata": {},
   "source": [
    "### Diseño del Algoritmo a utilizar"
   ]
  },
  {
   "cell_type": "markdown",
   "metadata": {},
   "source": [
    "El algoritmo que se diseñara determinara si existen algun bucle en el grafo en el que hubo prestamos. Un bucle representa que hubo cierta cantidad de dinero que se presto desde $A$ y que volvio a $A$ pasando por 0 o mas nodos distintos.\n",
    "\n",
    "Para nuestro propósito, se utilizará el algoritmo de DFS para identificar los bucles. El enfoque se relizara bajo el enfoque de identificar caminos, e individualmente determinar si tienen un ciclo o no. "
   ]
  },
  {
   "cell_type": "code",
   "execution_count": 150,
   "metadata": {},
   "outputs": [],
   "source": [
    "class Graph:\n",
    "    def __init__(self, list, nodes):\n",
    "        self.nodes = nodes\n",
    "        self.Adj = {n:[] for n in nodes}\n",
    "        for source, destiny, _ in list:\n",
    "            if source not in self.Adj: \n",
    "                self.Adj[source] = []\n",
    "            if destiny not in self.Adj: \n",
    "                self.Adj[destiny] = []\n",
    "\n",
    "            self.Adj[source].append(destiny)\n",
    "\n",
    "        \n",
    "\n",
    "def DFSCheckLoop(g):\n",
    "    color = {}\n",
    "    for u in g.nodes:\n",
    "        color[u] = 'WHITE'\n",
    "\n",
    "    for u in g.nodes:\n",
    "        if color[u]=='WHITE':\n",
    "            if DFSCheckPathLoop(g,u,color): return True\n",
    "    return False\n",
    "\n",
    "def DFSCheckPathLoop(g,u,color):\n",
    "    color[u] = 'GRAY'\n",
    "    for v in g.Adj[u]:\n",
    "        if color[v] == 'GRAY': return True\n",
    "        elif color[v] == 'WHITE':\n",
    "            if DFSCheckPathLoop(g,v,color): return True\n",
    "    color[u] = 'BLACK'\n",
    "    return False"
   ]
  },
  {
   "cell_type": "code",
   "execution_count": 151,
   "metadata": {},
   "outputs": [
    {
     "name": "stdout",
     "output_type": "stream",
     "text": [
      "No se identifico un autoprestamo entre los bancos\n"
     ]
    }
   ],
   "source": [
    "p = [\n",
    "    ('Banco1' , 'Banco2', 130),\n",
    "    ('Banco1' , 'Banco3', 130),\n",
    "    ('Banco3' , 'Banco4', 130),\n",
    "    ('Banco2' , 'Banco4', 130)\n",
    "]\n",
    "\n",
    "bancos = [f'Banco{i}' for i in range(1,5)]\n",
    "\n",
    "graph = Graph(p, bancos)\n",
    "b = DFSCheckLoop(graph)\n",
    "if b: print('Se identifico un autoprestamo entre los bancos')\n",
    "else: print('No se identifico un autoprestamo entre los bancos')"
   ]
  },
  {
   "cell_type": "code",
   "execution_count": 152,
   "metadata": {},
   "outputs": [
    {
     "name": "stdout",
     "output_type": "stream",
     "text": [
      "Se identifico un autoprestamo entre los bancos\n"
     ]
    }
   ],
   "source": [
    "p = [\n",
    "    ('Banco1' , 'Banco2', 130),\n",
    "    ('Banco1' , 'Banco3', 130),\n",
    "    ('Banco3' , 'Banco4', 130),\n",
    "    ('Banco2' , 'Banco4', 130),\n",
    "    ('Banco4' , 'Banco1', 130)\n",
    "]\n",
    "\n",
    "bancos = [f'Banco{i}' for i in range(1,5)]\n",
    "\n",
    "graph = Graph(p, bancos)\n",
    "b = DFSCheckLoop(graph)\n",
    "if b: print('Se identifico un autoprestamo entre los bancos')\n",
    "else: print('No se identifico un autoprestamo entre los bancos')"
   ]
  },
  {
   "cell_type": "markdown",
   "metadata": {},
   "source": [
    "## Problema 3"
   ]
  },
  {
   "cell_type": "markdown",
   "metadata": {},
   "source": [
    "Juan quiere invitar a sus amigos a conocer su nuevo apartamento. Sin embargo tiene la\n",
    "dificultad de que sus amigos son algo conflictivos y entonces sabe que varias parejas de amigos\n",
    "se han peleado entre ellos. Debido a esto, tomó la decisión de organizar dos reuniones. Diseñe un\n",
    "algoritmo que determine si es posible distribuir a los amigos de Juan en dos grupos de tal manera\n",
    "que dentro de cada grupo no haya parejas de personas que se hayan peleado entre ellas."
   ]
  },
  {
   "cell_type": "markdown",
   "metadata": {},
   "source": [
    "### Entradas y Salidas"
   ]
  },
  {
   "cell_type": "markdown",
   "metadata": {},
   "source": [
    "| E/S | Nombre | Tipo | Descripción |\n",
    "|-----|--------|------|-------------|\n",
    "| E   |   G    |  List of **tuples** of **string**   | Lista de personas que están peleadas |\n",
    "| E   |   N    |  List of **string**   | Lista de amigos de Juan |\n",
    "| S   |   b    | **boolean** | Representa si se pueden armar dos grupos de personas donde no hayan individuos peleados |\n",
    "| S   |   G    | Set of **string** | Conjunto de personas que pueden ir en un día (Si no es posible, se devuelve como None o nulo) |"
   ]
  },
  {
   "cell_type": "markdown",
   "metadata": {},
   "source": [
    "### Estructura del grafo a utilizar"
   ]
  },
  {
   "cell_type": "markdown",
   "metadata": {},
   "source": [
    "En este problema tendremos un grafo que tendrá los siguientes elementos:\n",
    "\n",
    "* Nodos o Vertices: Representan las diferentes personas que son amigos de Juan.\n",
    "* Arcos o Aristas: Representan si dos personas estan peleadas o no.\n",
    "* Dirigido: Se hace la suposición de que si dos personas están peleadas, ambas tienen conocimiento de que no pueden estar con la otra persona; por consiguiente, es una relación bidireccional y permite denotar que dos personas están peleadas."
   ]
  },
  {
   "cell_type": "markdown",
   "metadata": {},
   "source": [
    "### Diseño del Algoritmo a utilizar\n"
   ]
  },
  {
   "cell_type": "markdown",
   "metadata": {},
   "source": [
    "\n",
    "El querer saber saber si es posible armar dos grupos de personas que no esten peleadas, es equivalente a saber si un grafo es bipartito, esto se debe a que si una arista representa que dos personas están peleadas, el ideal es que todos los arcos pasen de un conjunto a otro, suponiendo que se busca armar dos conjuntos de personas disjuntos.\n",
    "\n",
    "Dado esto, se implementará el algoritmo BFS para determinar si el grafo que representa las peleas es bipartito o no."
   ]
  },
  {
   "cell_type": "code",
   "execution_count": 153,
   "metadata": {},
   "outputs": [],
   "source": [
    "from collections import deque\n",
    "\n",
    "class Graph:\n",
    "    def __init__(self, edges, nodes):\n",
    "        self.nodes = nodes\n",
    "        self.Adj = {n:[] for n in nodes}\n",
    "        for source, destiny in edges:\n",
    "            self.Adj[source].append(destiny)\n",
    "            self.Adj[destiny].append(source)\n",
    "        \n",
    "\n",
    "def BFSCheckBipartite(g):\n",
    "    state = {u:\"Not Visited\" for u in g.nodes} #Assigned to G1 or G2 or not visited\n",
    "    group_1 = set()\n",
    "\n",
    "    for u in g.nodes:\n",
    "\n",
    "        if state[u]!=\"Not Visited\": continue\n",
    "\n",
    "        q = deque()\n",
    "        state[u] = \"G1\"\n",
    "        q.append(u)\n",
    "\n",
    "        while len(q)!=0:\n",
    "            n = q.popleft()\n",
    "            for v in g.Adj[n]:\n",
    "                if state[v]==\"Not Visited\":\n",
    "                    q.append(v)\n",
    "                    #Assign different group as adjacent\n",
    "                    state[v] = \"G2\" if state[n]==\"G1\" else \"G1\"\n",
    "                #If both adjacent nodes are in the same group, graph is not bipartite \n",
    "                elif state[v]==state[n]:\n",
    "                    return False, None\n",
    "            if state[n]==\"G1\": group_1.add(n)\n",
    "            \n",
    "    return True, group_1    "
   ]
  },
  {
   "cell_type": "code",
   "execution_count": 154,
   "metadata": {},
   "outputs": [
    {
     "name": "stdout",
     "output_type": "stream",
     "text": [
      "Juan puede llevar a sus amigos en dos días. El primer día puede llevar a {'David', 'Juanes', 'Jaime'}\n"
     ]
    }
   ],
   "source": [
    "friendsFights = [\n",
    "    (\"Juanes\" , \"Lucas\"),\n",
    "    (\"Lucia\" , \"Juanes\"),\n",
    "    (\"Adolfo\" , \"Juanes\"),\n",
    "    (\"David\" , \"Lucas\"),\n",
    "    (\"Adolfo\",\"Jaime\")\n",
    "]\n",
    "friends = [\"Juanes\",\"Lucas\",\"Lucia\",\"David\",\"Adolfo\",\"Jaime\"]\n",
    "g = Graph(friendsFights,friends)\n",
    "b, group = BFSCheckBipartite(g)\n",
    "\n",
    "if b: print(f'Juan puede llevar a sus amigos en dos días. El primer día puede llevar a {group}')\n",
    "else: print(f'Juan no puede llevar a sus amigos en dos días')"
   ]
  },
  {
   "cell_type": "code",
   "execution_count": 155,
   "metadata": {},
   "outputs": [
    {
     "name": "stdout",
     "output_type": "stream",
     "text": [
      "Juan no puede llevar a sus amigos en dos días\n"
     ]
    }
   ],
   "source": [
    "friendsFights = [\n",
    "    (\"Juanes\" , \"Lucas\"),\n",
    "    (\"Lucia\" , \"Juanes\"),\n",
    "    (\"Adolfo\" , \"Juanes\"),\n",
    "    (\"David\" , \"Lucas\"),\n",
    "    (\"Adolfo\",\"Lucia\")\n",
    "]\n",
    "friends = [\"Juanes\",\"Lucas\",\"Lucia\",\"David\",\"Adolfo\"]\n",
    "g = Graph(friendsFights, friends)\n",
    "b, group = BFSCheckBipartite(g)\n",
    "\n",
    "if b: print(f'Juan puede llevar a sus amigos en dos días. El primer día puede llevar a {group}')\n",
    "else: print(f'Juan no puede llevar a sus amigos en dos días')"
   ]
  },
  {
   "cell_type": "markdown",
   "metadata": {},
   "source": [
    "## Problema 4"
   ]
  },
  {
   "cell_type": "markdown",
   "metadata": {},
   "source": [
    "En una red hay N computadores de los cuales se sabe que se puede enviar un mensaje de\n",
    "cualquier computador a otro gracias a un conjunto de M conexiones punto a punto. Aunque no hay\n",
    "conexiones directas entre todos los computadores, un computador puede enviar mensajes a otro\n",
    "siguiendo una cadena de conexiones. Se quiere saber si existe alguna conexión que sea\n",
    "indispensable, es decir, si existe alguna conexión entre dos computadores que, en caso de caerse,\n",
    "impida que se puedan enviar mensajes entre algun par de computadores."
   ]
  },
  {
   "cell_type": "markdown",
   "metadata": {},
   "source": [
    "### Entradas y Salidas"
   ]
  },
  {
   "cell_type": "markdown",
   "metadata": {},
   "source": [
    "| E/S | Nombre | Tipo | Descripción |\n",
    "|-----|--------|------|-------------|\n",
    "| E   |   G    |  List of **tuples** of **string**   | Lista de conexiones directas entre equipos |\n",
    "| E   |   N    |  List of **string**   | Lista de identificadores de computadores |\n",
    "| S   |   b    | **boolean** | Representa si existe alguna conexión que sea indispensable o no |\n",
    "| S   |   c    | List of **tuples** of **string** | Lista de conexiones directas indispensables |"
   ]
  },
  {
   "cell_type": "markdown",
   "metadata": {},
   "source": [
    "### Estructura de grafo a utilizar"
   ]
  },
  {
   "cell_type": "markdown",
   "metadata": {},
   "source": [
    "En este problema tendremos un grafo que tendrá los siguientes elementos:\n",
    "\n",
    "* Nodos o Vertices: Representan los diferentes computadores que componen la red.\n",
    "* Arcos o Aristas: Representan si dos computadores estan conectados de forma directa.\n",
    "* Dirigido: Por el concepto de red, si un computador esta conectado con otro, ambos se pueden enviar información de manera bidireccional. Por consiguiente, no existe una dirección de la conexión; lo que deriva en que el grafo es no dirigido."
   ]
  },
  {
   "cell_type": "markdown",
   "metadata": {},
   "source": [
    "### Diseño del Algoritmo a utilizar"
   ]
  },
  {
   "cell_type": "markdown",
   "metadata": {},
   "source": [
    "El ver si existe un eje que es indispensable es equivalente a verificar si el grafo mantiene la propiedad de ser conexo si yo retiro el eje del mismo. Por consiguiente, el enfoque a tratar es pata quede eje del grafo, removerlo y verificar que el grafo mantenga su propiedad de ser conexo. En el momento que se identifique un nodo que no cumpla esta propiedad, se catalogará dicho eje como un nodo indispensable.\n",
    "\n",
    "Para ello se utilizará eel algoritmo BFS para determinar si el grafoo es conexo; y se realizará el ejercicio descrito para cada eje del grafo"
   ]
  },
  {
   "cell_type": "code",
   "execution_count": 156,
   "metadata": {},
   "outputs": [],
   "source": [
    "from collections import deque\n",
    "\n",
    "class Graph:\n",
    "    def __init__(self, edges, nodes):\n",
    "        self.nodes = nodes\n",
    "        self.edges = set(edges)\n",
    "        self.Adj = {n:set() for n in nodes}\n",
    "        for source, destiny in edges:\n",
    "            self.Adj[source].add(destiny)\n",
    "            self.Adj[destiny].add(source)\n",
    "    \n",
    "    def removeEdge(self,edge):\n",
    "        if edge in self.edges:\n",
    "            self.edges.remove(edge)\n",
    "            source, destiny = edge\n",
    "            self.Adj[source].remove(destiny)\n",
    "            self.Adj[destiny].remove(source)\n",
    "\n",
    "    def addEdge(self,edge):\n",
    "        if edge not in self.edges:\n",
    "            self.edges.add(edge)\n",
    "            source, destiny = edge\n",
    "            self.Adj[source].add(destiny)\n",
    "            self.Adj[destiny].add(source)\n",
    "\n",
    "def hasIndispensable(g):\n",
    "    indispensable = set()\n",
    "    for edge in g.edges:\n",
    "        g.removeEdge(edge)\n",
    "        b = isConnectedBFS(g)\n",
    "        if not b: indispensable.add(edge)\n",
    "        g.addEdge(edge)\n",
    "    return len(indispensable)!=0 , indispensable \n",
    "\n",
    "def isConnectedBFS(g):\n",
    "    state = {u:\"No Visitado\" for u in g.nodes}\n",
    "    u = g.nodes[0]\n",
    "    state[u] = \"Visitado\"\n",
    "    total = 1\n",
    "    q = deque()\n",
    "    q.append(u)\n",
    "\n",
    "    while len(q)!=0:\n",
    "        u = q.popleft()\n",
    "        for v in g.Adj[u]:\n",
    "            if state[v]==\"No Visitado\":\n",
    "                q.append(v)\n",
    "                total+=1\n",
    "                state[v] = \"Visitado\"\n",
    "                \n",
    "    return total==len(g.nodes)"
   ]
  },
  {
   "cell_type": "code",
   "execution_count": 157,
   "metadata": {},
   "outputs": [
    {
     "name": "stdout",
     "output_type": "stream",
     "text": [
      "No se identificaron conexiones indispensables\n"
     ]
    }
   ],
   "source": [
    "computers = [f\"Computer{i}\" for i in range(1,7)]\n",
    "connections = [\n",
    "    (\"Computer1\",\"Computer2\"),\n",
    "    (\"Computer2\",\"Computer3\"),\n",
    "    (\"Computer3\",\"Computer4\"),\n",
    "    (\"Computer4\",\"Computer5\"),\n",
    "    (\"Computer5\",\"Computer6\"),\n",
    "    (\"Computer6\",\"Computer1\")\n",
    "]\n",
    "\n",
    "g = Graph(connections, computers)\n",
    "b,indispensable = hasIndispensable(g)\n",
    "\n",
    "if b: print(f'Se identificaron conexiones indispensables. Estas son:\\n {indispensable}')\n",
    "else: print(f'No se identificaron conexiones indispensables')\n"
   ]
  },
  {
   "cell_type": "code",
   "execution_count": 158,
   "metadata": {},
   "outputs": [
    {
     "name": "stdout",
     "output_type": "stream",
     "text": [
      "Se identificaron conexiones indispensables. Estas son:\n",
      " {('Computer1', 'Computer7')}\n"
     ]
    }
   ],
   "source": [
    "computers = [f\"Computer{i}\" for i in range(1,8)]\n",
    "connections = [\n",
    "    (\"Computer1\",\"Computer2\"),\n",
    "    (\"Computer2\",\"Computer3\"),\n",
    "    (\"Computer3\",\"Computer4\"),\n",
    "    (\"Computer4\",\"Computer5\"),\n",
    "    (\"Computer5\",\"Computer6\"),\n",
    "    (\"Computer6\",\"Computer1\"),\n",
    "    (\"Computer1\",\"Computer7\")\n",
    "]\n",
    "\n",
    "g = Graph(connections, computers)\n",
    "b,indispensable = hasIndispensable(g)\n",
    "\n",
    "if b: print(f'Se identificaron conexiones indispensables. Estas son:\\n {indispensable}')\n",
    "else: print(f'No se identificaron conexiones indispensables')\n"
   ]
  }
 ],
 "metadata": {
  "kernelspec": {
   "display_name": "Python 3",
   "language": "python",
   "name": "python3"
  },
  "language_info": {
   "codemirror_mode": {
    "name": "ipython",
    "version": 3
   },
   "file_extension": ".py",
   "mimetype": "text/x-python",
   "name": "python",
   "nbconvert_exporter": "python",
   "pygments_lexer": "ipython3",
   "version": "3.11.9"
  }
 },
 "nbformat": 4,
 "nbformat_minor": 2
}
