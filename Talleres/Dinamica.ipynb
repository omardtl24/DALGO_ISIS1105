{
 "cells": [
  {
   "cell_type": "markdown",
   "metadata": {},
   "source": [
    "#### Ejercicio 3"
   ]
  },
  {
   "cell_type": "markdown",
   "metadata": {},
   "source": [
    "##### Entradas y Salidas\n",
    "\n",
    "| E/S | Nombre | Tipo | Descripción |\n",
    "|-----|--------|------|-------------|\n",
    "| E   |   A    | Array[0,n) of **nat** | Arreglo de naturales al que se le busca su suma mas grande terminada en 0 |\n",
    "| S   |   s    | **nat** | Suma mas grande terminada en 0 |\n",
    "| S   |   S    | Array[0,n) of **bool** | Arreglo de booleanos que representa el conjunto que soluciona el problema |"
   ]
  },
  {
   "cell_type": "code",
   "execution_count": null,
   "metadata": {},
   "outputs": [],
   "source": []
  }
 ],
 "metadata": {
  "language_info": {
   "name": "python"
  }
 },
 "nbformat": 4,
 "nbformat_minor": 2
}
