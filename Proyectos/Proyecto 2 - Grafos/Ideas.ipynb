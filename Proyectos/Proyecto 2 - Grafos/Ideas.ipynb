{
 "cells": [
  {
   "cell_type": "markdown",
   "metadata": {},
   "source": [
    "# Brainstorm Proyecto 2 - Grafos"
   ]
  },
  {
   "cell_type": "markdown",
   "metadata": {},
   "source": [
    "El primer paso es definir las entradas y salidas del problema"
   ]
  },
  {
   "cell_type": "markdown",
   "metadata": {},
   "source": [
    "| Entrada / Salida | Nombre | Tipo | Descripción |\n",
    "|-|-|-|-|\n",
    "| E | C | **List** of **Celulas** | El conjunto de celulas donde encontramos su identificador, su posición, su tipo y sus péptidos asociados |\n",
    "| E | d | **nat** | Distancia máxima entre células que se pueden enviar mensajes |\n",
    "| s | c | **nat** | Identificador de la célula calculadora que se va a  |\n",
    "| s | M | **nat** | Cantidad máxima de mensajes que se pueden enviar sin quitar células |\n",
    "| s | m | **nat** | Cantidad máxima de mensajes que se pueden enviar quitando la célula calculadora indicada |"
   ]
  },
  {
   "cell_type": "markdown",
   "metadata": {},
   "source": [
    "A partir del esquema mencionado en el enunciado, se tiene un problema  de flujo. Esto por lo siguiente:\n",
    "\n",
    "1. La cantidad de mensajes recibidos y emitidos por las celulas calculadoras deben ser idénticos (Se de cumplir el principio de conservación).\n",
    "2. Las celulas iniciadores reciben impulsos externos y envian mensajes a las celulas calculadoras (Son las fuentes de mensajes)\n",
    "3. Las celulas ejecutadores reciben los mensajes de las celulas alculadores y ejecutan acciones en base a eso (Son los destinos de los mensajes).\n",
    "4. La cantidad máxima de mensajes que se pueden enviar entre celulas esta definido por la cantidad de péptidos compartidos (Existe una capacidad máxima de mensajes que se pueden enviar entre celulas calculadoras)"
   ]
  },
  {
   "cell_type": "markdown",
   "metadata": {},
   "source": [
    "Dado esto, podemos definir que la siguiente idea de algoritmo para seguir:\n",
    "\n",
    "```\n",
    "    1. Inicializar grafo desde entrada\n",
    "    2. Calcular flujo máximo sobre el grafo\n",
    "    3. Para cada nodo de celula calculadora del grafo:\n",
    "    4.      Calcular flujo maximo sin la celula marcada\n",
    "    5.      Verificar si es menor a los flujos ya obtenidos (De ser asi, se guarda el flujo y la celula)\n",
    "    6. Retornar flujo maximo, celula obtenida y flujo excluyendo dicha celula\n",
    "```\n",
    "\n"
   ]
  },
  {
   "cell_type": "markdown",
   "metadata": {},
   "source": [
    "En ese sentido, la complejidad del algoritmo estará fuertemente influenciada por que estrategia se use para resolver el problema de máximo flujo"
   ]
  },
  {
   "cell_type": "markdown",
   "metadata": {},
   "source": [
    "Esta estrategia, directamente va a explorar que sucede cuando excluimos todos los nodos calculadores. Podria entenderse que es una estrategia de busqueda completa; por lo que explora todas las posibles exclusiones de nodos y busca a partir de esto el nodo especifico que minimiza el paso de flujo"
   ]
  },
  {
   "cell_type": "markdown",
   "metadata": {},
   "source": [
    "Sin embargo, podemos definir una propiedad que es el flujo que pasa a través de un nodo.\n",
    "\n",
    "A partir de esto, tendremos en cuenta el siguiente concepto:\n",
    "\n",
    "* **Flujo del nodo** Se entiende como el flujo que pasa a través del nodo. En ese sentido, este valor se puede hallar sumando todos los flujos que tengan de destino el nodo de interés o sumando todos los flujos que parten a partir del nodo (Por las propiedades de un flujo, sabemos que ambos valores son equivalentes)\n",
    "\n",
    "Bajo este concepto, se tiene de idea tentativa de que el nodo que se debe excluir para minimizar el flujo total, es aquel cuyo flujo individual sea maximo (Suena enredado, pero se podria probar).\n",
    "\n",
    "Si esta propiedad es correcta, se tendría el siguiente algoritmo tentativo."
   ]
  },
  {
   "cell_type": "markdown",
   "metadata": {},
   "source": [
    "\n",
    "```\n",
    "    1. Inicializar grafo desde entrada\n",
    "    2. Calcular flujo máximo sobre el grafo\n",
    "    3. Identificar el flujo de nodo máximo y su nodo calculador asociado\n",
    "    4. Recalcular el flujo excluyendo el nodo identificado\n",
    "    5. Retornar flujo maximo, celula identificada y flujo excluyendo dicha celula\n",
    "```"
   ]
  },
  {
   "cell_type": "code",
   "execution_count": null,
   "metadata": {},
   "outputs": [],
   "source": [
    "!java ProblemaP2.java < P1.in"
   ]
  }
 ],
 "metadata": {
  "language_info": {
   "name": "python"
  }
 },
 "nbformat": 4,
 "nbformat_minor": 2
}
