{
 "cells": [
  {
   "cell_type": "markdown",
   "metadata": {},
   "source": [
    "# Brainstorm Proyecto 2 - Grafos"
   ]
  },
  {
   "cell_type": "markdown",
   "metadata": {},
   "source": [
    "El primer paso es definir las entradas y salidas del problema"
   ]
  },
  {
   "cell_type": "markdown",
   "metadata": {},
   "source": [
    "| Entrada / Salida | Nombre | Tipo | Descripción |\n",
    "|-|-|-|-|\n",
    "| E | C | **List** of **Celulas** | El conjunto de celulas donde encontramos su identificador, su posición, su tipo y sus péptidos asociados |\n",
    "| E | d | **nat** | Distancia máxima entre células que se pueden enviar mensajes |\n",
    "| s | c | **nat** | Identificador de la célula calculadora que se va a  |\n",
    "| s | M | **nat** | Cantidad máxima de mensajes que se pueden enviar sin quitar células |\n",
    "| s | m | **nat** | Cantidad máxima de mensajes que se pueden enviar quitando la célula calculadora indicada |"
   ]
  },
  {
   "cell_type": "markdown",
   "metadata": {},
   "source": [
    "A partir del esquema mencionado en el enunciado, se tiene un problema  de flujo. Esto por lo siguiente:\n",
    "\n",
    "1. La cantidad de mensajes recibidos y emitidos por las celulas calculadoras deben ser idénticos (Se de cumplir el principio de conservación).\n",
    "2. Las celulas iniciadores reciben impulsos externos y envian mensajes a las celulas calculadoras (Son las fuentes de mensajes)\n",
    "3. Las celulas ejecutadores reciben los mensajes de las celulas alculadores y ejecutan acciones en base a eso (Son los destinos de los mensajes).\n",
    "4. La cantidad máxima de mensajes que se pueden enviar entre celulas esta definido por la cantidad de péptidos compartidos (Existe una capacidad máxima de mensajes que se pueden enviar entre celulas calculadoras)"
   ]
  },
  {
   "cell_type": "markdown",
   "metadata": {},
   "source": [
    "Dado esto, podemos definir que la siguiente idea de algoritmo para seguir:\n",
    "\n",
    "```\n",
    "    1. Inicializar grafo desde entrada\n",
    "    2. Calcular flujo máximo sobre el grafo\n",
    "    3. Para cada nodo de celula calculadora del grafo:\n",
    "    4.      Calcular flujo maximo sin la celula marcada\n",
    "    5.      Verificar si es menor a los flujos ya obtenidos (De ser asi, se guarda el flujo y la celula)\n",
    "    6. Retornar flujo maximo, celula obtenida y flujo excluyendo dicha celula\n",
    "```\n",
    "\n"
   ]
  },
  {
   "cell_type": "markdown",
   "metadata": {},
   "source": [
    "En ese sentido, la complejidad del algoritmo estará fuertemente incluenciada por que estrategia se use para resolver el problema de máximo flujo"
   ]
  }
 ],
 "metadata": {
  "language_info": {
   "name": "python"
  }
 },
 "nbformat": 4,
 "nbformat_minor": 2
}
