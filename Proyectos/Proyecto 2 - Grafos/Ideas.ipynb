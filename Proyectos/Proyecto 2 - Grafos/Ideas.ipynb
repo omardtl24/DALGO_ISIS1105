{
 "cells": [
  {
   "cell_type": "markdown",
   "metadata": {},
   "source": [
    "# Brainstorm Proyecto 2 - Grafos"
   ]
  },
  {
   "cell_type": "markdown",
   "metadata": {},
   "source": [
    "El primer paso es definir las entradas y salidas del problema"
   ]
  },
  {
   "cell_type": "markdown",
   "metadata": {},
   "source": [
    "| Entrada / Salida | Nombre | Tipo | Descripción |\n",
    "|-|-|-|-|\n",
    "| E | C | **List** of **Celulas** | El conjunto de celulas donde encontramos su identificador, su posición, su tipo y sus péptidos asociados |\n",
    "| E | d | **nat** | Distancia máxima entre células que se pueden enviar mensajes |\n",
    "| s | c | **nat** | Identificador de la célula calculadora que se va a  |\n",
    "| s | M | **nat** | Cantidad máxima de mensajes que se pueden enviar sin quitar células |\n",
    "| s | m | **nat** | Cantidad máxima de mensajes que se pueden enviar quitando la célula calculadora indicada |"
   ]
  },
  {
   "cell_type": "markdown",
   "metadata": {},
   "source": [
    "A partir del esquema mencionado en el enunciado, se tiene un problema  de flujo. Esto por lo siguiente:\n",
    "\n",
    "1. La cantidad de mensajes recibidos y emitidos por las celulas calculadoras deben ser idénticos (Se de cumplir el principio de conservación).\n",
    "2. Las celulas iniciadores reciben impulsos externos y envian mensajes a las celulas calculadoras (Son las fuentes de mensajes)\n",
    "3. Las celulas ejecutadores reciben los mensajes de las celulas alculadores y ejecutan acciones en base a eso (Son los destinos de los mensajes).\n",
    "4. La cantidad máxima de mensajes que se pueden enviar entre celulas esta definido por la cantidad de péptidos compartidos (Existe una capacidad máxima de mensajes que se pueden enviar entre celulas calculadoras)"
   ]
  },
  {
   "cell_type": "markdown",
   "metadata": {},
   "source": [
    "Dado esto, podemos definir que la siguiente idea de algoritmo para seguir:\n",
    "\n",
    "```\n",
    "    1. Inicializar grafo desde entrada\n",
    "    2. Calcular flujo máximo sobre el grafo\n",
    "    3. Para cada nodo de celula calculadora del grafo:\n",
    "    4.      Calcular flujo maximo sin la celula marcada\n",
    "    5.      Verificar si es menor a los flujos ya obtenidos (De ser asi, se guarda el flujo y la celula)\n",
    "    6. Retornar flujo maximo, celula obtenida y flujo excluyendo dicha celula\n",
    "```\n",
    "\n"
   ]
  },
  {
   "cell_type": "markdown",
   "metadata": {},
   "source": [
    "En ese sentido, la complejidad del algoritmo estará fuertemente influenciada por que estrategia se use para resolver el problema de máximo flujo"
   ]
  },
  {
   "cell_type": "markdown",
   "metadata": {},
   "source": [
    "Esta estrategia, directamente va a explorar que sucede cuando excluimos todos los nodos calculadores. Podria entenderse que es una estrategia de busqueda completa; por lo que explora todas las posibles exclusiones de nodos y busca a partir de esto el nodo especifico que minimiza el paso de flujo"
   ]
  },
  {
   "cell_type": "markdown",
   "metadata": {},
   "source": [
    "Sin embargo, podemos definir una propiedad que es el flujo que pasa a través de un nodo.\n",
    "\n",
    "A partir de esto, tendremos en cuenta el siguiente concepto:\n",
    "\n",
    "* **Flujo del nodo** Se entiende como el flujo que pasa a través del nodo. En ese sentido, este valor se puede hallar sumando todos los flujos que tengan de destino el nodo de interés o sumando todos los flujos que parten a partir del nodo (Por las propiedades de un flujo, sabemos que ambos valores son equivalentes)\n",
    "\n",
    "Bajo este concepto, se tiene de idea tentativa de que el nodo que se debe excluir para minimizar el flujo total, es aquel cuyo flujo individual sea maximo (Suena enredado, pero se podria probar).\n",
    "\n",
    "Si esta propiedad es correcta, se tendría el siguiente algoritmo tentativo."
   ]
  },
  {
   "cell_type": "markdown",
   "metadata": {},
   "source": [
    "\n",
    "```\n",
    "    1. Inicializar grafo desde entrada\n",
    "    2. Calcular flujo máximo sobre el grafo\n",
    "    3. Identificar el flujo de nodo máximo y su nodo calculador asociado\n",
    "    4. Recalcular el flujo excluyendo el nodo identificado\n",
    "    5. Retornar flujo maximo, celula identificada y flujo excluyendo dicha celula\n",
    "```"
   ]
  },
  {
   "cell_type": "code",
   "execution_count": 24,
   "metadata": {},
   "outputs": [
    {
     "name": "stdout",
     "output_type": "stream",
     "text": [
      "4 3 1\n",
      "5 7 4\n",
      "3 2 1\n"
     ]
    }
   ],
   "source": [
    "!java ProblemaP2.java < P1.in"
   ]
  },
  {
   "cell_type": "code",
   "execution_count": 25,
   "metadata": {},
   "outputs": [
    {
     "name": "stdout",
     "output_type": "stream",
     "text": [
      "4 3 1\n",
      "5 7 4\n",
      "3 2 1\n"
     ]
    }
   ],
   "source": [
    "!java ProblemaP2BruteForce.java < P1.in"
   ]
  },
  {
   "cell_type": "code",
   "execution_count": 26,
   "metadata": {},
   "outputs": [
    {
     "name": "stdout",
     "output_type": "stream",
     "text": [
      "1.24 s ± 29.3 ms per loop (mean ± std. dev. of 7 runs, 1 loop each)\n"
     ]
    }
   ],
   "source": [
    "%%timeit\n",
    "!java ProblemaP2.java < P1.in > P1.out"
   ]
  },
  {
   "cell_type": "code",
   "execution_count": 27,
   "metadata": {},
   "outputs": [
    {
     "name": "stdout",
     "output_type": "stream",
     "text": [
      "1.21 s ± 45.1 ms per loop (mean ± std. dev. of 7 runs, 1 loop each)\n"
     ]
    }
   ],
   "source": [
    "%%timeit\n",
    "!java ProblemaP2BruteForce.java < P1.in > P1.out"
   ]
  },
  {
   "cell_type": "code",
   "execution_count": 21,
   "metadata": {},
   "outputs": [],
   "source": [
    "import random\n",
    "import string\n",
    "\n",
    "def compareResults(r1,r2):\n",
    "    r1 = r1.split(' ')\n",
    "    r2 = r2.split(' ')\n",
    "    return r1[1]==r2[1] and r1[2]==r2[2]\n",
    "\n",
    "def generate_random_strings(n, length=5):\n",
    "    characters = string.ascii_letters + string.digits\n",
    "    return [''.join(random.choice(characters) for _ in range(length)) for _ in range(n)]\n",
    "\n",
    "def randomCaseGenerator(numNodes = 3, aminoacids = 1, maxL = 20):\n",
    "    case = '1\\n'\n",
    "    d = random.randint(1, maxL//2)\n",
    "    amino = generate_random_strings(aminoacids)\n",
    "    case += f'{numNodes} {d}\\n'\n",
    "\n",
    "    t = 1\n",
    "    init_amino_set = set()\n",
    "    n = random.randint(1, numNodes-2)\n",
    "\n",
    "    for i in range(1,n+1):\n",
    "        x = random.randint(1, 10)\n",
    "        y = random.randint(1, 10)\n",
    "        aminoSize = random.randint(1, aminoacids)\n",
    "        aminoSet = random.sample(amino, aminoSize)\n",
    "        init_amino_set.update(aminoSet)\n",
    "        aminoSet = ' '.join(aminoSet)\n",
    "        case += f'{i} {x} {y} {t} {aminoSet}\\n'\n",
    "\n",
    "    t = 2\n",
    "    calc_amino_set = set()\n",
    "    n1 = random.randint(1, numNodes-n-1)\n",
    "\n",
    "    for i in range(n+1,n+n1+1):\n",
    "        x = random.randint(1, 10)\n",
    "        y = random.randint(1, 10)\n",
    "        aminoSize = random.randint(1, aminoacids)\n",
    "        aminoSet = set()\n",
    "        aminoSet.update(random.sample(amino, aminoSize))\n",
    "        aminoSize = random.randint(1, len(init_amino_set))\n",
    "        aminoSet.update(random.sample(list(init_amino_set), aminoSize))\n",
    "        calc_amino_set.update(aminoSet)\n",
    "        aminoSet = ' '.join(aminoSet)\n",
    "        case += f'{i} {x} {y} {t} {aminoSet}\\n'\n",
    "\n",
    "    t = 3\n",
    "\n",
    "    for i in range(n+n1+1, numNodes + 1):\n",
    "        x = random.randint(1, 10)\n",
    "        y = random.randint(1, 10)\n",
    "        aminoSize = random.randint(1, aminoacids)\n",
    "        aminoSet = set()\n",
    "        aminoSet.update(random.sample(amino, aminoSize))\n",
    "        aminoSize = random.randint(1, len(calc_amino_set))\n",
    "        aminoSet.update(random.sample(list(calc_amino_set), aminoSize))\n",
    "        aminoSet = ' '.join(aminoSet)\n",
    "        if i<numNodes : case += f'{i} {x} {y} {t} {aminoSet}\\n'\n",
    "        else: case += f'{i} {x} {y} {t} {aminoSet}'\n",
    "    return case"
   ]
  },
  {
   "cell_type": "code",
   "execution_count": 8,
   "metadata": {},
   "outputs": [
    {
     "name": "stdout",
     "output_type": "stream",
     "text": [
      "1\n",
      "7 9\n",
      "1 6 10 1 liByS qeAl5 bbp8p YqEjT\n",
      "2 5 1 1 ia5DA YqEjT qeAl5\n",
      "3 5 5 1 bbp8p liByS YqEjT ia5DA\n",
      "4 9 7 2 liByS ia5DA bbp8p\n",
      "5 9 10 2 YqEjT ia5DA\n",
      "6 9 10 3 YqEjT liByS ia5DA bbp8p\n",
      "7 9 10 3 YqEjT ia5DA liByS qeAl5 bbp8p\n"
     ]
    }
   ],
   "source": [
    "print(randomCaseGenerator(numNodes = 7, aminoacids = 5, maxL = 20))"
   ]
  },
  {
   "cell_type": "code",
   "execution_count": 76,
   "metadata": {},
   "outputs": [
    {
     "name": "stdout",
     "output_type": "stream",
     "text": [
      "Case 0 finished with n=10 and m=1\n",
      "Answer: 9 1 0\n",
      "\n",
      "Case 1 finished with n=8 and m=4\n",
      "Answer: 4 6 4\n",
      "\n",
      "Case 2 finished with n=5 and m=5\n",
      "Answer: 4 0 0\n",
      "\n",
      "Case 3 finished with n=10 and m=2\n",
      "Answer: 5 0 0\n",
      "\n",
      "Case 4 finished with n=7 and m=1\n",
      "Answer: 5 0 0\n",
      "\n",
      "Case 5 finished with n=6 and m=10\n",
      "Answer: 5 3 0\n",
      "\n",
      "Case 6 finished with n=5 and m=8\n",
      "Answer: 4 5 0\n",
      "\n",
      "Case 7 finished with n=10 and m=9\n",
      "Answer: 5 44 28\n",
      "\n",
      "Case 8 finished with n=10 and m=4\n",
      "Answer: 5 3 1\n",
      "\n",
      "Case 9 finished with n=6 and m=8\n",
      "Answer: 5 0 0\n",
      "\n"
     ]
    }
   ],
   "source": [
    "import subprocess\n",
    "import random\n",
    "\n",
    "n = 10\n",
    "cases = []\n",
    "for i in range(n):\n",
    "    numNodes = random.randint(3,10)\n",
    "    aminoacids = random.randint(1,10)\n",
    "    case = randomCaseGenerator(numNodes, aminoacids)\n",
    "    cases.append(case)\n",
    "    result = subprocess.run(['java', 'ProblemaP2.java'], input=case, text=True, capture_output=True)\n",
    "    if type(result.stdout) != str : print('Error')\n",
    "    else: print(f'Case {i} finished with n={numNodes} and m={aminoacids}\\nAnswer: {result.stdout}')\n"
   ]
  },
  {
   "cell_type": "markdown",
   "metadata": {},
   "source": [
    "Podemos hacer la comparativa sencilla de 10 casos aleatorios"
   ]
  },
  {
   "cell_type": "code",
   "execution_count": 93,
   "metadata": {},
   "outputs": [
    {
     "name": "stdout",
     "output_type": "stream",
     "text": [
      "Case 0 finished with n=8 and m=4\n",
      "Case 1 finished with n=3 and m=7\n",
      "Case 2 finished with n=5 and m=4\n",
      "Case 3 finished with n=3 and m=4\n",
      "Case 4 finished with n=9 and m=7\n",
      "Case 5 finished with n=6 and m=5\n",
      "Case 6 finished with n=9 and m=9\n",
      "Case 7 finished with n=8 and m=4\n",
      "Case 8 finished with n=4 and m=10\n",
      "Case 9 finished with n=3 and m=4\n",
      "Number of failed cases: 0\n"
     ]
    }
   ],
   "source": [
    "import subprocess\n",
    "import random\n",
    "\n",
    "n = 10\n",
    "cases = []\n",
    "for i in range(n):\n",
    "    numNodes = random.randint(3,10)\n",
    "    aminoacids = random.randint(1,10)\n",
    "    case = randomCaseGenerator(numNodes, aminoacids)\n",
    "    result1 = subprocess.run(['java', 'ProblemaP2.java'], input=case, text=True, capture_output=True)\n",
    "    result2 = subprocess.run(['java', 'ProblemaP2BruteForce.java'], input=case, text=True, capture_output=True)\n",
    "    if type(result1.stdout) != str or type(result2.stdout) != str: print('Error')\n",
    "    else: \n",
    "        print(f'Case {i} finished with n={numNodes} and m={aminoacids}')\n",
    "        if not compareResults(result1.stdout,result2.stdout):\n",
    "            cases.append(case)\n",
    "\n",
    "print(f'Number of failed cases: {len(cases)}')"
   ]
  },
  {
   "cell_type": "markdown",
   "metadata": {},
   "source": [
    "Se realiza ahora una busqueda exhaustiva sobre 100 casos que pueden ser un poco mas grandes"
   ]
  },
  {
   "cell_type": "code",
   "execution_count": null,
   "metadata": {},
   "outputs": [
    {
     "name": "stdout",
     "output_type": "stream",
     "text": [
      "Case failed after 1 random tests\n",
      "Execution time: 0h 0m 1s 899ms\n"
     ]
    }
   ],
   "source": [
    "import subprocess\n",
    "import random\n",
    "import time\n",
    "\n",
    "n = 500\n",
    "cases = []\n",
    "start = time.time()\n",
    "for i in range(n):\n",
    "    numNodes = random.randint(3,6)\n",
    "    aminoacids = random.randint(1,10)\n",
    "    case = randomCaseGenerator(numNodes, aminoacids)\n",
    "    result1 = subprocess.run(['java', 'ProblemaP2.java'], input=case, text=True, capture_output=True)\n",
    "    result2 = subprocess.run(['java', 'ProblemaP2BruteForce.java'], input=case, text=True, capture_output=True)\n",
    "    if type(result1.stdout) != str or type(result2.stdout) != str: print('Error')\n",
    "    else: \n",
    "        if not compareResults(result1.stdout,result2.stdout):\n",
    "            print(f'Case failed after {i+1} random tests')\n",
    "            cases.append(case)\n",
    "            break\n",
    "end = time.time()\n",
    "if len(cases)==0: print(f'{n} cases were done successfully')\n",
    "\n",
    "\n",
    "elapsed_time = end - start\n",
    "hours = int(elapsed_time // 3600)\n",
    "minutes = int((elapsed_time % 3600) // 60)\n",
    "seconds = int(elapsed_time % 60)\n",
    "milliseconds = int((elapsed_time * 1000) % 1000)\n",
    "\n",
    "print(f\"Execution time: {hours}h {minutes}m {seconds}s {milliseconds}ms\")"
   ]
  },
  {
   "cell_type": "code",
   "execution_count": 61,
   "metadata": {},
   "outputs": [
    {
     "name": "stdout",
     "output_type": "stream",
     "text": [
      "1\n",
      "4 9\n",
      "1 7 5 1 3bgnN TCHRd Ib4ET qp1wO\n",
      "2 10 4 1 PrNUB BMxyZ 3bgnN ymUmP 7R5uC k7X93 6eNJa TCHRd gxC3v FYfmT qp1wO gSVvj Ib4ET\n",
      "3 2 5 2 ymUmP TCHRd k7X93 PrNUB 3bgnN 6eNJa FYfmT BMxyZ\n",
      "4 8 6 3 ymUmP Ib4ET 7R5uC gSVvj k7X93 qp1wO 3bgnN 6eNJa FYfmT BMxyZ\n"
     ]
    }
   ],
   "source": [
    "print(cases[0])"
   ]
  },
  {
   "cell_type": "code",
   "execution_count": 22,
   "metadata": {},
   "outputs": [
    {
     "name": "stdout",
     "output_type": "stream",
     "text": [
      "3 17 7\n"
     ]
    }
   ],
   "source": [
    "!java ProblemaP2.java < P1_test.in"
   ]
  },
  {
   "cell_type": "code",
   "execution_count": 23,
   "metadata": {},
   "outputs": [
    {
     "name": "stdout",
     "output_type": "stream",
     "text": [
      "3 17 7\n"
     ]
    }
   ],
   "source": [
    "!java ProblemaP2BruteForce.java < P1_test.in"
   ]
  },
  {
   "cell_type": "code",
   "execution_count": 5,
   "metadata": {},
   "outputs": [
    {
     "name": "stdout",
     "output_type": "stream",
     "text": [
      "^C\n"
     ]
    }
   ],
   "source": [
    "!java ProblemaP2.java < P1_test_curious.in"
   ]
  }
 ],
 "metadata": {
  "kernelspec": {
   "display_name": "Python 3",
   "language": "python",
   "name": "python3"
  },
  "language_info": {
   "codemirror_mode": {
    "name": "ipython",
    "version": 3
   },
   "file_extension": ".py",
   "mimetype": "text/x-python",
   "name": "python",
   "nbconvert_exporter": "python",
   "pygments_lexer": "ipython3",
   "version": "3.11.9"
  }
 },
 "nbformat": 4,
 "nbformat_minor": 2
}
