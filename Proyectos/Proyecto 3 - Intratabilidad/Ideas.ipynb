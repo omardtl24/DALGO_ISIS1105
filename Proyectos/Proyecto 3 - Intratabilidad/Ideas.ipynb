{
 "cells": [
  {
   "cell_type": "markdown",
   "metadata": {},
   "source": [
    "# Proyecto 3 - Intratabilidad\n",
    "\n",
    "El problema asociado, es cobertura de Cliques. Dado esto; y que es un problema NP-Completo, se debe definir una propuesta aproximada para dar una solución al problema. El objetivo de la solución es que también sea rápida y que se pueda ejecutar en tiempo polinomial para el tamaño de la entrada."
   ]
  },
  {
   "cell_type": "markdown",
   "metadata": {},
   "source": [
    "Para nuestro enfoque, vamos a pensar en una idea constructiva para diseñar un clique. Para ello podemos tomar la siguiente definición"
   ]
  },
  {
   "cell_type": "markdown",
   "metadata": {},
   "source": [
    "Dado un grafo no dirigido $G = (V,E)$, definimos un clique $S$ como:\n",
    "\n",
    "$$\\texttt{CLIQUE}(S) \\equiv ( S \\subseteq V \\wedge ( \\forall x,y \\mid x \\in S \\wedge y \\in S : (x,y) \\in E ))$$\n",
    "\n",
    "A partir de esta definición yo puedo definir un esquema recursivo para relacionar un clique de tamaño $|S|$ con un clique de tamaño $|S|+1$ siempre y cuando exista un elemento $x$ que cumpla lo siguiente:\n",
    "\n",
    "$$\\texttt{CLIQUE}(S) \\wedge (\\exist x \\forall y \\mid x \\in V - S \\wedge y \\in S: (x,y) \\in E) \\implies \\texttt{CLIQUE}(S \\cup \\{x\\})$$\n",
    "\n",
    "Usando este principio, si yo tengo un clique conocido, puedo construir otro de tamaño más grande; esto se logra de manera progresiva y esta tarea se puede evaluar elemento a elemento.\n",
    "\n",
    "Adicionalmente, podemos definir una propiedad interesante que tienen los cliques respecto al grado de cada nodo que lo componen\n",
    "\n",
    "Dado que podemos construir cliques elemento a elemento, el objetivo es para todo elemento empezar a construir los cliques siempre que sea posible"
   ]
  },
  {
   "cell_type": "code",
   "execution_count": 2,
   "metadata": {},
   "outputs": [
    {
     "name": "stdout",
     "output_type": "stream",
     "text": [
      "1 1\n",
      "2 2\n",
      "3 2\n",
      "4 2\n",
      "5 1\n",
      "6 1\n",
      "7 2\n",
      "8 1\n",
      "9 1\n",
      "10 1\n",
      "11 1\n",
      "12 1\n",
      "13 1\n",
      "14 1\n",
      "15 1\n",
      "16 3\n",
      "17 1\n",
      "18 1\n",
      "19 1\n",
      "20 1\n",
      "21 1\n",
      "22 1\n",
      "23 1\n",
      "24 1\n",
      "25 1\n",
      "26 2\n",
      "27 1\n",
      "28 1\n",
      "29 1\n",
      "30 2\n",
      "31 1\n",
      "32 1\n",
      "33 2\n",
      "34 2\n",
      "35 1\n",
      "36 1\n",
      "37 1\n",
      "38 2\n",
      "39 2\n",
      "40 2\n",
      "41 1\n",
      "42 1\n",
      "43 1\n",
      "44 1\n",
      "45 1\n",
      "46 1\n",
      "47 2\n",
      "48 1\n",
      "49 1\n",
      "50 1\n",
      "51 2\n",
      "52 1\n",
      "53 1\n",
      "54 1\n",
      "55 1\n",
      "56 1\n",
      "57 1\n",
      "58 1\n",
      "59 2\n",
      "60 2\n",
      "61 1\n",
      "62 2\n",
      "63 1\n",
      "64 2\n",
      "65 1\n",
      "66 1\n",
      "67 1\n",
      "68 2\n",
      "69 2\n",
      "70 1\n",
      "71 2\n",
      "72 1\n",
      "73 2\n",
      "74 1\n",
      "75 1\n",
      "76 1\n",
      "77 1\n",
      "78 2\n",
      "79 1\n",
      "80 2\n",
      "81 2\n",
      "82 2\n",
      "83 1\n",
      "84 1\n",
      "85 2\n",
      "86 2\n",
      "87 1\n",
      "88 1\n",
      "89 1\n",
      "90 2\n",
      "91 1\n",
      "92 2\n",
      "93 2\n",
      "94 1\n",
      "95 1\n",
      "96 1\n",
      "97 2\n",
      "98 2\n",
      "99 1\n",
      "100 2\n"
     ]
    }
   ],
   "source": [
    "!java ProblemaP3.java < Ptest.in"
   ]
  },
  {
   "cell_type": "code",
   "execution_count": 3,
   "metadata": {},
   "outputs": [
    {
     "name": "stdout",
     "output_type": "stream",
     "text": [
      "1.23 s ± 143 ms per loop (mean ± std. dev. of 7 runs, 1 loop each)\n"
     ]
    }
   ],
   "source": [
    "%%timeit\n",
    "!java ProblemaP3.java < P1.in > P1.out"
   ]
  },
  {
   "cell_type": "markdown",
   "metadata": {},
   "source": [
    "Diseñamos entradas y salidas del tamaño más grande posible para ver que tan rápido es el código"
   ]
  },
  {
   "cell_type": "code",
   "execution_count": 10,
   "metadata": {},
   "outputs": [],
   "source": [
    "import random\n",
    "import string\n",
    "\n",
    "def generate_chains(num_chains, chain_length):\n",
    "    characters = string.ascii_letters + string.digits\n",
    "    chains = set()\n",
    "    while len(chains) < num_chains:\n",
    "        chain = ''.join(random.choices(characters, k=chain_length))\n",
    "        chains.add(chain)\n",
    "    return list(chains)"
   ]
  },
  {
   "cell_type": "markdown",
   "metadata": {},
   "source": [
    "Vamos a diseñar un caso de prueba con $10^5$ celulas y que todas puedan conectarse entre si. Esto se puede lograr con que la distancia sea lo suficientemente grande y que todas compartan al menos un aminoacido en común. Dado que se busca medir eficiencia, se probara con que todas las celulas tengan todos los aminoacidos (Esto hace que la captura de la entrada se demore lo mayor posible)"
   ]
  },
  {
   "cell_type": "code",
   "execution_count": 11,
   "metadata": {},
   "outputs": [],
   "source": [
    "import random\n",
    "\n",
    "def makeInput(n,m,d,s=None,grill = (100,100),verbose = False):\n",
    "    if s == None: s=m\n",
    "    r = f'1\\n{n} {d}\\n'\n",
    "    c = generate_chains(m, 5)\n",
    "    if verbose: print(f'{len(c)} chains created')\n",
    "    for i in range(1,n+1):\n",
    "        x = random.randint(0, grill[0])\n",
    "        y = random.randint(0, grill[1])\n",
    "        amino = ' '.join(random.sample(c, s))\n",
    "        if(i!=n): r+=f'{i} {x} {y} {amino}\\n'\n",
    "        else: r+=f'{i} {x} {y} {amino}'\n",
    "        if verbose and i%5000==0: print(f'Progress: {i} cells')\n",
    "    return r\n",
    "\n",
    "def save_string_to_file(content, filename):\n",
    "    if not filename.endswith(\".in\"):\n",
    "        filename += \".in\"\n",
    "    with open(filename, \"w\", encoding=\"utf-8\") as file:\n",
    "        file.write(content)\n"
   ]
  },
  {
   "cell_type": "markdown",
   "metadata": {},
   "source": [
    "Probamos creando una entrada no muy grande para ver el generador"
   ]
  },
  {
   "cell_type": "code",
   "execution_count": 8,
   "metadata": {},
   "outputs": [
    {
     "name": "stdout",
     "output_type": "stream",
     "text": [
      "1\n",
      "5 10\n",
      "1 99 57 kCP0M e2PsS n1Wgw\n",
      "2 40 63 WEHHF dPvUB kCP0M\n",
      "3 78 37 WEHHF z2IVy PUinb\n",
      "4 58 62 z2IVy 4SyP3 dPvUB\n",
      "5 52 22 cboFq ZDHNn f4Yp9\n"
     ]
    }
   ],
   "source": [
    "test = makeInput(n=5,m=15,d=10, s = 3)\n",
    "print(test)"
   ]
  },
  {
   "cell_type": "markdown",
   "metadata": {},
   "source": [
    "Creamos una entrada del tamaño mas grande posible"
   ]
  },
  {
   "cell_type": "code",
   "execution_count": 9,
   "metadata": {},
   "outputs": [
    {
     "name": "stdout",
     "output_type": "stream",
     "text": [
      "100 chains created\n",
      "Progress: 5000 cells\n",
      "Progress: 10000 cells\n",
      "Progress: 15000 cells\n",
      "Progress: 20000 cells\n",
      "Progress: 25000 cells\n",
      "Progress: 30000 cells\n",
      "Progress: 35000 cells\n",
      "Progress: 40000 cells\n",
      "Progress: 45000 cells\n",
      "Progress: 50000 cells\n",
      "Progress: 55000 cells\n",
      "Progress: 60000 cells\n",
      "Progress: 65000 cells\n",
      "Progress: 70000 cells\n",
      "Progress: 75000 cells\n",
      "Progress: 80000 cells\n",
      "Progress: 85000 cells\n",
      "Progress: 90000 cells\n",
      "Progress: 95000 cells\n",
      "Progress: 100000 cells\n"
     ]
    }
   ],
   "source": [
    "largeInput = makeInput(n=int(1e5),m=int(1e2),d=150,verbose=True)"
   ]
  },
  {
   "cell_type": "code",
   "execution_count": 10,
   "metadata": {},
   "outputs": [],
   "source": [
    "save_string_to_file(largeInput, 'PLargeTest.in')"
   ]
  },
  {
   "cell_type": "code",
   "execution_count": 6,
   "metadata": {},
   "outputs": [
    {
     "name": "stdout",
     "output_type": "stream",
     "text": [
      "1.89 s ± 203 ms per loop (mean ± std. dev. of 7 runs, 1 loop each)\n"
     ]
    }
   ],
   "source": [
    "%%timeit\n",
    "!java P3Optimizacion.java < P1.in > P1.out"
   ]
  },
  {
   "cell_type": "code",
   "execution_count": 14,
   "metadata": {},
   "outputs": [
    {
     "name": "stdout",
     "output_type": "stream",
     "text": [
      "100 chains created\n"
     ]
    }
   ],
   "source": [
    "testInput = makeInput(n=100,m=100,d=100,verbose=True)\n",
    "save_string_to_file(testInput, 'Ptest.in')"
   ]
  },
  {
   "cell_type": "code",
   "execution_count": 17,
   "metadata": {},
   "outputs": [
    {
     "name": "stdout",
     "output_type": "stream",
     "text": [
      "1.14 s ± 89.9 ms per loop (mean ± std. dev. of 7 runs, 1 loop each)\n"
     ]
    }
   ],
   "source": [
    "%%timeit\n",
    "!java ProblemaP3.java < Ptest.in > Ptest.out"
   ]
  },
  {
   "cell_type": "code",
   "execution_count": 18,
   "metadata": {},
   "outputs": [
    {
     "name": "stdout",
     "output_type": "stream",
     "text": [
      "1.21 s ± 96.9 ms per loop (mean ± std. dev. of 7 runs, 1 loop each)\n"
     ]
    }
   ],
   "source": [
    "%%timeit\n",
    "!java P3Optimizacion.java < Ptest.in > Ptest.out"
   ]
  },
  {
   "cell_type": "code",
   "execution_count": 19,
   "metadata": {},
   "outputs": [
    {
     "name": "stdout",
     "output_type": "stream",
     "text": [
      "1000 chains created\n"
     ]
    }
   ],
   "source": [
    "testInput = makeInput(n=1000,m=1000,d=1000,verbose=True)\n",
    "save_string_to_file(testInput, 'Ptest1000.in')"
   ]
  },
  {
   "cell_type": "code",
   "execution_count": 20,
   "metadata": {},
   "outputs": [
    {
     "name": "stdout",
     "output_type": "stream",
     "text": [
      "1.56 s ± 107 ms per loop (mean ± std. dev. of 7 runs, 1 loop each)\n"
     ]
    }
   ],
   "source": [
    "%%timeit\n",
    "!java P3Optimizacion.java < Ptest1000.in > Ptest1000.out"
   ]
  },
  {
   "cell_type": "code",
   "execution_count": 21,
   "metadata": {},
   "outputs": [
    {
     "name": "stdout",
     "output_type": "stream",
     "text": [
      "1.53 s ± 117 ms per loop (mean ± std. dev. of 7 runs, 1 loop each)\n"
     ]
    }
   ],
   "source": [
    "%%timeit\n",
    "!java ProblemaP3.java < Ptest1000.in > Ptest1000.out"
   ]
  },
  {
   "cell_type": "code",
   "execution_count": 24,
   "metadata": {},
   "outputs": [
    {
     "name": "stdout",
     "output_type": "stream",
     "text": [
      "100 chains created\n",
      "Progress: 5000 cells\n",
      "Progress: 10000 cells\n"
     ]
    }
   ],
   "source": [
    "testInput = makeInput(n=10000,m=100,d=150,verbose=True)\n",
    "save_string_to_file(testInput, 'Ptest10000.in')"
   ]
  },
  {
   "cell_type": "code",
   "execution_count": 39,
   "metadata": {},
   "outputs": [
    {
     "name": "stdout",
     "output_type": "stream",
     "text": [
      "3.66 s ± 414 ms per loop (mean ± std. dev. of 7 runs, 10 loops each)\n"
     ]
    }
   ],
   "source": [
    "%%timeit -n 10\n",
    "!java P3Optimizacion.java < Ptest10000.in > Ptest10000.out"
   ]
  },
  {
   "cell_type": "code",
   "execution_count": 37,
   "metadata": {},
   "outputs": [
    {
     "name": "stdout",
     "output_type": "stream",
     "text": [
      "4.2 s ± 597 ms per loop (mean ± std. dev. of 7 runs, 10 loops each)\n"
     ]
    }
   ],
   "source": [
    "%%timeit -n 10\n",
    "!java ProblemaP3.java < Ptest10000.in > Ptest10000.out"
   ]
  },
  {
   "cell_type": "code",
   "execution_count": 30,
   "metadata": {},
   "outputs": [
    {
     "name": "stdout",
     "output_type": "stream",
     "text": [
      "100 chains created\n",
      "Progress: 5000 cells\n",
      "Progress: 10000 cells\n",
      "Progress: 15000 cells\n",
      "Progress: 20000 cells\n",
      "Progress: 25000 cells\n",
      "Progress: 30000 cells\n",
      "Progress: 35000 cells\n",
      "Progress: 40000 cells\n",
      "Progress: 45000 cells\n",
      "Progress: 50000 cells\n",
      "Progress: 55000 cells\n",
      "Progress: 60000 cells\n",
      "Progress: 65000 cells\n",
      "Progress: 70000 cells\n",
      "Progress: 75000 cells\n",
      "Progress: 80000 cells\n",
      "Progress: 85000 cells\n",
      "Progress: 90000 cells\n",
      "Progress: 95000 cells\n",
      "Progress: 100000 cells\n"
     ]
    }
   ],
   "source": [
    "testInput = makeInput(n=100000,m=100,d=150,verbose=True)\n",
    "save_string_to_file(testInput, 'Ptest100000.in')"
   ]
  },
  {
   "cell_type": "code",
   "execution_count": 31,
   "metadata": {},
   "outputs": [
    {
     "name": "stdout",
     "output_type": "stream",
     "text": [
      "^C\n"
     ]
    },
    {
     "name": "stderr",
     "output_type": "stream",
     "text": [
      "El proceso no tiene acceso al archivo porque est� siendo utilizado por otro proceso.\n",
      "El proceso no tiene acceso al archivo porque est� siendo utilizado por otro proceso.\n",
      "El proceso no tiene acceso al archivo porque est� siendo utilizado por otro proceso.\n",
      "El proceso no tiene acceso al archivo porque est� siendo utilizado por otro proceso.\n"
     ]
    },
    {
     "name": "stdout",
     "output_type": "stream",
     "text": [
      "The slowest run took 60548.30 times longer than the fastest. This could mean that an intermediate result is being cached.\n",
      "2min 54s ± 5min 28s per loop (mean ± std. dev. of 7 runs, 1 loop each)\n"
     ]
    },
    {
     "name": "stderr",
     "output_type": "stream",
     "text": [
      "El proceso no tiene acceso al archivo porque est� siendo utilizado por otro proceso.\n"
     ]
    }
   ],
   "source": [
    "%%timeit -n 1\n",
    "!java P3Optimizacion.java < Ptest100000.in > Ptest100000.out"
   ]
  },
  {
   "cell_type": "code",
   "execution_count": null,
   "metadata": {},
   "outputs": [],
   "source": [
    "%%timeit -n 1\n",
    "!java ProblemaP3.java < Ptest100000.in > Ptest100000.out"
   ]
  }
 ],
 "metadata": {
  "kernelspec": {
   "display_name": "Python 3",
   "language": "python",
   "name": "python3"
  },
  "language_info": {
   "codemirror_mode": {
    "name": "ipython",
    "version": 3
   },
   "file_extension": ".py",
   "mimetype": "text/x-python",
   "name": "python",
   "nbconvert_exporter": "python",
   "pygments_lexer": "ipython3",
   "version": "3.10.11"
  }
 },
 "nbformat": 4,
 "nbformat_minor": 2
}
