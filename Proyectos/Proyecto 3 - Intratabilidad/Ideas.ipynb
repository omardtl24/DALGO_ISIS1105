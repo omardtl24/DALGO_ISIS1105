{
 "cells": [
  {
   "cell_type": "markdown",
   "metadata": {},
   "source": [
    "# Proyecto 3 - Intratabilidad\n",
    "\n",
    "El problema asociado, es cobertura de Cliques. Dado esto; y que es un problema NP-Completo, se debe definir una propuesta aproximada para dar una solución al problema. El objetivo de la solución es que también sea rápida y que se pueda ejecutar en tiempo polinomial para el tamaño de la entrada."
   ]
  },
  {
   "cell_type": "markdown",
   "metadata": {},
   "source": [
    "Para nuestro enfoque, vamos a pensar en una idea constructiva para diseñar un clique. Para ello podemos tomar la siguiente definición"
   ]
  },
  {
   "cell_type": "markdown",
   "metadata": {},
   "source": [
    "Dado un grafo no dirigido $G = (V,E)$, definimos un clique $S$ como:\n",
    "\n",
    "$$\\texttt{CLIQUE}(S) \\equiv ( S \\subseteq V \\wedge ( \\forall x,y \\mid x \\in S \\wedge y \\in S : (x,y) \\in E ))$$\n",
    "\n",
    "A partir de esta definición yo puedo definir un esquema recursivo para relacionar un clique de tamaño $|S|$ con un clique de tamaño $|S|+1$ siempre y cuando exista un elemento $x$ que cumpla lo siguiente:\n",
    "\n",
    "$$\\texttt{CLIQUE}(S) \\wedge (\\exist x \\forall y \\mid x \\in V - S \\wedge y \\in S: (x,y) \\in E) \\implies \\texttt{CLIQUE}(S \\cup \\{x\\})$$\n",
    "\n",
    "Usando este principio, si yo tengo un clique conocido, puedo construir otro de tamaño más grande; esto se logra de manera progresiva y esta tarea se puede evaluar elemento a elemento.\n",
    "\n",
    "Adicionalmente, podemos definir una propiedad interesante que tienen los cliques respecto al grado de cada nodo que lo componen\n",
    "\n",
    "Dado que podemos construir cliques elemento a elemento, el objetivo es para todo elemento empezar a construir los cliques siempre que sea posible"
   ]
  },
  {
   "cell_type": "code",
   "execution_count": 19,
   "metadata": {},
   "outputs": [
    {
     "name": "stdout",
     "output_type": "stream",
     "text": [
      "1 1\n",
      "2 1\n",
      "3 2\n",
      "4 2\n"
     ]
    }
   ],
   "source": [
    "!java ProblemaP3.java < Ptest.in"
   ]
  },
  {
   "cell_type": "code",
   "execution_count": 18,
   "metadata": {},
   "outputs": [
    {
     "name": "stdout",
     "output_type": "stream",
     "text": [
      "900 ms ± 27.1 ms per loop (mean ± std. dev. of 7 runs, 1 loop each)\n"
     ]
    }
   ],
   "source": [
    "%%timeit\n",
    "!java ProblemaP3.java < P1.in > P1.out"
   ]
  },
  {
   "cell_type": "markdown",
   "metadata": {},
   "source": [
    "Diseñamos entradas y salidas del tamaño más grande posible para ver que tan rápido es el código"
   ]
  },
  {
   "cell_type": "code",
   "execution_count": 42,
   "metadata": {},
   "outputs": [],
   "source": [
    "import random\n",
    "import string\n",
    "\n",
    "def generate_chains(num_chains, chain_length):\n",
    "    characters = string.ascii_letters + string.digits\n",
    "    chains = set()\n",
    "    while len(chains) < num_chains:\n",
    "        chain = ''.join(random.choices(characters, k=chain_length))\n",
    "        chains.add(chain)\n",
    "    return list(chains)"
   ]
  },
  {
   "cell_type": "markdown",
   "metadata": {},
   "source": [
    "Vamos a diseñar un caso de prueba con $10^5$ celulas y que todas puedan conectarse entre si. Esto se puede lograr con que la distancia sea lo suficientemente grande y que todas compartan al menos un aminoacido en común. Dado que se busca medir eficiencia, se probara con que todas las celulas tengan todos los aminoacidos (Esto hace que la captura de la entrada se demore lo mayor posible)"
   ]
  },
  {
   "cell_type": "code",
   "execution_count": null,
   "metadata": {},
   "outputs": [],
   "source": [
    "import random\n",
    "\n",
    "def makeInput(n,m,d,s=None,grill = (100,100),verbose = False):\n",
    "    if s == None: s=m\n",
    "    r = f'1\\n{n} {d}\\n'\n",
    "    c = generate_chains(m, 5)\n",
    "    if verbose: print(f'{len(c)} chains created')\n",
    "    for i in range(1,n+1):\n",
    "        x = random.randint(0, grill[0])\n",
    "        y = random.randint(0, grill[1])\n",
    "        amino = ' '.join(random.sample(c, s))\n",
    "        if(i!=n): r+=f'{i} {x} {y} {amino}\\n'\n",
    "        else: r+=f'{i} {x} {y} {amino}'\n",
    "        if verbose and i%5000==0: print(f'Progress: {i} cells')\n",
    "    return r\n",
    "\n",
    "def save_string_to_file(content, filename):\n",
    "    if not filename.endswith(\".in\"):\n",
    "        filename += \".in\"\n",
    "    with open(filename, \"w\", encoding=\"utf-8\") as file:\n",
    "        file.write(content)\n"
   ]
  },
  {
   "cell_type": "markdown",
   "metadata": {},
   "source": [
    "Probamos creando una entrada no muy grande para ver el generador"
   ]
  },
  {
   "cell_type": "code",
   "execution_count": 44,
   "metadata": {},
   "outputs": [
    {
     "name": "stdout",
     "output_type": "stream",
     "text": [
      "5 10\n",
      "1 0 58 8jUbj epBDb SsC32\n",
      "2 22 81 awVnV K2Ou7 rldND\n",
      "3 72 9 awVnV PcjET LRwJ1\n",
      "4 27 2 LRwJ1 SsC32 ngQDd\n",
      "5 74 20 mUlqk rldND awVnV\n"
     ]
    }
   ],
   "source": [
    "test = makeInput(n=5,m=15,d=10, s = 3)\n",
    "print(test)"
   ]
  },
  {
   "cell_type": "markdown",
   "metadata": {},
   "source": [
    "Creamos una entrada del tamaño mas grande posible"
   ]
  },
  {
   "cell_type": "code",
   "execution_count": 41,
   "metadata": {},
   "outputs": [
    {
     "name": "stdout",
     "output_type": "stream",
     "text": [
      "100 chains created\n",
      "Progress: 5000 cells\n",
      "Progress: 10000 cells\n",
      "Progress: 15000 cells\n",
      "Progress: 20000 cells\n",
      "Progress: 25000 cells\n",
      "Progress: 30000 cells\n",
      "Progress: 35000 cells\n",
      "Progress: 40000 cells\n",
      "Progress: 45000 cells\n",
      "Progress: 50000 cells\n",
      "Progress: 55000 cells\n",
      "Progress: 60000 cells\n",
      "Progress: 65000 cells\n",
      "Progress: 70000 cells\n",
      "Progress: 75000 cells\n",
      "Progress: 80000 cells\n",
      "Progress: 85000 cells\n",
      "Progress: 90000 cells\n",
      "Progress: 95000 cells\n",
      "Progress: 100000 cells\n"
     ]
    }
   ],
   "source": [
    "largeInput = makeInput(n=int(1e5),m=int(1e2),d=150,verbose=True)"
   ]
  },
  {
   "cell_type": "code",
   "execution_count": 46,
   "metadata": {},
   "outputs": [],
   "source": [
    "save_string_to_file(largeInput, 'PLargeTest.in')"
   ]
  }
 ],
 "metadata": {
  "kernelspec": {
   "display_name": "Python 3",
   "language": "python",
   "name": "python3"
  },
  "language_info": {
   "codemirror_mode": {
    "name": "ipython",
    "version": 3
   },
   "file_extension": ".py",
   "mimetype": "text/x-python",
   "name": "python",
   "nbconvert_exporter": "python",
   "pygments_lexer": "ipython3",
   "version": "3.11.9"
  }
 },
 "nbformat": 4,
 "nbformat_minor": 2
}
