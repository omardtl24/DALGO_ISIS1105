{
 "cells": [
  {
   "cell_type": "markdown",
   "metadata": {},
   "source": [
    "# Brainstorm Proyecto 1 - DP"
   ]
  },
  {
   "cell_type": "markdown",
   "metadata": {},
   "source": [
    "Se plantean dos posibles enfoques. \n",
    "\n",
    "1. Uno donde se parametrizan en una recurrencia el movimiento de Indiana, Marion y Salah (Dicha recurrencia será denomoniada $P$)\n",
    "2. Un conjunto de tres recurrencias que modelan el comportamiento de cada personaje y que son invocadas de acuerdo a distintas prioridades de recorrido para cada una de las personas.\n",
    "\n",
    "Antes de eso, se definen las siguientes entradas y salidas\n",
    "\n",
    "| E/S | Nombre | Tipo | Descripción |\n",
    "|-|-|-|-|\n",
    "|E| A | Array[0,R)[0,C) of **int** | Matriz con la representación de la cantidad de reliquias y maldiciones de la pirámide|\n",
    "|S| s | **int** | Cantidad máxima de reliquias que pueden obtener los tres personajes |"
   ]
  },
  {
   "cell_type": "markdown",
   "metadata": {},
   "source": [
    "## Enfoque de única recurrencia"
   ]
  },
  {
   "cell_type": "markdown",
   "metadata": {},
   "source": [
    "Tanto Marion, como Indiana y Salah pueden moverse en un espacio de $C \\times \\left\\lfloor \\dfrac{R}{2} \\right\\rfloor$. Por consiguiente, una estructura que pueda almacenar la cantidad maxima de reliquias obtenidas para cada combinacion de posiciones deberá tener una forma de $C \\times C \\times C \\left\\lfloor \\dfrac{R}{2} \\right\\rfloor$"
   ]
  },
  {
   "cell_type": "markdown",
   "metadata": {},
   "source": [
    "Para este enfoque tendremos en cuenta los siguientes puntos:\n",
    "\n",
    "1. Todas las casillas invalidas deberán tener un valor de $-\\infty$ para aquellas configuraciones invalidas (Ejemplo: Aquellas casillas con maldiciones y aquellas que en la primera y ultima fila que no correspondan al punto de partida de los personajes) \n",
    "2. La casilla inicial de cada personaje debe iniciar con cero reliquias.\n",
    "3. Los demás casos recursivos representan el movimiento de los personajes"
   ]
  },
  {
   "cell_type": "markdown",
   "metadata": {},
   "source": [
    "$$ P(i,m,s,r) = \\left\\{\n",
    "    \\begin{array}{}\n",
    "        0 & & \\text{si} & & r = 0 \\wedge i=0 \\wedge m=C-1 \\wedge s = \\left\\lfloor \\frac{C}{2} \\right\\rfloor \\\\\n",
    "        -\\infty & & \\text{si} & & A[r][i]=-1 \\vee A[r][m]=-1 \\vee A[r][s]=-1 \\vee \\left(r=0 \\wedge i>0  \\wedge m < C-1 \\wedge s \\neq \\left\\lfloor \\frac{C}{2} \\right\\rfloor \\right)\\\\\n",
    "        ... \n",
    "    \\end{array}\n",
    "    \\right.\n",
    "$$"
   ]
  },
  {
   "cell_type": "markdown",
   "metadata": {},
   "source": [
    "**¿Que problema tiene?** Los indices i,m,s van los tres desde $0$ hasta $C-1$ y el indice r va desde $0$ hasta $\\left\\lfloor \\dfrac{R}{2} \\right\\rfloor$. Esto significa que la complejidad tanto temporal como espacial de este algoritmo será de orden $O(C^3 R)$. Lo cual se convierte en un problema muy costoso computacionalmente hablando"
   ]
  },
  {
   "cell_type": "markdown",
   "metadata": {},
   "source": [
    "## Enfoque de muchas recurrencias"
   ]
  },
  {
   "cell_type": "markdown",
   "metadata": {},
   "source": [
    "Para este enfoque, diseñaremos una recurrencia para cada personaje. $I$ estara asociada a Indiana, $M$ estara asociada a Marion y $S$ estara asociada a Salah"
   ]
  },
  {
   "cell_type": "markdown",
   "metadata": {},
   "source": [
    "$$ I(r,i) = \\left\\{\n",
    "    \\begin{array}{}\n",
    "        0 & & \\text{si} & & r=0 \\wedge i = 0 \\\\\n",
    "        -\\infty & & \\text{si} & &  A[r][j] = -1 \\vee (r=0 \\wedge i > 0) \\\\\n",
    "        \\max (I(r-1,i),I(r-1,i+1)) + A[r][i] & & \\text{si} & & r>0 \\wedge i = 0 \\\\\n",
    "        \\max (I(r-1,i),I(r-1,i-1)) + A[r][i] & & \\text{si} & & r>0 \\wedge i = C-1 \\\\\n",
    "        \\max (I(r-1,i),I(r-1,i-1),I(r-1,i+1)) + A[r][i] & & \\text{si} & & r>0 \\wedge 0 < i < C-1 \\\\\n",
    "    \\end{array}\n",
    "    \\right.\n",
    "$$"
   ]
  },
  {
   "cell_type": "markdown",
   "metadata": {},
   "source": [
    "$$ M(r,i) = \\left\\{\n",
    "    \\begin{array}{}\n",
    "        0 & & \\text{si} & & r=0 \\wedge i = C-1 \\\\\n",
    "        -\\infty & & \\text{si} & &  A[r][j] = -1 \\vee (r=0 \\wedge i < C-1) \\\\\n",
    "        \\max (M(r-1,i),M(r-1,i+1)) + A[r][i] & & \\text{si} & & r>0 \\wedge i = 0 \\\\\n",
    "        \\max (M(r-1,i),I(r-1,i-1)) + A[r][i] & & \\text{si} & & r>0 \\wedge i = C-1 \\\\\n",
    "        \\max (M(r-1,i),I(r-1,i-1),M(r-1,i+1)) + A[r][i] & & \\text{si} & & r>0 \\wedge 0 < i < C-1 \\\\\n",
    "    \\end{array}\n",
    "    \\right.\n",
    "$$"
   ]
  },
  {
   "cell_type": "markdown",
   "metadata": {},
   "source": [
    "$$ S(r,i) = \\left\\{\n",
    "    \\begin{array}{}\n",
    "        0 & & \\text{si} & & r= R-1 \\wedge i = \\lfloor \\frac{C}{2} \\rfloor\\\\\n",
    "        -\\infty & & \\text{si} & &  A[r][j] = -1 \\vee (r = R-1 \\wedge i \\neq \\lfloor \\frac{C}{2} \\rfloor) \\\\\n",
    "        \\max(S(r+1,i),S(r+1,i+1)) & & \\text{si} & & r < R-1 \\wedge i = 0 \\\\\n",
    "        \\max(S(r+1,i),S(r+1,i-1)) & & \\text{si} & & r < R-1 \\wedge i = C-1 \\\\\n",
    "        \\max(S(r+1,i),S(r+1,i-1),S(r+1,i+1)) & & \\text{si} & & r < R-1 \\wedge 0 < i < C-1 \\\\\n",
    "    \\end{array}\n",
    "    \\right.\n",
    "$$"
   ]
  }
 ],
 "metadata": {
  "language_info": {
   "name": "python"
  }
 },
 "nbformat": 4,
 "nbformat_minor": 2
}
