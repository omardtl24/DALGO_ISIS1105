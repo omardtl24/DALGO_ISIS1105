{
 "cells": [
  {
   "cell_type": "markdown",
   "metadata": {},
   "source": [
    "# Brainstorm Proyecto 1 - DP"
   ]
  },
  {
   "cell_type": "markdown",
   "metadata": {},
   "source": [
    "Se plantean dos posibles enfoques. \n",
    "\n",
    "1. Uno donde se parametrizan en una recurrencia el movimiento de Indiana, Marion y Salah (Dicha recurrencia será denomoniada $P$)\n",
    "2. Un conjunto de tres recurrencias que modelan el comportamiento de cada personaje y que son invocadas de acuerdo a distintas prioridades de recorrido para cada una de las personas.\n",
    "\n",
    "Antes de eso, se definen las siguientes entradas y salidas\n",
    "\n",
    "| E/S | Nombre | Tipo | Descripción |\n",
    "|-|-|-|-|\n",
    "|E| A | Array[0,R)[0,C) of **int** | Matriz con la representación de la cantidad de reliquias y maldiciones de la pirámide|\n",
    "|S| s | **int** | Cantidad máxima de reliquias que pueden obtener los tres personajes |"
   ]
  },
  {
   "cell_type": "markdown",
   "metadata": {},
   "source": [
    "## Enfoque de única recurrencia"
   ]
  },
  {
   "cell_type": "markdown",
   "metadata": {},
   "source": [
    "Tanto Marion, como Indiana y Salah pueden moverse en un espacio de $C \\times \\left\\lfloor \\dfrac{R}{2} \\right\\rfloor$. Por consiguiente, una estructura que pueda almacenar la cantidad maxima de reliquias obtenidas para cada combinacion de posiciones deberá tener una forma de $C \\times C \\times C \\times \\left\\lfloor \\dfrac{R}{2} \\right\\rfloor$"
   ]
  },
  {
   "cell_type": "markdown",
   "metadata": {},
   "source": [
    "Para este enfoque tendremos en cuenta los siguientes puntos:\n",
    "\n",
    "1. Todas las casillas invalidas deberán tener un valor de $-\\infty$ para aquellas configuraciones invalidas (Ejemplo: Aquellas casillas con maldiciones y aquellas que en la primera y ultima fila que no correspondan al punto de partida de los personajes) \n",
    "2. La casilla inicial de cada personaje debe iniciar con cero reliquias.\n",
    "3. Los demás casos recursivos representan todas las cobinaciones posibles de los movimientos de los personajes"
   ]
  },
  {
   "cell_type": "markdown",
   "metadata": {},
   "source": [
    "$$ P(i,m,s,r) = \\left\\{\n",
    "    \\begin{array}{}\n",
    "        0 & & \\text{si} & & r = 0 \\wedge i=0 \\wedge m=C-1 \\wedge s = \\left\\lfloor \\frac{C}{2} \\right\\rfloor \\\\\n",
    "        -\\infty & & \\text{si} & & A[r][i]=-1 \\vee A[r][m]=-1 \\vee A[r][s]=-1 \\vee \\left(r=0 \\wedge i>0  \\wedge m < C-1 \\wedge s \\neq \\left\\lfloor \\frac{C}{2} \\right\\rfloor \\right)\\\\\n",
    "        ... \n",
    "    \\end{array}\n",
    "    \\right.\n",
    "$$"
   ]
  },
  {
   "cell_type": "markdown",
   "metadata": {},
   "source": [
    "**¿Que problema tiene?** Los indices i,m,s van los tres desde $0$ hasta $C-1$ y el indice r va desde $0$ hasta $\\left\\lfloor \\dfrac{R}{2} \\right\\rfloor$. Esto significa que la complejidad tanto temporal como espacial de este algoritmo será de orden $O(C^3 R)$. Lo cual se convierte en un problema muy costoso computacionalmente hablando"
   ]
  },
  {
   "cell_type": "markdown",
   "metadata": {},
   "source": [
    "## Enfoque de muchas recurrencias"
   ]
  },
  {
   "cell_type": "markdown",
   "metadata": {},
   "source": [
    "Para este enfoque, diseñaremos una recurrencia para cada personaje. $I$ estara asociada a Indiana, $M$ estara asociada a Marion y $S$ estara asociada a Salah"
   ]
  },
  {
   "cell_type": "markdown",
   "metadata": {},
   "source": [
    "$$ I(r,i) = \\left\\{\n",
    "    \\begin{array}{}\n",
    "        0 & & \\text{si} & & r=0 \\wedge i = 0 \\\\\n",
    "        -\\infty & & \\text{si} & &  A[r][i] = -1 \\vee (r=0 \\wedge i > 0) \\\\\n",
    "        \\max (I(r-1,i),I(r-1,i+1)) + A[r][i] & & \\text{si} & & r>0 \\wedge i = 0 \\\\\n",
    "        \\max (I(r-1,i),I(r-1,i-1)) + A[r][i] & & \\text{si} & & r>0 \\wedge i = C-1 \\\\\n",
    "        \\max (I(r-1,i),I(r-1,i-1),I(r-1,i+1)) + A[r][i] & & \\text{si} & & r>0 \\wedge 0 < i < C-1 \\\\\n",
    "    \\end{array}\n",
    "    \\right.\n",
    "$$"
   ]
  },
  {
   "cell_type": "markdown",
   "metadata": {},
   "source": [
    "$$ M(r,i) = \\left\\{\n",
    "    \\begin{array}{}\n",
    "        0 & & \\text{si} & & r=0 \\wedge i = C-1 \\\\\n",
    "        -\\infty & & \\text{si} & &  A[r][i] = -1 \\vee (r=0 \\wedge i < C-1) \\\\\n",
    "        \\max (M(r-1,i),M(r-1,i+1)) + A[r][i] & & \\text{si} & & r>0 \\wedge i = 0 \\\\\n",
    "        \\max (M(r-1,i),I(r-1,i-1)) + A[r][i] & & \\text{si} & & r>0 \\wedge i = C-1 \\\\\n",
    "        \\max (M(r-1,i),I(r-1,i-1),M(r-1,i+1)) + A[r][i] & & \\text{si} & & r>0 \\wedge 0 < i < C-1 \\\\\n",
    "    \\end{array}\n",
    "    \\right.\n",
    "$$"
   ]
  },
  {
   "cell_type": "markdown",
   "metadata": {},
   "source": [
    "$$ S(r,i) = \\left\\{\n",
    "    \\begin{array}{}\n",
    "        0 & & \\text{si} & & r= R-1 \\wedge i = \\lfloor \\frac{C}{2} \\rfloor\\\\\n",
    "        -\\infty & & \\text{si} & &  A[r][i] = -1 \\vee (r = R-1 \\wedge i \\neq \\lfloor \\frac{C}{2} \\rfloor) \\\\\n",
    "        \\max(S(r+1,i),S(r+1,i+1)) & & \\text{si} & & r < R-1 \\wedge i = 0 \\\\\n",
    "        \\max(S(r+1,i),S(r+1,i-1)) & & \\text{si} & & r < R-1 \\wedge i = C-1 \\\\\n",
    "        \\max(S(r+1,i),S(r+1,i-1),S(r+1,i+1)) & & \\text{si} & & r < R-1 \\wedge 0 < i < C-1 \\\\\n",
    "    \\end{array}\n",
    "    \\right.\n",
    "$$"
   ]
  },
  {
   "cell_type": "markdown",
   "metadata": {},
   "source": [
    "Probamos los ejemplos definidos en el documento"
   ]
  },
  {
   "cell_type": "code",
   "execution_count": 65,
   "metadata": {},
   "outputs": [
    {
     "data": {
      "text/plain": [
       "62"
      ]
     },
     "execution_count": 65,
     "metadata": {},
     "output_type": "execute_result"
    }
   ],
   "source": [
    "from ProblemaP1 import *\n",
    "\n",
    "A =  [\n",
    "        [0,9,1,10,0],\n",
    "        [-1,5,5,25,5],\n",
    "        [1,5,1,5,7],\n",
    "        [5,5,5,15,2],\n",
    "        [55,3,0,4,1]\n",
    "    ]\n",
    "\n",
    "solvePathsProblem(A)"
   ]
  },
  {
   "cell_type": "code",
   "execution_count": 66,
   "metadata": {},
   "outputs": [
    {
     "data": {
      "text/plain": [
       "32"
      ]
     },
     "execution_count": 66,
     "metadata": {},
     "output_type": "execute_result"
    }
   ],
   "source": [
    "from ProblemaP1 import *\n",
    "A =  [\n",
    "        [0,9,1,10,0],\n",
    "        [-1,-1,5,-1,5],\n",
    "        [1,5,1,5,7],\n",
    "        [5,5,5,15,2],\n",
    "        [55,3,0,4,1]\n",
    "    ]\n",
    "\n",
    "solvePathsProblem(A)"
   ]
  },
  {
   "cell_type": "markdown",
   "metadata": {},
   "source": [
    "Probamos ejemplos pequeños y verificables"
   ]
  },
  {
   "cell_type": "markdown",
   "metadata": {},
   "source": [
    "Probamos con un caso soluble de 5x5"
   ]
  },
  {
   "cell_type": "code",
   "execution_count": 67,
   "metadata": {},
   "outputs": [
    {
     "data": {
      "text/plain": [
       "37"
      ]
     },
     "execution_count": 67,
     "metadata": {},
     "output_type": "execute_result"
    }
   ],
   "source": [
    "from ProblemaP1 import *\n",
    "\n",
    "A = [\n",
    "        [0,-1,-1,-1,0],\n",
    "        [2,3,-1,5,4],\n",
    "        [1,5,15,2,7],\n",
    "        [-1,1,-1,2,-1],\n",
    "        [-1,-1,0,-1,-1]\n",
    "    ]\n",
    "solvePathsProblem(A)"
   ]
  },
  {
   "cell_type": "markdown",
   "metadata": {},
   "source": [
    "Probamos con el caso trivial más pequeño"
   ]
  },
  {
   "cell_type": "code",
   "execution_count": 68,
   "metadata": {},
   "outputs": [
    {
     "data": {
      "text/plain": [
       "0"
      ]
     },
     "execution_count": 68,
     "metadata": {},
     "output_type": "execute_result"
    }
   ],
   "source": [
    "from ProblemaP1 import *\n",
    "\n",
    "A = [\n",
    "        [0,0,0]\n",
    "    ]\n",
    "solvePathsProblem(A)"
   ]
  },
  {
   "cell_type": "markdown",
   "metadata": {},
   "source": [
    "Probamos un camino donde ningun personaje salga con vida"
   ]
  },
  {
   "cell_type": "code",
   "execution_count": 69,
   "metadata": {},
   "outputs": [
    {
     "data": {
      "text/plain": [
       "-1"
      ]
     },
     "execution_count": 69,
     "metadata": {},
     "output_type": "execute_result"
    }
   ],
   "source": [
    "from ProblemaP1 import *\n",
    "\n",
    "A = [\n",
    "        [0,-1,-1,-1,0],\n",
    "        [-1,-1,-1,-1,-1],\n",
    "        [1,5,15,2,7],\n",
    "        [-1,-1,-1,-1,-1],\n",
    "        [-1,-1,0,-1,-1]\n",
    "    ]\n",
    "solvePathsProblem(A)"
   ]
  },
  {
   "cell_type": "markdown",
   "metadata": {},
   "source": [
    "Probamos el rendimiento de la solución"
   ]
  },
  {
   "cell_type": "code",
   "execution_count": 70,
   "metadata": {},
   "outputs": [],
   "source": [
    "import random\n",
    "from ProblemaP1 import *\n",
    "\n",
    "def generar_matriz_aleatoria_impar(min_lado=3, max_lado=200):\n",
    "    # Asegurarse de que el mínimo y máximo son impares y están en el rango correcto\n",
    "    min_lado = min_lado if min_lado % 2 != 0 else min_lado + 1\n",
    "    max_lado = max_lado if max_lado % 2 != 0 else max_lado - 1\n",
    "    \n",
    "    # Generar un tamaño impar aleatorio entre min_lado y max_lado\n",
    "    a = random.choice(range(min_lado, max_lado + 1, 2))\n",
    "    b = random.choice(range(min_lado, max_lado + 1, 2))\n",
    "    \n",
    "    # Crear la matriz con valores aleatorios (-1 o entre 1 y 1000)\n",
    "    m = [[random.choice([-1, random.randint(1, 1000)]) for _ in range(b)] for _ in range(a)]\n",
    "    \n",
    "    m[0][0] = 0                       # Esquina superior izquierda\n",
    "    m[0][b-1] = 0                     # Esquina superior derecha\n",
    "    m[a-1][b//2] = 0                  # Centro de la última fila\n",
    "    \n",
    "    return m"
   ]
  },
  {
   "cell_type": "code",
   "execution_count": 71,
   "metadata": {},
   "outputs": [],
   "source": [
    "matrices = [generar_matriz_aleatoria_impar() for _ in range(100)]"
   ]
  },
  {
   "cell_type": "code",
   "execution_count": 72,
   "metadata": {},
   "outputs": [
    {
     "name": "stdout",
     "output_type": "stream",
     "text": [
      "895 ms ± 3.66 ms per loop (mean ± std. dev. of 7 runs, 1 loop each)\n"
     ]
    }
   ],
   "source": [
    "%%timeit\n",
    "for m in matrices:\n",
    "    solvePathsProblem(m)"
   ]
  },
  {
   "cell_type": "markdown",
   "metadata": {},
   "source": [
    "Probamos el rendimiento con matrices del tamaño más grande posible"
   ]
  },
  {
   "cell_type": "code",
   "execution_count": 73,
   "metadata": {},
   "outputs": [],
   "source": [
    "matrices = [generar_matriz_aleatoria_impar(min_lado=199) for _ in range(100)]"
   ]
  },
  {
   "cell_type": "code",
   "execution_count": 74,
   "metadata": {},
   "outputs": [
    {
     "name": "stdout",
     "output_type": "stream",
     "text": [
      "3.72 s ± 14.8 ms per loop (mean ± std. dev. of 7 runs, 1 loop each)\n"
     ]
    }
   ],
   "source": [
    "%%timeit\n",
    "for m in matrices:\n",
    "    solvePathsProblem(m)"
   ]
  },
  {
   "cell_type": "markdown",
   "metadata": {},
   "source": [
    "Probamos la entrada y salida estandar"
   ]
  },
  {
   "cell_type": "code",
   "execution_count": 75,
   "metadata": {},
   "outputs": [
    {
     "name": "stdout",
     "output_type": "stream",
     "text": [
      "2\n",
      "5 5\n",
      "0 9 1 10 0\n",
      "-1 5 5 25 5\n",
      "1 5 1 5 7\n",
      "5 5 5 15 2\n",
      "55 3 0 4 1\n",
      "5 5\n",
      "0 9 1 10 0\n",
      "-1 -1 5 -1 5\n",
      "1 5 1 5 7\n",
      "5 5 5 15 2\n",
      "55 3 0 4 1\n"
     ]
    }
   ],
   "source": [
    "filename = 'P1.in'\n",
    "with open(filename, 'r') as file:\n",
    "    content = file.read()\n",
    "print(content)"
   ]
  },
  {
   "cell_type": "code",
   "execution_count": 76,
   "metadata": {},
   "outputs": [],
   "source": [
    "!python ProblemaP1.py < P1.in > P1_python.out"
   ]
  },
  {
   "cell_type": "code",
   "execution_count": 77,
   "metadata": {},
   "outputs": [
    {
     "name": "stdout",
     "output_type": "stream",
     "text": [
      "62\n",
      "32\n",
      "\n"
     ]
    }
   ],
   "source": [
    "filename = 'P1_python.out'\n",
    "with open(filename, 'r') as file:\n",
    "    content = file.read()\n",
    "print(content)"
   ]
  }
 ],
 "metadata": {
  "kernelspec": {
   "display_name": "Python 3",
   "language": "python",
   "name": "python3"
  },
  "language_info": {
   "codemirror_mode": {
    "name": "ipython",
    "version": 3
   },
   "file_extension": ".py",
   "mimetype": "text/x-python",
   "name": "python",
   "nbconvert_exporter": "python",
   "pygments_lexer": "ipython3",
   "version": "3.11.9"
  }
 },
 "nbformat": 4,
 "nbformat_minor": 2
}
