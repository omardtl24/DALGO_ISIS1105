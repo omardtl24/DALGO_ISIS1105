{
 "cells": [
  {
   "cell_type": "markdown",
   "metadata": {},
   "source": [
    "# Brainstorm Proyecto 1 - DP"
   ]
  },
  {
   "cell_type": "markdown",
   "metadata": {},
   "source": [
    "Se plantean dos posibles enfoques. \n",
    "\n",
    "1. Uno donde se parametrizan en una recurrencia el movimiento de Indiana, Marion y Salah (Dicha recurrencia será denomoniada $P$)\n",
    "2. Un conjunto de tres recurrencias que modelan el comportamiento de cada personaje y que son invocadas de acuerdo a distintas prioridades de recorrido para cada una de las personas.\n",
    "\n",
    "Antes de eso, se definen las siguientes entradas y salidas\n",
    "\n",
    "| E/S | Nombre | Tipo | Descripción |\n",
    "|-|-|-|-|\n",
    "|E| A | Array[0,R)[0,C) of **int** | Matriz con la representación de la cantidad de reliquias y maldiciones de la pirámide|\n",
    "|S| s | **int** | Cantidad máxima de reliquias que pueden obtener los tres personajes |"
   ]
  },
  {
   "cell_type": "markdown",
   "metadata": {},
   "source": [
    "## Enfoque de única recurrencia"
   ]
  },
  {
   "cell_type": "markdown",
   "metadata": {},
   "source": [
    "Tanto Marion, como Indiana y Salah pueden moverse en un espacio de $C \\times \\left\\lfloor \\dfrac{R}{2} \\right\\rfloor$. Por consiguiente, una estructura que pueda almacenar la cantidad maxima de reliquias obtenidas para cada combinacion de posiciones deberá tener una forma de $C \\times C \\times C \\times \\left\\lfloor \\dfrac{R}{2} \\right\\rfloor$"
   ]
  },
  {
   "cell_type": "markdown",
   "metadata": {},
   "source": [
    "Para este enfoque tendremos en cuenta los siguientes puntos:\n",
    "\n",
    "1. Todas las casillas invalidas deberán tener un valor de $-\\infty$ para aquellas configuraciones invalidas (Ejemplo: Aquellas casillas con maldiciones y aquellas que en la primera y ultima fila que no correspondan al punto de partida de los personajes) \n",
    "2. La casilla inicial de cada personaje debe iniciar con cero reliquias.\n",
    "3. Los demás casos recursivos representan todas las cobinaciones posibles de los movimientos de los personajes"
   ]
  },
  {
   "cell_type": "markdown",
   "metadata": {},
   "source": [
    "$$ P(i,m,s,r) = \\left\\{\n",
    "    \\begin{array}{}\n",
    "        0 & & \\text{si} & & r = 0 \\wedge i=0 \\wedge m=C-1 \\wedge s = \\left\\lfloor \\frac{C}{2} \\right\\rfloor \\\\\n",
    "        -\\infty & & \\text{si} & & A[r][i]=-1 \\vee A[r][m]=-1 \\vee A[r][s]=-1 \\vee \\left(r=0 \\wedge i>0  \\wedge m < C-1 \\wedge s \\neq \\left\\lfloor \\frac{C}{2} \\right\\rfloor \\right)\\\\\n",
    "        ... \n",
    "    \\end{array}\n",
    "    \\right.\n",
    "$$"
   ]
  },
  {
   "cell_type": "markdown",
   "metadata": {},
   "source": [
    "**¿Que problema tiene?** Los indices i,m,s van los tres desde $0$ hasta $C-1$ y el indice r va desde $0$ hasta $\\left\\lfloor \\dfrac{R}{2} \\right\\rfloor$. Esto significa que la complejidad tanto temporal como espacial de este algoritmo será de orden $O(C^3 R)$. Lo cual se convierte en un problema muy costoso computacionalmente hablando"
   ]
  },
  {
   "cell_type": "markdown",
   "metadata": {},
   "source": [
    "## Enfoque de muchas recurrencias"
   ]
  },
  {
   "cell_type": "markdown",
   "metadata": {},
   "source": [
    "Para este enfoque, diseñaremos una recurrencia para cada personaje. $I$ estara asociada a Indiana, $M$ estara asociada a Marion y $S$ estara asociada a Salah"
   ]
  },
  {
   "cell_type": "markdown",
   "metadata": {},
   "source": [
    "$$ I(r,i) = \\left\\{\n",
    "    \\begin{array}{}\n",
    "        0 & & \\text{si} & & r=0 \\wedge i = 0 \\\\\n",
    "        -\\infty & & \\text{si} & &  A[r][i] = -1 \\vee (r=0 \\wedge i > 0) \\\\\n",
    "        \\max (I(r-1,i),I(r-1,i+1)) + A[r][i] & & \\text{si} & & r>0 \\wedge i = 0 \\\\\n",
    "        \\max (I(r-1,i),I(r-1,i-1)) + A[r][i] & & \\text{si} & & r>0 \\wedge i = C-1 \\\\\n",
    "        \\max (I(r-1,i),I(r-1,i-1),I(r-1,i+1)) + A[r][i] & & \\text{si} & & r>0 \\wedge 0 < i < C-1 \\\\\n",
    "    \\end{array}\n",
    "    \\right.\n",
    "$$"
   ]
  },
  {
   "cell_type": "markdown",
   "metadata": {},
   "source": [
    "$$ M(r,i) = \\left\\{\n",
    "    \\begin{array}{}\n",
    "        0 & & \\text{si} & & r=0 \\wedge i = C-1 \\\\\n",
    "        -\\infty & & \\text{si} & &  A[r][i] = -1 \\vee (r=0 \\wedge i < C-1) \\\\\n",
    "        \\max (M(r-1,i),M(r-1,i+1)) + A[r][i] & & \\text{si} & & r>0 \\wedge i = 0 \\\\\n",
    "        \\max (M(r-1,i),I(r-1,i-1)) + A[r][i] & & \\text{si} & & r>0 \\wedge i = C-1 \\\\\n",
    "        \\max (M(r-1,i),I(r-1,i-1),M(r-1,i+1)) + A[r][i] & & \\text{si} & & r>0 \\wedge 0 < i < C-1 \\\\\n",
    "    \\end{array}\n",
    "    \\right.\n",
    "$$"
   ]
  },
  {
   "cell_type": "markdown",
   "metadata": {},
   "source": [
    "$$ S(r,i) = \\left\\{\n",
    "    \\begin{array}{}\n",
    "        0 & & \\text{si} & & r= R-1 \\wedge i = \\lfloor \\frac{C}{2} \\rfloor\\\\\n",
    "        -\\infty & & \\text{si} & &  A[r][i] = -1 \\vee (r = R-1 \\wedge i \\neq \\lfloor \\frac{C}{2} \\rfloor) \\\\\n",
    "        \\max(S(r+1,i),S(r+1,i+1)) & & \\text{si} & & r < R-1 \\wedge i = 0 \\\\\n",
    "        \\max(S(r+1,i),S(r+1,i-1)) & & \\text{si} & & r < R-1 \\wedge i = C-1 \\\\\n",
    "        \\max(S(r+1,i),S(r+1,i-1),S(r+1,i+1)) & & \\text{si} & & r < R-1 \\wedge 0 < i < C-1 \\\\\n",
    "    \\end{array}\n",
    "    \\right.\n",
    "$$"
   ]
  },
  {
   "cell_type": "markdown",
   "metadata": {},
   "source": [
    "Probamos los ejemplos definidos en el documento"
   ]
  },
  {
   "cell_type": "code",
   "execution_count": 1,
   "metadata": {},
   "outputs": [
    {
     "name": "stdout",
     "output_type": "stream",
     "text": [
      "Enfoque de varias recurrencias: 62\n",
      "Enfoque de unica recurrencia: 62\n"
     ]
    }
   ],
   "source": [
    "from ProblemaP1Tests import *\n",
    "from FullDP import *\n",
    "\n",
    "A =  [\n",
    "        [0,9,1,10,0],\n",
    "        [-1,5,5,25,5],\n",
    "        [1,5,1,5,7],\n",
    "        [5,5,5,15,2],\n",
    "        [55,3,0,4,1]\n",
    "    ]\n",
    "\n",
    "print(f'Enfoque de varias recurrencias: {solvePathsProblem(A)}')\n",
    "print(f'Enfoque de unica recurrencia: {fullSolutionDP(A)[0]}')"
   ]
  },
  {
   "cell_type": "code",
   "execution_count": 2,
   "metadata": {},
   "outputs": [
    {
     "name": "stdout",
     "output_type": "stream",
     "text": [
      "Enfoque de varias recurrencias: 32\n",
      "Enfoque de unica recurrencia: 32\n"
     ]
    }
   ],
   "source": [
    "from ProblemaP1Tests import *\n",
    "from FullDP import *\n",
    "\n",
    "A =  [\n",
    "        [0,9,1,10,0],\n",
    "        [-1,-1,5,-1,5],\n",
    "        [1,5,1,5,7],\n",
    "        [5,5,5,15,2],\n",
    "        [55,3,0,4,1]\n",
    "    ]\n",
    "\n",
    "print(f'Enfoque de varias recurrencias: {solvePathsProblem(A)}')\n",
    "print(f'Enfoque de unica recurrencia: {fullSolutionDP(A)[0]}')"
   ]
  },
  {
   "cell_type": "markdown",
   "metadata": {},
   "source": [
    "Probamos ejemplos pequeños y verificables"
   ]
  },
  {
   "cell_type": "markdown",
   "metadata": {},
   "source": [
    "Probamos con un caso soluble de 5x5"
   ]
  },
  {
   "cell_type": "code",
   "execution_count": 3,
   "metadata": {},
   "outputs": [
    {
     "name": "stdout",
     "output_type": "stream",
     "text": [
      "Enfoque de varias recurrencias: 37\n",
      "Enfoque de unica recurrencia: 37\n"
     ]
    }
   ],
   "source": [
    "from ProblemaP1Tests import *\n",
    "from FullDP import *\n",
    "\n",
    "A = [\n",
    "        [0,-1,-1,-1,0],\n",
    "        [2,3,-1,5,4],\n",
    "        [1,5,15,2,7],\n",
    "        [-1,1,-1,2,-1],\n",
    "        [-1,-1,0,-1,-1]\n",
    "    ]\n",
    "print(f'Enfoque de varias recurrencias: {solvePathsProblem(A)}')\n",
    "print(f'Enfoque de unica recurrencia: {fullSolutionDP(A)[0]}')"
   ]
  },
  {
   "cell_type": "markdown",
   "metadata": {},
   "source": [
    "Probamos con el caso trivial más pequeño"
   ]
  },
  {
   "cell_type": "code",
   "execution_count": 4,
   "metadata": {},
   "outputs": [
    {
     "name": "stdout",
     "output_type": "stream",
     "text": [
      "Enfoque de varias recurrencias: 0\n",
      "Enfoque de unica recurrencia: 0\n"
     ]
    }
   ],
   "source": [
    "from ProblemaP1Tests import *\n",
    "from FullDP import *\n",
    "\n",
    "A = [\n",
    "        [0,0,0]\n",
    "    ]\n",
    "print(f'Enfoque de varias recurrencias: {solvePathsProblem(A)}')\n",
    "print(f'Enfoque de unica recurrencia: {fullSolutionDP(A)[0]}')"
   ]
  },
  {
   "cell_type": "markdown",
   "metadata": {},
   "source": [
    "Probamos un camino donde ningun personaje salga con vida"
   ]
  },
  {
   "cell_type": "code",
   "execution_count": 5,
   "metadata": {},
   "outputs": [
    {
     "name": "stdout",
     "output_type": "stream",
     "text": [
      "Enfoque de varias recurrencias: -1\n",
      "Enfoque de unica recurrencia: -1\n"
     ]
    }
   ],
   "source": [
    "from ProblemaP1Tests import *\n",
    "from FullDP import *\n",
    "\n",
    "A = [\n",
    "        [0,-1,-1,-1,0],\n",
    "        [-1,-1,-1,-1,-1],\n",
    "        [1,5,15,2,7],\n",
    "        [-1,-1,-1,-1,-1],\n",
    "        [-1,-1,0,-1,-1]\n",
    "    ]\n",
    "\n",
    "print(f'Enfoque de varias recurrencias: {solvePathsProblem(A)}')\n",
    "print(f'Enfoque de unica recurrencia: {fullSolutionDP(A)[0]}')"
   ]
  },
  {
   "cell_type": "markdown",
   "metadata": {},
   "source": [
    "Probamos el rendimiento de la solución"
   ]
  },
  {
   "cell_type": "code",
   "execution_count": 137,
   "metadata": {},
   "outputs": [],
   "source": [
    "import random\n",
    "from ProblemaP1Tests import *\n",
    "from FullDP import *\n",
    "\n",
    "def generar_matriz_aleatoria_impar(min_lado=3, max_lado=200):\n",
    "    # Asegurarse de que el mínimo y máximo son impares y están en el rango correcto\n",
    "    min_lado = min_lado if min_lado % 2 != 0 else min_lado + 1\n",
    "    max_lado = max_lado if max_lado % 2 != 0 else max_lado - 1\n",
    "    \n",
    "    # Generar un tamaño impar aleatorio entre min_lado y max_lado\n",
    "    a = random.choice(range(min_lado, max_lado + 1, 2))\n",
    "    b = random.choice(range(min_lado, max_lado + 1, 2))\n",
    "    \n",
    "    # Crear la matriz con valores aleatorios (-1 o entre 1 y 1000)\n",
    "    m = [[random.choice([-1, random.randint(1, 1000)]) for _ in range(b)] for _ in range(a)]\n",
    "    \n",
    "    m[0][0] = 0                       # Esquina superior izquierda\n",
    "    m[0][b-1] = 0                     # Esquina superior derecha\n",
    "    m[a-1][b//2] = 0                  # Centro de la última fila\n",
    "    \n",
    "    return m"
   ]
  },
  {
   "cell_type": "code",
   "execution_count": 7,
   "metadata": {},
   "outputs": [],
   "source": [
    "matrices = [generar_matriz_aleatoria_impar() for _ in range(100)]"
   ]
  },
  {
   "cell_type": "code",
   "execution_count": 8,
   "metadata": {},
   "outputs": [
    {
     "name": "stdout",
     "output_type": "stream",
     "text": [
      "5.07 s ± 342 ms per loop (mean ± std. dev. of 7 runs, 1 loop each)\n"
     ]
    }
   ],
   "source": [
    "%%timeit\n",
    "for m in matrices:\n",
    "    solvePathsProblem(m)"
   ]
  },
  {
   "cell_type": "markdown",
   "metadata": {},
   "source": [
    "Probamos el rendimiento con matrices del tamaño más grande posible"
   ]
  },
  {
   "cell_type": "code",
   "execution_count": 9,
   "metadata": {},
   "outputs": [],
   "source": [
    "matrices = [generar_matriz_aleatoria_impar(min_lado=199) for _ in range(100)]"
   ]
  },
  {
   "cell_type": "code",
   "execution_count": 10,
   "metadata": {},
   "outputs": [
    {
     "name": "stdout",
     "output_type": "stream",
     "text": [
      "18.5 s ± 2.13 s per loop (mean ± std. dev. of 7 runs, 1 loop each)\n"
     ]
    }
   ],
   "source": [
    "%%timeit\n",
    "for m in matrices:\n",
    "    solvePathsProblem(m)"
   ]
  },
  {
   "cell_type": "markdown",
   "metadata": {},
   "source": [
    "Probamos la entrada y salida estandar"
   ]
  },
  {
   "cell_type": "code",
   "execution_count": 11,
   "metadata": {},
   "outputs": [
    {
     "name": "stdout",
     "output_type": "stream",
     "text": [
      "2\n",
      "5 5\n",
      "0 9 1 10 0\n",
      "-1 5 5 25 5\n",
      "1 5 1 5 7\n",
      "5 5 5 15 2\n",
      "55 3 0 4 1\n",
      "5 5\n",
      "0 9 1 10 0\n",
      "-1 -1 5 -1 5\n",
      "1 5 1 5 7\n",
      "5 5 5 15 2\n",
      "55 3 0 4 1\n"
     ]
    }
   ],
   "source": [
    "filename = 'P1.in'\n",
    "with open(filename, 'r') as file:\n",
    "    content = file.read()\n",
    "print(content)"
   ]
  },
  {
   "cell_type": "code",
   "execution_count": 12,
   "metadata": {},
   "outputs": [],
   "source": [
    "!python ProblemaP1.py < P1.in > P1_python.out"
   ]
  },
  {
   "cell_type": "code",
   "execution_count": 13,
   "metadata": {},
   "outputs": [
    {
     "name": "stdout",
     "output_type": "stream",
     "text": [
      "62\n",
      "32\n",
      "\n"
     ]
    }
   ],
   "source": [
    "filename = 'P1_python.out'\n",
    "with open(filename, 'r') as file:\n",
    "    content = file.read()\n",
    "print(content)"
   ]
  },
  {
   "cell_type": "markdown",
   "metadata": {},
   "source": [
    "Verificamos la solucion usando ejemplos no tan grandes aleatorios usando en comparativa la recurrencia completa"
   ]
  },
  {
   "cell_type": "code",
   "execution_count": 138,
   "metadata": {},
   "outputs": [
    {
     "name": "stdout",
     "output_type": "stream",
     "text": [
      "Differences found\n"
     ]
    }
   ],
   "source": [
    "n = 150\n",
    "diff = []\n",
    "matrices = [generar_matriz_aleatoria_impar(max_lado=5) for _ in range(n)]\n",
    "for m in matrices:\n",
    "    n1 = solvePathsProblem(m)\n",
    "    n2 = fullSolutionDP(m)[0]\n",
    "    if(n1!=n2):\n",
    "        print('Differences found')\n",
    "        diff.append(m)\n",
    "#print(f'{n} random cases passed the tests - It seems like both algorithms are equivalent')"
   ]
  },
  {
   "cell_type": "code",
   "execution_count": 140,
   "metadata": {},
   "outputs": [
    {
     "name": "stdout",
     "output_type": "stream",
     "text": [
      "[0, 784, 0]\n",
      "[-1, 941, 695]\n",
      "[236, 319, 478]\n",
      "[-1, -1, 150]\n",
      "[-1, 0, 154]\n"
     ]
    }
   ],
   "source": [
    "for row in diff[0]:\n",
    "    print(row)"
   ]
  },
  {
   "cell_type": "code",
   "execution_count": 150,
   "metadata": {},
   "outputs": [
    {
     "data": {
      "text/plain": [
       "(2819, 2583)"
      ]
     },
     "execution_count": 150,
     "metadata": {},
     "output_type": "execute_result"
    }
   ],
   "source": [
    "from ProblemaP1Tests import *\n",
    "from FullDP import *\n",
    "\n",
    "A = [[0, 784, 0],\n",
    "[-1, 941, 695],\n",
    "[236, 319, 478],\n",
    "[-1, -1, 150],\n",
    "[-1, 0, 154]]\n",
    "\n",
    "\n",
    "fullSolutionDP(A)[0] , solvePathsProblem(A)"
   ]
  },
  {
   "cell_type": "code",
   "execution_count": 152,
   "metadata": {},
   "outputs": [
    {
     "name": "stdout",
     "output_type": "stream",
     "text": [
      "[0, 784, 0]\n",
      "[-1, 941, 695]\n",
      "[236, 319, 478]\n",
      "[-1, -1, 150]\n",
      "[-1, 0, 154]\n"
     ]
    }
   ],
   "source": [
    "for row in A: print(row)"
   ]
  },
  {
   "cell_type": "code",
   "execution_count": 143,
   "metadata": {},
   "outputs": [],
   "source": [
    "r,P = fullSolutionDP(A)\n",
    "import numpy as np\n",
    "P = np.array(P)"
   ]
  },
  {
   "cell_type": "code",
   "execution_count": 149,
   "metadata": {},
   "outputs": [
    {
     "data": {
      "text/plain": [
       "2819"
      ]
     },
     "execution_count": 149,
     "metadata": {},
     "output_type": "execute_result"
    }
   ],
   "source": [
    "P[2,0,2,1,1,1,1]"
   ]
  },
  {
   "cell_type": "code",
   "execution_count": 82,
   "metadata": {},
   "outputs": [
    {
     "data": {
      "text/plain": [
       "(5621, 5336)"
      ]
     },
     "execution_count": 82,
     "metadata": {},
     "output_type": "execute_result"
    }
   ],
   "source": [
    "from ProblemaP1Tests import *\n",
    "from FullDP import *\n",
    "A = [[0, -1, 0],\n",
    " [-1, 616, -1],\n",
    " [-1, 734, 804],\n",
    " [333, 682, 48],\n",
    " [857, 367, 805],\n",
    " [-1, 119, -1],\n",
    " [-1, 484, 65],\n",
    " [-1, 122, -1],\n",
    " [-1, -1, 831],\n",
    " [-1, 316, 539],\n",
    " [755, 117, -1],\n",
    " [-1, -1, -1],\n",
    " [717, 246, 969],\n",
    " [970, -1, -1],\n",
    " [936, 0, -1]]\n",
    "\n",
    "fullSolutionDP(A)[0] , solvePathsProblem(A)\n"
   ]
  },
  {
   "cell_type": "code",
   "execution_count": 83,
   "metadata": {},
   "outputs": [
    {
     "data": {
      "text/plain": [
       "(3684, 1652, 5336)"
      ]
     },
     "execution_count": 83,
     "metadata": {},
     "output_type": "execute_result"
    }
   ],
   "source": [
    "r,Ap = IndianaPath(copyMatrix(A))\n",
    "r1,App = MarionPath(Ap)\n",
    "r,r1,r + r1\n"
   ]
  },
  {
   "cell_type": "code",
   "execution_count": 84,
   "metadata": {},
   "outputs": [
    {
     "data": {
      "text/plain": [
       "[[0, -1, 0],\n",
       " [-1, 0, -1],\n",
       " [-1, 0, 0],\n",
       " [333, 0, 0],\n",
       " [0, 367, 0],\n",
       " [-1, 0, -1],\n",
       " [-1, 0, 0],\n",
       " [-1, 0, -1],\n",
       " [-1, -1, 831],\n",
       " [-1, 316, 539],\n",
       " [755, 117, -1],\n",
       " [-1, -1, -1],\n",
       " [717, 246, 969],\n",
       " [970, -1, -1],\n",
       " [936, 0, -1]]"
      ]
     },
     "execution_count": 84,
     "metadata": {},
     "output_type": "execute_result"
    }
   ],
   "source": [
    "App"
   ]
  },
  {
   "cell_type": "code",
   "execution_count": 85,
   "metadata": {},
   "outputs": [],
   "source": [
    "A = [\n",
    "        [0,-1,-1,-1,0],\n",
    "        [2,3,-1,5,4],\n",
    "        [1,5,15,2,7],\n",
    "        [-1,1,-1,2,-1],\n",
    "        [-1,-1,0,-1,-1]\n",
    "    ]"
   ]
  },
  {
   "cell_type": "code",
   "execution_count": 86,
   "metadata": {},
   "outputs": [],
   "source": [
    "r,P = fullSolutionDP(A)\n",
    "import numpy as np\n",
    "P = np.array(P)"
   ]
  },
  {
   "cell_type": "code",
   "execution_count": 87,
   "metadata": {},
   "outputs": [
    {
     "data": {
      "text/plain": [
       "[[0, -1, -1, -1, 0],\n",
       " [2, 3, -1, 5, 4],\n",
       " [1, 5, 15, 2, 7],\n",
       " [-1, 1, -1, 2, -1],\n",
       " [-1, -1, 0, -1, -1]]"
      ]
     },
     "execution_count": 87,
     "metadata": {},
     "output_type": "execute_result"
    }
   ],
   "source": [
    "A"
   ]
  },
  {
   "cell_type": "code",
   "execution_count": 88,
   "metadata": {},
   "outputs": [
    {
     "name": "stdout",
     "output_type": "stream",
     "text": [
      "[0, -1, 0]\n",
      "[-1, 0, -1]\n",
      "[-1, 0, 0]\n",
      "[333, 0, 0]\n",
      "[0, 367, 0]\n",
      "[-1, 0, -1]\n"
     ]
    }
   ],
   "source": [
    "for row in App[:6]:\n",
    "    print(row)"
   ]
  },
  {
   "cell_type": "code",
   "execution_count": 74,
   "metadata": {},
   "outputs": [
    {
     "data": {
      "text/plain": [
       "array([[4026, 4393, 4831],\n",
       "       [4393, 3536, 4341],\n",
       "       [4831, 4341, 3689]])"
      ]
     },
     "execution_count": 74,
     "metadata": {},
     "output_type": "execute_result"
    }
   ],
   "source": [
    "P[4,:,:,0,1,1,0]"
   ]
  },
  {
   "cell_type": "code",
   "execution_count": 75,
   "metadata": {},
   "outputs": [
    {
     "data": {
      "text/plain": [
       "4546"
      ]
     },
     "execution_count": 75,
     "metadata": {},
     "output_type": "execute_result"
    }
   ],
   "source": [
    "k = 0\n",
    "for i in range(5):\n",
    "    for j in range(len(A[0])):\n",
    "        if App[i][j]==0: k+=A[i][j]\n",
    "k"
   ]
  },
  {
   "cell_type": "code",
   "execution_count": 30,
   "metadata": {},
   "outputs": [
    {
     "data": {
      "text/plain": [
       "array([[-10000000, -10000000, -10000000],\n",
       "       [-10000000,      5621, -10000000],\n",
       "       [-10000000, -10000000, -10000000]])"
      ]
     },
     "execution_count": 30,
     "metadata": {},
     "output_type": "execute_result"
    }
   ],
   "source": [
    "P[7,:,:,0,1,1,0]"
   ]
  },
  {
   "cell_type": "code",
   "execution_count": 102,
   "metadata": {},
   "outputs": [
    {
     "data": {
      "text/plain": [
       "(13649, 13110)"
      ]
     },
     "execution_count": 102,
     "metadata": {},
     "output_type": "execute_result"
    }
   ],
   "source": [
    "A = [[0, 274, 54, -1, 278, -1, 0],\n",
    " [552, -1, -1, 319, -1, 761, -1],\n",
    " [627, 37, 806, 593, 265, 334, -1],\n",
    " [530, 154, 837, 459, 922, -1, 709],\n",
    " [999, 212, -1, 571, -1, 848, 927],\n",
    " [-1, -1, 407, 577, -1, -1, 57],\n",
    " [95, -1, 397, 766, -1, 933, -1],\n",
    " [-1, -1, -1, 902, 785, -1, -1],\n",
    " [-1, 118, -1, 331, 436, 762, -1],\n",
    " [105, -1, -1, 307, 265, 116, -1],\n",
    " [-1, 513, 499, -1, -1, -1, 48],\n",
    " [-1, -1, -1, 264, -1, -1, -1],\n",
    " [-1, 25, 820, 714, 527, -1, 374],\n",
    " [-1, -1, 309, 117, 719, 987, -1],\n",
    " [816, -1, -1, 606, 344, 375, 218],\n",
    " [701, -1, 129, -1, -1, -1, -1],\n",
    " [-1, -1, 699, 0, 387, 190, -1]]\n",
    "\n",
    "fullSolutionDP(A)[0],  solvePathsProblem(A)\n"
   ]
  },
  {
   "cell_type": "code",
   "execution_count": 103,
   "metadata": {},
   "outputs": [],
   "source": [
    "r,P = fullSolutionDP(A)\n",
    "import numpy as np\n",
    "P = np.array(P)"
   ]
  },
  {
   "cell_type": "code",
   "execution_count": 122,
   "metadata": {},
   "outputs": [
    {
     "data": {
      "text/plain": [
       "13649"
      ]
     },
     "execution_count": 122,
     "metadata": {},
     "output_type": "execute_result"
    }
   ],
   "source": [
    "P[len(A)//2,3,5,4,1,1,1]"
   ]
  },
  {
   "cell_type": "code",
   "execution_count": 125,
   "metadata": {},
   "outputs": [
    {
     "data": {
      "text/plain": [
       "(5478, 4063, 3569, 13110)"
      ]
     },
     "execution_count": 125,
     "metadata": {},
     "output_type": "execute_result"
    }
   ],
   "source": [
    "r,Ap = MarionPath(copyMatrix(A))\n",
    "r1,App = IndianaPath(Ap)\n",
    "r2,Appp = SalahPath(App)\n",
    "r,r1,r2, r + r1 + r2\n"
   ]
  },
  {
   "cell_type": "code",
   "execution_count": 133,
   "metadata": {},
   "outputs": [],
   "source": [
    "def print_list_of_lists(lst):\n",
    "    \"\"\"Print a list of lists in a formatted way.\"\"\"\n",
    "    for row in lst:\n",
    "        print(\"  \".join(f\"{value:6.0f}\" for value in row))"
   ]
  },
  {
   "cell_type": "code",
   "execution_count": 135,
   "metadata": {},
   "outputs": [
    {
     "name": "stdout",
     "output_type": "stream",
     "text": [
      "     0     274      54      -1     278      -1       0\n",
      "   552      -1      -1     319      -1     761      -1\n",
      "   627      37     806     593     265     334      -1\n",
      "   530     154     837     459     922      -1     709\n",
      "   999     212      -1     571      -1     848     927\n",
      "    -1      -1     407     577      -1      -1      57\n",
      "    95      -1     397     766      -1     933      -1\n",
      "    -1      -1      -1     902     785      -1      -1\n",
      "    -1     118      -1     331     436     762      -1\n",
      "   105      -1      -1     307     265     116      -1\n",
      "    -1     513     499      -1      -1      -1      48\n",
      "    -1      -1      -1     264      -1      -1      -1\n",
      "    -1      25     820     714     527      -1     374\n",
      "    -1      -1     309     117     719     987      -1\n",
      "   816      -1      -1     606     344     375     218\n",
      "   701      -1     129      -1      -1      -1      -1\n",
      "    -1      -1     699       0     387     190      -1\n"
     ]
    }
   ],
   "source": [
    "print_list_of_lists(A)"
   ]
  },
  {
   "cell_type": "code",
   "execution_count": 134,
   "metadata": {},
   "outputs": [
    {
     "name": "stdout",
     "output_type": "stream",
     "text": [
      "     0     274      54      -1     278      -1       0\n",
      "     0      -1      -1     319      -1       0      -1\n",
      "     0      37     806     593     265       0      -1\n",
      "     0     154     837     459       0      -1     709\n",
      "   999       0      -1       0      -1     848     927\n",
      "    -1      -1       0       0      -1      -1      57\n",
      "    95      -1       0       0      -1     933      -1\n",
      "    -1      -1      -1       0       0      -1      -1\n",
      "    -1     118      -1       0       0       0      -1\n",
      "   105      -1      -1       0     265     116      -1\n",
      "    -1     513       0      -1      -1      -1      48\n",
      "    -1      -1      -1       0      -1      -1      -1\n",
      "    -1      25     820       0     527      -1     374\n",
      "    -1      -1     309     117       0     987      -1\n",
      "   816      -1      -1       0     344     375     218\n",
      "   701      -1       0      -1      -1      -1      -1\n",
      "    -1      -1     699       0     387     190      -1\n"
     ]
    }
   ],
   "source": [
    "print_list_of_lists(Appp)"
   ]
  },
  {
   "cell_type": "code",
   "execution_count": 1,
   "metadata": {},
   "outputs": [
    {
     "data": {
      "text/plain": [
       "[[0, -1, -1, -1, 814, 778, 0],\n",
       " [705, 465, -1, -1, 692, 220, -1],\n",
       " [-1, -1, 665, 52, 690, -1, 629],\n",
       " [-1, -1, -1, 992, 581, 796, -1],\n",
       " [-1, -1, -1, 916, 724, 169, -1],\n",
       " [-1, -1, 625, 835, 441, -1, 521],\n",
       " [-1, -1, 425, -1, -1, -1, -1],\n",
       " [596, -1, 953, -1, -1, 359, -1],\n",
       " [-1, 158, 668, 566, -1, -1, 603],\n",
       " [-1, 377, -1, 548, 635, -1, -1],\n",
       " [455, -1, -1, -1, -1, 994, -1],\n",
       " [631, 138, 440, -1, -1, 611, -1],\n",
       " [816, 195, 284, 116, -1, -1, -1],\n",
       " [-1, 310, -1, 701, -1, 248, -1],\n",
       " [-1, 47, -1, -1, -1, 406, 652],\n",
       " [-1, 144, 83, -1, -1, 994, -1],\n",
       " [-1, -1, 448, 706, -1, 174, 254],\n",
       " [-1, -1, 911, -1, -1, 724, -1],\n",
       " [-1, 134, 910, 371, -1, 27, 915],\n",
       " [924, 623, -1, -1, 605, 40, 548],\n",
       " [-1, -1, 821, 0, -1, -1, -1]]"
      ]
     },
     "execution_count": 1,
     "metadata": {},
     "output_type": "execute_result"
    }
   ],
   "source": [
    "A = [[0, -1, -1, -1, 814, 778, 0],\n",
    " [705, 465, -1, -1, 692, 220, -1],\n",
    " [-1, -1, 665, 52, 690, -1, 629],\n",
    " [-1, -1, -1, 992, 581, 796, -1],\n",
    " [-1, -1, -1, 916, 724, 169, -1],\n",
    " [-1, -1, 625, 835, 441, -1, 521],\n",
    " [-1, -1, 425, -1, -1, -1, -1],\n",
    " [596, -1, 953, -1, -1, 359, -1],\n",
    " [-1, 158, 668, 566, -1, -1, 603],\n",
    " [-1, 377, -1, 548, 635, -1, -1],\n",
    " [455, -1, -1, -1, -1, 994, -1],\n",
    " [631, 138, 440, -1, -1, 611, -1],\n",
    " [816, 195, 284, 116, -1, -1, -1],\n",
    " [-1, 310, -1, 701, -1, 248, -1],\n",
    " [-1, 47, -1, -1, -1, 406, 652],\n",
    " [-1, 144, 83, -1, -1, 994, -1],\n",
    " [-1, -1, 448, 706, -1, 174, 254],\n",
    " [-1, -1, 911, -1, -1, 724, -1],\n",
    " [-1, 134, 910, 371, -1, 27, 915],\n",
    " [924, 623, -1, -1, 605, 40, 548],\n",
    " [-1, -1, 821, 0, -1, -1, -1]]\n",
    "\n",
    "A"
   ]
  },
  {
   "cell_type": "code",
   "execution_count": 101,
   "metadata": {},
   "outputs": [
    {
     "data": {
      "text/plain": [
       "(115, 115)"
      ]
     },
     "execution_count": 101,
     "metadata": {},
     "output_type": "execute_result"
    }
   ],
   "source": [
    "A = [\n",
    "    [0,1,0],\n",
    "    [10,15,-1],\n",
    "    [-1,10,20],\n",
    "    [10,-1,10],\n",
    "    [20,10,20],\n",
    "    [0,1,0],\n",
    "    [10,15,10],\n",
    "    [-1,-1,-1],\n",
    "    [10,0,10]\n",
    "]\n",
    "\n",
    "fullSolutionDP(A)[0],  solvePathsProblem(A)"
   ]
  }
 ],
 "metadata": {
  "kernelspec": {
   "display_name": "Python 3",
   "language": "python",
   "name": "python3"
  },
  "language_info": {
   "codemirror_mode": {
    "name": "ipython",
    "version": 3
   },
   "file_extension": ".py",
   "mimetype": "text/x-python",
   "name": "python",
   "nbconvert_exporter": "python",
   "pygments_lexer": "ipython3",
   "version": "3.10.11"
  }
 },
 "nbformat": 4,
 "nbformat_minor": 2
}
