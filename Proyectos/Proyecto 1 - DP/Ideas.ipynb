{
 "cells": [
  {
   "cell_type": "markdown",
   "metadata": {},
   "source": [
    "# Brainstorm Proyecto 1 - DP"
   ]
  },
  {
   "cell_type": "markdown",
   "metadata": {},
   "source": [
    "Se plantean dos posibles enfoques. \n",
    "\n",
    "1. Uno donde se parametrizan en una recurrencia el movimiento de Indiana, Marion y Salah (Dicha recurrencia será denomoniada $P$)\n",
    "2. Un conjunto de tres recurrencias que modelan el comportamiento de cada personaje y que son invocadas de acuerdo a distintas prioridades de recorrido para cada una de las personas.\n",
    "\n",
    "Antes de eso, se definen las siguientes entradas y salidas\n",
    "\n",
    "| E/S | Nombre | Tipo | Descripción |\n",
    "|-|-|-|-|\n",
    "|E| A | Array[0,R)[0,C) of **int** | Matriz con la representación de la cantidad de reliquias y maldiciones de la pirámide|\n",
    "|S| s | **int** | Cantidad máxima de reliquias que pueden obtener los tres personajes |"
   ]
  },
  {
   "cell_type": "markdown",
   "metadata": {},
   "source": [
    "## Enfoque de única recurrencia"
   ]
  },
  {
   "cell_type": "markdown",
   "metadata": {},
   "source": [
    "Tanto Marion, como Indiana y Salah pueden moverse en un espacio de $C \\times \\left\\lfloor \\dfrac{R}{2} \\right\\rfloor$. Por consiguiente, una estructura que pueda almacenar la cantidad maxima de reliquias obtenidas para cada combinacion de posiciones deberá tener una forma de $C \\times C \\times C \\times \\left\\lfloor \\dfrac{R}{2} \\right\\rfloor$"
   ]
  },
  {
   "cell_type": "markdown",
   "metadata": {},
   "source": [
    "Para este enfoque tendremos en cuenta los siguientes puntos:\n",
    "\n",
    "1. Todas las casillas invalidas deberán tener un valor de $-\\infty$ para aquellas configuraciones invalidas (Ejemplo: Aquellas casillas con maldiciones y aquellas que en la primera y ultima fila que no correspondan al punto de partida de los personajes) \n",
    "2. La casilla inicial de cada personaje debe iniciar con cero reliquias.\n",
    "3. Los demás casos recursivos representan todas las cobinaciones posibles de los movimientos de los personajes"
   ]
  },
  {
   "cell_type": "markdown",
   "metadata": {},
   "source": [
    "$$ P(i,m,s,r) = \\left\\{\n",
    "    \\begin{array}{}\n",
    "        0 & & \\text{si} & & r = 0 \\wedge i=0 \\wedge m=C-1 \\wedge s = \\left\\lfloor \\frac{C}{2} \\right\\rfloor \\\\\n",
    "        -\\infty & & \\text{si} & & A[r][i]=-1 \\vee A[r][m]=-1 \\vee A[r][s]=-1 \\vee \\left(r=0 \\wedge i>0  \\wedge m < C-1 \\wedge s \\neq \\left\\lfloor \\frac{C}{2} \\right\\rfloor \\right)\\\\\n",
    "        ... \n",
    "    \\end{array}\n",
    "    \\right.\n",
    "$$"
   ]
  },
  {
   "cell_type": "markdown",
   "metadata": {},
   "source": [
    "**¿Que problema tiene?** Los indices i,m,s van los tres desde $0$ hasta $C-1$ y el indice r va desde $0$ hasta $\\left\\lfloor \\dfrac{R}{2} \\right\\rfloor$. Esto significa que la complejidad tanto temporal como espacial de este algoritmo será de orden $O(C^3 R)$. Lo cual se convierte en un problema muy costoso computacionalmente hablando"
   ]
  },
  {
   "cell_type": "markdown",
   "metadata": {},
   "source": [
    "## Enfoque de muchas recurrencias"
   ]
  },
  {
   "cell_type": "markdown",
   "metadata": {},
   "source": [
    "Para este enfoque, diseñaremos una recurrencia para cada personaje. $I$ estara asociada a Indiana, $M$ estara asociada a Marion y $S$ estara asociada a Salah"
   ]
  },
  {
   "cell_type": "markdown",
   "metadata": {},
   "source": [
    "$$ I(r,i) = \\left\\{\n",
    "    \\begin{array}{}\n",
    "        0 & & \\text{si} & & r=0 \\wedge i = 0 \\\\\n",
    "        -\\infty & & \\text{si} & &  A[r][i] = -1 \\vee (r=0 \\wedge i > 0) \\\\\n",
    "        \\max (I(r-1,i),I(r-1,i+1)) + A[r][i] & & \\text{si} & & r>0 \\wedge i = 0 \\\\\n",
    "        \\max (I(r-1,i),I(r-1,i-1)) + A[r][i] & & \\text{si} & & r>0 \\wedge i = C-1 \\\\\n",
    "        \\max (I(r-1,i),I(r-1,i-1),I(r-1,i+1)) + A[r][i] & & \\text{si} & & r>0 \\wedge 0 < i < C-1 \\\\\n",
    "    \\end{array}\n",
    "    \\right.\n",
    "$$"
   ]
  },
  {
   "cell_type": "markdown",
   "metadata": {},
   "source": [
    "$$ M(r,i) = \\left\\{\n",
    "    \\begin{array}{}\n",
    "        0 & & \\text{si} & & r=0 \\wedge i = C-1 \\\\\n",
    "        -\\infty & & \\text{si} & &  A[r][i] = -1 \\vee (r=0 \\wedge i < C-1) \\\\\n",
    "        \\max (M(r-1,i),M(r-1,i+1)) + A[r][i] & & \\text{si} & & r>0 \\wedge i = 0 \\\\\n",
    "        \\max (M(r-1,i),I(r-1,i-1)) + A[r][i] & & \\text{si} & & r>0 \\wedge i = C-1 \\\\\n",
    "        \\max (M(r-1,i),I(r-1,i-1),M(r-1,i+1)) + A[r][i] & & \\text{si} & & r>0 \\wedge 0 < i < C-1 \\\\\n",
    "    \\end{array}\n",
    "    \\right.\n",
    "$$"
   ]
  },
  {
   "cell_type": "markdown",
   "metadata": {},
   "source": [
    "$$ S(r,i) = \\left\\{\n",
    "    \\begin{array}{}\n",
    "        0 & & \\text{si} & & r= R-1 \\wedge i = \\lfloor \\frac{C}{2} \\rfloor\\\\\n",
    "        -\\infty & & \\text{si} & &  A[r][i] = -1 \\vee (r = R-1 \\wedge i \\neq \\lfloor \\frac{C}{2} \\rfloor) \\\\\n",
    "        \\max(S(r+1,i),S(r+1,i+1)) & & \\text{si} & & r < R-1 \\wedge i = 0 \\\\\n",
    "        \\max(S(r+1,i),S(r+1,i-1)) & & \\text{si} & & r < R-1 \\wedge i = C-1 \\\\\n",
    "        \\max(S(r+1,i),S(r+1,i-1),S(r+1,i+1)) & & \\text{si} & & r < R-1 \\wedge 0 < i < C-1 \\\\\n",
    "    \\end{array}\n",
    "    \\right.\n",
    "$$"
   ]
  },
  {
   "cell_type": "markdown",
   "metadata": {},
   "source": [
    "Probamos los ejemplos definidos en el documento"
   ]
  },
  {
   "cell_type": "code",
   "execution_count": 1,
   "metadata": {},
   "outputs": [
    {
     "name": "stdout",
     "output_type": "stream",
     "text": [
      "Enfoque de varias recurrencias: 62\n",
      "Enfoque de unica recurrencia: 62\n"
     ]
    }
   ],
   "source": [
    "from ProblemaP1Tests import *\n",
    "from FullDP import *\n",
    "\n",
    "A =  [\n",
    "        [0,9,1,10,0],\n",
    "        [-1,5,5,25,5],\n",
    "        [1,5,1,5,7],\n",
    "        [5,5,5,15,2],\n",
    "        [55,3,0,4,1]\n",
    "    ]\n",
    "\n",
    "print(f'Enfoque de varias recurrencias: {solvePathsProblem(A)}')\n",
    "print(f'Enfoque de unica recurrencia: {fullSolutionDP(A)[0]}')"
   ]
  },
  {
   "cell_type": "code",
   "execution_count": 2,
   "metadata": {},
   "outputs": [
    {
     "name": "stdout",
     "output_type": "stream",
     "text": [
      "Enfoque de varias recurrencias: 32\n",
      "Enfoque de unica recurrencia: 32\n"
     ]
    }
   ],
   "source": [
    "from ProblemaP1Tests import *\n",
    "from FullDP import *\n",
    "\n",
    "A =  [\n",
    "        [0,9,1,10,0],\n",
    "        [-1,-1,5,-1,5],\n",
    "        [1,5,1,5,7],\n",
    "        [5,5,5,15,2],\n",
    "        [55,3,0,4,1]\n",
    "    ]\n",
    "\n",
    "print(f'Enfoque de varias recurrencias: {solvePathsProblem(A)}')\n",
    "print(f'Enfoque de unica recurrencia: {fullSolutionDP(A)[0]}')"
   ]
  },
  {
   "cell_type": "markdown",
   "metadata": {},
   "source": [
    "Probamos ejemplos pequeños y verificables"
   ]
  },
  {
   "cell_type": "markdown",
   "metadata": {},
   "source": [
    "Probamos con un caso soluble de 5x5"
   ]
  },
  {
   "cell_type": "code",
   "execution_count": 3,
   "metadata": {},
   "outputs": [
    {
     "name": "stdout",
     "output_type": "stream",
     "text": [
      "Enfoque de varias recurrencias: 37\n",
      "Enfoque de unica recurrencia: 37\n"
     ]
    }
   ],
   "source": [
    "from ProblemaP1Tests import *\n",
    "from FullDP import *\n",
    "\n",
    "A = [\n",
    "        [0,-1,-1,-1,0],\n",
    "        [2,3,-1,5,4],\n",
    "        [1,5,15,2,7],\n",
    "        [-1,1,-1,2,-1],\n",
    "        [-1,-1,0,-1,-1]\n",
    "    ]\n",
    "print(f'Enfoque de varias recurrencias: {solvePathsProblem(A)}')\n",
    "print(f'Enfoque de unica recurrencia: {fullSolutionDP(A)[0]}')"
   ]
  },
  {
   "cell_type": "markdown",
   "metadata": {},
   "source": [
    "Probamos con el caso trivial más pequeño"
   ]
  },
  {
   "cell_type": "code",
   "execution_count": 4,
   "metadata": {},
   "outputs": [
    {
     "name": "stdout",
     "output_type": "stream",
     "text": [
      "Enfoque de varias recurrencias: 0\n",
      "Enfoque de unica recurrencia: 0\n"
     ]
    }
   ],
   "source": [
    "from ProblemaP1Tests import *\n",
    "from FullDP import *\n",
    "\n",
    "A = [\n",
    "        [0,0,0]\n",
    "    ]\n",
    "print(f'Enfoque de varias recurrencias: {solvePathsProblem(A)}')\n",
    "print(f'Enfoque de unica recurrencia: {fullSolutionDP(A)[0]}')"
   ]
  },
  {
   "cell_type": "markdown",
   "metadata": {},
   "source": [
    "Probamos un camino donde ningun personaje salga con vida"
   ]
  },
  {
   "cell_type": "code",
   "execution_count": 5,
   "metadata": {},
   "outputs": [
    {
     "name": "stdout",
     "output_type": "stream",
     "text": [
      "Enfoque de varias recurrencias: -1\n",
      "Enfoque de unica recurrencia: -1\n"
     ]
    }
   ],
   "source": [
    "from ProblemaP1Tests import *\n",
    "from FullDP import *\n",
    "\n",
    "A = [\n",
    "        [0,-1,-1,-1,0],\n",
    "        [-1,-1,-1,-1,-1],\n",
    "        [1,5,15,2,7],\n",
    "        [-1,-1,-1,-1,-1],\n",
    "        [-1,-1,0,-1,-1]\n",
    "    ]\n",
    "\n",
    "print(f'Enfoque de varias recurrencias: {solvePathsProblem(A)}')\n",
    "print(f'Enfoque de unica recurrencia: {fullSolutionDP(A)[0]}')"
   ]
  },
  {
   "cell_type": "markdown",
   "metadata": {},
   "source": [
    "Probamos el rendimiento de la solución"
   ]
  },
  {
   "cell_type": "code",
   "execution_count": 137,
   "metadata": {},
   "outputs": [],
   "source": [
    "import random\n",
    "from ProblemaP1Tests import *\n",
    "from FullDP import *\n",
    "\n",
    "def generar_matriz_aleatoria_impar(min_lado=3, max_lado=200):\n",
    "    # Asegurarse de que el mínimo y máximo son impares y están en el rango correcto\n",
    "    min_lado = min_lado if min_lado % 2 != 0 else min_lado + 1\n",
    "    max_lado = max_lado if max_lado % 2 != 0 else max_lado - 1\n",
    "    \n",
    "    # Generar un tamaño impar aleatorio entre min_lado y max_lado\n",
    "    a = random.choice(range(min_lado, max_lado + 1, 2))\n",
    "    b = random.choice(range(min_lado, max_lado + 1, 2))\n",
    "    \n",
    "    # Crear la matriz con valores aleatorios (-1 o entre 1 y 1000)\n",
    "    m = [[random.choice([-1, random.randint(1, 1000)]) for _ in range(b)] for _ in range(a)]\n",
    "    \n",
    "    m[0][0] = 0                       # Esquina superior izquierda\n",
    "    m[0][b-1] = 0                     # Esquina superior derecha\n",
    "    m[a-1][b//2] = 0                  # Centro de la última fila\n",
    "    \n",
    "    return m"
   ]
  },
  {
   "cell_type": "code",
   "execution_count": 7,
   "metadata": {},
   "outputs": [],
   "source": [
    "matrices = [generar_matriz_aleatoria_impar() for _ in range(100)]"
   ]
  },
  {
   "cell_type": "code",
   "execution_count": 8,
   "metadata": {},
   "outputs": [
    {
     "name": "stdout",
     "output_type": "stream",
     "text": [
      "5.07 s ± 342 ms per loop (mean ± std. dev. of 7 runs, 1 loop each)\n"
     ]
    }
   ],
   "source": [
    "%%timeit\n",
    "for m in matrices:\n",
    "    solvePathsProblem(m)"
   ]
  },
  {
   "cell_type": "markdown",
   "metadata": {},
   "source": [
    "Probamos el rendimiento con matrices del tamaño más grande posible"
   ]
  },
  {
   "cell_type": "code",
   "execution_count": 9,
   "metadata": {},
   "outputs": [],
   "source": [
    "matrices = [generar_matriz_aleatoria_impar(min_lado=199) for _ in range(100)]"
   ]
  },
  {
   "cell_type": "code",
   "execution_count": 10,
   "metadata": {},
   "outputs": [
    {
     "name": "stdout",
     "output_type": "stream",
     "text": [
      "18.5 s ± 2.13 s per loop (mean ± std. dev. of 7 runs, 1 loop each)\n"
     ]
    }
   ],
   "source": [
    "%%timeit\n",
    "for m in matrices:\n",
    "    solvePathsProblem(m)"
   ]
  },
  {
   "cell_type": "markdown",
   "metadata": {},
   "source": [
    "Probamos la entrada y salida estandar"
   ]
  },
  {
   "cell_type": "code",
   "execution_count": 11,
   "metadata": {},
   "outputs": [
    {
     "name": "stdout",
     "output_type": "stream",
     "text": [
      "2\n",
      "5 5\n",
      "0 9 1 10 0\n",
      "-1 5 5 25 5\n",
      "1 5 1 5 7\n",
      "5 5 5 15 2\n",
      "55 3 0 4 1\n",
      "5 5\n",
      "0 9 1 10 0\n",
      "-1 -1 5 -1 5\n",
      "1 5 1 5 7\n",
      "5 5 5 15 2\n",
      "55 3 0 4 1\n"
     ]
    }
   ],
   "source": [
    "filename = 'P1.in'\n",
    "with open(filename, 'r') as file:\n",
    "    content = file.read()\n",
    "print(content)"
   ]
  },
  {
   "cell_type": "code",
   "execution_count": 12,
   "metadata": {},
   "outputs": [],
   "source": [
    "!python ProblemaP1.py < P1.in > P1_python.out"
   ]
  },
  {
   "cell_type": "code",
   "execution_count": 13,
   "metadata": {},
   "outputs": [
    {
     "name": "stdout",
     "output_type": "stream",
     "text": [
      "62\n",
      "32\n",
      "\n"
     ]
    }
   ],
   "source": [
    "filename = 'P1_python.out'\n",
    "with open(filename, 'r') as file:\n",
    "    content = file.read()\n",
    "print(content)"
   ]
  },
  {
   "cell_type": "markdown",
   "metadata": {},
   "source": [
    "Verificamos la solucion usando ejemplos no tan grandes aleatorios usando en comparativa la recurrencia completa"
   ]
  },
  {
   "cell_type": "code",
   "execution_count": 138,
   "metadata": {},
   "outputs": [
    {
     "name": "stdout",
     "output_type": "stream",
     "text": [
      "Differences found\n"
     ]
    }
   ],
   "source": [
    "n = 150\n",
    "diff = []\n",
    "matrices = [generar_matriz_aleatoria_impar(max_lado=5) for _ in range(n)]\n",
    "for m in matrices:\n",
    "    n1 = solvePathsProblem(m)\n",
    "    n2 = fullSolutionDP(m)[0]\n",
    "    if(n1!=n2):\n",
    "        print('Differences found')\n",
    "        diff.append(m)"
   ]
  },
  {
   "cell_type": "code",
   "execution_count": 140,
   "metadata": {},
   "outputs": [
    {
     "name": "stdout",
     "output_type": "stream",
     "text": [
      "[0, 784, 0]\n",
      "[-1, 941, 695]\n",
      "[236, 319, 478]\n",
      "[-1, -1, 150]\n",
      "[-1, 0, 154]\n"
     ]
    }
   ],
   "source": [
    "for row in diff[0]:\n",
    "    print(row)"
   ]
  },
  {
   "cell_type": "code",
   "execution_count": 150,
   "metadata": {},
   "outputs": [
    {
     "data": {
      "text/plain": [
       "(2819, 2583)"
      ]
     },
     "execution_count": 150,
     "metadata": {},
     "output_type": "execute_result"
    }
   ],
   "source": [
    "from ProblemaP1Tests import *\n",
    "from FullDP import *\n",
    "\n",
    "A = [[0, 784, 0],\n",
    "[-1, 941, 695],\n",
    "[236, 319, 478],\n",
    "[-1, -1, 150],\n",
    "[-1, 0, 154]]\n",
    "\n",
    "\n",
    "fullSolutionDP(A)[0] , solvePathsProblem(A)"
   ]
  },
  {
   "cell_type": "code",
   "execution_count": 152,
   "metadata": {},
   "outputs": [
    {
     "name": "stdout",
     "output_type": "stream",
     "text": [
      "[0, 784, 0]\n",
      "[-1, 941, 695]\n",
      "[236, 319, 478]\n",
      "[-1, -1, 150]\n",
      "[-1, 0, 154]\n"
     ]
    }
   ],
   "source": [
    "for row in A: print(row)"
   ]
  },
  {
   "cell_type": "markdown",
   "metadata": {},
   "source": [
    "Dado que se identifico un contraejemplo para el metodo, se utilizara unica y exclusivamente la solución de programación dinamica pura. Adicionalmente se implementara en Java para contrarrestar la ineficiencia de las listas dinamicas de Python, se implementara en Java usando arreglos"
   ]
  },
  {
   "cell_type": "code",
   "execution_count": 41,
   "metadata": {},
   "outputs": [
    {
     "name": "stdout",
     "output_type": "stream",
     "text": [
      "2\n",
      "5 5\n",
      "0 9 1 10 0\n",
      "-1 5 5 25 5\n",
      "1 5 1 5 7\n",
      "5 5 5 15 2\n",
      "55 3 0 4 1\n",
      "5 5\n",
      "0 9 1 10 0\n",
      "-1 -1 5 -1 5\n",
      "1 5 1 5 7\n",
      "5 5 5 15 2\n",
      "55 3 0 4 1\n"
     ]
    }
   ],
   "source": [
    "filename = 'P1.in'\n",
    "with open(filename, 'r') as file:\n",
    "    content = file.read()\n",
    "print(content)"
   ]
  },
  {
   "cell_type": "code",
   "execution_count": 42,
   "metadata": {},
   "outputs": [],
   "source": [
    "!java ProblemaP1.java < P1.in > P1_java.out"
   ]
  },
  {
   "cell_type": "code",
   "execution_count": 43,
   "metadata": {},
   "outputs": [
    {
     "name": "stdout",
     "output_type": "stream",
     "text": [
      "62\n",
      "32\n",
      "\n"
     ]
    }
   ],
   "source": [
    "filename = 'P1_java.out'\n",
    "with open(filename, 'r') as file:\n",
    "    content = file.read()\n",
    "print(content)"
   ]
  },
  {
   "cell_type": "code",
   "execution_count": 50,
   "metadata": {},
   "outputs": [
    {
     "name": "stdout",
     "output_type": "stream",
     "text": [
      "62\n",
      "32\n",
      "0\n",
      "0\n",
      "-1\n",
      "2819\n"
     ]
    }
   ],
   "source": [
    "!java ProblemaP1.java < P1_costume.in"
   ]
  },
  {
   "cell_type": "markdown",
   "metadata": {},
   "source": [
    "Probamos el rendimiento general del algoritmo con numerosos casos del tamaño más grande posible"
   ]
  },
  {
   "cell_type": "code",
   "execution_count": 45,
   "metadata": {},
   "outputs": [],
   "source": [
    "import random\n",
    "\n",
    "def generar_matriz_aleatoria_impar(min_lado=3, max_lado=200):\n",
    "    # Asegurarse de que el mínimo y máximo son impares y están en el rango correcto\n",
    "    min_lado = min_lado if min_lado % 2 != 0 else min_lado + 1\n",
    "    max_lado = max_lado if max_lado % 2 != 0 else max_lado - 1\n",
    "    \n",
    "    # Generar un tamaño impar aleatorio entre min_lado y max_lado\n",
    "    a = random.choice(range(min_lado, max_lado + 1, 2))\n",
    "    b = random.choice(range(min_lado, max_lado + 1, 2))\n",
    "    \n",
    "    # Crear la matriz con valores aleatorios (-1 o entre 1 y 1000)\n",
    "    m = [[random.choice([-1, random.randint(1, 1000), random.randint(1, 1000), random.randint(1, 1000)]) for _ in range(b)] for _ in range(a)]\n",
    "    \n",
    "    m[0][0] = 0                       # Esquina superior izquierda\n",
    "    m[0][b-1] = 0                     # Esquina superior derecha\n",
    "    m[a-1][b//2] = 0                  # Centro de la última fila\n",
    "    \n",
    "    return m\n",
    "\n",
    "def save_matrix_to_file(matrixes, filename):\n",
    "    with open(filename, 'w') as file:\n",
    "        n = len(matrixes)\n",
    "        file.write(f\"{n}\\n\")\n",
    "        for matrix in matrixes:\n",
    "            rows = len(matrix)\n",
    "            cols = len(matrix[0]) if rows > 0 else 0\n",
    "            file.write(f\"{rows} {cols}\\n\")\n",
    "            for row in matrix:\n",
    "                file.write(\" \".join(map(str, row)) + \"\\n\")"
   ]
  },
  {
   "cell_type": "code",
   "execution_count": 46,
   "metadata": {},
   "outputs": [],
   "source": [
    "n = 100\n",
    "m = [generar_matriz_aleatoria_impar(min_lado=199) for _ in range(n)]\n",
    "save_matrix_to_file(m, 'P1_BigInput.in')"
   ]
  },
  {
   "cell_type": "code",
   "execution_count": 47,
   "metadata": {},
   "outputs": [
    {
     "name": "stdout",
     "output_type": "stream",
     "text": [
      "2.22 s ± 41.3 ms per loop (mean ± std. dev. of 7 runs, 1 loop each)\n"
     ]
    }
   ],
   "source": [
    "%%timeit\n",
    "\n",
    "!java ProblemaP1.java < P1_BigInput.in > P1_BigInputjava.out"
   ]
  },
  {
   "cell_type": "markdown",
   "metadata": {},
   "source": [
    "Probamos un conjunto de 500 entradas aleatorias y revisamos el desempeño obtenido"
   ]
  },
  {
   "cell_type": "code",
   "execution_count": 48,
   "metadata": {},
   "outputs": [],
   "source": [
    "n = 500\n",
    "m = [generar_matriz_aleatoria_impar() for _ in range(n)]\n",
    "save_matrix_to_file(m, 'P1_RandomPerformance.in')"
   ]
  },
  {
   "cell_type": "code",
   "execution_count": 49,
   "metadata": {},
   "outputs": [
    {
     "name": "stdout",
     "output_type": "stream",
     "text": [
      "7.94 s ± 133 ms per loop (mean ± std. dev. of 7 runs, 1 loop each)\n"
     ]
    }
   ],
   "source": [
    "%%timeit\n",
    "\n",
    "!java ProblemaP1.java < P1_RandomPerformance.in > P1_RandomPerformancejava.out"
   ]
  }
 ],
 "metadata": {
  "kernelspec": {
   "display_name": "Python 3",
   "language": "python",
   "name": "python3"
  },
  "language_info": {
   "codemirror_mode": {
    "name": "ipython",
    "version": 3
   },
   "file_extension": ".py",
   "mimetype": "text/x-python",
   "name": "python",
   "nbconvert_exporter": "python",
   "pygments_lexer": "ipython3",
   "version": "3.11.9"
  }
 },
 "nbformat": 4,
 "nbformat_minor": 2
}
