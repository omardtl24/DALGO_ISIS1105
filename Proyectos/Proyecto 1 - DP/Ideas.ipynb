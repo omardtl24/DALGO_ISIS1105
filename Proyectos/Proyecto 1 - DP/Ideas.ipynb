{
 "cells": [
  {
   "cell_type": "markdown",
   "metadata": {},
   "source": [
    "# Brainstorm Proyecto 1 - DP"
   ]
  },
  {
   "cell_type": "markdown",
   "metadata": {},
   "source": [
    "Se plantean dos posibles enfoques. \n",
    "\n",
    "1. Uno donde se parametrizan en una recurrencia el movimiento de Indiana, Marion y Salah (Dicha recurrencia será denomoniada $P$)\n",
    "2. Un conjunto de tres recurrencias que modelan el comportamiento de cada personaje y que son invocadas de acuerdo a distintas prioridades de recorrido para cada una de las personas.\n",
    "\n",
    "Antes de eso, se definen las siguientes entradas y salidas\n",
    "\n",
    "| E/S | Nombre | Tipo | Descripción |\n",
    "|-|-|-|-|\n",
    "|E| A | Array[0,R)[0,C) of **int** | Matriz con la representación de la cantidad de reliquias y maldiciones de la pirámide|\n",
    "|S| s | **int** | Cantidad máxima de reliquias que pueden obtener los tres personajes |"
   ]
  },
  {
   "cell_type": "markdown",
   "metadata": {},
   "source": [
    "## Enfoque de única recurrencia"
   ]
  },
  {
   "cell_type": "markdown",
   "metadata": {},
   "source": [
    "Tanto Marion, como Indiana y Salah pueden moverse en un espacio de $C \\times \\left\\lfloor \\dfrac{R}{2} \\right\\rfloor$. Por consiguiente, una estructura que pueda almacenar la cantidad maxima de reliquias obtenidas para cada combinacion de posiciones deberá tener una forma de $C \\times C \\times C \\times \\left\\lfloor \\dfrac{R}{2} \\right\\rfloor$"
   ]
  },
  {
   "cell_type": "markdown",
   "metadata": {},
   "source": [
    "Para este enfoque tendremos en cuenta los siguientes puntos:\n",
    "\n",
    "1. Todas las casillas invalidas deberán tener un valor de $-\\infty$ para aquellas configuraciones invalidas (Ejemplo: Aquellas casillas con maldiciones y aquellas que en la primera y ultima fila que no correspondan al punto de partida de los personajes) \n",
    "2. La casilla inicial de cada personaje debe iniciar con cero reliquias.\n",
    "3. Los demás casos recursivos representan todas las cobinaciones posibles de los movimientos de los personajes"
   ]
  },
  {
   "cell_type": "markdown",
   "metadata": {},
   "source": [
    "$$ P(i,m,s,r) = \\left\\{\n",
    "    \\begin{array}{}\n",
    "        0 & & \\text{si} & & r = 0 \\wedge i=0 \\wedge m=C-1 \\wedge s = \\left\\lfloor \\frac{C}{2} \\right\\rfloor \\\\\n",
    "        -\\infty & & \\text{si} & & A[r][i]=-1 \\vee A[r][m]=-1 \\vee A[r][s]=-1 \\vee \\left(r=0 \\wedge i>0  \\wedge m < C-1 \\wedge s \\neq \\left\\lfloor \\frac{C}{2} \\right\\rfloor \\right)\\\\\n",
    "        ... \n",
    "    \\end{array}\n",
    "    \\right.\n",
    "$$"
   ]
  },
  {
   "cell_type": "markdown",
   "metadata": {},
   "source": [
    "**¿Que problema tiene?** Los indices i,m,s van los tres desde $0$ hasta $C-1$ y el indice r va desde $0$ hasta $\\left\\lfloor \\dfrac{R}{2} \\right\\rfloor$. Esto significa que la complejidad tanto temporal como espacial de este algoritmo será de orden $O(C^3 R)$. Lo cual se convierte en un problema muy costoso computacionalmente hablando"
   ]
  },
  {
   "cell_type": "markdown",
   "metadata": {},
   "source": [
    "## Enfoque de muchas recurrencias"
   ]
  },
  {
   "cell_type": "markdown",
   "metadata": {},
   "source": [
    "Para este enfoque, diseñaremos una recurrencia para cada personaje. $I$ estara asociada a Indiana, $M$ estara asociada a Marion y $S$ estara asociada a Salah"
   ]
  },
  {
   "cell_type": "markdown",
   "metadata": {},
   "source": [
    "$$ I(r,i) = \\left\\{\n",
    "    \\begin{array}{}\n",
    "        0 & & \\text{si} & & r=0 \\wedge i = 0 \\\\\n",
    "        -\\infty & & \\text{si} & &  A[r][i] = -1 \\vee (r=0 \\wedge i > 0) \\\\\n",
    "        \\max (I(r-1,i),I(r-1,i+1)) + A[r][i] & & \\text{si} & & r>0 \\wedge i = 0 \\\\\n",
    "        \\max (I(r-1,i),I(r-1,i-1)) + A[r][i] & & \\text{si} & & r>0 \\wedge i = C-1 \\\\\n",
    "        \\max (I(r-1,i),I(r-1,i-1),I(r-1,i+1)) + A[r][i] & & \\text{si} & & r>0 \\wedge 0 < i < C-1 \\\\\n",
    "    \\end{array}\n",
    "    \\right.\n",
    "$$"
   ]
  },
  {
   "cell_type": "markdown",
   "metadata": {},
   "source": [
    "$$ M(r,i) = \\left\\{\n",
    "    \\begin{array}{}\n",
    "        0 & & \\text{si} & & r=0 \\wedge i = C-1 \\\\\n",
    "        -\\infty & & \\text{si} & &  A[r][i] = -1 \\vee (r=0 \\wedge i < C-1) \\\\\n",
    "        \\max (M(r-1,i),M(r-1,i+1)) + A[r][i] & & \\text{si} & & r>0 \\wedge i = 0 \\\\\n",
    "        \\max (M(r-1,i),I(r-1,i-1)) + A[r][i] & & \\text{si} & & r>0 \\wedge i = C-1 \\\\\n",
    "        \\max (M(r-1,i),I(r-1,i-1),M(r-1,i+1)) + A[r][i] & & \\text{si} & & r>0 \\wedge 0 < i < C-1 \\\\\n",
    "    \\end{array}\n",
    "    \\right.\n",
    "$$"
   ]
  },
  {
   "cell_type": "markdown",
   "metadata": {},
   "source": [
    "$$ S(r,i) = \\left\\{\n",
    "    \\begin{array}{}\n",
    "        0 & & \\text{si} & & r= R-1 \\wedge i = \\lfloor \\frac{C}{2} \\rfloor\\\\\n",
    "        -\\infty & & \\text{si} & &  A[r][i] = -1 \\vee (r = R-1 \\wedge i \\neq \\lfloor \\frac{C}{2} \\rfloor) \\\\\n",
    "        \\max(S(r+1,i),S(r+1,i+1)) & & \\text{si} & & r < R-1 \\wedge i = 0 \\\\\n",
    "        \\max(S(r+1,i),S(r+1,i-1)) & & \\text{si} & & r < R-1 \\wedge i = C-1 \\\\\n",
    "        \\max(S(r+1,i),S(r+1,i-1),S(r+1,i+1)) & & \\text{si} & & r < R-1 \\wedge 0 < i < C-1 \\\\\n",
    "    \\end{array}\n",
    "    \\right.\n",
    "$$"
   ]
  },
  {
   "cell_type": "code",
   "execution_count": 83,
   "metadata": {},
   "outputs": [],
   "source": [
    "import numpy as np\n",
    "\n",
    "def IndianaPath(A):\n",
    "    R,C = A.shape\n",
    "    I = np.zeros(shape=(R,C),dtype=int)\n",
    "    inf = int(1e5)\n",
    "    for r in range(0,R):\n",
    "        for i in range(0,C):\n",
    "            if r==0 and i==0: I[r,i] = 0\n",
    "            elif A[r][i]==-1 or (r==0 and i>0): I[r,i] = -inf\n",
    "            elif r>0 and i==0: I[r,i] = max(I[r-1,i],I[r-1,i+1]) + A[r][i]\n",
    "            elif r>0 and i==C-1: I[r,i] = max(I[r-1,i],I[r-1,i-1]) + A[r][i]\n",
    "            elif r>0 and 0<i<C-1: I[r,i] = max(I[r-1,i],I[r-1,i-1],I[r-1,i+1]) + A[r][i]\n",
    "    row = int(np.floor(R/2))\n",
    "    max_ , c = I[row,0], 0\n",
    "    for column in range(1,C):\n",
    "        if I[row,column] > max_:\n",
    "            max_ = I[row,column]\n",
    "            c = column\n",
    "    if max_ < 0: return 0 , A\n",
    "    #Backtrack\n",
    "    r = row\n",
    "    i = c \n",
    "    while(r!=0):\n",
    "        k = A[r][i]\n",
    "        A[r][i] = 0\n",
    "        if I[r-1,i] + k != I[r,i]:\n",
    "            moves = []\n",
    "            if i>0:\n",
    "                moves.append((r-1,i-1))\n",
    "            if i<C-1:\n",
    "                moves.append((r-1,i+1))\n",
    "            for row,column in moves:\n",
    "                if I[row,column] + k == I[r,i]:\n",
    "                    i = column\n",
    "                    break\n",
    "        r-=1\n",
    "    return max_, A"
   ]
  },
  {
   "cell_type": "code",
   "execution_count": 84,
   "metadata": {},
   "outputs": [],
   "source": [
    "import numpy as np\n",
    "\n",
    "def MarionPath(A):\n",
    "    R,C = A.shape\n",
    "    M = np.zeros(shape=(R,C),dtype=int)\n",
    "    inf = int(1e6)\n",
    "    for r in range(0,R):\n",
    "        for i in range(0,C):\n",
    "            if r==0 and i==C-1: M[r,i] = 0\n",
    "            elif A[r][i]==-1 or (r==0 and i<C-1): M[r,i] = -inf\n",
    "            elif r>0 and i==0: M[r,i] = max(M[r-1,i],M[r-1,i+1]) + A[r][i]\n",
    "            elif r>0 and i==C-1: M[r,i] = max(M[r-1,i],M[r-1,i-1]) + A[r][i]\n",
    "            elif r>0 and 0<i<C-1: M[r,i] = max(M[r-1,i],M[r-1,i-1],M[r-1,i+1]) + A[r][i]\n",
    "    row = int(np.floor(R/2))\n",
    "    max_ , c = M[row,0], 0\n",
    "    for column in range(1,C):\n",
    "        if M[row,column] > max_:\n",
    "            max_ = M[row,column]\n",
    "            c = column\n",
    "    if max_ < 0: return 0 , A\n",
    "    #Backtrack\n",
    "    r = row\n",
    "    i = c \n",
    "    while(r!=0):\n",
    "        k = A[r][i]\n",
    "        A[r][i] = 0\n",
    "        if M[r-1,i] + k != M[r,i]:\n",
    "            moves = []\n",
    "            if i>0:\n",
    "                moves.append((r-1,i-1))\n",
    "            if i<C-1:\n",
    "                moves.append((r-1,i+1))\n",
    "            for row,column in moves:\n",
    "                if M[row,column] + k == M[r,i]:\n",
    "                    i = column\n",
    "                    break\n",
    "        r-=1\n",
    "    return max_, A"
   ]
  },
  {
   "cell_type": "code",
   "execution_count": 85,
   "metadata": {},
   "outputs": [],
   "source": [
    "import numpy as np\n",
    "\n",
    "def SalahPath(A):\n",
    "    R,C = A.shape\n",
    "    S = np.zeros(shape=(R,C),dtype=int)\n",
    "    inf = int(1e6)\n",
    "    for r in range(R-1,-1,-1):\n",
    "        for i in range(C-1,-1,-1):\n",
    "            if r==R-1 and i==int(C/2): S[r,i] = 0\n",
    "            elif A[r][i]==-1 or (r==R-1 and i<C-1): S[r,i] = -inf\n",
    "            elif r<R-1 and i==0: S[r,i] = max(S[r+1,i],S[r+1,i+1]) + A[r][i]\n",
    "            elif r<R-1 and i==C-1: S[r,i] = max(S[r+1,i],S[r+1,i-1]) + A[r][i]\n",
    "            elif r<R-1 and 0<i<C-1: S[r,i] = max(S[r+1,i],S[r+1,i-1],S[r+1,i+1]) + A[r][i]\n",
    "    r = int(R/2)\n",
    "    max_ , c = S[r,0], 0\n",
    "    for column in range(1,C):\n",
    "        if S[r,column] > max_:\n",
    "            max_ = S[r,column]\n",
    "            c = column\n",
    "    if max_ < 0: return 0 , A\n",
    "    #Backtrack\n",
    "    i = c \n",
    "    while(r!=R-1):\n",
    "        k = A[r][i]\n",
    "        A[r][i] = 0\n",
    "        if S[r+1,i] + k != S[r,i]:\n",
    "            moves = []\n",
    "            if i>0:\n",
    "                moves.append((r+1,i-1))\n",
    "            if i<C-1:\n",
    "                moves.append((r+1,i+1))\n",
    "            for row,column in moves:\n",
    "                if S[row,column] + k == S[r,i]:\n",
    "                    i = column\n",
    "                    break\n",
    "        r+=1\n",
    "    return max_, A"
   ]
  },
  {
   "cell_type": "code",
   "execution_count": 86,
   "metadata": {},
   "outputs": [],
   "source": [
    "def areDisjoint(A_original,A_copies):\n",
    "    if len(A_copies)==1: return True\n",
    "    R,C = A_copies[0].shape\n",
    "    for r in range(1,R-1):\n",
    "        for c in range(0,C):\n",
    "            zeros = 0\n",
    "            for A in A_copies:\n",
    "                if A[r,c]==0 and A_original[r,c]!=0: zeros+=1\n",
    "            if zeros>1: return False\n",
    "    return True\n",
    "\n",
    "def GetMax(A,callables):\n",
    "    n = len(callables)\n",
    "    A_copies = [A.copy() for _ in range(n)]\n",
    "    m = np.zeros(shape=(n,),dtype=int)\n",
    "    for i in range(n):\n",
    "        m[i] , A_copies[i] = callables[i](A_copies[i])\n",
    "    if np.any(m < 0): return float(\"-inf\")\n",
    "    if areDisjoint(A,A_copies):\n",
    "        return np.sum(m)\n",
    "    return max(m[i]+GetMax(A_copies[i],[callables[j] for j in range(n) if j!=i]) for i in range(n))"
   ]
  },
  {
   "cell_type": "code",
   "execution_count": 87,
   "metadata": {},
   "outputs": [],
   "source": [
    "from itertools import permutations\n",
    "\n",
    "def GetMaxPermutations(A,callables):\n",
    "    m = float(\"-inf\")\n",
    "    r = float(\"-inf\")\n",
    "    for c1,c2,c3 in permutations(callables):\n",
    "        A_c = A.copy()\n",
    "        m1 , A_c = c1(A_c)\n",
    "        m2 , A_c = c2(A_c)\n",
    "        m3 , A_c = c3(A_c)\n",
    "        r = m1+m2+m3\n",
    "        if r > m: \n",
    "            m = r\n",
    "    return m"
   ]
  },
  {
   "cell_type": "code",
   "execution_count": 88,
   "metadata": {},
   "outputs": [
    {
     "data": {
      "text/plain": [
       "62"
      ]
     },
     "execution_count": 88,
     "metadata": {},
     "output_type": "execute_result"
    }
   ],
   "source": [
    "import numpy as np\n",
    "\n",
    "A = np.array(\n",
    "    [\n",
    "        [0,9,1,10,0],\n",
    "        [-1,5,5,25,5],\n",
    "        [1,5,1,5,7],\n",
    "        [5,5,5,15,2],\n",
    "        [55,3,0,4,1]\n",
    "    ]\n",
    ")\n",
    "calls = 0\n",
    "GetMax(A,[IndianaPath,MarionPath,SalahPath])"
   ]
  },
  {
   "cell_type": "code",
   "execution_count": 89,
   "metadata": {},
   "outputs": [
    {
     "data": {
      "text/plain": [
       "32"
      ]
     },
     "execution_count": 89,
     "metadata": {},
     "output_type": "execute_result"
    }
   ],
   "source": [
    "A = np.array(\n",
    "    [\n",
    "        [0,9,1,10,0],\n",
    "        [-1,-1,5,-1,5],\n",
    "        [1,5,1,5,7],\n",
    "        [5,5,5,15,2],\n",
    "        [55,3,0,4,1]\n",
    "    ]\n",
    ")\n",
    "calls = 0\n",
    "GetMax(A,[IndianaPath,MarionPath,SalahPath])"
   ]
  },
  {
   "cell_type": "code",
   "execution_count": 90,
   "metadata": {},
   "outputs": [
    {
     "data": {
      "text/plain": [
       "37"
      ]
     },
     "execution_count": 90,
     "metadata": {},
     "output_type": "execute_result"
    }
   ],
   "source": [
    "A = np.array(\n",
    "    [\n",
    "        [0,-1,-1,-1,0],\n",
    "        [2,3,-1,5,4],\n",
    "        [1,5,15,2,7],\n",
    "        [-1,1,-1,2,-1],\n",
    "        [-1,-1,0,-1,-1]\n",
    "    ]\n",
    ")\n",
    "calls = 0\n",
    "GetMax(A,[IndianaPath,MarionPath,SalahPath])"
   ]
  },
  {
   "cell_type": "code",
   "execution_count": 91,
   "metadata": {},
   "outputs": [],
   "source": [
    "import random\n",
    "import numpy as np\n",
    "\n",
    "def generar_matriz_aleatoria_impar(min_lado=3, max_lado=200):\n",
    "    # Asegurarse de que el mínimo y máximo son impares y están en el rango correcto\n",
    "    min_lado = min_lado if min_lado % 2 != 0 else min_lado + 1\n",
    "    max_lado = max_lado if max_lado % 2 != 0 else max_lado - 1\n",
    "    \n",
    "    # Generar un tamaño impar aleatorio entre min_lado y max_lado\n",
    "    a = random.choice(range(min_lado, max_lado + 1, 2))\n",
    "    b = random.choice(range(min_lado, max_lado + 1, 2))\n",
    "    \n",
    "    # Crear la matriz con valores aleatorios (-1 o entre 1 y 1000)\n",
    "    m = np.array([[random.choice([-1, random.randint(1, 1000)]) for _ in range(b)] for _ in range(a)])\n",
    "    \n",
    "    m[0, 0] = 0                       # Esquina superior izquierda\n",
    "    m[0, b-1] = 0                     # Esquina superior derecha\n",
    "    m[a-1, b//2] = 0                  # Centro de la última fila\n",
    "    \n",
    "    return m"
   ]
  },
  {
   "cell_type": "code",
   "execution_count": 92,
   "metadata": {},
   "outputs": [],
   "source": [
    "matrices = [generar_matriz_aleatoria_impar() for _ in range(100)]"
   ]
  },
  {
   "cell_type": "code",
   "execution_count": 93,
   "metadata": {},
   "outputs": [
    {
     "name": "stdout",
     "output_type": "stream",
     "text": [
      "2.72 s ± 8.62 ms per loop (mean ± std. dev. of 7 runs, 1 loop each)\n"
     ]
    }
   ],
   "source": [
    "%%timeit\n",
    "for m in matrices:\n",
    "    GetMax(m,[IndianaPath,MarionPath,SalahPath])"
   ]
  },
  {
   "cell_type": "code",
   "execution_count": 94,
   "metadata": {},
   "outputs": [
    {
     "name": "stdout",
     "output_type": "stream",
     "text": [
      "13.3 s ± 59.9 ms per loop (mean ± std. dev. of 7 runs, 1 loop each)\n"
     ]
    }
   ],
   "source": [
    "%%timeit\n",
    "for m in matrices:\n",
    "    GetMaxPermutations(m,[IndianaPath,MarionPath,SalahPath])"
   ]
  },
  {
   "cell_type": "code",
   "execution_count": 95,
   "metadata": {},
   "outputs": [],
   "source": [
    "matrices = [generar_matriz_aleatoria_impar() for _ in range(100)]\n",
    "for m in matrices:\n",
    "    assert(GetMaxPermutations(m,[IndianaPath,MarionPath,SalahPath]) == GetMax(m,[IndianaPath,MarionPath,SalahPath]))"
   ]
  }
 ],
 "metadata": {
  "kernelspec": {
   "display_name": "Python 3",
   "language": "python",
   "name": "python3"
  },
  "language_info": {
   "codemirror_mode": {
    "name": "ipython",
    "version": 3
   },
   "file_extension": ".py",
   "mimetype": "text/x-python",
   "name": "python",
   "nbconvert_exporter": "python",
   "pygments_lexer": "ipython3",
   "version": "3.11.9"
  }
 },
 "nbformat": 4,
 "nbformat_minor": 2
}
