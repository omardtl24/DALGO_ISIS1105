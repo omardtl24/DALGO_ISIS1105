{
 "cells": [
  {
   "cell_type": "markdown",
   "metadata": {},
   "source": [
    "# Brainstorm Proyecto 1 - DP"
   ]
  },
  {
   "cell_type": "markdown",
   "metadata": {},
   "source": [
    "Se plantean dos posibles enfoques. \n",
    "\n",
    "1. Uno donde se parametrizan en una recurrencia el movimiento de Indiana, Marion y Salah (Dicha recurrencia será denomoniada $P$)\n",
    "2. Un conjunto de tres recurrencias que modelan el comportamiento de cada personaje y que son invocadas de acuerdo a distintas prioridades de recorrido para cada una de las personas.\n",
    "\n",
    "Antes de eso, se definen las siguientes entradas y salidas\n",
    "\n",
    "| E/S | Nombre | Tipo | Descripción |\n",
    "|-|-|-|-|\n",
    "|E| A | Array[0,R)[0,C) of **int** | Matriz con la representación de la cantidad de reliquias y maldiciones de la pirámide|\n",
    "|S| s | **int** | Cantidad máxima de reliquias que pueden obtener los tres personajes |"
   ]
  },
  {
   "cell_type": "markdown",
   "metadata": {},
   "source": [
    "## Enfoque de única recurrencia"
   ]
  },
  {
   "cell_type": "markdown",
   "metadata": {},
   "source": [
    "Tanto Marion, como Indiana y Salah pueden moverse en un espacio de $C \\times \\left\\lfloor \\dfrac{R}{2} \\right\\rfloor$. Por consiguiente, una estructura que pueda almacenar la cantidad maxima de reliquias obtenidas para cada combinacion de posiciones deberá tener una forma de $C \\times C \\times C \\times \\left\\lfloor \\dfrac{R}{2} \\right\\rfloor$"
   ]
  },
  {
   "cell_type": "markdown",
   "metadata": {},
   "source": [
    "Para este enfoque tendremos en cuenta los siguientes puntos:\n",
    "\n",
    "1. Todas las casillas invalidas deberán tener un valor de $-\\infty$ para aquellas configuraciones invalidas (Ejemplo: Aquellas casillas con maldiciones y aquellas que en la primera y ultima fila que no correspondan al punto de partida de los personajes) \n",
    "2. La casilla inicial de cada personaje debe iniciar con cero reliquias.\n",
    "3. Los demás casos recursivos representan todas las cobinaciones posibles de los movimientos de los personajes"
   ]
  },
  {
   "cell_type": "markdown",
   "metadata": {},
   "source": [
    "$$ P(i,m,s,r) = \\left\\{\n",
    "    \\begin{array}{}\n",
    "        0 & & \\text{si} & & r = 0 \\wedge i=0 \\wedge m=C-1 \\wedge s = \\left\\lfloor \\frac{C}{2} \\right\\rfloor \\\\\n",
    "        -\\infty & & \\text{si} & & A[r][i]=-1 \\vee A[r][m]=-1 \\vee A[r][s]=-1 \\vee \\left(r=0 \\wedge i>0  \\wedge m < C-1 \\wedge s \\neq \\left\\lfloor \\frac{C}{2} \\right\\rfloor \\right)\\\\\n",
    "        ... \n",
    "    \\end{array}\n",
    "    \\right.\n",
    "$$"
   ]
  },
  {
   "cell_type": "markdown",
   "metadata": {},
   "source": [
    "**¿Que problema tiene?** Los indices i,m,s van los tres desde $0$ hasta $C-1$ y el indice r va desde $0$ hasta $\\left\\lfloor \\dfrac{R}{2} \\right\\rfloor$. Esto significa que la complejidad tanto temporal como espacial de este algoritmo será de orden $O(C^3 R)$. Lo cual se convierte en un problema muy costoso computacionalmente hablando"
   ]
  },
  {
   "cell_type": "markdown",
   "metadata": {},
   "source": [
    "## Enfoque de muchas recurrencias"
   ]
  },
  {
   "cell_type": "markdown",
   "metadata": {},
   "source": [
    "Para este enfoque, diseñaremos una recurrencia para cada personaje. $I$ estara asociada a Indiana, $M$ estara asociada a Marion y $S$ estara asociada a Salah"
   ]
  },
  {
   "cell_type": "markdown",
   "metadata": {},
   "source": [
    "$$ I(r,i) = \\left\\{\n",
    "    \\begin{array}{}\n",
    "        0 & & \\text{si} & & r=0 \\wedge i = 0 \\\\\n",
    "        -\\infty & & \\text{si} & &  A[r][i] = -1 \\vee (r=0 \\wedge i > 0) \\\\\n",
    "        \\max (I(r-1,i),I(r-1,i+1)) + A[r][i] & & \\text{si} & & r>0 \\wedge i = 0 \\\\\n",
    "        \\max (I(r-1,i),I(r-1,i-1)) + A[r][i] & & \\text{si} & & r>0 \\wedge i = C-1 \\\\\n",
    "        \\max (I(r-1,i),I(r-1,i-1),I(r-1,i+1)) + A[r][i] & & \\text{si} & & r>0 \\wedge 0 < i < C-1 \\\\\n",
    "    \\end{array}\n",
    "    \\right.\n",
    "$$"
   ]
  },
  {
   "cell_type": "markdown",
   "metadata": {},
   "source": [
    "$$ M(r,i) = \\left\\{\n",
    "    \\begin{array}{}\n",
    "        0 & & \\text{si} & & r=0 \\wedge i = C-1 \\\\\n",
    "        -\\infty & & \\text{si} & &  A[r][i] = -1 \\vee (r=0 \\wedge i < C-1) \\\\\n",
    "        \\max (M(r-1,i),M(r-1,i+1)) + A[r][i] & & \\text{si} & & r>0 \\wedge i = 0 \\\\\n",
    "        \\max (M(r-1,i),I(r-1,i-1)) + A[r][i] & & \\text{si} & & r>0 \\wedge i = C-1 \\\\\n",
    "        \\max (M(r-1,i),I(r-1,i-1),M(r-1,i+1)) + A[r][i] & & \\text{si} & & r>0 \\wedge 0 < i < C-1 \\\\\n",
    "    \\end{array}\n",
    "    \\right.\n",
    "$$"
   ]
  },
  {
   "cell_type": "markdown",
   "metadata": {},
   "source": [
    "$$ S(r,i) = \\left\\{\n",
    "    \\begin{array}{}\n",
    "        0 & & \\text{si} & & r= R-1 \\wedge i = \\lfloor \\frac{C}{2} \\rfloor\\\\\n",
    "        -\\infty & & \\text{si} & &  A[r][i] = -1 \\vee (r = R-1 \\wedge i \\neq \\lfloor \\frac{C}{2} \\rfloor) \\\\\n",
    "        \\max(S(r+1,i),S(r+1,i+1)) & & \\text{si} & & r < R-1 \\wedge i = 0 \\\\\n",
    "        \\max(S(r+1,i),S(r+1,i-1)) & & \\text{si} & & r < R-1 \\wedge i = C-1 \\\\\n",
    "        \\max(S(r+1,i),S(r+1,i-1),S(r+1,i+1)) & & \\text{si} & & r < R-1 \\wedge 0 < i < C-1 \\\\\n",
    "    \\end{array}\n",
    "    \\right.\n",
    "$$"
   ]
  },
  {
   "cell_type": "markdown",
   "metadata": {},
   "source": [
    "Probamos los ejemplos definidos en el documento"
   ]
  },
  {
   "cell_type": "code",
   "execution_count": 2,
   "metadata": {},
   "outputs": [
    {
     "name": "stdout",
     "output_type": "stream",
     "text": [
      "Enfoque de varias recurrencias: 62\n",
      "Enfoque de unica recurrencia: 62\n"
     ]
    }
   ],
   "source": [
    "from ProblemaP1Tests import *\n",
    "from FullDP import *\n",
    "\n",
    "A =  [\n",
    "        [0,9,1,10,0],\n",
    "        [-1,5,5,25,5],\n",
    "        [1,5,1,5,7],\n",
    "        [5,5,5,15,2],\n",
    "        [55,3,0,4,1]\n",
    "    ]\n",
    "\n",
    "print(f'Enfoque de varias recurrencias: {solvePathsProblem(A)}')\n",
    "print(f'Enfoque de unica recurrencia: {fullSolutionDP(A)[0]}')"
   ]
  },
  {
   "cell_type": "code",
   "execution_count": 3,
   "metadata": {},
   "outputs": [
    {
     "name": "stdout",
     "output_type": "stream",
     "text": [
      "Enfoque de varias recurrencias: 32\n",
      "Enfoque de unica recurrencia: 32\n"
     ]
    }
   ],
   "source": [
    "from ProblemaP1Tests import *\n",
    "from FullDP import *\n",
    "\n",
    "A =  [\n",
    "        [0,9,1,10,0],\n",
    "        [-1,-1,5,-1,5],\n",
    "        [1,5,1,5,7],\n",
    "        [5,5,5,15,2],\n",
    "        [55,3,0,4,1]\n",
    "    ]\n",
    "\n",
    "print(f'Enfoque de varias recurrencias: {solvePathsProblem(A)}')\n",
    "print(f'Enfoque de unica recurrencia: {fullSolutionDP(A)[0]}')"
   ]
  },
  {
   "cell_type": "markdown",
   "metadata": {},
   "source": [
    "Probamos ejemplos pequeños y verificables"
   ]
  },
  {
   "cell_type": "markdown",
   "metadata": {},
   "source": [
    "Probamos con un caso soluble de 5x5"
   ]
  },
  {
   "cell_type": "code",
   "execution_count": 4,
   "metadata": {},
   "outputs": [
    {
     "name": "stdout",
     "output_type": "stream",
     "text": [
      "Enfoque de varias recurrencias: 37\n",
      "Enfoque de unica recurrencia: 37\n"
     ]
    }
   ],
   "source": [
    "from ProblemaP1Tests import *\n",
    "from FullDP import *\n",
    "\n",
    "A = [\n",
    "        [0,-1,-1,-1,0],\n",
    "        [2,3,-1,5,4],\n",
    "        [1,5,15,2,7],\n",
    "        [-1,1,-1,2,-1],\n",
    "        [-1,-1,0,-1,-1]\n",
    "    ]\n",
    "print(f'Enfoque de varias recurrencias: {solvePathsProblem(A)}')\n",
    "print(f'Enfoque de unica recurrencia: {fullSolutionDP(A)[0]}')"
   ]
  },
  {
   "cell_type": "markdown",
   "metadata": {},
   "source": [
    "Probamos con el caso trivial más pequeño"
   ]
  },
  {
   "cell_type": "code",
   "execution_count": 5,
   "metadata": {},
   "outputs": [
    {
     "name": "stdout",
     "output_type": "stream",
     "text": [
      "Enfoque de varias recurrencias: 0\n",
      "Enfoque de unica recurrencia: 0\n"
     ]
    }
   ],
   "source": [
    "from ProblemaP1Tests import *\n",
    "from FullDP import *\n",
    "\n",
    "A = [\n",
    "        [0,0,0]\n",
    "    ]\n",
    "print(f'Enfoque de varias recurrencias: {solvePathsProblem(A)}')\n",
    "print(f'Enfoque de unica recurrencia: {fullSolutionDP(A)[0]}')"
   ]
  },
  {
   "cell_type": "markdown",
   "metadata": {},
   "source": [
    "Probamos un camino donde ningun personaje salga con vida"
   ]
  },
  {
   "cell_type": "code",
   "execution_count": 6,
   "metadata": {},
   "outputs": [
    {
     "name": "stdout",
     "output_type": "stream",
     "text": [
      "Enfoque de varias recurrencias: -1\n",
      "Enfoque de unica recurrencia: -1\n"
     ]
    }
   ],
   "source": [
    "from ProblemaP1Tests import *\n",
    "from FullDP import *\n",
    "\n",
    "A = [\n",
    "        [0,-1,-1,-1,0],\n",
    "        [-1,-1,-1,-1,-1],\n",
    "        [1,5,15,2,7],\n",
    "        [-1,-1,-1,-1,-1],\n",
    "        [-1,-1,0,-1,-1]\n",
    "    ]\n",
    "\n",
    "print(f'Enfoque de varias recurrencias: {solvePathsProblem(A)}')\n",
    "print(f'Enfoque de unica recurrencia: {fullSolutionDP(A)[0]}')"
   ]
  },
  {
   "cell_type": "markdown",
   "metadata": {},
   "source": [
    "Probamos el rendimiento de la solución"
   ]
  },
  {
   "cell_type": "code",
   "execution_count": 7,
   "metadata": {},
   "outputs": [],
   "source": [
    "import random\n",
    "from ProblemaP1Tests import *\n",
    "from FullDP import *\n",
    "\n",
    "def generar_matriz_aleatoria_impar(min_lado=3, max_lado=200):\n",
    "    # Asegurarse de que el mínimo y máximo son impares y están en el rango correcto\n",
    "    min_lado = min_lado if min_lado % 2 != 0 else min_lado + 1\n",
    "    max_lado = max_lado if max_lado % 2 != 0 else max_lado - 1\n",
    "    \n",
    "    # Generar un tamaño impar aleatorio entre min_lado y max_lado\n",
    "    a = random.choice(range(min_lado, max_lado + 1, 2))\n",
    "    b = random.choice(range(min_lado, max_lado + 1, 2))\n",
    "    \n",
    "    # Crear la matriz con valores aleatorios (-1 o entre 1 y 1000)\n",
    "    m = [[random.choice([-1, random.randint(1, 1000)]) for _ in range(b)] for _ in range(a)]\n",
    "    \n",
    "    m[0][0] = 0                       # Esquina superior izquierda\n",
    "    m[0][b-1] = 0                     # Esquina superior derecha\n",
    "    m[a-1][b//2] = 0                  # Centro de la última fila\n",
    "    \n",
    "    return m"
   ]
  },
  {
   "cell_type": "code",
   "execution_count": 8,
   "metadata": {},
   "outputs": [],
   "source": [
    "matrices = [generar_matriz_aleatoria_impar() for _ in range(100)]"
   ]
  },
  {
   "cell_type": "code",
   "execution_count": 9,
   "metadata": {},
   "outputs": [
    {
     "name": "stdout",
     "output_type": "stream",
     "text": [
      "1.05 s ± 7.75 ms per loop (mean ± std. dev. of 7 runs, 1 loop each)\n"
     ]
    }
   ],
   "source": [
    "%%timeit\n",
    "for m in matrices:\n",
    "    solvePathsProblem(m)"
   ]
  },
  {
   "cell_type": "markdown",
   "metadata": {},
   "source": [
    "Probamos el rendimiento con matrices del tamaño más grande posible"
   ]
  },
  {
   "cell_type": "code",
   "execution_count": 10,
   "metadata": {},
   "outputs": [],
   "source": [
    "matrices = [generar_matriz_aleatoria_impar(min_lado=199) for _ in range(100)]"
   ]
  },
  {
   "cell_type": "code",
   "execution_count": 11,
   "metadata": {},
   "outputs": [
    {
     "name": "stdout",
     "output_type": "stream",
     "text": [
      "3.76 s ± 12.8 ms per loop (mean ± std. dev. of 7 runs, 1 loop each)\n"
     ]
    }
   ],
   "source": [
    "%%timeit\n",
    "for m in matrices:\n",
    "    solvePathsProblem(m)"
   ]
  },
  {
   "cell_type": "markdown",
   "metadata": {},
   "source": [
    "Probamos la entrada y salida estandar"
   ]
  },
  {
   "cell_type": "code",
   "execution_count": 12,
   "metadata": {},
   "outputs": [
    {
     "name": "stdout",
     "output_type": "stream",
     "text": [
      "2\n",
      "5 5\n",
      "0 9 1 10 0\n",
      "-1 5 5 25 5\n",
      "1 5 1 5 7\n",
      "5 5 5 15 2\n",
      "55 3 0 4 1\n",
      "5 5\n",
      "0 9 1 10 0\n",
      "-1 -1 5 -1 5\n",
      "1 5 1 5 7\n",
      "5 5 5 15 2\n",
      "55 3 0 4 1\n"
     ]
    }
   ],
   "source": [
    "filename = 'P1.in'\n",
    "with open(filename, 'r') as file:\n",
    "    content = file.read()\n",
    "print(content)"
   ]
  },
  {
   "cell_type": "code",
   "execution_count": 13,
   "metadata": {},
   "outputs": [],
   "source": [
    "!python ProblemaP1.py < P1.in > P1_python.out"
   ]
  },
  {
   "cell_type": "code",
   "execution_count": 14,
   "metadata": {},
   "outputs": [
    {
     "name": "stdout",
     "output_type": "stream",
     "text": [
      "62\n",
      "32\n",
      "\n"
     ]
    }
   ],
   "source": [
    "filename = 'P1_python.out'\n",
    "with open(filename, 'r') as file:\n",
    "    content = file.read()\n",
    "print(content)"
   ]
  },
  {
   "cell_type": "markdown",
   "metadata": {},
   "source": [
    "Verificamos la solucion usando ejemplos no tan grandes aleatorios usando en comparativa la recurrencia completa"
   ]
  },
  {
   "cell_type": "code",
   "execution_count": 15,
   "metadata": {},
   "outputs": [],
   "source": [
    "matrices = [generar_matriz_aleatoria_impar(max_lado=25) for _ in range(15)]"
   ]
  },
  {
   "cell_type": "code",
   "execution_count": 16,
   "metadata": {},
   "outputs": [
    {
     "name": "stdout",
     "output_type": "stream",
     "text": [
      "3947 -1\n",
      "10285 10844\n"
     ]
    }
   ],
   "source": [
    "diff_res = []\n",
    "Ps = []\n",
    "for m in matrices:\n",
    "    n1 = solvePathsProblem(m)\n",
    "    n2,P = fullSolutionDP(m)\n",
    "    if(n1!=n2): \n",
    "        print(n1,n2)\n",
    "        diff_res.append(m)\n",
    "        Ps.append(P)"
   ]
  },
  {
   "cell_type": "code",
   "execution_count": 57,
   "metadata": {},
   "outputs": [],
   "source": [
    "A = [[0, 482, -1, -1, 277, 147, -1, 571, 159, -1, 0],\n",
    " [-1, -1, -1, -1, 718, -1, -1, -1, -1, 136, 884],\n",
    " [-1, 347, -1, 241, -1, 686, -1, -1, 247, -1, 568],\n",
    " [-1, -1, -1, -1, -1, -1, 638, -1, -1, 985, 753],\n",
    " [-1, -1, 629, 230, -1, 845, 712, 635, -1, 144, -1],\n",
    " [421, -1, 727, -1, 681, -1, 380, 982, -1, 872, 58],\n",
    " [-1, 333, -1, -1, -1, -1, 727, -1, 649, 12, 320],\n",
    " [440, -1, 687, -1, 537, 905, -1, -1, 794, -1, 146],\n",
    " [339, -1, 731, 225, 835, -1, 230, 370, -1, -1, -1],\n",
    " [377, 620, -1, 80, 997, -1, 469, 862, -1, 8, -1],\n",
    " [-1, -1, -1, 361, 794, -1, -1, -1, -1, 359, -1],\n",
    " [-1, 274, 984, 934, 914, -1, -1, -1, -1, -1, 753],\n",
    " [-1, 214, -1, -1, -1, 56, 959, 703, 523, 411, 993],\n",
    " [-1, 816, -1, 428, -1, -1, -1, -1, -1, 766, -1],\n",
    " [566, -1, 571, 636, -1, -1, 333, -1, 81, -1, -1],\n",
    " [194, 499, -1, -1, 709, -1, 857, -1, -1, 65, -1],\n",
    " [862, 343, 889, -1, 520, -1, -1, 950, 727, 579, -1],\n",
    " [-1, 119, 981, 445, 120, -1, 455, -1, 640, -1, 736],\n",
    " [-1, -1, 639, -1, 273, -1, -1, -1, 590, 931, 325],\n",
    " [958, 149, 348, 479, -1, -1, -1, 732, -1, 207, 537],\n",
    " [-1, -1, -1, -1, -1, 0, -1, -1, -1, 907, 185]]\n",
    "\n",
    "#r,P = fullSolutionDP(A)"
   ]
  },
  {
   "cell_type": "code",
   "execution_count": 60,
   "metadata": {},
   "outputs": [
    {
     "data": {
      "text/plain": [
       "(5852,\n",
       " [[0, 482, -1, -1, 277, 147, -1, 571, 159, -1, 0],\n",
       "  [-1, -1, -1, -1, 718, -1, -1, -1, -1, 136, 884],\n",
       "  [-1, 347, -1, 241, -1, 686, -1, -1, 247, -1, 568],\n",
       "  [-1, -1, -1, -1, -1, -1, 638, -1, -1, 985, 753],\n",
       "  [-1, -1, 629, 230, -1, 845, 712, 635, -1, 144, -1],\n",
       "  [421, -1, 727, -1, 681, -1, 380, 982, -1, 872, 58],\n",
       "  [-1, 333, -1, -1, -1, -1, 727, -1, 649, 12, 320],\n",
       "  [440, -1, 687, -1, 537, 905, -1, -1, 794, -1, 146],\n",
       "  [339, -1, 731, 225, 835, -1, 230, 370, -1, -1, -1],\n",
       "  [377, 620, -1, 80, 997, -1, 469, 862, -1, 8, -1],\n",
       "  [-1, -1, -1, 361, 794, -1, -1, -1, -1, 0, -1],\n",
       "  [-1, 274, 984, 934, 914, -1, -1, -1, -1, -1, 0],\n",
       "  [-1, 214, -1, -1, -1, 56, 959, 703, 523, 411, 0],\n",
       "  [-1, 816, -1, 428, -1, -1, -1, -1, -1, 0, -1],\n",
       "  [566, -1, 571, 636, -1, -1, 333, -1, 0, -1, -1],\n",
       "  [194, 499, -1, -1, 709, -1, 857, -1, -1, 0, -1],\n",
       "  [862, 343, 889, -1, 520, -1, -1, 950, 0, 579, -1],\n",
       "  [-1, 119, 981, 445, 120, -1, 455, -1, 0, -1, 736],\n",
       "  [-1, -1, 639, -1, 273, -1, -1, -1, 590, 0, 325],\n",
       "  [958, 149, 348, 479, -1, -1, -1, 732, -1, 207, 0],\n",
       "  [-1, -1, -1, -1, -1, 0, -1, -1, -1, 907, 185]])"
      ]
     },
     "execution_count": 60,
     "metadata": {},
     "output_type": "execute_result"
    }
   ],
   "source": [
    "SalahPath(A)"
   ]
  }
 ],
 "metadata": {
  "kernelspec": {
   "display_name": "Python 3",
   "language": "python",
   "name": "python3"
  },
  "language_info": {
   "codemirror_mode": {
    "name": "ipython",
    "version": 3
   },
   "file_extension": ".py",
   "mimetype": "text/x-python",
   "name": "python",
   "nbconvert_exporter": "python",
   "pygments_lexer": "ipython3",
   "version": "3.11.9"
  }
 },
 "nbformat": 4,
 "nbformat_minor": 2
}
