{
 "cells": [
  {
   "cell_type": "code",
   "execution_count": 33,
   "metadata": {},
   "outputs": [
    {
     "name": "stdout",
     "output_type": "stream",
     "text": [
      "\n",
      "Minimum Cost Matrix using Dijkstra: \n",
      "\n",
      "      |    0    1    2    3    4\n",
      "---------------------------------\n",
      "    0 |    0   90   80   92  119\n",
      "    1 |   15    0   69   48   84\n",
      "    2 |   65   51    0   12   39\n",
      "    3 |   62   48   75    0   36\n",
      "    4 |   26   12   39   33    0\n",
      "\n",
      "Execution time in microseconds: 1274\n"
     ]
    }
   ],
   "source": [
    "!cd \"Java Projects\\GraphsImplementations\" && javac -d bin src/uniandes/algorithms/graphs/*.java && java -cp bin uniandes.algorithms.graphs.GraphImplementations minCost Dijkstra \"data\\graph.txt\""
   ]
  },
  {
   "cell_type": "code",
   "execution_count": 21,
   "metadata": {},
   "outputs": [
    {
     "name": "stdout",
     "output_type": "stream",
     "text": [
      "\n",
      "Minimum Cost Matrix using BellmanFord: \n",
      "\n",
      "      |    0    1    2    3    4\n",
      "---------------------------------\n",
      "    0 |    0   90   80   92  119\n",
      "    1 |   15    0   69   48   84\n",
      "    2 |   65   51    0   12   39\n",
      "    3 |   62   48   75    0   36\n",
      "    4 |   26   12   39   33    0\n",
      "\n",
      "Execution time in microseconds: 326\n"
     ]
    }
   ],
   "source": [
    "!cd \"Java Projects\\GraphsImplementations\" && javac -d bin src/uniandes/algorithms/graphs/*.java && java -cp bin uniandes.algorithms.graphs.GraphImplementations minCost BellmanFord \"data\\graph.txt\"\n"
   ]
  },
  {
   "cell_type": "code",
   "execution_count": 22,
   "metadata": {},
   "outputs": [
    {
     "name": "stdout",
     "output_type": "stream",
     "text": [
      "\n",
      "Minimum Cost Matrix using FloydWarshall: \n",
      "\n",
      "      |    0    1    2    3    4\n",
      "---------------------------------\n",
      "    0 |  105   90   80   92  119\n",
      "    1 |   15   96   69   48   84\n",
      "    2 |   65   51   78   12   39\n",
      "    3 |   62   48   75   69   36\n",
      "    4 |   26   12   39   33   69\n",
      "\n",
      "Execution time in microseconds: 79\n"
     ]
    }
   ],
   "source": [
    "!cd \"Java Projects\\GraphsImplementations\" && javac -d bin src/uniandes/algorithms/graphs/*.java && java -cp bin uniandes.algorithms.graphs.GraphImplementations minCost FloydWarshall \"data\\graph.txt\"\n"
   ]
  }
 ],
 "metadata": {
  "kernelspec": {
   "display_name": "Python 3",
   "language": "python",
   "name": "python3"
  },
  "language_info": {
   "codemirror_mode": {
    "name": "ipython",
    "version": 3
   },
   "file_extension": ".py",
   "mimetype": "text/x-python",
   "name": "python",
   "nbconvert_exporter": "python",
   "pygments_lexer": "ipython3",
   "version": "3.11.9"
  }
 },
 "nbformat": 4,
 "nbformat_minor": 2
}
