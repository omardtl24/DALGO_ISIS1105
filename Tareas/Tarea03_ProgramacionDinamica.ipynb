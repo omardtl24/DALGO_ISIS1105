{
 "cells": [
  {
   "cell_type": "markdown",
   "metadata": {},
   "source": [
    "# Desarrollo Tarea 3\n",
    "\n",
    "#### **Estudiante:** Omar David Toledo Leguizamón"
   ]
  },
  {
   "cell_type": "markdown",
   "metadata": {},
   "source": [
    "## Parte 1. El problema de las vueltas"
   ]
  },
  {
   "cell_type": "markdown",
   "metadata": {},
   "source": [
    "#### **1. Formalización del problema**"
   ]
  },
  {
   "cell_type": "markdown",
   "metadata": {},
   "source": [
    "Para formalizar este problema, debemos entender que nuestro objetivo es determinar la cantidad mínima de monedas, de un conjunto de denomincación, necesarias para alcanzar un valor deseado. Dado esto, podemos definir:\n",
    "\n",
    "<center>\n",
    "\n",
    "| E/S | Nombre | Tipo | Descripción |\n",
    "|-----|--------|------|-------------|\n",
    "|  E  |  $P$   | **nat** | Valor que se desea alcanzar con una combinación de monedas de denominación específica |\n",
    "|  E  |  $a$   | Array[0,n) of **nat** | Arreglo que contiene la denominación de las $n$ diferentes monedas a usar |\n",
    "|  S  |  $m$   | **nat** | Entero que representa la cantidad mínima de monedas de denominaciones $a$ necesarias para alcanzar el valor $P$  |\n",
    "\n",
    "\n",
    "</center>\n",
    "\n",
    "\n",
    "\n",
    "* **Precondición**: Debe existir una moneda de $1$ y las denominaciones estan organizadas de manera ascendente.\n",
    "\n",
    "$$ a[0] =  1 \\wedge ( \\forall_i \\, | \\, 0 \\leq i < n-1 : a[i] < a[i+1] )$$\n",
    "\n",
    "* **Postcondición**: Definimos una función $C$ que dado un arreglo que representa la cantidad de monedas de cada denominación, se obtiene el total de monedas utilizadas; y un conjunto $S$ que representa todas las soluciones del problema que con un conjunto de monedas de denominación $a$ se obtenga de suma total $P$:\n",
    "\n",
    "$$C(m) = \\sum_{i=0} ^ {m.\\text{len}-1} m[i]$$\n",
    "\n",
    "$$S_{a,P} = \\left\\{ x: \\text{Array of nat } \\, | \\, x.\\text{len } = a.\\text{len } \\wedge x[i]\\geq 0 \\wedge  \\sum_{i=0} ^ {a.\\text{len}-1} x[i] \\cdot a[i] = P\\right\\} $$\n",
    "\n",
    " Dado esto, planteamos la postcondición del problema:\n",
    "\n",
    "$$ m \\in S_{a,P} \\wedge (\\forall_{x} \\, | \\, x \\in S_{a,P} : C(x) \\geq C(m))$$\n"
   ]
  },
  {
   "cell_type": "markdown",
   "metadata": {},
   "source": [
    "#### **2. Función que representa el problema**"
   ]
  },
  {
   "cell_type": "markdown",
   "metadata": {},
   "source": [
    "\n",
    "\n",
    "Dado el problema descrito, la entrada $P$ y el arreglo $a = \\{ 1, d_2,...,d_n \\}$, definimos la función\n",
    "\n",
    "$$C: \\mathbb{N} \\times \\mathbb{N} \\mapsto \\mathbb{N} \\cup \\{\\infty\\} $$\n",
    "\n",
    "que recibe como entradas el valor deseado a alcanzar $i$ y las $j$-esimas primeras denominaciones del arreglo $a$; y retornando como resultado la cantidad mínima de monedas necesarias para obtener el valor deseado dadas las condiciones descritas por las entradas.\n",
    "\n",
    "La propuesta para dicha función $C(i,j)$ es la siguiente:\n",
    "\n",
    "$$C(i,j) = \\left\\{ \\begin{array}{lcccr}\n",
    "           0 & & \\text{si} & & i=0 \\\\\n",
    "           \\infty & & \\text{si} & & j=0 \\wedge i>0\\\\\n",
    "           C(i,j-1) & & \\text{si} & & j>0 \\wedge i>0 \\wedge a[j-1] > i \\\\\n",
    "           \\min(C(i-a[j-1],j)+1 , C(i,j-1)) & & \\text{si} & & j>0 \\wedge i>0 \\wedge a[j-1] \\leq i \\\\\n",
    "            \n",
    "        \\end{array} \\right.$$\n",
    "\n",
    "Podemos justificar el porque de esta función recursiva:\n",
    "\n",
    "1. Para el caso en el que el valor deseado sea $0$ (Descrito como $i=0$) no debemos elegir monedas de alguna denominación ya que por trivialidad ya tenemos el objetivo deseado. Dado esto, definimos que en este caso la cantidad de monedas es 0.\n",
    "2. Cuando ya no hay monedas para elegir y aún debemos cubrir un valor mayor a cero, significa que este subproblema no tiene solución, dado el problema de minimización, en esta situación se devuelve $\\infty$ (Esto es usado como un recurso. Es importante resaltar que si la entrada cumple las precondiciones dadas, no se obtendrá este caso extremo como la solución del problema)\n",
    "3. Cuando el valor de la última denominación ubicada en en el conjunto cubierto $d_{j}$ es mayor al valor deseado (Descrito como $a[j-1] > i$) significa que no existe una solución para este subproblema que involucre que la denominación $d_{j}$. Por consiguiente, la solución de este subproblema es equivalente a la solución del mismo subproblema pero sin incluir la última denominación, lo que se describe como $C(i,j-1)$\n",
    "4. Cuando ninguno de los casos anteriores se aplicaron, significa que tenemos dos posibles situaciones; y dado que es un problema de minimización, elegimos el resultado mas pequeño de las dos. Las situaciones a considerar son:\n",
    "\n",
    "    4.1 No se incluye una moneda de denominación $d_{j}$ y deja de considerar como opción: $C(i-a[j-1],j)+1 $\n",
    "\n",
    "    4.2 Se incluye una moneda de denominación $d_{j}$ y se sigue considerando como posible opción para incluir: $C(i-a[j-1],j)+1 $\n",
    "    \n",
    "\n",
    "Dado el enfoque en casos bases e identificar el subproblema que deriva a una solución con una menor cantidad de monedas, se puede concluir que esta función permite obtener la solución óptima del problema, el cual se puede escribir como:\n",
    "\n",
    "$$m = C(P,n)$$\n",
    "\n",
    "Adicionalmente, podemos garantizar que el problema siempre tendrá solución dadas las precondiciones, esto dado que siempre se tiene la moneda de denominación $1$, que garantiza que para cualquier problema de alcanzar el valor $P$, se puede conseguir con $P$ monedas como máximo.\n"
   ]
  },
  {
   "cell_type": "markdown",
   "metadata": {},
   "source": [
    "#### **3. Implementación recursiva**"
   ]
  },
  {
   "cell_type": "markdown",
   "metadata": {},
   "source": [
    "La implementación recursiva de este problema se puede encontrar en la clase RecursiveCoinChangeAlgorithm. Sin embargo, a continuación se presenta en formato de código de Java.\n",
    "\n",
    "```java\n",
    "public int [] calculateOptimalChange(int totalValue, int [] denominations){\n",
    "        int [] answer = new int[denominations.length];\n",
    "        return C(totalValue, denominations.length, denominations, answer);\n",
    "    }\n",
    "\n",
    "public int getValue(int[] solution){\n",
    "        if(solution==null) return Integer.MAX_VALUE;\n",
    "        int sum = 0;\n",
    "        for(int i=0; i<solution.length;i++){\n",
    "            sum += solution[i];\n",
    "        }\n",
    "        return sum;\n",
    "\n",
    "    }\n",
    "\n",
    "public int[] C(int i, int j, int[] a ,int[] partial_answer){\n",
    "        if (i==0) return partial_answer;\n",
    "        if (i>0 && j==0) return null;\n",
    "        if (j>0 && i>0 && a[j-1] > i) return C(i,j-1,a,partial_answer);\n",
    "        \n",
    "        int [] partial_answer_copy =  Arrays.copyOf(partial_answer, partial_answer.length);\n",
    "        \n",
    "        partial_answer_copy[j-1] += 1;\n",
    "\n",
    "        int[] case1 = C(i-a[j-1],j,a,partial_answer_copy);\n",
    "        int[] case2 = C(i,j-1,a,partial_answer);\n",
    "\n",
    "        if (getValue(case1) > getValue(case2)) return case2;\n",
    "        else return case1;\n",
    "\n",
    "    }\n",
    "```\n",
    "\n",
    "Es importante resaltar que esta función tiene unas modificacines en comparación con la recurrencia para poder ir guardando la respuesta en cada subproblema. Sin embargo, el principio de funcionamiento es esencialmente el mismo."
   ]
  },
  {
   "cell_type": "markdown",
   "metadata": {},
   "source": [
    "#### **4. Implementación del algortimo Greedy**"
   ]
  },
  {
   "cell_type": "markdown",
   "metadata": {},
   "source": [
    "Este algoritmo parte del principio de elegir siempre la moneda de mayor valor posible. La implementación en Java se encuentra en la clase *GreedyCoinChangeAlgorithm* pero su cuerpo se presenta a continuación.\n",
    "\n",
    "```java\n",
    "public int [] calculateOptimalChange(int totalValue, int [] denominations){\n",
    "        int n = denominations.length;\n",
    "        int [] answer = new int[n];\n",
    "        while(n>0){\n",
    "            answer[n-1] = totalValue / denominations[n-1];\n",
    "            totalValue =  totalValue % denominations[n-1];\n",
    "            n--;\n",
    "        }\n",
    "        return answer;\n",
    "    }\n",
    "```\n",
    "\n",
    "Podemos denotar que este algoritmo solo requiere iterar desde la moneda de mayor denominación hasta llegar a aquella de menor aplicando operaciones constantes en cada vuelta del ciclo. Dado esto, podemos concluir que este algoritmo Greedy tiene complejidad descrita por $T(n)$ que es de orden $O(n)$ "
   ]
  },
  {
   "cell_type": "markdown",
   "metadata": {},
   "source": [
    "#### **5. Grafo de Necesidades**"
   ]
  },
  {
   "cell_type": "markdown",
   "metadata": {},
   "source": []
  },
  {
   "cell_type": "markdown",
   "metadata": {},
   "source": [
    "#### **6. Implementación del algortimo de Programación Dinámica**"
   ]
  },
  {
   "cell_type": "markdown",
   "metadata": {},
   "source": [
    "La implementación en Java se encuentra en la clase *DynamicProgrammingCoinChangeAlgorithm*, pero su cuerpo se presenta a continuación:\n",
    "\n",
    "```java\n",
    "public int [] calculateOptimalChange(int totalValue, int [] denominations){\n",
    "        //Find the Optimal Value\n",
    "        int n = denominations.length;\n",
    "        int [][] C = new int [totalValue+1][n+1];\n",
    "        for(int i=0; i<=totalValue;i++){\n",
    "            for(int j=0;j<=n;j++){\n",
    "                if (i==0) C[i][j] = 0;\n",
    "                else if (i>0 && j==0) C[i][j] = Integer.MAX_VALUE;\n",
    "                else if (denominations[j-1]>i) C[i][j] = C[i][j-1];\n",
    "                else C[i][j] = Math.min(C[i][j-1], 1+C[i-denominations[j-1]][j]);\n",
    "            }\n",
    "        }\n",
    "        //Recover configuration\n",
    "        int [] answer = new int[n];\n",
    "        int i = totalValue;\n",
    "        int j = n;\n",
    "        while (i > 0 && j > 0) {\n",
    "            if (C[i][j] == C[i][j-1]) {\n",
    "                j--;\n",
    "            } else {\n",
    "                answer[j - 1]++;\n",
    "                i -= denominations[j - 1];\n",
    "            }\n",
    "        }\n",
    "        return answer;\n",
    "    }\n",
    "\n",
    "```\n",
    "\n",
    "Para determinar la complejidad temporal de este algoritmo, lo vamos a separar en las dos partes que describen los comentarios:\n",
    "\n",
    "* **Obtención del valor óptimo**: Para obtener el valor óptimo, se recorre la estructura que fue vista en el grafo de necesidades, esta se represento como una matriz de dimensiones $(n+1) \\times (P+1)$, dado que se recorre toda la matriz y se aplican operaciones constantes en cada vuelta, se puede concluir que es de orden $O(nP)$\n",
    "\n",
    "* **Reconstrucción de la solución**: Para reconstruir la solución, el algoritmo recorre la matriz de resultados hacia atrás para determinar cómo se formó el valor óptimo utilizando las denominaciones disponibles. Como el algoritmo revisa cada denominación a lo largo de la matriz, la complejidad de esta parte es $O(n)$ (No se considera $O(nP)$ porque no existe caso en el que se recorra todas la matriz)\n",
    "\n",
    "Finalmente, podemos determinar que $T(n,P) \\in O(nP)+O(n) = O(nP)$, obteniendo así la complejidad termporal del algoritmo"
   ]
  },
  {
   "cell_type": "markdown",
   "metadata": {},
   "source": [
    "#### **7. Comparación de las tres soluciones**"
   ]
  },
  {
   "cell_type": "markdown",
   "metadata": {},
   "source": [
    "Para nuestro porblema, se tomarán los siguientes conjuntos de denominaciones para probar:\n",
    "\n",
    "$$a_1 = <1,5,10,50,100,500,1000,5000,20000>$$\n",
    "\n",
    "$$a_2 = <1,2,20,100,500,2000,10000,50000>$$\n",
    "\n",
    "$$a_3 = <2,10,50,200,500,2000,5000,10000,20000>$$\n",
    "\n",
    "Y se diseñará la tabla de tiempos de ejecución para $P = 1000, 100000,1000000$"
   ]
  },
  {
   "cell_type": "markdown",
   "metadata": {},
   "source": [
    "##### Salidas"
   ]
  },
  {
   "cell_type": "markdown",
   "metadata": {},
   "source": [
    "##### Tabla de tiempos de ejecución"
   ]
  },
  {
   "cell_type": "markdown",
   "metadata": {},
   "source": [
    "| Entradas | Greedy | DynamicProgramming | Recursive |\n",
    "|----------|--------|----|-----------|\n",
    "| $a_1 , P=1000$ | 0 | 1 | 1094 |\n",
    "| $a_2 , P=1000$ | 0 | 1 | 343 |\n",
    "| $a_3 , P=1000$ | 0 | 1 | 1618 |\n",
    "| $a_1 , P=100000$ | 0 | 14 | |\n",
    "| $a_2 , P=100000$ | 0 | 14 | |\n",
    "| $a_3 , P=100000$ | 0 | 15 | |\n",
    "| $a_1 , P=10000000$ | 0 | 111 | |\n",
    "| $a_2 , P=10000000$ | 0 | 97 | |\n",
    "| $a_3 , P=10000000$ | 0 | 102 | \n",
    " |"
   ]
  },
  {
   "cell_type": "markdown",
   "metadata": {},
   "source": [
    "#### **8. Ejemplo donde el algoritmo Greedy no obtiene la solución óptima**"
   ]
  },
  {
   "cell_type": "markdown",
   "metadata": {},
   "source": [
    "Vamos a suponer que nuestro valor objetivo es $P = 20$. Adicionalmente, tenemos el siguiente arreglo de denominaciones: $a = <1,10,15>$.\n",
    "\n",
    "En esta situación no debemos ser muy metodicos para saber que la forma en la que puedo obtener el valor deseado $20$ con la mínima cantidad de monedas es tomando 2 monedas de $10$.\n",
    "\n",
    "Sin embargo, el algoritmo voraz tomará primero la opción de elegir una moneda de $15$, llevando como siguiente acción posible elegir solo monedas de $1$; llegando a una solución que implica usar 6 monedas.\n",
    "\n",
    "A continuación se adjunta captura de la salida del programa en los dos casos:\n",
    "##### **Enfoque Greedy**\n",
    "\n",
    "```\n",
    "Coin    Number\n",
    "1       5\n",
    "10      0\n",
    "15      1\n",
    "Total coins:    6\n",
    "Total value:    20\n",
    "Total time spent (milliseconds): 0\n",
    "```\n",
    "\n",
    "##### **Enfoque con Programación Dinámica**\n",
    "```\n",
    "Coin    Number\n",
    "1       0\n",
    "10      2\n",
    "15      0\n",
    "Total coins:    2 \n",
    "Total value:    20\n",
    "Total time spent (milliseconds): 0\n",
    "```\n",
    "\n"
   ]
  },
  {
   "cell_type": "markdown",
   "metadata": {},
   "source": [
    "## Parte 2: Otros problemas de programación dinámica"
   ]
  },
  {
   "cell_type": "markdown",
   "metadata": {},
   "source": [
    "#### *Ejercicio 1*\n",
    "\n",
    "Dado un arreglo a de números naturales $a$ y un número total T, decidir si existe un conjunto $C$ de índices del arreglo tal que:\n",
    "\n",
    "$$\\sum_{i \\in C} a[i] = T$$"
   ]
  },
  {
   "cell_type": "markdown",
   "metadata": {},
   "source": [
    "##### **Formalización**"
   ]
  },
  {
   "cell_type": "markdown",
   "metadata": {},
   "source": [
    "Para formalizar este problema, debemos entender que nuestro objetivo es determinar si con los elementos del arreglo $a$, se puede conseguir la suma $T$ con un subconjunto de $a$:\n",
    "\n",
    "* **Entradas y Salidas**: El problema tiene dos entradas y dos salida.\n",
    "\n",
    "<center>\n",
    "\n",
    "| E/S | Nombre | Tipo | Descripción |\n",
    "|-----|--------|------|-------------|\n",
    "|  E  |  $T$   | **nat** | Valor que se desea alcanzar con la suma de elementos del arreglo |\n",
    "|  E  |  $a$   | Array[0,n) of **nat** | Arreglo que contiene los $n$ elementos que se pueden sumar |\n",
    "|  S  |  $b$   | **bool** | Booleano que representa si el problema tiene solución o no  |\n",
    "|  S  |  $S$   | Array[0,n) of **bool** | Arreglo que representa el subconjunto de solución |\n",
    "\n",
    "</center>\n",
    "\n",
    "* **Precondición**:\n",
    "\n",
    "$$T \\in \\mathbb{N} \\wedge (\\forall_{i} \\,|\\, 0 \\leq i < n : a[i] \\in \\mathbb{N})$$\n",
    "\n",
    "* **Postcondición**: Para la postcondición, definimos una función $C$ que nos permite recuperar el subconjunto de índices descrito por los arreglos booleanos del estilo de $S$.\n",
    "\n",
    "$$C(S) = \\{ i \\, | \\, S[i] = \\top \\}$$\n",
    "\n",
    "Dado esto, definimos la postcondición:\n",
    "\n",
    "$$b \\equiv \\left( \\exist_S \\,|\\, |C(S)| \\leq a.\\text{len } : \\sum_{i \\in C(S)} a[i] = T \\right)$$"
   ]
  },
  {
   "cell_type": "markdown",
   "metadata": {},
   "source": [
    "##### **Función que describe el problema**"
   ]
  },
  {
   "cell_type": "markdown",
   "metadata": {},
   "source": [
    "Dado el problema descrito, la entrada $T$ y el arreglo $a$, definimos la función\n",
    "\n",
    "$$S: \\mathbb{N} \\times \\mathbb{N} \\mapsto \\mathbb{B}$$\n",
    "\n",
    "que recibe como entradas el valor deseado a alcanzar $i$ y las $j$-esimas primeros elementos del arreglo $a$; y retornando como resultado si es posible alcanzar el valor $i$ con los primeros $j$ del arreglo o no."
   ]
  },
  {
   "cell_type": "markdown",
   "metadata": {},
   "source": [
    "##### **Recurrencia que describe la solución**"
   ]
  },
  {
   "cell_type": "markdown",
   "metadata": {},
   "source": [
    "La propuesta para dicha función $S(i,j)$ es la siguiente:\n",
    "\n",
    "$$S(i,j) = \\left \\{\n",
    "        \\begin{array}{lcccr}\n",
    "            \\top & & \\text{si}  & &  i=0 \\\\\n",
    "            \\bot & & \\text{si}  & &  j=0 \\wedge i>0\\\\\n",
    "            S(i,j-1)  & & \\text{si}  & &  j>0 \\wedge i>0 \\wedge a[j-1] > i \\\\\n",
    "            S(i-a[j-1],j-1) \\vee S(i,j-1) & & \\text{si} & & j>0 \\wedge i>0 \\wedge a[j-1] \\leq i \\\\\n",
    "\n",
    "        \\end{array}\n",
    "    \\right.$$\n",
    "\n",
    "Para este problema, la solución está descrita como:\n",
    "\n",
    "$$b = S(T,n)$$\n"
   ]
  },
  {
   "cell_type": "markdown",
   "metadata": {},
   "source": [
    "##### **Grafo de Necesidades**"
   ]
  },
  {
   "attachments": {
    "GrafoNecesidadesP2E1.png": {
     "image/png": "[encoded data removed]"
    }
   },
   "cell_type": "markdown",
   "metadata": {},
   "source": [
    "![GrafoNecesidadesP2E1.png](attachment:GrafoNecesidadesP2E1.png)\n",
    "\n",
    "Con el grafo de necesidades, podemos determinar que un recorrido tradicional por la matriz es suficiente para abarcar el problema"
   ]
  },
  {
   "cell_type": "markdown",
   "metadata": {},
   "source": [
    "##### **Diseño e implementación del algoritmo de Programación Dinamica**"
   ]
  },
  {
   "cell_type": "code",
   "execution_count": 11,
   "metadata": {},
   "outputs": [
    {
     "name": "stdout",
     "output_type": "stream",
     "text": [
      "A partir de [15 26  3 12 12] y 30, sabemos que 30 = 15+3+12\n"
     ]
    }
   ],
   "source": [
    "import numpy as np\n",
    "\n",
    "def DynamicProgrammingSum_Array(P,a):\n",
    "    #Use dynamic programming to solve the problem\n",
    "    n = len(a)\n",
    "    S = np.zeros((P+1, n+1), dtype=bool)\n",
    "    for i in range(S.shape[0]):\n",
    "        for j in range(S.shape[1]):\n",
    "            if i==0: S[i,j] = True\n",
    "            if j==0 and i>0: S[i,j] = False\n",
    "            if j>0 and i>0 and a[j-1]>i: S[i,j] = S[i,j-1]\n",
    "            if j>0 and i>0 and a[j-1]<=i : S[i,j] = S[i-a[j-1],j-1] or S[i,j-1]\n",
    "    #Recover the configuration that got the solution\n",
    "    answer = np.zeros(n, dtype=bool)\n",
    "    i = P\n",
    "    j = n\n",
    "    while i>0:\n",
    "        if S[i-a[j-1],j-1]:\n",
    "            answer[j-1] = True\n",
    "            i-=a[j-1]\n",
    "        j-=1\n",
    "    return S[P,n],answer\n",
    "        \n",
    "a = np.array([15,26,3,12,12])\n",
    "P = 30\n",
    "\n",
    "b, S = DynamicProgrammingSum_Array(P,a)\n",
    "\n",
    "if b: print(f'A partir de {a} y {P}, sabemos que {P} =', '+'.join([str(num) for num in a[S]]))\n",
    "else: print(f'A partir de {a}, no hay forma de obtener {P}')\n"
   ]
  },
  {
   "cell_type": "markdown",
   "metadata": {},
   "source": [
    "#### *Ejercicio 2*\n",
    "\n",
    "Dada una matriz (no necesariamente cuadrada) de unos y ceros, encontrar la cantidad de filas y columnas de la submatriz cuadrada más grande, tal que todos los elementos de dicha submatriz sean iguales a 1"
   ]
  },
  {
   "cell_type": "markdown",
   "metadata": {},
   "source": [
    "##### **Formalización**"
   ]
  },
  {
   "cell_type": "markdown",
   "metadata": {},
   "source": [
    "Para formalizar este problema, debemos entender que nuestro objetivo es determinar si con los elementos del arreglo $a$, se puede conseguir la suma $T$ con un subconjunto de $a$:\n",
    "\n",
    "* **Entradas y Salidas**: El problema tiene dos entradas y una salida.\n",
    "\n",
    "<center>\n",
    "\n",
    "| E/S | Nombre | Tipo | Descripción |\n",
    "|-----|--------|------|-------------|\n",
    "|  E  |  $a$   | Array[0,n)[0,m) of **nat** | Valor que se desea alcanzar con la suma de elementos del arreglo |\n",
    "|  S  |  $s$   | **nat** | Cantidad de filas y columnas de la submatriz cuadrada de unos más grande  |\n",
    "\n",
    "\n",
    "</center>\n",
    "\n",
    "* **Precondición**: La matriz de entrada unicamente debe estar compuesta de ceros o unos\n",
    "\n",
    "$$ \\forall_{i,j} \\,|\\, 0 \\leq i < n \\wedge 0 \\leq j < m : a[i][j] = 0 \\vee a[i][j] = 1 $$\n",
    "\n",
    "* **Postcondición**:\n",
    "\n",
    "$$s \\equiv \n",
    "    \\begin{array}{}\n",
    "    ( \\exist_s \\,|\\, 0 \\leq s < \\min(m,n) : ( \\exist_{k,l} \\,|\\, 0 \\leq k < n-s \\wedge 0 \\leq l < m-s : (\\forall_{i,j} \\,|\\, k \\leq i \\leq k+s \\wedge l \\leq j \\leq l+s : a[i][j] = 1 ))) \\\\\n",
    "    \\wedge \\\\\n",
    "    ( \\forall_p \\,|\\, s < p < \\min(m,n) : ( \\forall_{k,l} \\,|\\, 0 \\leq k < n-p \\wedge 0 \\leq l < m-p : (\\exist_{i,j} \\,|\\, k \\leq i \\leq k+p \\wedge l \\leq j \\leq l+p : a[i][j] = 0 )))\n",
    "    \n",
    "    \\end{array}\n",
    "$$"
   ]
  },
  {
   "cell_type": "markdown",
   "metadata": {},
   "source": [
    "##### **Función que describe el problema**"
   ]
  },
  {
   "cell_type": "markdown",
   "metadata": {},
   "source": [
    "Dado el problema descrito, la entrada $m$, definimos la función\n",
    "\n",
    "$$U: \\mathbb{N} \\times \\mathbb{N} \\mapsto \\mathbb{N}$$\n",
    "\n",
    "que recibe como entradas $i$ y $j$, que representan el tamaño de la submatriz de unos más grande de la matriz que incluye las posiciones $m[i][j]$."
   ]
  },
  {
   "cell_type": "markdown",
   "metadata": {},
   "source": [
    "##### **Recurrencia que describe la solución**"
   ]
  },
  {
   "cell_type": "markdown",
   "metadata": {},
   "source": [
    "$$\n",
    "    U(i,j) = \\left\\{ \n",
    "        \\begin{array}{lcccr}\n",
    "            a[i][j] & & \\text{si}  & &  i=0 \\vee j=0 \\\\\n",
    "            0 & & \\text{si}  & &  i>0 \\wedge j>0 \\wedge a[i][j] = 0 \\\\\n",
    "            \\min(U(i-1,j),U(i,j-1),U(i-1,j-1)) + 1 & & \\text{si}  & &  i>0 \\wedge j>0 \\wedge a[i][j] = 1 \\\\\n",
    "        \\end{array}\n",
    "    \\right.\n",
    "$$\n",
    "\n",
    "\n",
    "Para el problema en cuestión, la respuesta está descrita por:\n",
    "\n",
    "$$ s = \\max\\{U(i,j) \\,|\\, 0 \\leq i < n \\, , \\, 0 \\leq j < m\\} $$"
   ]
  },
  {
   "cell_type": "markdown",
   "metadata": {},
   "source": [
    "##### **Grafo de Necesidades**"
   ]
  },
  {
   "cell_type": "markdown",
   "metadata": {},
   "source": [
    "##### **Diseño e implementación del algoritmo de Programación Dinamica**"
   ]
  },
  {
   "cell_type": "code",
   "execution_count": 9,
   "metadata": {},
   "outputs": [
    {
     "name": "stdout",
     "output_type": "stream",
     "text": [
      "La submatriz cuadrada de unos más grande es de dimensiones 3 x 3\n"
     ]
    }
   ],
   "source": [
    "import numpy as np\n",
    "\n",
    "def DynamicProgrammingOnesSquaredMatrix(a):\n",
    "    n,m = a.shape\n",
    "    U = np.zeros(shape = (n,m), dtype = int)\n",
    "    s = 0\n",
    "    for i in range(n):\n",
    "        for j in range(m):\n",
    "            if i==0 or j==0: U[i,j] = a[i,j]\n",
    "            if i>0 and j>0 and a[i,j] == 0: U[i,j] = 0\n",
    "            if i>0 and j>0 and a[i,j] == 1: U[i,j] = min(U[i-1,j-1],U[i-1,j],U[i,j-1])+1\n",
    "            s = max(s,U[i,j])\n",
    "    return s\n",
    "\n",
    "a = np.array([[1,1,0,1,1,0],\n",
    "              [1,1,1,1,1,1],\n",
    "              [0,1,0,1,1,1],\n",
    "              [0,1,0,1,1,1]])\n",
    "\n",
    "s = DynamicProgrammingOnesSquaredMatrix(a)\n",
    "print(f'La submatriz cuadrada de unos más grande es de dimensiones {s} x {s}')"
   ]
  },
  {
   "cell_type": "markdown",
   "metadata": {},
   "source": [
    "#### *Ejercicio 3*\n",
    "\n",
    "Desarrollar un programa que cuente la cantidad de números de $N$ dígitos en base 4 que no tengan ceros adyacentes. Por ejemplo, para $N=10$ un número válido sería $3011203320$ mientras que uno inválido sería $2113002021$"
   ]
  },
  {
   "cell_type": "markdown",
   "metadata": {},
   "source": [
    "##### **Formalización**"
   ]
  },
  {
   "cell_type": "markdown",
   "metadata": {},
   "source": [
    "Para formalizar este problema, debemos entender que nuestro objetivo es determinar la cantidad de números de longitud $N$ que cumplen dicha propiedad:\n",
    "\n",
    "* **Entradas y Salidas**: El problema tiene una entrada y una salida.\n",
    "\n",
    "<center>\n",
    "\n",
    "| E/S | Nombre | Tipo | Descripción |\n",
    "|-----|--------|------|-------------|\n",
    "|  E  |  $N$   | **nat** | Cantidad de dígitos de los números en base 4 a analizar |\n",
    "|  S  |  $r$   | **nat** | Cantidad de números de $N$ dígitos en base 4 que no tienen ceros adyacentes  |\n",
    "\n",
    "\n",
    "</center>\n",
    "\n",
    "* **Precondición**: Se debe tener un número $N$ mayor o igual a 0.\n",
    "\n",
    "$$N \\geq 0$$\n",
    "\n",
    "* **Postcondición**: Dado el conjunto de todos los números en base 4 que no tienen ceros adyacentes de longitud $N$, se tiene que $r$ es el tamaño de este conjunto.\n",
    "\n",
    "$$S = \\{ x \\in \\mathbb{Z}_4^n \\, | \\, \\forall_{1\\leq i < N} \\,\\, x_i \\neq 0 \\vee x_{i+1} \\neq 0 \\} \\wedge r = |S|$$"
   ]
  },
  {
   "cell_type": "markdown",
   "metadata": {},
   "source": [
    "##### **Función que describe el problema**"
   ]
  },
  {
   "cell_type": "markdown",
   "metadata": {},
   "source": [
    "Dado el problema descrito, la entrada $N$ y que trabajamos con números en base $4$, definimos la función\n",
    "\n",
    "$$M: \\mathbb{N} \\times \\mathbb{N} \\mapsto \\mathbb{N}$$\n",
    "\n",
    "que recibe como entradas $i$ y $j$, que representan la cantidad de números de longitud $j$ en base $4$ que terminan en $j$."
   ]
  },
  {
   "cell_type": "markdown",
   "metadata": {},
   "source": [
    "##### **Recurrencia que describe la solución**"
   ]
  },
  {
   "cell_type": "markdown",
   "metadata": {},
   "source": [
    "$$\n",
    "    M(i,j) = \\left\\{ \n",
    "        \\begin{array}{lcccr}\n",
    "            0 & & \\text{si}  & &  i=0 \\\\\n",
    "            1 & & \\text{si}  & &  i=1 \\\\\n",
    "            M(i-1,1) + M(i-1,2) + M(i-1,3) & & \\text{si}  & &  i>1 \\wedge j=0 \\\\\n",
    "            M(i-1,1) + M(i-1,2) + M(i-1,3) + + M(i-1,0) & & \\text{si}  & &  i>1 \\wedge j>0 \\\\\n",
    "        \\end{array}\n",
    "    \\right.\n",
    "$$\n",
    "\n",
    "\n",
    "Para el problema en cuestión, la respuesta está descrita por:\n",
    "\n",
    "$$ r = \\sum_{k=0}^{3} M(N,k) $$"
   ]
  },
  {
   "cell_type": "markdown",
   "metadata": {},
   "source": [
    "##### **Grafo de Necesidades**"
   ]
  },
  {
   "cell_type": "markdown",
   "metadata": {},
   "source": [
    "##### **Diseño e implementación del algoritmo de Programación Dinamica**"
   ]
  },
  {
   "cell_type": "code",
   "execution_count": 12,
   "metadata": {},
   "outputs": [
    {
     "name": "stdout",
     "output_type": "stream",
     "text": [
      "Existen 641520 números en base 4 sin ceros adyacentes de longitud 10\n"
     ]
    }
   ],
   "source": [
    "import numpy as np\n",
    "\n",
    "def DynamicProgramming_CountBaseFour(N):\n",
    "    M = np.zeros(shape=(N+1,4),dtype=int)\n",
    "    for i in range(N+1):\n",
    "        for j in range(4):\n",
    "            if i==0: M[i,j] = 0\n",
    "            if i==1: M[i,j] = 1\n",
    "            if i>1 and j==0: M[i,j] = M[i-1,1] + M[i-1,2] + M[i-1,3]\n",
    "            if i>1 and j>0: M[i,j] = M[i-1,1] + M[i-1,2] + M[i-1,3] + M[i-1,0]\n",
    "\n",
    "    return sum(M[N,k] for k in range(4))\n",
    "\n",
    "N = 10\n",
    "r = DynamicProgramming_CountBaseFour(N)\n",
    "\n",
    "print(f'Existen {r} números en base 4 sin ceros adyacentes de longitud {N}')"
   ]
  },
  {
   "cell_type": "markdown",
   "metadata": {},
   "source": [
    "#### *Ejercicio 4*\n",
    "\n",
    "En un juego de video el protagonista tiene que atravesar un recorrido lineal de N metros. En cada metro pueden ocurrir una de dos cosas:\n",
    "\n",
    "1. Hay un trampolín que le permite saltar una cantidad de metros entre 2 y K hacia adelante. El protagonista puede decidir si usa el trampolín para saltar o si simplemente camina un metro hacia adelante.\n",
    "2. Hay un abismo en el que si cae, pierde el juego.\n",
    "\n",
    "Se debe desarrollar un programa que determine si existe algúna forma de llegar al final del recorrido. Se debe llegar exactamente al metro N porque después de este metro hay un abismo.\n"
   ]
  },
  {
   "cell_type": "markdown",
   "metadata": {},
   "source": [
    "##### **Formalización**"
   ]
  },
  {
   "cell_type": "markdown",
   "metadata": {},
   "source": [
    "Para formalizar este problema, debemos entender que nuestro objetivo es determinar si existe un camino que nos permita recorrer $N$ metros dado un conjunto posible de acciones descrito por un arreglo $a$:\n",
    "\n",
    "* **Entradas y salidas**: Para el problema se definen una en\n",
    "\n",
    "<center>\n",
    "\n",
    "| E/S | Nombre | Tipo | Descripción |\n",
    "|-----|--------|------|-------------|\n",
    "|  E  |  $a$   | Array[0,N+1) of **nat** | Arreglo que representa el alcance de los trampolines o si se encuentra un abismo |\n",
    "|  S  |  $b$   | **boolean** | Booleano que representa si el recorrido es viable o no|\n",
    "|  S  |  $S$   | Array[0,N+1) of **boolean** | Arreglo que representa el conjunto de indices del recorrido viable |\n",
    "\n",
    "</center>\n",
    "\n",
    "* **Precondición**: Se debe cumplir que el arreglo sea de $N+1$ elementos y que la última posición del arreglo sea cero; y para todas las demás se tiene -1 si existe un abismo o se tiene un natural mayor a cero que representa hasta donde se puede saltar:\n",
    "\n",
    "$$a[N] = 0 \\wedge \\left(\\forall_i \\, | \\, 0 \\leq i < N : a[i] > 0 \\vee a[i] = -1 \\right)$$\n",
    "\n",
    "* **Postcondición**: El problema tiene solución si existe un camino representado por el conjunto $S$ tal que se puede llegar desde la posición inicial hasta la final de tal forma que sea moviendose de a una casilla por turno o saltando la cantidad de casillas definidas por el trampolin en cierta posición.\n",
    "\n",
    "$$b = \\left( \\left(\\exist_S : 0 \\in S \\wedge N \\in S \\right) \\wedge \\left( \\forall_i \\, | \\, i \\in S : i-1 \\in S \\vee \\left( \\exist_k \\, | \\, 0 \\leq k< i : i-k \\in S \\wedge a[i-k] = k\\right) \\right)  \\right)$$"
   ]
  },
  {
   "cell_type": "markdown",
   "metadata": {},
   "source": [
    "##### **Función que describe el problema**"
   ]
  },
  {
   "cell_type": "markdown",
   "metadata": {},
   "source": [
    "Dado el problema descrito, la entrada $N$ y el arreglo $a$, definimos la función\n",
    "\n",
    "$$G: \\mathbb{N} \\mapsto \\mathbb{B}$$\n",
    "\n",
    "que recibe como entradas la posición $i$ entre $0$ y $N$; y retornando como resultado si es posible alcanzar llegar a la casilla $i$ desde la posición inicial. "
   ]
  },
  {
   "cell_type": "markdown",
   "metadata": {},
   "source": [
    "##### **Recurrencia que describe la solución**"
   ]
  },
  {
   "cell_type": "markdown",
   "metadata": {},
   "source": [
    "$$G(i) = \\left \\{\n",
    "        \\begin{array}{lcccr}\n",
    "            \\top & & \\text{si}  & & i=0 \\\\\n",
    "            \\bot & & \\text{si}  & & i>0 \\wedge a[i] = -1 \\\\\n",
    "            G(i-1) \\vee \\left(\\exist_k \\,|\\, {0\\leq k < i} : \\, a[i-k] = k \\wedge G(i-k)\\right) & & \\text{si} & & a[i] \\geq 0 \\wedge i>0\n",
    "        \\end{array}\n",
    "    \\right.$$\n",
    "\n",
    "Para el problema descrito, la solución esta dada por:\n",
    "\n",
    "$$b = G(N)$$"
   ]
  },
  {
   "cell_type": "markdown",
   "metadata": {},
   "source": [
    "##### **Grafo de Necesidades**"
   ]
  },
  {
   "cell_type": "markdown",
   "metadata": {},
   "source": [
    "##### **Diseño e implementación del algoritmo de Programación Dinamica**"
   ]
  },
  {
   "cell_type": "code",
   "execution_count": 13,
   "metadata": {},
   "outputs": [
    {
     "name": "stdout",
     "output_type": "stream",
     "text": [
      "El camino si tiene solución; y esta representado por pasar por las posiciones: [ 0  1  6  9 10 12 13 17]\n"
     ]
    }
   ],
   "source": [
    "import numpy as np\n",
    "\n",
    "def DynamicProgrammingIsPath(a):\n",
    "    #Solution is found using DP\n",
    "    N = len(a)-1\n",
    "    G = np.zeros(shape = N+1,dtype=bool)\n",
    "    for i in range(N+1):\n",
    "        if i==0: G[i] = True\n",
    "        if i>0 and a[i] == -1: G[i] = False\n",
    "        if a[i]>=0 and i>0:\n",
    "            e = False\n",
    "            for k in range(1,i):\n",
    "                e = e or (a[i-k]==k and G[i-k])\n",
    "            G[i] = G[i-1] or e\n",
    "    #Solution configuration is recovered\n",
    "    answer = np.zeros(shape = N+1,dtype=bool)\n",
    "    s = G[N]\n",
    "    i = 0\n",
    "    while i<=N and G[N]:\n",
    "        answer[i] = True\n",
    "        if G[i+a[i]] and a[i]>0: i+=a[i]\n",
    "        else: i+=1\n",
    "    return G[N], answer\n",
    "\n",
    "#Solvable case\n",
    "a = np.array([4,5,9,2,-1,-1,3,-1,3,2,2,-1,3,4,2,-1,3,0])\n",
    "#Not solvable case\n",
    "#a = np.array([4,3,9,2,-1,-1,3,-1,3,2,2,-1,3,4,2,-1,3,0])\n",
    "b,S = DynamicProgrammingIsPath(a)\n",
    "\n",
    "if b: print(f'El camino si tiene solución; y esta representado por pasar por las posiciones: {np.array([i for i in range(len(a))])[S]}')\n",
    "else: print('El camino no tiene solución')"
   ]
  }
 ],
 "metadata": {
  "kernelspec": {
   "display_name": "Python 3",
   "language": "python",
   "name": "python3"
  },
  "language_info": {
   "codemirror_mode": {
    "name": "ipython",
    "version": 3
   },
   "file_extension": ".py",
   "mimetype": "text/x-python",
   "name": "python",
   "nbconvert_exporter": "python",
   "pygments_lexer": "ipython3",
   "version": "3.11.9"
  }
 },
 "nbformat": 4,
 "nbformat_minor": 2
}
