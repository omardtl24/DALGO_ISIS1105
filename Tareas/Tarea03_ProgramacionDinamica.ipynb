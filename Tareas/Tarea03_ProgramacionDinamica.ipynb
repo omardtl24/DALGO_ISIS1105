{
 "cells": [
  {
   "cell_type": "markdown",
   "metadata": {},
   "source": [
    "# Desarrollo Tarea 3\n",
    "\n",
    "#### **Estudiante:** Omar David Toledo Leguizamón"
   ]
  },
  {
   "cell_type": "markdown",
   "metadata": {},
   "source": [
    "## Parte 1. El problema de las vueltas"
   ]
  },
  {
   "cell_type": "markdown",
   "metadata": {},
   "source": [
    "#### **1. Formalización del problema**"
   ]
  },
  {
   "cell_type": "markdown",
   "metadata": {},
   "source": [
    "Para formalizar este problema, debemos entender que nuestro objetivo es determinar la cantidad mínima de monedas, de un conjunto de denomincación, necesarias para alcanzar un valor deseado. Dado esto, podemos definir:\n",
    "\n",
    "* **Entradas**: Para este problema, se tendrán dos entradas. La primera es un número entero no negativo $P$ que representa el valor deseado que se busca alcanzar con las monedas dispuestas. La segunda entrada, es un arreglo de enteros no negativos $a$ que contiene las diferentes denominaciones que se pueden usar para hallar la solución, el cual, definiremos que tiene un total de $n$ elementos.\n",
    "* **Salidas**:\n",
    "* **Precondición**:\n",
    "* **Postcondición**:\n"
   ]
  },
  {
   "cell_type": "markdown",
   "metadata": {},
   "source": [
    "#### **2. Función que representa el problema**\n",
    "\n",
    "Dado el problema descrito, la entrada $P$ y el arreglo $a = \\{d_1,d_2,...,d_n \\}$, definimos la función\n",
    "\n",
    "$$C: \\mathbb{N} \\times \\mathbb{N} \\mapsto \\mathbb{N} \\cup \\{\\infty\\} $$\n",
    "\n",
    "que recibe como entradas el valor deseado a alcanzar $i$ y las $j$-esimas primeras denominaciones del arreglo $a$; y retornando como resultado la cantidad mínima de monedas necesarias para obtener el valor deseado dadas las condiciones descritas por las entradas.\n",
    "\n",
    "La propuesta para dicha función $C(i,j)$ es la siguiente:\n",
    "\n",
    "$$C(i,j) = \\left\\{ \\begin{array}{lcccr}\n",
    "            0 & & \\text{si}  & &  i=0 \\\\\n",
    "            \\infty & & \\text{si}  & &  j=0 \\wedge i>0\\\\\n",
    "            C(i,j-1)  & & \\text{si}  & &  a[j-1] > i \\\\\n",
    "            \\min(C(i-a[j-1],j)+1 , C(i-a[j-1],j-1)+1 , C(i,j-1))  & & & &  \\text{en caso contrario} \\\\\n",
    "\n",
    "        \\end{array} \\right.$$\n",
    "\n",
    "Adicionalmente, es importante agregar que:\n",
    "\n",
    "$$\\exist _{i,j \\in \\mathbb{N}} \\,\\, C(i,j) = \\infty \\quad \\Longrightarrow \\quad \\text{No hay forma de obtener }i \\text{ a partir de monedas de denominación }d_1,d_2,...,d_{j-1}$$\n",
    "\n",
    "Podemos justificar el porque de esta función recursiva:\n",
    "\n",
    "1. Para el caso en el que el valor deseado sea $0$ (Descrito como $i=0$) no debemos elegir monedas de alguna denominación ya que por trivialidad ya tenemos el objetivo deseado. Dado esto, definimos que en este caso la cantidad de monedas es 0.\n",
    "2. Cuando ya cubrimos todas las posibles denominaciones posibles y el valor deseado no se ha alcanzado (Descrito como $j=0 \\wedge i>0$) significa que no existe una combinación válida que haya cumplido el subproblema propuesto. Esto significa que el subproblema no tiene solución y por ende la respuesta es $\\infty$\n",
    "3. Cuando el valor de la última denominación ubicada en en el conjunto cubierto $d_{j-1}$ es mayor al valor deseado (Descrito como $a[j-1] > i$) significa que no existe una solución para este subproblema que involucre que la denominación $d_{j-1}$. Por consiguiente, la solución de este subproblema es equivalente a la solución del mismo subproblema pero sin incluir la última denominación, lo que se describe como $C(i,j-1)$\n",
    "4. Cuando ninguno de los casos anteriores se aplicaron, significa que tenemos tres posibles situaciones; y dado que es un problema de minimización, elegimos el resultado mas pequeño de las tres. Las situaciones a considerar son:\n",
    "\n",
    "    4.1 Se incluye una moneda de denominación $d_{j-1}$ y se sigue considerando como posible opción para incluir nuevamente: $C(i-a[j-1],j)+1 $\n",
    "\n",
    "    4.2 Se incluye una moneda de denominación $d_{j-1}$ y se deja de considerar como posible opción para incluir: $C(i-a[j-1],j-1)+1 $\n",
    "    \n",
    "    4.3 No se incluye una moneda de denominación $d_{j-1}$ y se deja de considerar como posible opción para incluir: $C(i-a[j-1],j-1)+1 $\n",
    "\n",
    "Dado el enfoque en casos bases e identificar el subproblema que deriva a una solución con una menor cantidad de monedas, se puede concluir que esta función permite obtener la solución óptima del problema, el cual se puede escribir como:\n",
    "\n",
    "$$C(P,n)$$\n"
   ]
  },
  {
   "cell_type": "markdown",
   "metadata": {},
   "source": [
    "## Parte 2: Otros problemas de programación dinámica"
   ]
  },
  {
   "cell_type": "markdown",
   "metadata": {},
   "source": [
    "#### *Ejercicio 1*\n",
    "\n",
    "Dado un arreglo a de números naturales $a$ y un número total T, decidir si existe un conjunto $C$ de índices del arreglo tal que:\n",
    "\n",
    "$$\\sum_{i \\in C} a[i] = T$$"
   ]
  },
  {
   "cell_type": "markdown",
   "metadata": {},
   "source": [
    "##### **Formalización**"
   ]
  },
  {
   "cell_type": "markdown",
   "metadata": {},
   "source": [
    "Para formalizar este problema, debemos entender que nuestro objetivo es determinar si con los elementos del arreglo $a$, se puede conseguir la suma $T$ con un subconjunto de $a$:\n",
    "\n",
    "* **Entradas**: Para este problema, se tendrán dos entradas. La primera es un número entero no negativo $T$ que representa el valor deseado que se busca alcanzar con la suma de elementos del arreglo. La segunda entrada, es un arreglo de naturales $a$ que contiene las diferentes denominaciones que se pueden usar para hallar la solución, el cual, definiremos que tiene un total de $n$ elementos.\n",
    "* **Salidas**: La salida es un elemento booleano, el cual describe si el problema es soluble o no.\n",
    "* **Precondición**:\n",
    "* **Postcondición**:"
   ]
  },
  {
   "cell_type": "markdown",
   "metadata": {},
   "source": [
    "##### **Función que describe el problema**"
   ]
  },
  {
   "cell_type": "markdown",
   "metadata": {},
   "source": [
    "Dado el problema descrito, la entrada $T$ y el arreglo $a$, definimos la función\n",
    "\n",
    "$$S: \\mathbb{N} \\times \\mathbb{N} \\mapsto \\mathbb{B}$$\n",
    "\n",
    "que recibe como entradas el valor deseado a alcanzar $i$ y las $j$-esimas primeros elementos del arreglo $a$; y retornando como resultado si es posible alcanzar el valor $i$ con los primeros $j$ del arreglo o no."
   ]
  },
  {
   "cell_type": "markdown",
   "metadata": {},
   "source": [
    "##### **Recurrencia que describe la solución**"
   ]
  },
  {
   "cell_type": "markdown",
   "metadata": {},
   "source": [
    "La propuesta para dicha función $S(i,j)$ es la siguiente:\n",
    "\n",
    "$$S(i,j) = \\left \\{\n",
    "        \\begin{array}{lcccr}\n",
    "            \\top & & \\text{si}  & &  i=0 \\\\\n",
    "            \\bot & & \\text{si}  & &  j=0 \\wedge i>0\\\\\n",
    "            S(i,j-1)  & & \\text{si}  & &  a[j-1] > i \\\\\n",
    "            S(i-a[j-1],j-1) \\vee S(i,j-1) & & & &  \\text{en caso contrario} \\\\\n",
    "\n",
    "        \\end{array}\n",
    "    \\right.$$\n",
    "\n",
    "Podemos justificar el porque de esta función recursiva:\n",
    "\n",
    "1. Para el caso en el que el valor deseado sea $0$ (Descrito como $i=0$) no es necesario revisar los elementos del arreglo ya que trivialmente ya tenemos el resultado deseado, por consiguiente, se devuelve verdadero o $\\top$.\n",
    "2. Cuando ya cubrimos todas las posibles denominaciones posibles y el valor deseado no se ha alcanzado (Descrito como $j=0 \\wedge i>0$) significa que no existe una combinación válida que haya cumplido el subproblema propuesto. Esto significa que el subproblema no tiene solución y por ende la respuesta es falso o $\\bot$\n",
    "3. Cuando el valor del último elemento ubicado en en el conjunto cubierto es mayor al valor deseado (Descrito como $a[j-1] > i$) significa que no existe una solución para este subproblema que involucre que la denominación $a[j-1]$. Por consiguiente, la solución de este subproblema es equivalente a la solución del mismo subproblema pero sin incluir el último, lo que se describe como $S(i,j-1)$\n",
    "4. Cuando ninguno de los casos anteriores se aplicaron, significa que tenemos tres posibles situaciones; y dado que es un problema de identificar la existencia de una solución, unimos los resultados con el operador $\\vee$. Las situaciones a considerar son:\n",
    "\n",
    "    4.1 Se incluye el último elemento en la suma: $S(i-a[j-1],j-1)$\n",
    "\n",
    "    4.2 No se incluye el último elemento en la suma: $S(i,j-1)$\n",
    "\n",
    "\n",
    "Dado el enfoque en casos bases e identificar el subproblema que deriva la existencia de una solución, se puede concluir que esta función permite obtener la solución del problema que se puede escribir como:\n",
    "\n",
    "$$S(T,n)$$\n"
   ]
  },
  {
   "cell_type": "markdown",
   "metadata": {},
   "source": [
    "##### **Grafo de Necesidades**"
   ]
  },
  {
   "cell_type": "markdown",
   "metadata": {},
   "source": [
    "##### **Diseño e implementación del algoritmo de Programación Dinamica**"
   ]
  },
  {
   "cell_type": "code",
   "execution_count": 35,
   "metadata": {},
   "outputs": [
    {
     "name": "stdout",
     "output_type": "stream",
     "text": [
      "A partir de [15 26  3 12 12], el valor 30 se logra sumando [15  3 12]\n"
     ]
    }
   ],
   "source": [
    "import numpy as np\n",
    "\n",
    "def DynamicProgrammingSum_Array(P,a):\n",
    "    \"\"\"\n",
    "    Find the a subset which sum equals to P.\n",
    "\n",
    "    Parameters:\n",
    "    P (int): Value to reach in sum.\n",
    "    a (integer numpy array): Array of integer elements.\n",
    "\n",
    "    Returns:\n",
    "    (boolean numpy array): Boolean array representing the a subset.\n",
    "    \"\"\"\n",
    "    #Use dynamic programming to solve the problem\n",
    "    n = len(a)\n",
    "    S = np.zeros((P+1, n+1), dtype=bool)\n",
    "    for i in range(S.shape[0]):\n",
    "        for j in range(S.shape[1]):\n",
    "            if i==0: S[i,j] = True\n",
    "            elif j==0 and i>0: S[i,j] = False\n",
    "            elif a[j-1]>i: S[i,j] = S[i,j-1]\n",
    "            else: S[i,j] = S[i-a[j-1],j-1] or S[i,j-1]\n",
    "    #Recover the configuration that got the solution\n",
    "    if not S[P,n]: return None\n",
    "    answer = np.zeros(n, dtype=bool)\n",
    "    i = P\n",
    "    j = n\n",
    "    while i>0:\n",
    "        if S[i-a[j-1],j-1]:\n",
    "            answer[j-1] = True\n",
    "            i-=a[j-1]\n",
    "        j-=1\n",
    "    return answer\n",
    "        \n",
    "a = np.array([15,26,3,12,12])\n",
    "P = 30\n",
    "\n",
    "answer = DynamicProgrammingSum_Array(P,a)\n",
    "\n",
    "if answer is not None: print(f'A partir de {a}, el valor {P} se logra sumando', a[answer])\n",
    "else: print(f'A partir de {a}, no hay forma de obtener {P}')\n"
   ]
  },
  {
   "cell_type": "markdown",
   "metadata": {},
   "source": [
    "#### *Ejercicio 2*\n",
    "\n",
    "Dada una matriz (no necesariamente cuadrada) de unos y ceros, encontrar la cantidad de filas y columnas de la submatriz cuadrada más grande, tal que todos los elementos de dicha submatriz sean iguales a 1"
   ]
  },
  {
   "cell_type": "markdown",
   "metadata": {},
   "source": [
    "##### **Formalización**"
   ]
  },
  {
   "cell_type": "markdown",
   "metadata": {},
   "source": [
    "##### **Función que describe el problema**"
   ]
  },
  {
   "cell_type": "markdown",
   "metadata": {},
   "source": [
    "##### **Recurrencia que describe la solución**"
   ]
  },
  {
   "cell_type": "markdown",
   "metadata": {},
   "source": [
    "##### **Grafo de Necesidades**"
   ]
  },
  {
   "cell_type": "markdown",
   "metadata": {},
   "source": [
    "##### **Diseño e implementación del algoritmo de Programación Dinamica**"
   ]
  },
  {
   "cell_type": "markdown",
   "metadata": {},
   "source": [
    "#### *Ejercicio 3*\n",
    "\n",
    "Desarrollar un programa que cuente la cantidad de números de N dígitos en base 4 que no tengan ceros adyacentes. Por ejemplo, para N=10 un número válido sería 3011203320 mientras que uno inválido sería 2113002021"
   ]
  },
  {
   "cell_type": "markdown",
   "metadata": {},
   "source": [
    "##### **Formalización**"
   ]
  },
  {
   "cell_type": "markdown",
   "metadata": {},
   "source": [
    "##### **Función que describe el problema**"
   ]
  },
  {
   "cell_type": "markdown",
   "metadata": {},
   "source": [
    "##### **Recurrencia que describe la solución**"
   ]
  },
  {
   "cell_type": "markdown",
   "metadata": {},
   "source": [
    "##### **Grafo de Necesidades**"
   ]
  },
  {
   "cell_type": "markdown",
   "metadata": {},
   "source": [
    "##### **Diseño e implementación del algoritmo de Programación Dinamica**"
   ]
  },
  {
   "cell_type": "markdown",
   "metadata": {},
   "source": [
    "#### *Ejercicio 4*\n",
    "\n",
    "En un juego de video el protagonista tiene que atravesar un recorrido lineal de N metros. En cada metro pueden ocurrir una de dos cosas:\n",
    "\n",
    "1. Hay un trampolín que le permite saltar una cantidad de metros entre 2 y K hacia adelante. El protagonista puede decidir si usa el trampolín para saltar o si simplemente camina un metro hacia adelante.\n",
    "2. Hay un abismo en el que si cae, pierde el juego.\n",
    "\n",
    "Se debe desarrollar un programa que determine si existe algúna forma de llegar al final del recorrido. Se debe llegar exactamente al metro N porque después de este metro hay un abismo.\n"
   ]
  },
  {
   "cell_type": "markdown",
   "metadata": {},
   "source": [
    "##### **Formalización**"
   ]
  },
  {
   "cell_type": "markdown",
   "metadata": {},
   "source": [
    "##### **Función que describe el problema**"
   ]
  },
  {
   "cell_type": "markdown",
   "metadata": {},
   "source": [
    "##### **Recurrencia que describe la solución**"
   ]
  },
  {
   "cell_type": "markdown",
   "metadata": {},
   "source": [
    "##### **Grafo de Necesidades**"
   ]
  },
  {
   "cell_type": "markdown",
   "metadata": {},
   "source": [
    "##### **Diseño e implementación del algoritmo de Programación Dinamica**"
   ]
  }
 ],
 "metadata": {
  "kernelspec": {
   "display_name": "Python 3",
   "language": "python",
   "name": "python3"
  },
  "language_info": {
   "codemirror_mode": {
    "name": "ipython",
    "version": 3
   },
   "file_extension": ".py",
   "mimetype": "text/x-python",
   "name": "python",
   "nbconvert_exporter": "python",
   "pygments_lexer": "ipython3",
   "version": "3.11.9"
  }
 },
 "nbformat": 4,
 "nbformat_minor": 2
}
