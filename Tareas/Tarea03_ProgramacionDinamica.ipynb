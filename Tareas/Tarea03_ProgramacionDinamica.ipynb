{
 "cells": [
  {
   "cell_type": "markdown",
   "metadata": {},
   "source": [
    "# Desarrollo Tarea 3\n",
    "\n",
    "#### **Estudiante:** Omar David Toledo Leguizamón"
   ]
  },
  {
   "cell_type": "markdown",
   "metadata": {},
   "source": [
    "## Parte 1. El problema de las vueltas"
   ]
  },
  {
   "cell_type": "markdown",
   "metadata": {},
   "source": [
    "#### **1. Formalización del problema**"
   ]
  },
  {
   "cell_type": "markdown",
   "metadata": {},
   "source": [
    "Para formalizar este problema, debemos entender que nuestro objetivo es determinar la cantidad mínima de monedas, de un conjunto de denomincación, necesarias para alcanzar un valor deseado. Dado esto, podemos definir:\n",
    "\n",
    "* **Entradas**: Para este problema, se tendrán dos entradas. La primera es un número entero no negativo $P$ que representa el valor deseado que se busca alcanzar con las monedas dispuestas. La segunda entrada, es un arreglo de enteros no negativos $a$ que contiene las diferentes denominaciones que se pueden usar para hallar la solución, el cual, definiremos que tiene un total de $n$ elementos.\n",
    "* **Salidas**:\n",
    "* **Precondición**:\n",
    "* **Postcondición**:\n"
   ]
  },
  {
   "cell_type": "markdown",
   "metadata": {},
   "source": [
    "#### **2. Función que representa el problema**\n",
    "\n",
    "Dado el problema descrito y la entrada $P$ y el arreglo $a = \\{d_1,d_2,...,d_n \\}$. A partir de estos, definimos la función\n",
    "\n",
    "$$C: \\mathbb{N} \\times \\mathbb{N} \\mapsto \\mathbb{N} \\cup \\{\\infty\\} $$\n",
    "\n",
    "que recibe como entradas el valor deseado a alcanzar $i$ y las $j$-esimas primeras denominaciones del arreglo $a$; y retornando como resultado la cantidad mínima de monedas necesarias para obtener el valor deseado dadas las condiciones descritas por las entradas.\n",
    "\n",
    "La propuesta para dicha función $C(i,j)$ es la siguiente:\n",
    "\n",
    "\\begin{array}{rcl}\n",
    "    C(i,j) & = &\\left \\{\n",
    "        \\begin{array}{lcccr}\n",
    "            0 & & \\text{si}  & &  i=0 \\\\\n",
    "            \\infty & & \\text{si}  & &  j=0 \\wedge i>0\\\\\n",
    "            C(i,j-1)  & & \\text{si}  & &  a[j-1] > i \\\\\n",
    "            \\min(C(i-a[j-1],j)+1 , C(i-a[j-1],j-1)+1 , C(i,j-1))  & & & &  \\text{en caso contrario} \\\\\n",
    "\n",
    "        \\end{array}\n",
    "    \\right.\n",
    "\n",
    "\\end{array}\n",
    "\n",
    "Adicionalmente, es importante agregar que:\n",
    "\n",
    "$$\\exist _{i,j \\in \\mathbb{N}} \\,\\, C(i,j) = \\infty \\quad \\Longrightarrow \\quad \\text{No hay forma de obtener }i \\text{ a partir de monedas de denominación }d_1,d_2,...,d_{j-1}$$\n",
    "\n",
    "Podemos justificar el porque de esta función recursiva:\n",
    "\n",
    "1. Para el caso en el que el valor deseado sea $0$ (Descrito como $i=0$) no debemos elegir monedas de alguna denominación ya que por trivialidad ya tenemos el objetivo deseado. Dado esto, definimos que en este caso la cantidad de monedas es 0.\n",
    "2. Cuando ya cubrimos todas las posibles denominaciones posibles y el valor deseado no se ha alcanzado (Descrito como $j=0 \\wedge i>0$) significa que no existe una combinación válida que haya cumplido el subproblema propuesto. Esto significa que el subproblema no tiene solución y por ende la respuesta es $\\infty$\n",
    "3. Cuando el valor de la última denominación ubicada en en el conjunto cubierto $d_{j-1}$ es mayor al valor deseado (Descrito como $a[j-1] > i$) significa que no existe una solución para este subproblema que involucre que la denominación $d_{j-1}$. Por consiguiente, la solución de este subproblema es equivalente a la solución del mismo subproblema pero sin incluir la última denominación, lo que se describe como $C(i,j-1)$\n",
    "4. Cuando ninguno de los casos anteriores se aplicaron, significa que tenemos tres posibles situaciones; y dado que es un problema de minimización, elegimos el resultado mas pequeño de las tres. Las situaciones a considerar son:\n",
    "\n",
    "    4.1 Se incluye una moneda de denominación $d_{j-1}$ y se sigue considerando como posible opción para incluir nuevamente: $C(i-a[j-1],j)+1 $\n",
    "\n",
    "    4.2 Se incluye una moneda de denominación $d_{j-1}$ y se deja de considerar como posible opción para incluir: $C(i-a[j-1],j-1)+1 $\n",
    "    \n",
    "    4.3 No se incluye una moneda de denominación $d_{j-1}$ y se deja de considerar como posible opción para incluir: $C(i-a[j-1],j-1)+1 $\n",
    "\n",
    "Dado el enfoque en casos bases e identificar el subproblema que deriva a una solución con una menor cantidad de monedas, se puede concluir que esta función permite obtener la solución óptima del problema, el cual se puede escribir como:\n",
    "\n",
    "$$C(P,n)$$\n"
   ]
  }
 ],
 "metadata": {
  "language_info": {
   "name": "python"
  }
 },
 "nbformat": 4,
 "nbformat_minor": 2
}
