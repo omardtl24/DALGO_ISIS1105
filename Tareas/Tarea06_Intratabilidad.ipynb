{
 "cells": [
  {
   "cell_type": "markdown",
   "metadata": {},
   "source": [
    "# Desarrollo Tarea 6\n",
    "\n",
    "#### **Estudiantes:** \n",
    "* Omar David Toledo Leguizamón (202424446)\n",
    "* Juan David Camargo (202220493)"
   ]
  },
  {
   "cell_type": "markdown",
   "metadata": {},
   "source": [
    "1. Para los problemas a continuación realizar:\n",
    "\n",
    "* Especificar formalmente el problema de optimización\n",
    "* Especificar formalmente el problema de decisión asociado\n",
    "* Especificar formalmente el problema de verificación asociado\n",
    "* Diseñar un algoritmo que en tiempo polinomial resuelva el problema de verificación\n",
    "* Para solucionar el problema de decisión siguiendo la estrategia de exploración de grafos vista en el curso, realizar los siguientes pasos:\n",
    "\n",
    "    *  Describir el espacio de estados para el problema\n",
    "    *  Especificar formalmente la condición de satisfacibilidad\n",
    "    *  Proponer un estado inicial\n",
    "    * Definir una función sucesor para cualquier estado. Determinar si esta funcion induce ciclos en el grafo de exploración y por lo tanto se deben marcar estados.\n",
    "    * En caso de ser posible, proponer una función de corte de ramas del grafo de exploración (función dominó o de viabilidad)\n",
    "\n"
   ]
  },
  {
   "cell_type": "markdown",
   "metadata": {},
   "source": [
    "### Problema 1"
   ]
  },
  {
   "cell_type": "markdown",
   "metadata": {},
   "source": [
    "La alcaldía de Bogotá decidió comprar unas cámaras de vigilancia para la ciudad que tienen la capacidad de realizar video en 360 grados. Esto permite ubicarlas en intersecciones entre calles de manera tal que una camara en una intersección permite vigilar al tiempo todas las calles que desemboquen a dicha intersección. Dado un mapa de calles e intersecciones de la ciudad, el distrito está interesado en saber el número mínimo de intersecciones en las que debe ubicar cámaras de manera tal que todas las calles queden vigiladas."
   ]
  },
  {
   "cell_type": "markdown",
   "metadata": {},
   "source": [
    "#### Especificación del problema de Optimización"
   ]
  },
  {
   "cell_type": "markdown",
   "metadata": {},
   "source": [
    "| E/S | Nombre | Tipo | Descripción |\n",
    "|-|-|-|-|\n",
    "\n",
    "\n",
    "$Q: \\{\\}$\n",
    "\n",
    "$R: \\{  \\}$"
   ]
  },
  {
   "cell_type": "markdown",
   "metadata": {
    "vscode": {
     "languageId": "plaintext"
    }
   },
   "source": [
    "#### Especificación del problema de Decisión"
   ]
  },
  {
   "cell_type": "markdown",
   "metadata": {},
   "source": [
    "| E/S | Nombre | Tipo | Descripción |\n",
    "|-|-|-|-|\n",
    "\n",
    "\n",
    "$Q: \\{\\}$\n",
    "\n",
    "$R: \\{  \\}$"
   ]
  },
  {
   "cell_type": "markdown",
   "metadata": {},
   "source": [
    "#### Especificación del problema de Verificación"
   ]
  },
  {
   "cell_type": "markdown",
   "metadata": {},
   "source": [
    "| E/S | Nombre | Tipo | Descripción |\n",
    "|-|-|-|-|\n",
    "\n",
    "\n",
    "$Q: \\{\\}$\n",
    "\n",
    "$R: \\{  \\}$"
   ]
  },
  {
   "cell_type": "markdown",
   "metadata": {},
   "source": [
    "### Problema 2"
   ]
  },
  {
   "cell_type": "markdown",
   "metadata": {},
   "source": [
    "Se diseñó un curso intensivo de un día que se va a dictar varias veces para atender a todos los estudiantes interesados. Se definieron unos días posibles en los que se va a dictar el curso y se\n",
    "pidió a los interesados en el curso que seleccionaran los dias en los que tendrían disponibilidad\n",
    "para tomarlo. Se desea encontrar el mínimo número de dias en los que se debe dictar el curso para\n",
    "atender a todos los estudiantes interesados"
   ]
  },
  {
   "cell_type": "markdown",
   "metadata": {},
   "source": [
    "#### Especificación del problema de Optimización"
   ]
  },
  {
   "cell_type": "markdown",
   "metadata": {},
   "source": [
    "| E/S | Nombre | Tipo | Descripción |\n",
    "|-|-|-|-|\n",
    "\n",
    "\n",
    "$Q: \\{\\}$\n",
    "\n",
    "$R: \\{  \\}$"
   ]
  },
  {
   "cell_type": "markdown",
   "metadata": {},
   "source": [
    "#### Especificación del problema de Decisión"
   ]
  },
  {
   "cell_type": "markdown",
   "metadata": {},
   "source": [
    "| E/S | Nombre | Tipo | Descripción |\n",
    "|-|-|-|-|\n",
    "\n",
    "\n",
    "$Q: \\{\\}$\n",
    "\n",
    "$R: \\{  \\}$"
   ]
  },
  {
   "cell_type": "markdown",
   "metadata": {},
   "source": [
    "#### Especificación del problema de Verificación"
   ]
  },
  {
   "cell_type": "markdown",
   "metadata": {},
   "source": [
    "| E/S | Nombre | Tipo | Descripción |\n",
    "|-|-|-|-|\n",
    "\n",
    "\n",
    "$Q: \\{\\}$\n",
    "\n",
    "$R: \\{  \\}$"
   ]
  },
  {
   "cell_type": "markdown",
   "metadata": {},
   "source": [
    "## Problema 3"
   ]
  },
  {
   "cell_type": "markdown",
   "metadata": {},
   "source": [
    "Juan quiere invitar a sus amigos a conocer su nuevo apartamento. Sin embargo tiene la dificultad\n",
    "de que sus amigos son algo conflictivos y entonces sabe que varias parejas de amigos se han\n",
    "peleado entre ellos. Debido a esto, tomó la decisión de organizar dos reuniones.\n",
    "\n",
    "Desafortunadamente, Juan ya se dió cuenta que no es posible distribuir a sus amigos en dos grupos\n",
    "de tal manera que dentro de cada grupo no haya parejas de personas que se hayan peleado entre\n",
    "ellas. El objetivo entonces es desarrollar un programa que reciba los amigos de Juan y las parejas\n",
    "de amigos que tienen conflictos y distribuya los amigos en dos grupos, de tal modo que para la\n",
    "mayor cantidad posible de parejas con conflicto, los dos miembros de la pareja queden en grupos\n",
    "separados.\n"
   ]
  },
  {
   "cell_type": "markdown",
   "metadata": {},
   "source": [
    "#### Especificación del problema de Optimización"
   ]
  },
  {
   "cell_type": "markdown",
   "metadata": {},
   "source": [
    "| E/S | Nombre | Tipo | Descripción |\n",
    "|-|-|-|-|\n",
    "| E | P | **Array**[0,n) of **String** | Nombres de las personas que son amigos de Juan |\n",
    "| E | C | **Set** of **Tuples** of **String** | Parejas de amigos de Juan que estan peleados |\n",
    "| S | D1 | **Array**[0,n) of  **bool** | Conjunto de personas que pueden ir el primer día que minimiza la cantidad de peleas|\n",
    "\n",
    "##### Funciones de Apoyo\n",
    "\n",
    "$\\texttt{contains}(A,c) = (\\exists i \\in \\mathbb{N} \\, | \\, 0 \\leq i < A.\\texttt{length} : A[i] = c)$\n",
    "\n",
    "$\\texttt{toSet}(A) = \\{ x : i \\in \\mathbb{N} \\wedge 0 \\leq i < A.\\texttt{length} \\wedge x = A[i]  \\}$\n",
    "\n",
    "$\\texttt{getSubset}(A,B) = \\{ x : i \\in \\mathbb{N} \\wedge 0 \\leq i < A.\\texttt{length} \\wedge B[i] = \\texttt{true} \\wedge x = A[i]  \\}$\n",
    "\n",
    "$\\texttt{areFighting}(a,b,C) = ( \\exist (u,v) \\in C : u=a \\wedge v=b)$\n",
    "\n",
    "$\\texttt{countFights}(S,C) = ( + \\, (u,v) \\in S \\times S \\, | \\, \\texttt{areFighting}(u,v,C) : 1)$\n",
    "\n",
    "\n",
    "##### Especificación\n",
    "\n",
    "$Q: \\{ \\forall (p_1 , p_2) \\in C : \\texttt{contains}(P,p_1) \\wedge \\texttt{contains}(P,p_2) \\wedge p_1 \\neq p_2\\}$\n",
    "\n",
    "$R: \\left\\{ \n",
    "    \\begin{array}{l}\n",
    "        S = \\texttt{toSet}(P) \\,\\, \\wedge  \\\\ S_{D1} = \\texttt{getSubset}(P,D1) \\,\\, \\wedge \\\\ \\left(\\forall S' \\in \\mathcal{P}(S) : \\texttt{countFights}(S_{D1},C) + \\texttt{countFights}(S - S_{D1},C) \\leq \\texttt{countFights}(S',C) + \\texttt{countFights}(S - S',C) \\right)\n",
    "    \\end{array}\n",
    "    \\right\\}$"
   ]
  },
  {
   "cell_type": "markdown",
   "metadata": {},
   "source": [
    "#### Especificación del problema de Decisión"
   ]
  },
  {
   "cell_type": "markdown",
   "metadata": {},
   "source": [
    "| E/S | Nombre | Tipo | Descripción |\n",
    "|-|-|-|-|\n",
    "| E | P | **Array**[0,n) of **String** | Nombres de las personas que son amigos de Juan |\n",
    "| E | C | **Set** of **Tuples** of **String** | Parejas de amigos de Juan que estan peleados |\n",
    "| E | T | **nat** | Cantidad máxima de peleas que se van a tolerar |\n",
    "| S | b | **bool** | ¿Se puede distribuir a las personas de tal forma que hayan $T$ peleas o menos? |\n",
    "\n",
    "##### Funciones de Apoyo\n",
    "\n",
    "$\\texttt{contains}(A,c) = (\\exists i \\in \\mathbb{N} \\, | \\, 0 \\leq i < A.\\texttt{length} : A[i] = c)$\n",
    "\n",
    "$\\texttt{toSet}(A) = \\{ x : i \\in \\mathbb{N} \\wedge 0 \\leq i < A.\\texttt{length} \\wedge x = A[i]  \\}$\n",
    "\n",
    "$\\texttt{areFighting}(a,b,C) = ( \\exist (u,v) \\in C : u=a \\wedge v=b)$\n",
    "\n",
    "$\\texttt{countFights}(S,C) = ( + \\, (u,v) \\in S \\times S \\, | \\, \\texttt{areFighting}(u,v,C) : 1)$\n",
    "\n",
    "##### Especificación\n",
    "\n",
    "$Q: \\{ \\forall (p_1 , p_2) \\in C : \\texttt{contains}(P,p_1) \\wedge \\texttt{contains}(P,p_2) \\wedge p_1 \\neq p_2\\}$\n",
    "\n",
    "$R: \\left\\{ \n",
    "    \\begin{array}{l}\n",
    "        S = \\texttt{toSet}(P) \\,\\, \\wedge  \\\\\n",
    "        b \\equiv \\left(\\exists S' \\in \\mathcal{P}(S) : \\texttt{countFights}(S',C) + \\texttt{countFights}(S - S',C) \\leq T \\right)\n",
    "    \\end{array}\n",
    "    \\right\\}$"
   ]
  },
  {
   "cell_type": "markdown",
   "metadata": {},
   "source": [
    "#### Especificación del problema de Verificación"
   ]
  },
  {
   "cell_type": "markdown",
   "metadata": {},
   "source": [
    "| E/S | Nombre | Tipo | Descripción |\n",
    "|-|-|-|-|\n",
    "| E | P | **Array**[0,n) of **String** | Nombres de las personas que son amigos de Juan |\n",
    "| E | C | **Set** of **Tuples** of **String** | Parejas de amigos de Juan que estan peleados |\n",
    "| E | D1 | **Array**[0,n) of  **bool** | Conjunto de personas que iran el primer a verificar |\n",
    "| E | T | **nat** | Cantidad máxima de peleas que se van a tolerar |\n",
    "| S | b | **bool** | ¿La entrada D1 representa una distribución de personas en la que hay $T$ peleas o menos? |\n",
    "\n",
    "##### Funciones de Apoyo\n",
    "\n",
    "$\\texttt{contains}(A,c) = (\\exists i \\in \\mathbb{N} \\, | \\, 0 \\leq i < A.\\texttt{length} : A[i] = c)$\n",
    "\n",
    "$\\texttt{toSet}(A) = \\{ x : i \\in \\mathbb{N} \\wedge 0 \\leq i < A.\\texttt{length} \\wedge x = A[i]  \\}$\n",
    "\n",
    "$\\texttt{getSubset}(A,B) = \\{ x : i \\in \\mathbb{N} \\wedge 0 \\leq i < A.\\texttt{length} \\wedge B[i] = \\texttt{true} \\wedge x = A[i]  \\}$\n",
    "\n",
    "$\\texttt{areFighting}(a,b,C) = ( \\exist (u,v) \\in C : u=a \\wedge v=b)$\n",
    "\n",
    "$\\texttt{countFights}(S,C) = ( + \\, (u,v) \\in S \\times S \\, | \\, \\texttt{areFighting}(u,v,C) : 1)$\n",
    "\n",
    "##### Especificación\n",
    "\n",
    "$Q: \\{ \\forall (p_1 , p_2) \\in C : \\texttt{contains}(P,p_1) \\wedge \\texttt{contains}(P,p_2) \\wedge p_1 \\neq p_2\\}$\n",
    "\n",
    "$R: \\left\\{ \n",
    "    \\begin{array}{l}\n",
    "        S = \\texttt{toSet}(P) \\,\\, \\wedge  \\\\\n",
    "        S_{D1} = \\texttt{getSubset}(P,D1) \\,\\, \\wedge  \\\\\n",
    "        b \\equiv \\left( \\texttt{countFights}(S_{D1},C) + \\texttt{countFights}(S - S_{D1},C) \\leq T \\right)\n",
    "    \\end{array}\n",
    "    \\right\\}$"
   ]
  },
  {
   "cell_type": "markdown",
   "metadata": {},
   "source": [
    "### Algoritmo en tiempo polinomial para el problema de Verificación"
   ]
  },
  {
   "cell_type": "code",
   "execution_count": null,
   "metadata": {},
   "outputs": [],
   "source": [
    "def areFighting(a,b,C):\n",
    "    return (a,b) in C or (b,a) in C\n",
    "\n",
    "def verifySolution(P, C, D1, T):\n",
    "    SD1 = []\n",
    "    SD2 = []\n",
    "\n",
    "    for i in range(len(D1)):\n",
    "        if D1[i]: SD1.append(P[i])\n",
    "        else: SD2.append(P[i])\n",
    "    \n",
    "    fightsD1 = 0\n",
    "    for i in range(len(SD1)-1):\n",
    "        for j in range(i+1,len(SD1)):\n",
    "            fightsD1 += 1 if areFighting(SD1[i],SD1[j],C) else 0\n",
    "    \n",
    "    fightsD2 = 0\n",
    "    for i in range(len(SD2)-1):\n",
    "        for j in range(i+1,len(SD2)):\n",
    "            fightsD2 += 1 if areFighting(SD2[i],SD2[j],C) else 0\n",
    "\n",
    "    return fightsD2 + fightsD1 <= T\n",
    "\n",
    "\n"
   ]
  }
 ],
 "metadata": {
  "language_info": {
   "name": "python"
  }
 },
 "nbformat": 4,
 "nbformat_minor": 2
}
