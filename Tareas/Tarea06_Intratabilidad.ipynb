{
 "cells": [
  {
   "cell_type": "markdown",
   "metadata": {},
   "source": [
    "# Desarrollo Tarea 6\n",
    "\n",
    "#### **Estudiantes:** \n",
    "* Omar David Toledo Leguizamón (202424446)\n",
    "* Juan David Camargo (202220493)"
   ]
  },
  {
   "cell_type": "markdown",
   "metadata": {},
   "source": [
    "1. Para los problemas a continuación realizar:\n",
    "\n",
    "* Especificar formalmente el problema de optimización\n",
    "* Especificar formalmente el problema de decisión asociado\n",
    "* Especificar formalmente el problema de verificación asociado\n",
    "* Diseñar un algoritmo que en tiempo polinomial resuelva el problema de verificación\n",
    "* Para solucionar el problema de decisión siguiendo la estrategia de exploración de grafos vista en el curso, realizar los siguientes pasos:\n",
    "\n",
    "    *  Describir el espacio de estados para el problema\n",
    "    *  Especificar formalmente la condición de satisfacibilidad\n",
    "    *  Proponer un estado inicial\n",
    "    * Definir una función sucesor para cualquier estado. Determinar si esta funcion induce ciclos en el grafo de exploración y por lo tanto se deben marcar estados.\n",
    "    * En caso de ser posible, proponer una función de corte de ramas del grafo de exploración (función dominó o de viabilidad)\n",
    "\n"
   ]
  },
  {
   "cell_type": "markdown",
   "metadata": {},
   "source": [
    "### Problema 1"
   ]
  },
  {
   "cell_type": "markdown",
   "metadata": {},
   "source": [
    "La alcaldía de Bogotá decidió comprar unas cámaras de vigilancia para la ciudad que tienen la capacidad de realizar video en 360 grados. Esto permite ubicarlas en intersecciones entre calles de manera tal que una camara en una intersección permite vigilar al tiempo todas las calles que desemboquen a dicha intersección. Dado un mapa de calles e intersecciones de la ciudad, el distrito está interesado en saber el número mínimo de intersecciones en las que debe ubicar cámaras de manera tal que todas las calles queden vigiladas."
   ]
  },
  {
   "cell_type": "markdown",
   "metadata": {},
   "source": [
    "#### Especificación del problema de Optimización"
   ]
  },
  {
   "cell_type": "markdown",
   "metadata": {},
   "source": [
    "| E/S | Nombre | Tipo | Descripción |\n",
    "|-|-|-|-|\n",
    "\n",
    "\n",
    "$Q: \\{\\}$\n",
    "\n",
    "$R: \\{  \\}$"
   ]
  },
  {
   "cell_type": "markdown",
   "metadata": {
    "vscode": {
     "languageId": "plaintext"
    }
   },
   "source": [
    "#### Especificación del problema de Decisión"
   ]
  },
  {
   "cell_type": "markdown",
   "metadata": {},
   "source": [
    "| E/S | Nombre | Tipo | Descripción |\n",
    "|-|-|-|-|\n",
    "\n",
    "\n",
    "$Q: \\{\\}$\n",
    "\n",
    "$R: \\{  \\}$"
   ]
  },
  {
   "cell_type": "markdown",
   "metadata": {},
   "source": [
    "#### Especificación del problema de Verificación"
   ]
  },
  {
   "cell_type": "markdown",
   "metadata": {},
   "source": [
    "| E/S | Nombre | Tipo | Descripción |\n",
    "|-|-|-|-|\n",
    "\n",
    "\n",
    "$Q: \\{\\}$\n",
    "\n",
    "$R: \\{  \\}$"
   ]
  },
  {
   "cell_type": "markdown",
   "metadata": {},
   "source": [
    "### Problema 2"
   ]
  },
  {
   "cell_type": "markdown",
   "metadata": {},
   "source": [
    "Se diseñó un curso intensivo de un día que se va a dictar varias veces para atender a todos los estudiantes interesados. Se definieron unos días posibles en los que se va a dictar el curso y se\n",
    "pidió a los interesados en el curso que seleccionaran los dias en los que tendrían disponibilidad\n",
    "para tomarlo. Se desea encontrar el mínimo número de dias en los que se debe dictar el curso para\n",
    "atender a todos los estudiantes interesados"
   ]
  },
  {
   "cell_type": "markdown",
   "metadata": {},
   "source": [
    "#### Especificación del problema de Optimización"
   ]
  },
  {
   "cell_type": "markdown",
   "metadata": {},
   "source": [
    "| E/S | Nombre | Tipo | Descripción |\n",
    "|-|-|-|-|\n",
    "\n",
    "\n",
    "$Q: \\{\\}$\n",
    "\n",
    "$R: \\{  \\}$"
   ]
  },
  {
   "cell_type": "markdown",
   "metadata": {},
   "source": [
    "#### Especificación del problema de Decisión"
   ]
  },
  {
   "cell_type": "markdown",
   "metadata": {},
   "source": [
    "| E/S | Nombre | Tipo | Descripción |\n",
    "|-|-|-|-|\n",
    "\n",
    "\n",
    "$Q: \\{\\}$\n",
    "\n",
    "$R: \\{  \\}$"
   ]
  },
  {
   "cell_type": "markdown",
   "metadata": {},
   "source": [
    "#### Especificación del problema de Verificación"
   ]
  },
  {
   "cell_type": "markdown",
   "metadata": {},
   "source": [
    "| E/S | Nombre | Tipo | Descripción |\n",
    "|-|-|-|-|\n",
    "\n",
    "\n",
    "$Q: \\{\\}$\n",
    "\n",
    "$R: \\{  \\}$"
   ]
  },
  {
   "cell_type": "markdown",
   "metadata": {},
   "source": [
    "## Problema 3"
   ]
  },
  {
   "cell_type": "markdown",
   "metadata": {},
   "source": [
    "Juan quiere invitar a sus amigos a conocer su nuevo apartamento. Sin embargo tiene la dificultad\n",
    "de que sus amigos son algo conflictivos y entonces sabe que varias parejas de amigos se han\n",
    "peleado entre ellos. Debido a esto, tomó la decisión de organizar dos reuniones.\n",
    "\n",
    "Desafortunadamente, Juan ya se dió cuenta que no es posible distribuir a sus amigos en dos grupos\n",
    "de tal manera que dentro de cada grupo no haya parejas de personas que se hayan peleado entre\n",
    "ellas. El objetivo entonces es desarrollar un programa que reciba los amigos de Juan y las parejas\n",
    "de amigos que tienen conflictos y distribuya los amigos en dos grupos, de tal modo que para la\n",
    "mayor cantidad posible de parejas con conflicto, los dos miembros de la pareja queden en grupos\n",
    "separados.\n"
   ]
  },
  {
   "cell_type": "markdown",
   "metadata": {},
   "source": [
    "#### Especificación del problema de Optimización"
   ]
  },
  {
   "cell_type": "markdown",
   "metadata": {},
   "source": [
    "| E/S | Nombre | Tipo | Descripción |\n",
    "|-|-|-|-|\n",
    "\n",
    "\n",
    "$Q: \\{\\}$\n",
    "\n",
    "$R: \\{  \\}$"
   ]
  },
  {
   "cell_type": "markdown",
   "metadata": {},
   "source": [
    "#### Especificación del problema de Decisión"
   ]
  },
  {
   "cell_type": "markdown",
   "metadata": {},
   "source": [
    "| E/S | Nombre | Tipo | Descripción |\n",
    "|-|-|-|-|\n",
    "\n",
    "\n",
    "$Q: \\{\\}$\n",
    "\n",
    "$R: \\{  \\}$"
   ]
  },
  {
   "cell_type": "markdown",
   "metadata": {},
   "source": [
    "#### Especificación del problema de Verificación"
   ]
  },
  {
   "cell_type": "markdown",
   "metadata": {},
   "source": [
    "| E/S | Nombre | Tipo | Descripción |\n",
    "|-|-|-|-|\n",
    "\n",
    "\n",
    "$Q: \\{\\}$\n",
    "\n",
    "$R: \\{  \\}$"
   ]
  }
 ],
 "metadata": {
  "language_info": {
   "name": "python"
  }
 },
 "nbformat": 4,
 "nbformat_minor": 2
}
