{
 "cells": [
  {
   "cell_type": "markdown",
   "metadata": {},
   "source": [
    "# Desarrollo Tarea 6\n",
    "\n",
    "#### **Estudiantes:** \n",
    "* Omar David Toledo Leguizamón (202424446)\n",
    "* Juan David Camargo (202220493)"
   ]
  },
  {
   "cell_type": "markdown",
   "metadata": {},
   "source": [
    "1. Para los problemas a continuación realizar:\n",
    "\n",
    "* Especificar formalmente el problema de optimización\n",
    "* Especificar formalmente el problema de decisión asociado\n",
    "* Especificar formalmente el problema de verificación asociado\n",
    "* Diseñar un algoritmo que en tiempo polinomial resuelva el problema de verificación\n",
    "* Para solucionar el problema de decisión siguiendo la estrategia de exploración de grafos vista en el curso, realizar los siguientes pasos:\n",
    "\n",
    "    *  Describir el espacio de estados para el problema\n",
    "    *  Especificar formalmente la condición de satisfacibilidad\n",
    "    *  Proponer un estado inicial\n",
    "    * Definir una función sucesor para cualquier estado. Determinar si esta funcion induce ciclos en el grafo de exploración y por lo tanto se deben marcar estados.\n",
    "    * En caso de ser posible, proponer una función de corte de ramas del grafo de exploración (función dominó o de viabilidad)\n",
    "\n"
   ]
  },
  {
   "cell_type": "markdown",
   "metadata": {},
   "source": [
    "### Problema 1"
   ]
  },
  {
   "cell_type": "markdown",
   "metadata": {},
   "source": [
    "La alcaldía de Bogotá decidió comprar unas cámaras de vigilancia para la ciudad que tienen la capacidad de realizar video en 360 grados. Esto permite ubicarlas en intersecciones entre calles de manera tal que una camara en una intersección permite vigilar al tiempo todas las calles que desemboquen a dicha intersección. Dado un mapa de calles e intersecciones de la ciudad, el distrito está interesado en saber el número mínimo de intersecciones en las que debe ubicar cámaras de manera tal que todas las calles queden vigiladas."
   ]
  },
  {
   "cell_type": "markdown",
   "metadata": {},
   "source": [
    "#### Especificación del problema de Optimización"
   ]
  },
  {
   "cell_type": "markdown",
   "metadata": {},
   "source": [
    "| E/S | Nombre | Tipo | Descripción |\n",
    "|-|-|-|-|\n",
    "\n",
    "\n",
    "$Q: \\{\\}$\n",
    "\n",
    "$R: \\{  \\}$"
   ]
  },
  {
   "cell_type": "markdown",
   "metadata": {
    "vscode": {
     "languageId": "plaintext"
    }
   },
   "source": [
    "#### Especificación del problema de Decisión"
   ]
  },
  {
   "cell_type": "markdown",
   "metadata": {},
   "source": [
    "| E/S | Nombre | Tipo | Descripción |\n",
    "|-|-|-|-|\n",
    "\n",
    "\n",
    "$Q: \\{\\}$\n",
    "\n",
    "$R: \\{  \\}$"
   ]
  },
  {
   "cell_type": "markdown",
   "metadata": {},
   "source": [
    "#### Especificación del problema de Verificación"
   ]
  },
  {
   "cell_type": "markdown",
   "metadata": {},
   "source": [
    "| E/S | Nombre | Tipo | Descripción |\n",
    "|-|-|-|-|\n",
    "\n",
    "\n",
    "$Q: \\{\\}$\n",
    "\n",
    "$R: \\{  \\}$"
   ]
  },
  {
   "cell_type": "markdown",
   "metadata": {},
   "source": [
    "### Problema 2"
   ]
  },
  {
   "cell_type": "markdown",
   "metadata": {},
   "source": [
    "Se diseñó un curso intensivo de un día que se va a dictar varias veces para atender a todos los estudiantes interesados. Se definieron unos días posibles en los que se va a dictar el curso y se\n",
    "pidió a los interesados en el curso que seleccionaran los dias en los que tendrían disponibilidad\n",
    "para tomarlo. Se desea encontrar el mínimo número de dias en los que se debe dictar el curso para\n",
    "atender a todos los estudiantes interesados"
   ]
  },
  {
   "cell_type": "markdown",
   "metadata": {},
   "source": [
    "#### Especificación del problema de Optimización"
   ]
  },
  {
   "cell_type": "markdown",
   "metadata": {},
   "source": [
    "| E/S | Nombre | Tipo | Descripción |\n",
    "|-|-|-|-|\n",
    "\n",
    "\n",
    "$Q: \\{\\}$\n",
    "\n",
    "$R: \\{  \\}$"
   ]
  },
  {
   "cell_type": "markdown",
   "metadata": {},
   "source": [
    "#### Especificación del problema de Decisión"
   ]
  },
  {
   "cell_type": "markdown",
   "metadata": {},
   "source": [
    "| E/S | Nombre | Tipo | Descripción |\n",
    "|-|-|-|-|\n",
    "\n",
    "\n",
    "$Q: \\{\\}$\n",
    "\n",
    "$R: \\{  \\}$"
   ]
  },
  {
   "cell_type": "markdown",
   "metadata": {},
   "source": [
    "#### Especificación del problema de Verificación"
   ]
  },
  {
   "cell_type": "markdown",
   "metadata": {},
   "source": [
    "| E/S | Nombre | Tipo | Descripción |\n",
    "|-|-|-|-|\n",
    "\n",
    "\n",
    "$Q: \\{\\}$\n",
    "\n",
    "$R: \\{  \\}$"
   ]
  },
  {
   "cell_type": "markdown",
   "metadata": {},
   "source": [
    "## Problema 3"
   ]
  },
  {
   "cell_type": "markdown",
   "metadata": {},
   "source": [
    "Juan quiere invitar a sus amigos a conocer su nuevo apartamento. Sin embargo tiene la dificultad\n",
    "de que sus amigos son algo conflictivos y entonces sabe que varias parejas de amigos se han\n",
    "peleado entre ellos. Debido a esto, tomó la decisión de organizar dos reuniones.\n",
    "\n",
    "Desafortunadamente, Juan ya se dió cuenta que no es posible distribuir a sus amigos en dos grupos\n",
    "de tal manera que dentro de cada grupo no haya parejas de personas que se hayan peleado entre\n",
    "ellas. El objetivo entonces es desarrollar un programa que reciba los amigos de Juan y las parejas\n",
    "de amigos que tienen conflictos y distribuya los amigos en dos grupos, de tal modo que para la\n",
    "mayor cantidad posible de parejas con conflicto, los dos miembros de la pareja queden en grupos\n",
    "separados.\n"
   ]
  },
  {
   "cell_type": "markdown",
   "metadata": {},
   "source": [
    "#### Especificación del problema de Optimización"
   ]
  },
  {
   "cell_type": "markdown",
   "metadata": {},
   "source": [
    "| E/S | Nombre | Tipo | Descripción |\n",
    "|-|-|-|-|\n",
    "| E | P | **Array**[0,n) of **String** | Nombres de las personas que son amigos de Juan |\n",
    "| E | C | **Set** of **Tuples** of **String** | Parejas de amigos de Juan que estan peleados |\n",
    "| S | D1 | **Array**[0,n) of  **bool** | Conjunto de personas que pueden ir el primer día que minimiza la cantidad de peleas|\n",
    "\n",
    "##### Funciones de Apoyo\n",
    "\n",
    "$\\texttt{contains}(A,c) = (\\exists i \\in \\mathbb{N} \\, | \\, 0 \\leq i < A.\\texttt{length} : A[i] = c)$\n",
    "\n",
    "$\\texttt{toSet}(A) = \\{ x : i \\in \\mathbb{N} \\wedge 0 \\leq i < A.\\texttt{length} \\wedge x = A[i]  \\}$\n",
    "\n",
    "$\\texttt{getSubset}(A,B) = \\{ x : i \\in \\mathbb{N} \\wedge 0 \\leq i < A.\\texttt{length} \\wedge B[i] = \\texttt{true} \\wedge x = A[i]  \\}$\n",
    "\n",
    "$\\texttt{countFights}(S1,S2,C) = ( + \\, (u,v) \\in C \\, | \\, (u \\in S1 \\wedge v \\in S1) \\vee (u \\in S2 \\wedge v \\in S2) : 1)$\n",
    "\n",
    "\n",
    "##### Especificación\n",
    "\n",
    "$Q: \\{ \\forall (p_1 , p_2) \\in C : \\texttt{contains}(P,p_1) \\wedge \\texttt{contains}(P,p_2) \\wedge p_1 \\neq p_2\\}$\n",
    "\n",
    "$R: \\left\\{ \n",
    "    \\begin{array}{l}\n",
    "        S = \\texttt{toSet}(P) \\,\\, \\wedge  \\\\\n",
    "        S_{D1} = \\texttt{getSubset}(P,D1) \\,\\, \\wedge \\\\\n",
    "        \\left(\\forall S' \\in \\mathcal{P}(S) : \\texttt{countFights}(S_{D1},S - S_{D1},C) \\leq \\texttt{countFights}(S',S - S',C) \\right)\n",
    "    \\end{array}\n",
    "    \\right\\}$"
   ]
  },
  {
   "cell_type": "markdown",
   "metadata": {},
   "source": [
    "#### Especificación del problema de Decisión"
   ]
  },
  {
   "cell_type": "markdown",
   "metadata": {},
   "source": [
    "| E/S | Nombre | Tipo | Descripción |\n",
    "|-|-|-|-|\n",
    "| E | P | **Array**[0,n) of **String** | Nombres de las personas que son amigos de Juan |\n",
    "| E | C | **Set** of **Tuples** of **String** | Parejas de amigos de Juan que estan peleados |\n",
    "| E | T | **nat** | Cantidad máxima de peleas que se van a tolerar |\n",
    "| S | b | **bool** | ¿Se puede distribuir a las personas de tal forma que hayan $T$ peleas o menos? |\n",
    "\n",
    "##### Funciones de Apoyo\n",
    "\n",
    "$\\texttt{contains}(A,c) = (\\exists i \\in \\mathbb{N} \\, | \\, 0 \\leq i < A.\\texttt{length} : A[i] = c)$\n",
    "\n",
    "$\\texttt{toSet}(A) = \\{ x : i \\in \\mathbb{N} \\wedge 0 \\leq i < A.\\texttt{length} \\wedge x = A[i]  \\}$\n",
    "\n",
    "$\\texttt{countFights}(S1,S2,C) = ( + \\, (u,v) \\in C \\, | \\, (u \\in S1 \\wedge v \\in S1) \\vee (u \\in S2 \\wedge v \\in S2) : 1)$\n",
    "\n",
    "##### Especificación\n",
    "\n",
    "$Q: \\{ \\forall (p_1 , p_2) \\in C : \\texttt{contains}(P,p_1) \\wedge \\texttt{contains}(P,p_2) \\wedge p_1 \\neq p_2\\}$\n",
    "\n",
    "$R: \\left\\{ \n",
    "    \\begin{array}{l}\n",
    "        S = \\texttt{toSet}(P) \\,\\, \\wedge  \\\\\n",
    "        b \\equiv \\left(\\exists S' \\in \\mathcal{P}(S) : \\texttt{countFights}(S',S - S',C) \\leq T \\right)\n",
    "    \\end{array}\n",
    "    \\right\\}$"
   ]
  },
  {
   "cell_type": "markdown",
   "metadata": {},
   "source": [
    "#### Especificación del problema de Verificación"
   ]
  },
  {
   "cell_type": "markdown",
   "metadata": {},
   "source": [
    "| E/S | Nombre | Tipo | Descripción |\n",
    "|-|-|-|-|\n",
    "| E | P | **Array**[0,n) of **String** | Nombres de las personas que son amigos de Juan |\n",
    "| E | C | **Set** of **Tuples** of **String** | Parejas de amigos de Juan que estan peleados |\n",
    "| E | D1 | **Array**[0,n) of  **bool** | Conjunto de personas que iran el primer a verificar |\n",
    "| E | T | **nat** | Cantidad máxima de peleas que se van a tolerar |\n",
    "| S | b | **bool** | ¿La entrada D1 representa una distribución de personas en la que hay $T$ peleas o menos? |\n",
    "\n",
    "##### Funciones de Apoyo\n",
    "\n",
    "$\\texttt{contains}(A,c) = (\\exists i \\in \\mathbb{N} \\, | \\, 0 \\leq i < A.\\texttt{length} : A[i] = c)$\n",
    "\n",
    "$\\texttt{toSet}(A) = \\{ x : i \\in \\mathbb{N} \\wedge 0 \\leq i < A.\\texttt{length} \\wedge x = A[i]  \\}$\n",
    "\n",
    "$\\texttt{getSubset}(A,B) = \\{ x : i \\in \\mathbb{N} \\wedge 0 \\leq i < A.\\texttt{length} \\wedge B[i] = \\texttt{true} \\wedge x = A[i]  \\}$\n",
    "\n",
    "$\\texttt{countFights}(S1,S2,C) = ( + \\, (u,v) \\in C \\, | \\, (u \\in S1 \\wedge v \\in S1) \\vee (u \\in S2 \\wedge v \\in S2) : 1)$\n",
    "\n",
    "##### Especificación\n",
    "\n",
    "$Q: \\{ \\forall (p_1 , p_2) \\in C : \\texttt{contains}(P,p_1) \\wedge \\texttt{contains}(P,p_2) \\wedge p_1 \\neq p_2\\}$\n",
    "\n",
    "$R: \\left\\{ \n",
    "    \\begin{array}{l}\n",
    "        S = \\texttt{toSet}(P) \\,\\, \\wedge  \\\\\n",
    "        S_{D1} = \\texttt{getSubset}(P,D1) \\,\\, \\wedge  \\\\\n",
    "        b \\equiv \\left( \\texttt{countFights}(S_{D1},S - S_{D1},C) \\leq T \\right)\n",
    "    \\end{array}\n",
    "    \\right\\}$"
   ]
  },
  {
   "cell_type": "markdown",
   "metadata": {},
   "source": [
    "### Algoritmo en tiempo polinomial para el problema de Verificación"
   ]
  },
  {
   "cell_type": "markdown",
   "metadata": {},
   "source": [
    "Se propone un algoritmo de dos fases:\n",
    "\n",
    "1. **Creación de conjuntos**: Se impplementan los dos conjuntos disyuntos representados con el arreglo de booleanos. El objetivo es construirlos en una estructura de datos rápida en operaciones de búsqueda.\n",
    "\n",
    "2. **Conteo de peleas**: Se cuentan las peleas en base al criterio de que existe una pelea si dos personas peleadas están en el mismo conjunto.\n",
    "\n",
    "3. **Verificar cota**: Verificamos que el conteo de un resultado menor a la cota establecida"
   ]
  },
  {
   "cell_type": "code",
   "execution_count": 6,
   "metadata": {},
   "outputs": [],
   "source": [
    "def verifySolution(P, C, D1, T):\n",
    "    SD1 = set()\n",
    "    SD2 = set()\n",
    "    #Separación de P en los conjuntos asociados al día 1 y al día 2\n",
    "    for i in range(len(D1)):\n",
    "        if D1[i]: SD1.add(P[i])\n",
    "        else: SD2.add(P[i])\n",
    "    #Conteo de peleas en los dos días\n",
    "    fights = 0\n",
    "    for p1,p2 in C:\n",
    "        if (p1 in SD1 and p2 in SD1) or (p1 in SD2 and p2 in SD2):\n",
    "            fights+=1\n",
    "    return fights <= T"
   ]
  },
  {
   "cell_type": "markdown",
   "metadata": {},
   "source": [
    "Podemos probarla con un par de ejemplos"
   ]
  },
  {
   "cell_type": "code",
   "execution_count": 7,
   "metadata": {},
   "outputs": [
    {
     "data": {
      "text/plain": [
       "False"
      ]
     },
     "execution_count": 7,
     "metadata": {},
     "output_type": "execute_result"
    }
   ],
   "source": [
    "P = ['Lorenzo','Juana','Ernesto','Lucia','Ramon']\n",
    "C = [('Lorenzo','Juana'),('Lucia','Ramon'),('Juana','Ernesto'), ('Ernesto','Ramon')]\n",
    "D1 = [True,True,True,False,False]\n",
    "T = 1\n",
    "verifySolution(P, C, D1, T)"
   ]
  },
  {
   "cell_type": "code",
   "execution_count": 8,
   "metadata": {},
   "outputs": [
    {
     "data": {
      "text/plain": [
       "True"
      ]
     },
     "execution_count": 8,
     "metadata": {},
     "output_type": "execute_result"
    }
   ],
   "source": [
    "P = ['Lorenzo','Juana','Ernesto','Lucia','Ramon']\n",
    "C = [('Lorenzo','Juana'),('Lucia','Ramon'),('Juana','Ernesto'), ('Ernesto','Ramon')]\n",
    "D1 = [True,False,True,True,False]\n",
    "T = 1\n",
    "verifySolution(P, C, D1, T)"
   ]
  },
  {
   "cell_type": "markdown",
   "metadata": {},
   "source": [
    "Podemos ver que este algoritmo ocurre en tiempo polinomial:\n",
    "\n",
    "1. **Creación de Conjuntos**: Esta primera parte itera a través del arreglo $D_1$ de tamaño $n$ para determinar que elementos perteneces al conjunto del día 1 y cuales pertenecen al conjunto del día 2. Dado que se iteran a través de todas las personas para determinar donde pertenecen, podemos deducir que es un proceso que ocurre en tiempo $O(|P|)$ donde $P$ sería la representación del conjunto total de personas.\n",
    "\n",
    "2. **Conteo de peleas**: Esta segunda parte itera a través de todas las parejas peleadas desritas en el conjunto $C$ e identifica si los elementos estan en el mismo conjunto (Ya sea del día 1 o del día 2). Dado que se emplea una estructura de conjunto que usa Hash para determinar si un elemento pertenece al conjunto o no (Lo cual permite suponer que dichas operaciones de búsqueda se realizan en tiempo constante), podemos afirmar que dicho proceso de conteo de peleas se realiza en tiempo $O(|C|)$.\n",
    "\n",
    "3. **Verificar cota**: Comparamos que el resultado del paso anterior sea menor o igual a la cota dada. Lo cual se hace en tiempo $O(1)$\n",
    "\n",
    "Finalmente, podemos concluir que este algoritmo de verificación ocurre en tiempo $O(|P|+|C|)$, lo que nos permite denotar que el algoritmo corre en tiempo polinomial para las entradas del problema. O en otras palabras, que el problema descrito es NP"
   ]
  },
  {
   "cell_type": "markdown",
   "metadata": {},
   "source": [
    "### Propuesta de solución usando exploración de estados"
   ]
  },
  {
   "cell_type": "markdown",
   "metadata": {},
   "source": [
    "#### Descripción del espacio de estados del problema"
   ]
  },
  {
   "cell_type": "markdown",
   "metadata": {},
   "source": [
    "Para describir el espacio de estados, vamos a tener en cuenta que para cada persona se van a tener dos posibles estados, que este en el conjunto del día 1 o que este en el conjunto del día 2 (Por comodidad, serán representados con booleanos). De ese modo obtenemos la siguiente cantidad de estados en función de $P$:\n",
    "\n",
    "$$\\texttt{cantidadEstados}(P) = 2^{|P|}$$\n",
    "\n",
    "Para un ejemplo de tres personas, tenemos los siguientes dos estados por ejemplo:\n",
    "\n",
    "$e1 = <1,0,1>$\n",
    "\n",
    "$e2 = <0,0,1>$\n",
    "\n",
    "\n",
    "\n"
   ]
  },
  {
   "cell_type": "markdown",
   "metadata": {},
   "source": [
    "#### Especificación Formal de la condición de satisfacibilidad"
   ]
  },
  {
   "cell_type": "markdown",
   "metadata": {},
   "source": [
    "La condición de satisfacibilidad va a ser dependiente de los estados sucesores de mi estado actual. Dado un estado, vamos a decir que es satisfacible si para todos sus sucesores, no se tiene alguno que tenga una cantidad de conflictos menor a la que tengo en mi estado actual. Para ello, vamos a definir la función de conteo de peleas nuevamente e implementaremos la función sucesor (Dado que aun no sabemos estrictamente como funciona, la manejaremos como nuna función abstracta que cumple con su proposito)\n",
    "\n",
    "##### Funciones auxiliares\n",
    "\n",
    "$\\texttt{toSet}(A) = \\{ x : i \\in \\mathbb{N} \\wedge 0 \\leq i < A.\\texttt{length} \\wedge x = A[i]  \\}$\n",
    "\n",
    "$\\texttt{getSubset}(A,B) = \\{ x : i \\in \\mathbb{N} \\wedge 0 \\leq i < A.\\texttt{length} \\wedge B[i] = \\texttt{true} \\wedge x = A[i]  \\}$\n",
    "\n",
    "$\\texttt{countFights}(S1,S2,C) = ( + \\, (u,v) \\in C \\, | \\, (u \\in S1 \\wedge v \\in S1) \\vee (u \\in S2 \\wedge v \\in S2) : 1)$\n",
    "\n",
    "$\\texttt{fights}(e) = \\texttt{countFights}(\\texttt{getSubset}(P,e),\\texttt{toSet}(P)-\\texttt{getSubset}(P,e),C)$\n",
    "\n",
    "##### Especificación de satisfacibilidad\n",
    "\n",
    "$$\\texttt{satis}(e) \\equiv (\\forall e' \\in \\texttt{suc}(e) : \\texttt{fights}(e) < \\texttt{fights}(e'))$$"
   ]
  },
  {
   "cell_type": "markdown",
   "metadata": {},
   "source": [
    "#### Propuesta de Estado Inicial"
   ]
  },
  {
   "cell_type": "markdown",
   "metadata": {},
   "source": [
    "Para el estado inicial, necesitamos proponer un estado que no sea satisfacible y del cual pueda alcanzar otros estados.\n",
    "\n",
    "El estado inicial ($e_i$) que proponemos es mantener todos las personas en un mismo conjunto. En este estado, sabemos la cantidad de peleas es igual a todas las peleas posibles.\n",
    "\n",
    "$$e_i = <\\forall i \\in \\mathbb{N} \\,\\, | \\,\\, 0 \\leq i < P\\texttt{.length} : A[i] = \\texttt{false}> \\implies \\texttt{fights}(e_i) = |C|$$\n",
    "\n",
    "Si un estado es sucesor del inicial, implica que alguno de sus elementos empieza a pertenecer al otro conjunto\n",
    "\n",
    "$$e \\neq e_i \\wedge e \\in \\texttt{suc}(e_i) \\implies \\exists i \\in \\mathbb{N} \\,\\, | \\,\\, 0 \\leq i < P\\texttt{.length} : A[i] = \\texttt{true} $$\n",
    "\n",
    "Si el elemento por el que difieren hace que una pareja de conflicto se encuentre en diferente conjunto, podemos evidenciar que la cantidad de peleas se reducen en al menos en una unidad.\n",
    "\n",
    "$$\\exist (u,v) \\in C : u \\in \\texttt{getSubset}(P,e) \\wedge u \\notin \\texttt{getSubset}(P,e) \\implies \\texttt{fights}(e) \\leq {fights}(e_i)-1$$\n",
    "\n",
    "Si dicho fenomeno sucede, sabemos que el estado inicial es no satisfacible:\n",
    "\n",
    "$$\\texttt{fights}(e) \\leq {fights}(e_i)-1 \\implies \\texttt{fights}(e) < \\texttt{fights}(e_i) \\implies \\neg\\texttt{satis}(e_i)$$\n",
    "\n",
    "Con esta idea en mente, sabemos que debemos diseñar una función de sucesores en la que podamos probar cambiar de conjunto un elemento en cada estado (Dado que existe a lo sumo una pareja peleada, este fenomeno ocurrira al menos una vez). Esta idea se abordará más a detalle a continuación.\n",
    "\n"
   ]
  },
  {
   "cell_type": "markdown",
   "metadata": {},
   "source": [
    "##### Función Sucesor"
   ]
  }
 ],
 "metadata": {
  "kernelspec": {
   "display_name": "Python 3",
   "language": "python",
   "name": "python3"
  },
  "language_info": {
   "codemirror_mode": {
    "name": "ipython",
    "version": 3
   },
   "file_extension": ".py",
   "mimetype": "text/x-python",
   "name": "python",
   "nbconvert_exporter": "python",
   "pygments_lexer": "ipython3",
   "version": "3.11.9"
  }
 },
 "nbformat": 4,
 "nbformat_minor": 2
}
