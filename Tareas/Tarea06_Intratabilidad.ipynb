{
 "cells": [
  {
   "cell_type": "markdown",
   "metadata": {},
   "source": [
    "# Desarrollo Tarea 6\n",
    "\n",
    "#### **Estudiantes:** \n",
    "* Omar David Toledo Leguizamón (202424446)\n",
    "* Juan David Camargo (202220493)"
   ]
  },
  {
   "cell_type": "markdown",
   "metadata": {},
   "source": [
    "## Primer Punto"
   ]
  },
  {
   "cell_type": "markdown",
   "metadata": {},
   "source": [
    "1. Para los problemas a continuación realizar:\n",
    "\n",
    "* Especificar formalmente el problema de optimización\n",
    "* Especificar formalmente el problema de decisión asociado\n",
    "* Especificar formalmente el problema de verificación asociado\n",
    "* Diseñar un algoritmo que en tiempo polinomial resuelva el problema de verificación\n",
    "* Para solucionar el problema de decisión siguiendo la estrategia de exploración de grafos vista en el curso, realizar los siguientes pasos:\n",
    "\n",
    "    *  Describir el espacio de estados para el problema\n",
    "    *  Especificar formalmente la condición de satisfacibilidad\n",
    "    *  Proponer un estado inicial\n",
    "    * Definir una función sucesor para cualquier estado. Determinar si esta funcion induce ciclos en el grafo de exploración y por lo tanto se deben marcar estados.\n",
    "    * En caso de ser posible, proponer una función de corte de ramas del grafo de exploración (función dominó o de viabilidad)\n",
    "\n"
   ]
  },
  {
   "cell_type": "markdown",
   "metadata": {},
   "source": [
    "### Problema 1"
   ]
  },
  {
   "cell_type": "markdown",
   "metadata": {},
   "source": [
    "La alcaldía de Bogotá decidió comprar unas cámaras de vigilancia para la ciudad que tienen la capacidad de realizar video en 360 grados. Esto permite ubicarlas en intersecciones entre calles de manera tal que una camara en una intersección permite vigilar al tiempo todas las calles que desemboquen a dicha intersección. Dado un mapa de calles e intersecciones de la ciudad, el distrito está interesado en saber el número mínimo de intersecciones en las que debe ubicar cámaras de manera tal que todas las calles queden vigiladas."
   ]
  },
  {
   "cell_type": "markdown",
   "metadata": {},
   "source": [
    "#### Especificación del problema de Optimización"
   ]
  },
  {
   "cell_type": "markdown",
   "metadata": {},
   "source": [
    "| E/S | Nombre | Tipo | Descripción |\n",
    "|-|-|-|-|\n",
    "| E | I | **Array**[0,n) of **String** | Intersecciones involucradas en el problema |\n",
    "| E | C | **Set** of **Tuples** of **String** | Parejas de intersecciones que son unidas por una calle |\n",
    "| S | m | **nat** | Cantidad mínima de intersecciones donde deben ubicarse cámaras |\n",
    "| S | F | **Array**[0,n) of **boolean** | Conjunto más pequeño de intersecciones para el que se cubren todas la calles |\n",
    "\n",
    "##### Funciones de Apoyo\n",
    "\n",
    "$\\texttt{toSet}(A) = \\{ x : i \\in \\mathbb{N} \\wedge 0 \\leq i < A.\\texttt{length} \\wedge x = A[i]  \\}$\n",
    "\n",
    "$\\texttt{getSubset}(A,B) = \\{ x : i \\in \\mathbb{N} \\wedge 0 \\leq i < A.\\texttt{length} \\wedge B[i] = \\texttt{true} \\wedge x = A[i]  \\}$\n",
    "\n",
    "$\\texttt{coverStreets}(S,E) = (\\forall x,y \\,|\\, (x,y) \\in E : x \\in S \\vee y \\in S )$\n",
    "\n",
    "##### Especificación\n",
    "\n",
    "$Q: \\{ \\forall x,y \\,|\\, (x,y) \\in C : x \\in I \\wedge y \\in I\\}$\n",
    "\n",
    "$R: \\left\\{ \\begin{array}{c}\n",
    "                S = \\texttt{toSet}(I) \\,\\, \\wedge \\\\\n",
    "                S_F = \\texttt{getSubset}(I,F) \\,\\, \\wedge \\\\\n",
    "                m = |S_F| \\wedge \\texttt{coverStreets}(S_F,C)\\,\\, \\wedge \\\\\n",
    "                \\left( \\forall S' \\in \\mathcal{P}(S) \\,|\\, \\texttt{coverStreets}(S',C) : m \\leq |S'|\\right)\n",
    "            \\end{array} \\right\\}$"
   ]
  },
  {
   "cell_type": "markdown",
   "metadata": {
    "vscode": {
     "languageId": "plaintext"
    }
   },
   "source": [
    "#### Especificación del problema de Decisión"
   ]
  },
  {
   "cell_type": "markdown",
   "metadata": {},
   "source": [
    "| E/S | Nombre | Tipo | Descripción |\n",
    "|-|-|-|-|\n",
    "| E | I | **Array**[0,n) of **String** | Intersecciones involucradas en el problema |\n",
    "| E | C | **Set** of **Tuples** of **String** | Parejas de intersecciones que son unidas por una calle |\n",
    "| E | m | **nat** | Cota de cantidad de cámaras a tener en cuenta |\n",
    "| S | b | **boolean** | ¿Existe un conjunto de intersecciones igual o más pequeño que m para el que se cubren todas la calles? |\n",
    "\n",
    "##### Funciones de Apoyo\n",
    "\n",
    "$\\texttt{toSet}(A) = \\{ x : i \\in \\mathbb{N} \\wedge 0 \\leq i < A.\\texttt{length} \\wedge x = A[i]  \\}$\n",
    "\n",
    "$\\texttt{coverStreets}(S,E) = (\\forall x,y \\,|\\, (x,y) \\in E : x \\in S \\vee y \\in S )$\n",
    "\n",
    "##### Especificación\n",
    "\n",
    "$Q: \\{ \\forall x,y \\,|\\, (x,y) \\in C : x \\in I \\wedge y \\in I\\}$\n",
    "\n",
    "$R: \\left\\{ \\begin{array}{c}\n",
    "                S = \\texttt{toSet}(I) \\,\\, \\wedge \\\\\n",
    "                b \\equiv \\left( \\exist S' \\in \\mathcal{P}(S) \\,|\\, \\texttt{coverStreets}(S',C) :|S'| \\leq m \\right)\n",
    "            \\end{array} \\right\\}$"
   ]
  },
  {
   "cell_type": "markdown",
   "metadata": {},
   "source": [
    "#### Especificación del problema de Verificación"
   ]
  },
  {
   "cell_type": "markdown",
   "metadata": {},
   "source": [
    "| E/S | Nombre | Tipo | Descripción |\n",
    "|-|-|-|-|\n",
    "| E | I | **Array**[0,n) of **String** | Intersecciones involucradas en el problema |\n",
    "| E | C | **Set** of **Tuples** of **String** | Parejas de intersecciones que son unidas por una calle |\n",
    "| E | m | **nat** | Cota de cantidad de cámaras a tener en cuenta |\n",
    "| E | F | **Array**[0,n) of **boolean** | Certificado o resultado del prohgrama a verificar |\n",
    "| S | b | **boolean** | ¿El resultado dado representa un conjunto de tamaño menor o igual a m y permite cubrir todas las calles? |\n",
    "\n",
    "##### Funciones de Apoyo\n",
    "\n",
    "$\\texttt{toSet}(A) = \\{ x : i \\in \\mathbb{N} \\wedge 0 \\leq i < A.\\texttt{length} \\wedge x = A[i]  \\}$\n",
    "\n",
    "$\\texttt{getSubset}(A,B) = \\{ x : i \\in \\mathbb{N} \\wedge 0 \\leq i < A.\\texttt{length} \\wedge B[i] = \\texttt{true} \\wedge x = A[i]  \\}$\n",
    "\n",
    "$\\texttt{coverStreets}(S,E) = (\\forall x,y \\,|\\, (x,y) \\in E : x \\in S \\vee y \\in S )$\n",
    "\n",
    "##### Especificación\n",
    "\n",
    "$Q: \\{ \\forall x,y \\,|\\, (x,y) \\in C : x \\in I \\wedge y \\in I\\}$\n",
    "\n",
    "$R: \\left\\{ \\begin{array}{c}\n",
    "                S = \\texttt{toSet}(I) \\,\\, \\wedge \\\\\n",
    "                S_F = \\texttt{getSubset}(I,F)\\\\\n",
    "                b \\equiv \\left( \\texttt{coverStreets}(S_F,C) \\wedge |S_F| \\leq m \\right)\n",
    "            \\end{array} \\right\\}$"
   ]
  },
  {
   "cell_type": "markdown",
   "metadata": {},
   "source": [
    "#### Algoritmo en tiempo polinomial para el problema de Verificación"
   ]
  },
  {
   "cell_type": "markdown",
   "metadata": {},
   "source": [
    "Se propne un algoritmo de tres fases:\n",
    "\n",
    "1. **Creación del conjunto**: Se construye el conjunto de intersecciones descrito por el certificado a verificar.\n",
    "\n",
    "2. **Verificación de la cobertura de calles**: Para todas las calles representadas como parejas, se determina si al menos uno de sus extremos se encuentra cubierto en el conjunto construido.\n",
    "\n",
    "3. **Verificar cota**: Verificamos que la cantidad de elementos del conjunto sea menor o igual a la cota establecida"
   ]
  },
  {
   "cell_type": "code",
   "execution_count": 5,
   "metadata": {},
   "outputs": [],
   "source": [
    "def verifySolutionP1(I, C, F, T):\n",
    "    SF = set()\n",
    "    #Construcción del conjunto \n",
    "    for i in range(len(F)):\n",
    "        if F[i]: SF.add(I[i])\n",
    "    #Verificación de que todas las calles esten cubiertas\n",
    "    covered = True\n",
    "    for x,y in C:\n",
    "        covered = covered and (x in SF or y in SF)\n",
    "    #Verificacion de la cota\n",
    "    return covered and len(SF) <= T"
   ]
  },
  {
   "cell_type": "markdown",
   "metadata": {},
   "source": [
    "Podemos probarla con algunos ejemplos"
   ]
  },
  {
   "cell_type": "code",
   "execution_count": 6,
   "metadata": {},
   "outputs": [
    {
     "data": {
      "text/plain": [
       "True"
      ]
     },
     "execution_count": 6,
     "metadata": {},
     "output_type": "execute_result"
    }
   ],
   "source": [
    "I = [1, 2, 3, 4, 5]\n",
    "C = [(1, 2), (2, 3), (3, 4), (4, 5), (1, 5)]\n",
    "F = [True, False, True, False, True]\n",
    "T = 3\n",
    "\n",
    "verifySolutionP1(I, C, F, T)"
   ]
  },
  {
   "cell_type": "code",
   "execution_count": 7,
   "metadata": {},
   "outputs": [
    {
     "data": {
      "text/plain": [
       "False"
      ]
     },
     "execution_count": 7,
     "metadata": {},
     "output_type": "execute_result"
    }
   ],
   "source": [
    "I = [1, 2, 3, 4, 5]\n",
    "C = [(1, 2), (2, 3), (3, 4), (4, 5), (1, 5)]\n",
    "F = [True, False, True, False, False]\n",
    "T = 3\n",
    "\n",
    "verifySolutionP1(I, C, F, T)"
   ]
  },
  {
   "cell_type": "markdown",
   "metadata": {},
   "source": [
    "Podemos ver que este algoritmo se ejecuta en tiempo polinomial:\n",
    "\n",
    "1. **Creación del conjunto**: En esta fase, el algoritmo recorre el arreglo F, que tiene un tamaño $n=∣I∣$, para determinar qué intersecciones estan en el subconjunto F. Si una posición en F es verdadera, la intersección correspondiente se agrega al conjunto SF. Este proceso implica iterar a través de todas las intersecciones y realizar una operación constante por cada una, por lo que su complejidad es $O(∣I∣)$.\n",
    "\n",
    "2. **Verificación de la cobertura de calles**: Aquí, el algoritmo recorre el conjunto de calles C, que tiene un tamaño $m=∣C∣$. Para cada calle, verifica si al menos uno de sus extremos está en el conjunto SF. Esto requiere comprobar para cada calle si al menos una interseccion asociada está cubierta, una operación que se realiza en tiempo constante. Al realizar esta operación para todas las calles, la complejidad total de esta fase es $O(∣C∣)$.\n",
    "\n",
    "3. **Verificar cota**: Finalmente, el algoritmo compara el tamaño del conjunto SF con la cota T dada. Esta comparación es una operación única que no depende del tamaño de las entradas, lo que implica que ocurre en tiempo constante $O(1)$.\n",
    "\n",
    "Finalmente, podemos concluir que este algoritmo de verificación ocurre en tiempo $O(|I|+|C|)$, lo que nos permite denotar que el algoritmo corre en tiempo polinomial para las entradas del problema. O en otras palabras, que el problema descrito es NP\n",
    "\n"
   ]
  },
  {
   "cell_type": "markdown",
   "metadata": {},
   "source": [
    "#### Propuesta de solución usando exploración de estados"
   ]
  },
  {
   "cell_type": "markdown",
   "metadata": {},
   "source": [
    "##### Descripción del espacio de estados del problema"
   ]
  },
  {
   "cell_type": "markdown",
   "metadata": {},
   "source": [
    "Para describir el espacio completo de estados, sabemos que para cada intersección tenemos dos opciones, que se le agregue una cámara o no. Por consiguiente, usaremos un booleano para representar estos dos estados de las intersecciones; por lo que podemos saber también que \n",
    "\n",
    "De ese modo obtenemos la siguiente cantidad de estados en función de $I$:\n",
    "\n",
    "$$\\texttt{cantidadEstados}(I) = 2^{|I|}$$\n",
    "\n",
    "Para un ejemplo de tres intersecciones, tenemos los siguientes dos estados:\n",
    "\n",
    "$$e_1 = <1,0,1>$$\n",
    "\n",
    "$$e_2 = <0,0,1>$$"
   ]
  },
  {
   "cell_type": "markdown",
   "metadata": {},
   "source": [
    "##### Especificación de condición de satisfacibilidad"
   ]
  },
  {
   "cell_type": "markdown",
   "metadata": {},
   "source": [
    "La condición de satisfacibilidad se va a cumplir cuando la cantidad de elementos del conjunto que representa el estado sean menores o iguales a la cota $T$ y que cubra todas las calles.\n",
    "\n",
    "##### Funciones auxiliares\n",
    "\n",
    "$\\texttt{toSet}(A) = \\{ x : i \\in \\mathbb{N} \\wedge 0 \\leq i < A.\\texttt{length} \\wedge x = A[i]  \\}$\n",
    "\n",
    "$\\texttt{getSubset}(A,B) = \\{ x : i \\in \\mathbb{N} \\wedge 0 \\leq i < A.\\texttt{length} \\wedge B[i] = \\texttt{true} \\wedge x = A[i]  \\}$\n",
    "\n",
    "$\\texttt{coverStreets}(S,E) = (\\forall x,y \\,|\\, (x,y) \\in E : x \\in S \\vee y \\in S )$\n",
    "\n",
    "##### Especificación de satisfacibilidad\n",
    "\n",
    "$$\\texttt{satis}(e) \\equiv \\left( |\\texttt{getSubset}(I,e)| \\leq T \\wedge \\texttt{coverStreets}(e,C) \\right) $$\n",
    "\n",
    "Vale la pena aclarar que esta función de satisfacibilidad es equivalente al algoritmo de verificación propuesto"
   ]
  },
  {
   "cell_type": "markdown",
   "metadata": {},
   "source": [
    "##### Propuesta de Estado Inicial"
   ]
  },
  {
   "cell_type": "markdown",
   "metadata": {},
   "source": [
    "Para el estado inicial, necesitamos proponer un estado que no sea satisfacible y del cual se puedan alcanzar otros estados.\n",
    "\n",
    "Nuestra propuesta de estado inicial será que ninguna intersección será incluida en el conjunto de aquellas que tienen cámaras (En nuestro contexto, sería definir que todos los elementos de $e_i$ sean false).\n",
    "\n",
    "Es trivial porque este estado es no satisfacible. Dado que la satisfacibilidad requiere que todos las calles esten cubiertas, al tener de estado inicial la representación del conjunto vacío, ningun eje va a estar cubierto:\n",
    "\n",
    "$$\\texttt{getSubset}(I,e_i) = \\emptyset \\implies \\forall x,y | (x,y) \\in C : x \\notin \\emptyset \\wedge x \\notin \\emptyset$$\n",
    "\n",
    "$$\\implies \\neg \\texttt{coverStreets}(e_i,C) \\implies \\neq \\texttt{satis}(e_i)$$"
   ]
  },
  {
   "cell_type": "markdown",
   "metadata": {},
   "source": [
    "##### Función Sucesor"
   ]
  },
  {
   "cell_type": "markdown",
   "metadata": {},
   "source": [
    "Para definir una función sucesor, es fundamental establecer un criterio claro para identificar los estados subsecuentes al estado actual durante la exploración. En este contexto, utilizaremos una idea sencilla: si consideramos una configuración de intersecciones que se encuentran en el suconjunto seleccionado, un estado sucesor será aquel en el cual **un nuevo elemento sea incluído en el subconjunto**.\n",
    "\n",
    "Aunque esta propuesta es conceptualmente simple, su implementación debe realizarse con extremo cuidado para evitar la generación de ciclos en el grafo de estados. Para abordar esta problemática, definiremos un criterio basado en los índices de los elementos que componen el estado grafo.\n",
    "\n",
    "Supondremos que el estado inicial corresponde a todas las intersecciones marcadas como $\\texttt{false}$. A partir de esta configuración, el proceso para obtener los sucesores consiste en:\n",
    "\n",
    "\n",
    "1. Identificar el índice $ i$ más grande que tiene el valor $\\texttt{true}$.\n",
    "2. A partir del índice $i+1$ hasta el índice $|I|-1$, evaluar cada interseccion e incluirla en el subconjunto de interés (equivalente a marcarla con $\\texttt{true}$).\n",
    "\n",
    "\n",
    "Este procedimiento permite explorar sistemáticamente los estados sucesores, garantizando un recorrido controlado, sin ciclos ni redundancias en el grafo."
   ]
  },
  {
   "cell_type": "markdown",
   "metadata": {},
   "source": [
    "##### Función de Viabilidad"
   ]
  },
  {
   "cell_type": "markdown",
   "metadata": {},
   "source": [
    "Para definir una función de viabilidad debemos tener en cuenta lo que implica incluir un elemento en el subconjunto de interés. Toda intersección tiene una cantidad de calles que dependen de esta. En el caso de que todas las calles asociadas a una intersección ya estén cubiertas, no es necesario incluir dicha intersección en el conjunto.\n",
    "\n",
    "Formalmente se vería de esta forma (Definiendo $e'$ como un estado sucesor de $e$):\n",
    "\n",
    "$$\\texttt{viable}(e,e') = (\\exist x \\, | \\, x \\in \\texttt{getSubset}(I,e') - \\texttt{getSubset}(I,e) : \\left(\\exist y \\, | \\, (x,y) \\in C : y \\notin \\texttt{getSubset}(I,e) \\right))$$\n",
    "\n",
    "Esta función se basa en no incluir intersecciones que no aporten cubrimiento a la ciudad (Lo que es equivalente a tener un conjunto más grande a aquel que sería capaz de hacer el mismo cubrimiento)"
   ]
  },
  {
   "cell_type": "markdown",
   "metadata": {},
   "source": [
    "##### Programación de la agenda"
   ]
  },
  {
   "cell_type": "markdown",
   "metadata": {},
   "source": [
    "Como criterio de programación en la agenda, se buscará evaluar siempre aquellos estados que representen una mayor cantidad de calles cubiertas. Esto bajo la idea de que estos estados son los que pueden tener resultados más prometedores a medida que avanza la ejecución del algoritmo"
   ]
  },
  {
   "cell_type": "markdown",
   "metadata": {},
   "source": [
    "### Problema 2"
   ]
  },
  {
   "cell_type": "markdown",
   "metadata": {},
   "source": [
    "Se diseñó un curso intensivo de un día que se va a dictar varias veces para atender a todos los estudiantes interesados. Se definieron unos días posibles en los que se va a dictar el curso y se\n",
    "pidió a los interesados en el curso que seleccionaran los dias en los que tendrían disponibilidad\n",
    "para tomarlo. Se desea encontrar el mínimo número de dias en los que se debe dictar el curso para\n",
    "atender a todos los estudiantes interesados"
   ]
  },
  {
   "cell_type": "markdown",
   "metadata": {},
   "source": [
    "#### Especificación del problema de Optimización"
   ]
  },
  {
   "cell_type": "markdown",
   "metadata": {},
   "source": [
    "| E/S | Nombre | Tipo | Descripción |\n",
    "|-|-|-|-|\n",
    "|E|D|Array of int| Dias disponibles |\n",
    "|E|E|Array of String | Estudiantes interesados en inscribirse|\n",
    "|E|R|Set of Array of String| Conjunto de subarrays de estudiantes interesados en ese día, tal que R[d] = estudiantes interesados en el dia d |\n",
    "|S|S| Array of int | Conjunto mínimo de días necesarios para darle clases a todos los interesados | \n",
    "\n",
    "##### Funciones de Apoyo\n",
    "\n",
    "La función \\(\\texttt{coverDias}(A)\\) está definida como:\n",
    "\n",
    "$$\n",
    "\\texttt{coverDias}(A) = \\left( \\bigcup_{d \\in A} R[d] \\right) \\cap E\n",
    "$$\n",
    "\n",
    "##### Especificación\n",
    "\n",
    "$$\n",
    "Q: \\{ \\{\\forall d: d \\in D \\mid R[d] \\subseteq E\\} \\, \\wedge |D| = |R| \\}\n",
    "$$\n",
    "\n",
    "$$\n",
    "R: \\left\\{\n",
    "\\begin{array}{l}\n",
    "    S \\in \\mathcal{P}(D) \\, \\wedge \\\\\n",
    "    \\texttt{coverDias}(S) = E \\, \\wedge \\\\\n",
    "    \\left\\{ \\forall O \\mid O \\in \\mathcal{P}(D) : \\texttt{coverDias}(O) = E \\, \\wedge |S| \\leq |O| \\right\\}\n",
    "\\end{array}\n",
    "\\right\\}\n",
    "$$\n"
   ]
  },
  {
   "cell_type": "markdown",
   "metadata": {},
   "source": [
    "#### Especificación del problema de Decisión"
   ]
  },
  {
   "cell_type": "markdown",
   "metadata": {},
   "source": [
    "| E/S | Nombre | Tipo | Descripción |\n",
    "|-|-|-|-|\n",
    "|E|D|Array of int| Dias disponibles |\n",
    "|E|E|Array of String | Estudiantes interesados en inscribirse|\n",
    "|E|R|Set of Array of String| Conjunto de subarrays de estudiantes interesados en ese día, tal que R[d] = estudiantes interesados en el dia d |\n",
    "|E|t|int| Cota máxima de dias posibles para dar clases|\n",
    "|S|b| boolean | ¿Existe un conjunto de días menor a la cota en los que se pueda dar clase a todos los estudiantes? | \n",
    "\n",
    "##### Funciones de Apoyo\n",
    "\n",
    "La función \\(\\texttt{coverDias}(A)\\) está definida como:\n",
    "\n",
    "$$\n",
    "\\texttt{coverDias}(A) = \\left( \\bigcup_{d \\in A} R[d] \\right) \\cap E\n",
    "$$\n",
    "\n",
    "##### Especificación\n",
    "\n",
    "$$\n",
    "Q: \\{ \\{\\forall d: d \\in D \\mid R[d] \\subseteq E\\} \\, \\wedge |D| = |R| \\}\n",
    "$$\n",
    "\n",
    "$$\n",
    "R: \\left\\{\n",
    "\\begin{array}{l}\n",
    "    S \\in \\mathcal{P}(D)  \\\\\n",
    "\n",
    "    b\\equiv \\, \\exists S:\\left\\{\n",
    "        \\begin{array}{l}\n",
    "        \\texttt{coverDias}(S) = E \\, \\wedge \\\\\n",
    "        \\left\\{ \\forall O \\mid O \\in \\mathcal{P}(D) : \\texttt{coverDias}(O) = E \\, \\wedge |S| \\leq |O| \\right\\} \\wedge \\\\\n",
    "        |S| \\leq t\n",
    "        \\end{array}\n",
    "    \\right\\}\n",
    "\\end{array}\n",
    "\\right\\}\n",
    "$$\n"
   ]
  },
  {
   "cell_type": "markdown",
   "metadata": {},
   "source": [
    "#### Especificación del problema de Verificación"
   ]
  },
  {
   "cell_type": "markdown",
   "metadata": {},
   "source": [
    "| E/S | Nombre | Tipo | Descripción |\n",
    "|-|-|-|-|\n",
    "|E|D|Array of int| Dias disponibles |\n",
    "|E|E|Array of String | Estudiantes interesados en inscribirse|\n",
    "|E|R|Set of Array of String| Conjunto de subarrays de estudiantes interesados en ese día, tal que R[d] = estudiantes interesados en el dia d |\n",
    "|E|S| Array of int | Dias propuestos como posible solución al problema|\n",
    "|S|b| boolean | ¿La entrada propuesta es una solución al problema? | \n",
    "\n",
    "##### Funciones de Apoyo\n",
    "\n",
    "La función \\(\\texttt{coverDias}(A)\\) está definida como:\n",
    "\n",
    "$$\n",
    "\\texttt{coverDias}(A) = \\left( \\bigcup_{d \\in A} R[d] \\right) \\cap E\n",
    "$$\n",
    "\n",
    "##### Especificación\n",
    "\n",
    "$$\n",
    "Q: \\{ \\{\\forall d: d \\in D \\mid R[d] \\subseteq E\\} \\, \\wedge |D| = |R| \\, \\wedge S \\subseteq D\\}\n",
    "$$\n",
    "\n",
    "$$\n",
    "R: \\left\\{\n",
    "\\begin{array}{l}\n",
    "    b\\equiv \\,\\left\\{\n",
    "        \\begin{array}{l}\n",
    "        \\texttt{coverDias}(S) = E \\, \\wedge \\\\\n",
    "        \\left\\{ \\forall O \\mid O \\in \\mathcal{P}(D) : \\texttt{coverDias}(O) = E \\, \\wedge |S| \\leq |O| \\right\\} \\wedge \\\\\n",
    "        \\end{array}\n",
    "    \\right\\}\n",
    "\\end{array}\n",
    "\\right\\}\n",
    "$$"
   ]
  },
  {
   "cell_type": "markdown",
   "metadata": {},
   "source": [
    "### Problema 3"
   ]
  },
  {
   "cell_type": "markdown",
   "metadata": {},
   "source": [
    "Juan quiere invitar a sus amigos a conocer su nuevo apartamento. Sin embargo tiene la dificultad\n",
    "de que sus amigos son algo conflictivos y entonces sabe que varias parejas de amigos se han\n",
    "peleado entre ellos. Debido a esto, tomó la decisión de organizar dos reuniones.\n",
    "\n",
    "Desafortunadamente, Juan ya se dió cuenta que no es posible distribuir a sus amigos en dos grupos\n",
    "de tal manera que dentro de cada grupo no haya parejas de personas que se hayan peleado entre\n",
    "ellas. El objetivo entonces es desarrollar un programa que reciba los amigos de Juan y las parejas\n",
    "de amigos que tienen conflictos y distribuya los amigos en dos grupos, de tal modo que para la\n",
    "mayor cantidad posible de parejas con conflicto, los dos miembros de la pareja queden en grupos\n",
    "separados.\n"
   ]
  },
  {
   "cell_type": "markdown",
   "metadata": {},
   "source": [
    "#### Especificación del problema de Optimización"
   ]
  },
  {
   "cell_type": "markdown",
   "metadata": {},
   "source": [
    "| E/S | Nombre | Tipo | Descripción |\n",
    "|-|-|-|-|\n",
    "| E | P | **Array**[0,n) of **String** | Nombres de las personas que son amigos de Juan |\n",
    "| E | C | **Set** of **Tuples** of **String** | Parejas de amigos de Juan que estan peleados |\n",
    "| S | m | Cantidad mínima de peleas que se pueden obtener |\n",
    "| S | D1 | **Array**[0,n) of  **bool** | Conjunto de personas que pueden ir el primer día que minimiza la cantidad de peleas|\n",
    "\n",
    "##### Funciones de Apoyo\n",
    "\n",
    "$\\texttt{contains}(A,c) = (\\exists i \\in \\mathbb{N} \\, | \\, 0 \\leq i < A.\\texttt{length} : A[i] = c)$\n",
    "\n",
    "$\\texttt{toSet}(A) = \\{ x : i \\in \\mathbb{N} \\wedge 0 \\leq i < A.\\texttt{length} \\wedge x = A[i]  \\}$\n",
    "\n",
    "$\\texttt{getSubset}(A,B) = \\{ x : i \\in \\mathbb{N} \\wedge 0 \\leq i < A.\\texttt{length} \\wedge B[i] = \\texttt{true} \\wedge x = A[i]  \\}$\n",
    "\n",
    "$\\texttt{countFights}(S1,S2,C) = ( + \\, (u,v) \\in C \\, | \\, (u \\in S1 \\wedge v \\in S1) \\vee (u \\in S2 \\wedge v \\in S2) : 1)$\n",
    "\n",
    "\n",
    "##### Especificación\n",
    "\n",
    "$Q: \\{ \\forall (p_1 , p_2) \\in C : \\texttt{contains}(P,p_1) \\wedge \\texttt{contains}(P,p_2) \\wedge p_1 \\neq p_2\\}$\n",
    "\n",
    "$R: \\left\\{ \n",
    "    \\begin{array}{l}\n",
    "        S = \\texttt{toSet}(P) \\,\\, \\wedge  \\\\\n",
    "        S_{D1} = \\texttt{getSubset}(P,D1) \\,\\, \\wedge \\\\\n",
    "        m = \\texttt{countFights}(S_{D1},S - S_{D1},C) \\,\\, \\wedge \\\\\n",
    "        \\left(\\forall S' \\in \\mathcal{P}(S) : m \\leq \\texttt{countFights}(S',S - S',C) \\right)\n",
    "    \\end{array}\n",
    "    \\right\\}$"
   ]
  },
  {
   "cell_type": "markdown",
   "metadata": {},
   "source": [
    "#### Especificación del problema de Decisión"
   ]
  },
  {
   "cell_type": "markdown",
   "metadata": {},
   "source": [
    "| E/S | Nombre | Tipo | Descripción |\n",
    "|-|-|-|-|\n",
    "| E | P | **Array**[0,n) of **String** | Nombres de las personas que son amigos de Juan |\n",
    "| E | C | **Set** of **Tuples** of **String** | Parejas de amigos de Juan que estan peleados |\n",
    "| E | T | **nat** | Cantidad máxima de peleas que se van a tolerar |\n",
    "| S | b | **bool** | ¿Se puede distribuir a las personas de tal forma que hayan $T$ peleas o menos? |\n",
    "\n",
    "##### Funciones de Apoyo\n",
    "\n",
    "$\\texttt{contains}(A,c) = (\\exists i \\in \\mathbb{N} \\, | \\, 0 \\leq i < A.\\texttt{length} : A[i] = c)$\n",
    "\n",
    "$\\texttt{toSet}(A) = \\{ x : i \\in \\mathbb{N} \\wedge 0 \\leq i < A.\\texttt{length} \\wedge x = A[i]  \\}$\n",
    "\n",
    "$\\texttt{countFights}(S1,S2,C) = ( + \\, (u,v) \\in C \\, | \\, (u \\in S1 \\wedge v \\in S1) \\vee (u \\in S2 \\wedge v \\in S2) : 1)$\n",
    "\n",
    "##### Especificación\n",
    "\n",
    "$Q: \\{ 1 \\leq T < |C| \\wedge (\\forall (p_1 , p_2) \\in C : \\texttt{contains}(P,p_1) \\wedge \\texttt{contains}(P,p_2) \\wedge p_1 \\neq p_2)\\}$\n",
    "\n",
    "$R: \\left\\{ \n",
    "    \\begin{array}{l}\n",
    "        S = \\texttt{toSet}(P) \\,\\, \\wedge  \\\\\n",
    "        b \\equiv \\left(\\exists S' \\in \\mathcal{P}(S) : \\texttt{countFights}(S',S - S',C) \\leq T \\right)\n",
    "    \\end{array}\n",
    "    \\right\\}$"
   ]
  },
  {
   "cell_type": "markdown",
   "metadata": {},
   "source": [
    "#### Especificación del problema de Verificación"
   ]
  },
  {
   "cell_type": "markdown",
   "metadata": {},
   "source": [
    "| E/S | Nombre | Tipo | Descripción |\n",
    "|-|-|-|-|\n",
    "| E | P | **Array**[0,n) of **String** | Nombres de las personas que son amigos de Juan |\n",
    "| E | C | **Set** of **Tuples** of **String** | Parejas de amigos de Juan que estan peleados |\n",
    "| E | D1 | **Array**[0,n) of  **bool** | Conjunto de personas que iran el primer a verificar |\n",
    "| E | T | **nat** | Cantidad máxima de peleas que se van a tolerar |\n",
    "| S | b | **bool** | ¿La entrada D1 representa una distribución de personas en la que hay $T$ peleas o menos? |\n",
    "\n",
    "##### Funciones de Apoyo\n",
    "\n",
    "$\\texttt{contains}(A,c) = (\\exists i \\in \\mathbb{N} \\, | \\, 0 \\leq i < A.\\texttt{length} : A[i] = c)$\n",
    "\n",
    "$\\texttt{toSet}(A) = \\{ x : i \\in \\mathbb{N} \\wedge 0 \\leq i < A.\\texttt{length} \\wedge x = A[i]  \\}$\n",
    "\n",
    "$\\texttt{getSubset}(A,B) = \\{ x : i \\in \\mathbb{N} \\wedge 0 \\leq i < A.\\texttt{length} \\wedge B[i] = \\texttt{true} \\wedge x = A[i]  \\}$\n",
    "\n",
    "$\\texttt{countFights}(S1,S2,C) = ( + \\, (u,v) \\in C \\, | \\, (u \\in S1 \\wedge v \\in S1) \\vee (u \\in S2 \\wedge v \\in S2) : 1)$\n",
    "\n",
    "##### Especificación\n",
    "\n",
    "$Q: \\{ 1 \\leq T < |C| \\wedge (\\forall (p_1 , p_2) \\in C : \\texttt{contains}(P,p_1) \\wedge \\texttt{contains}(P,p_2) \\wedge p_1 \\neq p_2)\\}$\n",
    "\n",
    "$R: \\left\\{ \n",
    "    \\begin{array}{l}\n",
    "        S = \\texttt{toSet}(P) \\,\\, \\wedge  \\\\\n",
    "        S_{D1} = \\texttt{getSubset}(P,D1) \\,\\, \\wedge  \\\\\n",
    "        b \\equiv \\left( \\texttt{countFights}(S_{D1},S - S_{D1},C) \\leq T \\right)\n",
    "    \\end{array}\n",
    "    \\right\\}$"
   ]
  },
  {
   "cell_type": "markdown",
   "metadata": {},
   "source": [
    "#### Algoritmo en tiempo polinomial para el problema de Verificación"
   ]
  },
  {
   "cell_type": "markdown",
   "metadata": {},
   "source": [
    "Se propone un algoritmo de tres fases:\n",
    "\n",
    "1. **Creación de conjuntos**: Se construye los dos conjuntos disyuntos representados con el arreglo de booleanos. El objetivo es construirlos en una estructura de datos rápida en operaciones de búsqueda.\n",
    "\n",
    "2. **Conteo de peleas**: Se cuentan las peleas en base al criterio de que existe una pelea si dos personas peleadas están en el mismo conjunto.\n",
    "\n",
    "3. **Verificar cota**: Verificamos que el conteo de un resultado menor a la cota establecida"
   ]
  },
  {
   "cell_type": "code",
   "execution_count": 4,
   "metadata": {},
   "outputs": [],
   "source": [
    "def verifySolutionP3(P, C, D1, T):\n",
    "    SD1 = set()\n",
    "    SD2 = set()\n",
    "    #Separación de P en los conjuntos asociados al día 1 y al día 2\n",
    "    for i in range(len(D1)):\n",
    "        if D1[i]: SD1.add(P[i])\n",
    "        else: SD2.add(P[i])\n",
    "    #Conteo de peleas en los dos días\n",
    "    fights = 0\n",
    "    for p1,p2 in C:\n",
    "        if (p1 in SD1 and p2 in SD1) or (p1 in SD2 and p2 in SD2):\n",
    "            fights+=1\n",
    "    return fights <= T"
   ]
  },
  {
   "cell_type": "markdown",
   "metadata": {},
   "source": [
    "Podemos probarla con un par de ejemplos"
   ]
  },
  {
   "cell_type": "code",
   "execution_count": 5,
   "metadata": {},
   "outputs": [
    {
     "data": {
      "text/plain": [
       "False"
      ]
     },
     "execution_count": 5,
     "metadata": {},
     "output_type": "execute_result"
    }
   ],
   "source": [
    "P = ['Lorenzo','Juana','Ernesto','Lucia','Ramon']\n",
    "C = [('Lorenzo','Juana'),('Lucia','Ramon'),('Juana','Ernesto'), ('Ernesto','Ramon')]\n",
    "D1 = [True,True,True,False,False]\n",
    "T = 1\n",
    "verifySolutionP3(P, C, D1, T)"
   ]
  },
  {
   "cell_type": "code",
   "execution_count": 6,
   "metadata": {},
   "outputs": [
    {
     "data": {
      "text/plain": [
       "True"
      ]
     },
     "execution_count": 6,
     "metadata": {},
     "output_type": "execute_result"
    }
   ],
   "source": [
    "P = ['Lorenzo','Juana','Ernesto','Lucia','Ramon']\n",
    "C = [('Lorenzo','Juana'),('Lucia','Ramon'),('Juana','Ernesto'), ('Ernesto','Ramon')]\n",
    "D1 = [True,False,True,True,False]\n",
    "T = 1\n",
    "verifySolutionP3(P, C, D1, T)"
   ]
  },
  {
   "cell_type": "markdown",
   "metadata": {},
   "source": [
    "Podemos ver que este algoritmo se ejecuta en tiempo polinomial:\n",
    "\n",
    "1. **Creación de Conjuntos**: Esta primera parte itera a través del arreglo $D_1$ de tamaño $n$ para determinar que elementos perteneces al conjunto del día 1 y cuales pertenecen al conjunto del día 2. Dado que se iteran a través de todas las personas para determinar donde pertenecen, podemos deducir que es un proceso que ocurre en tiempo $O(|P|)$ donde $P$ sería la representación del conjunto total de personas.\n",
    "\n",
    "2. **Conteo de peleas**: Esta segunda parte itera a través de todas las parejas peleadas desritas en el conjunto $C$ e identifica si los elementos estan en el mismo conjunto (Ya sea del día 1 o del día 2). Dado que se emplea una estructura de conjunto que usa Hash para determinar si un elemento pertenece al conjunto o no (Lo cual permite suponer que dichas operaciones de búsqueda se realizan en tiempo constante), podemos afirmar que dicho proceso de conteo de peleas se realiza en tiempo $O(|C|)$.\n",
    "\n",
    "3. **Verificar cota**: Comparamos que el resultado del paso anterior sea menor o igual a la cota dada. Lo cual se hace en tiempo $O(1)$\n",
    "\n",
    "Finalmente, podemos concluir que este algoritmo de verificación ocurre en tiempo $O(|P|+|C|)$, lo que nos permite denotar que el algoritmo corre en tiempo polinomial para las entradas del problema. O en otras palabras, que el problema descrito es NP"
   ]
  },
  {
   "cell_type": "markdown",
   "metadata": {},
   "source": [
    "#### Propuesta de solución usando exploración de estados"
   ]
  },
  {
   "cell_type": "markdown",
   "metadata": {},
   "source": [
    "##### Descripción del espacio de estados del problema"
   ]
  },
  {
   "cell_type": "markdown",
   "metadata": {},
   "source": [
    "Para describir el espacio de estados, vamos a tener en cuenta que para cada persona se van a tener dos posibles estados, que este en el conjunto del día 1 o que este en el conjunto del día 2 (Por comodidad, serán representados con booleanos). De ese modo obtenemos la siguiente cantidad de estados en función de $P$:\n",
    "\n",
    "$$\\texttt{cantidadEstados}(P) = 2^{|P|}$$\n",
    "\n",
    "Para un ejemplo de tres personas, tenemos los siguientes dos estados por ejemplo:\n",
    "\n",
    "$$e_1 = <1,0,1>$$\n",
    "\n",
    "$$e_2 = <0,0,1>$$"
   ]
  },
  {
   "cell_type": "markdown",
   "metadata": {},
   "source": [
    "##### Especificación de condición de satisfacibilidad"
   ]
  },
  {
   "cell_type": "markdown",
   "metadata": {},
   "source": [
    "La condición de satisfacibilidad va a ser bastante sencilla. Podemos suponer que la satisfacibilidad se va a alcanzar cuando se encuentre una solución cuyas peleas sean menores o iguales a la cota $T$. Dado que es un problema de decisión, este enfoque es suficiente para dar una solución al problema.\n",
    "\n",
    "##### Funciones auxiliares\n",
    "\n",
    "$\\texttt{toSet}(A) = \\{ x : i \\in \\mathbb{N} \\wedge 0 \\leq i < A.\\texttt{length} \\wedge x = A[i]  \\}$\n",
    "\n",
    "$\\texttt{getSubset}(A,B) = \\{ x : i \\in \\mathbb{N} \\wedge 0 \\leq i < A.\\texttt{length} \\wedge B[i] = \\texttt{true} \\wedge x = A[i]  \\}$\n",
    "\n",
    "$\\texttt{countFights}(S1,S2,C) = ( + \\, (u,v) \\in C \\, | \\, (u \\in S1 \\wedge v \\in S1) \\vee (u \\in S2 \\wedge v \\in S2) : 1)$\n",
    "\n",
    "$\\texttt{fights}(e) = \\texttt{countFights}(\\texttt{getSubset}(P,e),\\texttt{toSet}(P)-\\texttt{getSubset}(P,e),C)$\n",
    "\n",
    "##### Especificación de satisfacibilidad\n",
    "\n",
    "$$\\texttt{satis}(e) \\equiv \\left( \\texttt{fights(e)} \\leq T \\right) $$\n",
    "\n",
    "Vale la pena aclarar que esta función de satisfacibilidad es equivalente al algoritmo de verificación propuesto"
   ]
  },
  {
   "cell_type": "markdown",
   "metadata": {},
   "source": [
    "##### Propuesta de Estado Inicial"
   ]
  },
  {
   "cell_type": "markdown",
   "metadata": {},
   "source": [
    "Para el estado inicial, necesitamos proponer un estado que no sea satisfacible y del cual se puedan alcanzar otros estados.\n",
    "\n",
    "Nuestra propuesta de estado inicial será incluir a todas las personas en un mismo conjunto (En nuestro contexto, sería definir que todos los elementos de $e_i$ sean true o que todos sean false).\n",
    "\n",
    "Es trivial porque este estado es no satisfacible. Dado que sabemos que todos las personas van a pertenecer al mismo conjunto, podemos denotar que tendremos todas las peleas posibles, lo que formalmente se describiría  $\\texttt{fights}(e_i) = |C|$, esto nos permite ver que la satisfacibilidad no se cumple para el estado incial:\n",
    "\n",
    "$$1 \\leq T < |C| \\wedge \\texttt{fights}(e_i) = |C| \\implies T < \\texttt{fights}(e_i) \\implies \\neg \\texttt{satis}(e_i)$$"
   ]
  },
  {
   "cell_type": "markdown",
   "metadata": {},
   "source": [
    "##### Función Sucesor"
   ]
  },
  {
   "cell_type": "markdown",
   "metadata": {},
   "source": [
    "Para definir una función sucesor, es fundamental establecer un criterio claro para identificar los estados subsecuentes al estado actual durante la exploración. En este contexto, utilizaremos una idea sencilla: si consideramos una configuración de personas distribuidas en dos conjuntos $ A $ y $ B $, un estado sucesor será aquel en el cual **una persona del conjunto $ A $ es trasladada al conjunto $ B $**.\n",
    "\n",
    "Aunque esta propuesta es conceptualmente simple, su implementación debe realizarse con extremo cuidado para evitar la generación de ciclos en el grafo de estados. Para abordar esta problemática, definiremos un criterio basado en los índices de los elementos que componen el grafo.\n",
    "\n",
    "Supondremos que el estado inicial corresponde a todas las personas marcadas como $\\texttt{false}$. A partir de esta configuración, el proceso para obtener los sucesores consiste en:\n",
    "\n",
    "\n",
    "1. Identificar el índice $ i$ más grande que tiene el valor $\\texttt{true}$.\n",
    "2. A partir del índice $i+1$ hasta el índice $|P|-1$, evaluar cada persona y trasladarla al conjunto contrario (equivalente a marcarla con $\\texttt{true}$).\n",
    "\n",
    "\n",
    "Este procedimiento permite explorar sistemáticamente los estados sucesores, garantizando un recorrido controlado, sin ciclos ni redundancias en el grafo."
   ]
  },
  {
   "cell_type": "markdown",
   "metadata": {},
   "source": [
    "##### Función de Viabilidad"
   ]
  },
  {
   "cell_type": "markdown",
   "metadata": {},
   "source": [
    "Para determinar que un estado es viable, vamos a aprovechar el concepto de conteo de peleas.\n",
    "\n",
    "Dado que comenzamos con la cota de peleas más grande posible ($\\texttt{fights}(e_i) = |C|$). Siempre vamos a permitir que con cada estado se reduzca la cantidad de peleas; en el caso que de un estado a otro la cantidad de peleas aumente, este camino será descartado ya que implicaría que se esta tomando una configuración complementaria que no sería válida para nuestros intereses.\n",
    "\n",
    "$$\\texttt{viable}(e,e') \\equiv (\\texttt{fights}(e') \\leq \\texttt{fights}(e))$$\n",
    "\n",
    "Esto se fundamente en que para un estado $e$, existe un estado $e'$ que funcionará como el complemento del mismo. En ese orden de ideas, aquel estado que fue descartado, puede ser visitado desde otro camino donde se encontrará su equivalente."
   ]
  },
  {
   "cell_type": "markdown",
   "metadata": {},
   "source": [
    "##### Programación de la Agenda\n",
    "\n",
    "Adicionalmente, vamos a utilizar un criterio para la programación de la agenda y como se visitarán los estados subsecuentes. Para ello se seguirá usando el concepto de `fights`. En este contexto, se va a procurar visitar primero los estados que involucran una cantidad más pequeña de peleas, ya que son los más prometedores a estar por debajo de la cota $T$ que se va a trabajar.\n",
    "\n",
    "Para esto, se utilizará una cola de prioridad que usará como criterio la cantidad de peleas para elegir al mejor candidato"
   ]
  },
  {
   "cell_type": "markdown",
   "metadata": {},
   "source": [
    "## Segundo Punto"
   ]
  },
  {
   "cell_type": "markdown",
   "metadata": {},
   "source": [
    "2. Implementar un algoritmo aproximado para solucionar el problema 3."
   ]
  },
  {
   "cell_type": "markdown",
   "metadata": {},
   "source": [
    "Para el problema 3, se realizó el algoritmo de exploración de grafos de estados para poder determinar la existencia de una solución bajo una cota $T$. Posteriormente, se ejecuto un algoritmo en tiempo logaritmico que ubica la cota del optimo a través de búsqueda binaria.\n",
    "\n",
    "El desarrollo de dicho programa se encuentra en el proyecto de Java incluido en este entregable. La siguiente linea muestra como se realiza la ejecución del proyecto mencionado."
   ]
  },
  {
   "cell_type": "markdown",
   "metadata": {},
   "source": [
    "Mostramos una entrada de ejemplo"
   ]
  },
  {
   "cell_type": "code",
   "execution_count": 7,
   "metadata": {},
   "outputs": [
    {
     "name": "stdout",
     "output_type": "stream",
     "text": [
      "9 9 4\n",
      "Jaime Lucia Rodrigo Ernesto Lucas Juan David Jhon Lana\n",
      "Jaime Rodrigo\n",
      "Ernesto Juan\n",
      "Juan Jaime\n",
      "Juan Rodrigo\n",
      "David Lana\n",
      "Rodrigo Jhon\n",
      "Lucia Jaime\n",
      "Jaime Lucas\n",
      "Lucas Lucia\n"
     ]
    }
   ],
   "source": [
    "file_path = \"Java Projects\\StateGraphSearch\\data\\input\\P1.in\"\n",
    "\n",
    "try:\n",
    "    with open(file_path, \"r\") as file:\n",
    "        content = file.read()\n",
    "        print(content)\n",
    "except FileNotFoundError:\n",
    "    print(f\"Error: The file '{file_path}' was not found.\")\n"
   ]
  },
  {
   "cell_type": "markdown",
   "metadata": {},
   "source": [
    "La entrada mostrada tiene tres elementoa en la primera linea. La cantidad de personas, la cantidad de peleas y la cota a tener en cuenta para el proceso del problema de decisión.\n",
    "En la siguiente linea, se incluyen las personas involucradas en el proceso separadas por un espacio (Se verifica que la cantidad de estas sea igual a la reportada en la linea anterior)\n",
    "Posteriormente, hay tantas lineas como cantidad de peleas. Cada linea tiene dos nombres separados por espacio y representan las dos personas que están peleadas"
   ]
  },
  {
   "cell_type": "markdown",
   "metadata": {},
   "source": [
    "A continuación se muestra la ejecución del algoritmo que soluciona el problema de decisión."
   ]
  },
  {
   "cell_type": "code",
   "execution_count": 8,
   "metadata": {},
   "outputs": [
    {
     "name": "stdout",
     "output_type": "stream",
     "text": [
      "A solution with 4 fights or less was found\n"
     ]
    }
   ],
   "source": [
    "path = \"Java Projects\\StateGraphSearch\"\n",
    "\n",
    "!cd {path} && \\\n",
    " javac -d bin src/uniandes/algorithms/stategraphs/*.java && \\\n",
    " java -cp bin uniandes.algorithms.stategraphs.StateGraphSearch 3 0 < ./data/input/P1.in"
   ]
  },
  {
   "cell_type": "code",
   "execution_count": 9,
   "metadata": {},
   "outputs": [
    {
     "name": "stdout",
     "output_type": "stream",
     "text": [
      "A solution with 4 fights or less was found\n"
     ]
    }
   ],
   "source": [
    "path = \"Java Projects\\StateGraphSearch\"\n",
    "\n",
    "!cd {path} && \\\n",
    " javac -d bin src/uniandes/algorithms/stategraphs/*.java && \\\n",
    " java -cp bin uniandes.algorithms.stategraphs.StateGraphSearch 3 0 < ./data/input/P2.in"
   ]
  },
  {
   "cell_type": "markdown",
   "metadata": {},
   "source": [
    "Dado que el objetivo es solucionar el problema inicial que es de optimización, podemos encontrar a continuación la ejecución del programa de tal forma que da la solución con la estrategia descrita."
   ]
  },
  {
   "cell_type": "code",
   "execution_count": 14,
   "metadata": {},
   "outputs": [
    {
     "name": "stdout",
     "output_type": "stream",
     "text": [
      "Minimum number of fights: 2\n",
      "Day 1: [David, Rodrigo, Lucas, Juan]\n",
      "Day 2: [Lucia, Jaime, Lana, Ernesto, Jhon]\n"
     ]
    }
   ],
   "source": [
    "path = \"Java Projects\\StateGraphSearch\"\n",
    "\n",
    "!cd {path} && \\\n",
    " javac -d bin src/uniandes/algorithms/stategraphs/*.java && \\\n",
    " java -cp bin uniandes.algorithms.stategraphs.StateGraphSearch 2 0 < ./data/input/P1.in"
   ]
  },
  {
   "cell_type": "code",
   "execution_count": 11,
   "metadata": {},
   "outputs": [
    {
     "name": "stdout",
     "output_type": "stream",
     "text": [
      "Minimum number of fights: 3\n",
      "Day 1: [Rodrigo, Lucas, Juan, Lana]\n",
      "Day 2: [Lucia, David, Jaime, Ernesto, Jhon]\n"
     ]
    }
   ],
   "source": [
    "path = \"Java Projects\\StateGraphSearch\"\n",
    "\n",
    "!cd {path} && \\\n",
    " javac -d bin src/uniandes/algorithms/stategraphs/*.java && \\\n",
    " java -cp bin uniandes.algorithms.stategraphs.StateGraphSearch 2 0 < ./data/input/P2.in"
   ]
  },
  {
   "cell_type": "markdown",
   "metadata": {},
   "source": [
    "## Bono"
   ]
  },
  {
   "cell_type": "markdown",
   "metadata": {},
   "source": [
    "Para el problema 1, implementar y probar el algoritmo de exploración de grafos. Las\n",
    "funciones de satisfacibilidad, sucesor y viabilidad (o dominó) en cada caso deben ser claramente\n",
    "definidas como funciones o métodos de clase"
   ]
  },
  {
   "cell_type": "markdown",
   "metadata": {},
   "source": [
    "El desarrollo de esta clase se encuentra adjunta al proyecto de Java incluido en el entregable. A continuación se muestra un ejemplo de entrada para este programa; junto con el comando asociado a su ejecución"
   ]
  },
  {
   "cell_type": "code",
   "execution_count": 12,
   "metadata": {},
   "outputs": [
    {
     "name": "stdout",
     "output_type": "stream",
     "text": [
      "10 8 5\n",
      "I1 I2 I3 I4 I5 I6 I7 I8 I9 I10\n",
      "I1 I2\n",
      "I3 I4\n",
      "I4 I5\n",
      "I5 I1\n",
      "I7 I9\n",
      "I10 I2\n",
      "I8 I7\n",
      "I6 I9\n"
     ]
    }
   ],
   "source": [
    "file_path = \"Java Projects\\StateGraphSearch\\data\\input\\PBono1.in\"\n",
    "\n",
    "try:\n",
    "    with open(file_path, \"r\") as file:\n",
    "        content = file.read()\n",
    "        print(content)\n",
    "except FileNotFoundError:\n",
    "    print(f\"Error: The file '{file_path}' was not found.\")\n"
   ]
  },
  {
   "cell_type": "markdown",
   "metadata": {},
   "source": [
    "La primera linea de la entrada describe la cantidad de intersecciones, la cantidad de calles y la cota $T$ a tener en cuenta en el problema de decisión. Posteriormente, se encuentra una linea donde estan los identificadores de las intersecciones separadas por espacios. En las lineas posteriores, se encuentran las parejas de intersecciones que representan las calles; se manejaran tantas calles e intersecciones como se definió en la primera línea de la entrada"
   ]
  },
  {
   "cell_type": "markdown",
   "metadata": {},
   "source": [
    "A continuación se ve como se realiza la ejecución del código asociado a este ejercicio"
   ]
  },
  {
   "cell_type": "code",
   "execution_count": 13,
   "metadata": {},
   "outputs": [
    {
     "name": "stdout",
     "output_type": "stream",
     "text": [
      "Intersections with camera: [I9, I2, I3, I5, I8]\n",
      "A solution with 5 cameras or less was found\n"
     ]
    }
   ],
   "source": [
    "path = \"Java Projects\\StateGraphSearch\"\n",
    "\n",
    "!cd {path} && \\\n",
    " javac -d bin src/uniandes/algorithms/stategraphs/*.java && \\\n",
    " java -cp bin uniandes.algorithms.stategraphs.StateGraphSearch 1 1 < ./data/input/PBono1.in"
   ]
  }
 ],
 "metadata": {
  "kernelspec": {
   "display_name": "Python 3",
   "language": "python",
   "name": "python3"
  },
  "language_info": {
   "codemirror_mode": {
    "name": "ipython",
    "version": 3
   },
   "file_extension": ".py",
   "mimetype": "text/x-python",
   "name": "python",
   "nbconvert_exporter": "python",
   "pygments_lexer": "ipython3",
   "version": "3.12.5"
  }
 },
 "nbformat": 4,
 "nbformat_minor": 2
}
