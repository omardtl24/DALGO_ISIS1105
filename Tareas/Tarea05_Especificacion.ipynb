{
 "cells": [
  {
   "cell_type": "markdown",
   "metadata": {},
   "source": [
    "# Desarrollo Tarea 5\n",
    "\n",
    "#### **Estudiantes:** \n",
    "* Omar David Toledo Leguizamón (202424446)\n",
    "* Juan David Camargo"
   ]
  },
  {
   "cell_type": "markdown",
   "metadata": {},
   "source": [
    "Describir los datos de entrada, los datos de salida y especificar en forma de predicado de lógica\n",
    "proposicional o lógica de primer orden la precondición y la postcondición para los siguientes problemas:"
   ]
  },
  {
   "cell_type": "markdown",
   "metadata": {},
   "source": [
    "### Problema 1\n",
    "\n",
    "Dado un número natural, encontrar su raiz cuadrada entera, la cual se define como el mayor número natural que es menor que la raíz cuadrada real del número"
   ]
  },
  {
   "cell_type": "markdown",
   "metadata": {},
   "source": [
    "#### Entradas y Salidas"
   ]
  },
  {
   "cell_type": "markdown",
   "metadata": {},
   "source": [
    "| E/S | Nombre | Tipo | Descripción |\n",
    "| - | - | - | - |\n",
    "| E | n | **nat** | Número al que se le busca hallar su raíz cuadrada entera |\n",
    "| E | r | **nat** | Raíz cuadrada entera de la entrada n |"
   ]
  },
  {
   "cell_type": "markdown",
   "metadata": {},
   "source": [
    "### Problema 2\n",
    "\n",
    "Dado un número natural, determinar si es un número primo"
   ]
  },
  {
   "cell_type": "markdown",
   "metadata": {},
   "source": [
    "### Problema 3\n",
    "\n",
    "Dado un número primo, encontrar el siguiente número primo"
   ]
  },
  {
   "cell_type": "markdown",
   "metadata": {},
   "source": [
    "### Problema 4\n",
    "\n",
    "Dado un arreglo de números naturales, encontrar la posición en la que se encuentra el número más pequeño del arreglo que sea par. Si el arreglo no tiene números pares, la respuesta debe ser $-1$"
   ]
  },
  {
   "cell_type": "markdown",
   "metadata": {},
   "source": [
    "### Problema 5\n",
    "\n",
    "Dado un conjunto de estudiantes ordenados por código y un rango de fechas dentro de un año, encontrar los estudiantes que cumplen años en el rango de fechas dado\n"
   ]
  },
  {
   "cell_type": "markdown",
   "metadata": {},
   "source": [
    "### Problema 6\n",
    "\n",
    "Dado un conjunto de $n$ cadenas, encontrar la cadena más corta tal que cada una de las cadenas de entrada sea una subcadena de la cadena de salida"
   ]
  }
 ],
 "metadata": {
  "language_info": {
   "name": "python"
  }
 },
 "nbformat": 4,
 "nbformat_minor": 2
}
