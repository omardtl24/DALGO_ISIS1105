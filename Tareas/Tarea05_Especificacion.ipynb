{
 "cells": [
  {
   "cell_type": "markdown",
   "metadata": {},
   "source": [
    "# Desarrollo Tarea 5\n",
    "\n",
    "#### **Estudiantes:** \n",
    "* Omar David Toledo Leguizamón (202424446)"
   ]
  },
  {
   "cell_type": "markdown",
   "metadata": {},
   "source": [
    "Describir los datos de entrada, los datos de salida y especificar en forma de predicado de lógica\n",
    "proposicional o lógica de primer orden la precondición y la postcondición para los siguientes problemas:"
   ]
  },
  {
   "cell_type": "markdown",
   "metadata": {},
   "source": [
    "### Problema 1\n",
    "\n",
    "Dado un número natural, encontrar su raiz cuadrada entera, la cual se define como el mayor número natural que es menor que la raíz cuadrada real del número"
   ]
  },
  {
   "cell_type": "markdown",
   "metadata": {},
   "source": [
    "#### Entradas y Salidas"
   ]
  },
  {
   "cell_type": "markdown",
   "metadata": {},
   "source": [
    "| E/S | Nombre | Tipo | Descripción |\n",
    "| - | - | - | - |\n",
    "| E | n | **nat** | Número al que se le busca hallar su raíz cuadrada entera |\n",
    "| S | r | **nat** | Raíz cuadrada entera de la entrada n |"
   ]
  },
  {
   "cell_type": "markdown",
   "metadata": {},
   "source": [
    "#### Funciones y Predicados"
   ]
  },
  {
   "cell_type": "markdown",
   "metadata": {},
   "source": [
    "#### Especificación"
   ]
  },
  {
   "cell_type": "markdown",
   "metadata": {},
   "source": [
    "$Q: \\{\\textbf{true}\\}$\n",
    "\n",
    "$R: \\{ r \\in \\mathbb{N} \\wedge ()\\}$"
   ]
  },
  {
   "cell_type": "markdown",
   "metadata": {},
   "source": [
    "### Problema 2\n",
    "\n",
    "Dado un número natural, determinar si es un número primo"
   ]
  },
  {
   "cell_type": "markdown",
   "metadata": {},
   "source": [
    "#### Entradas y Salidas"
   ]
  },
  {
   "cell_type": "markdown",
   "metadata": {},
   "source": [
    "| E/S | Nombre | Tipo | Descripción |\n",
    "| - | - | - | - |\n",
    "| E | n | **nat** | Número al que se le busca determinar si es primo o no |\n",
    "| S | b | **bool** | ¿Es n un número primo? |"
   ]
  },
  {
   "cell_type": "markdown",
   "metadata": {},
   "source": [
    "#### Especificación"
   ]
  },
  {
   "cell_type": "markdown",
   "metadata": {},
   "source": [
    "$Q: \\{\\textbf{true}\\}$\n",
    "\n",
    "$R: \\{ b \\equiv \\left( n \\geq 2 \\wedge (\\forall i  \\in \\mathbb{N} \\,\\, | \\,\\, 2 \\leq i < n : n \\mod i > 0) \\right)\\}$"
   ]
  },
  {
   "cell_type": "markdown",
   "metadata": {},
   "source": [
    "### Problema 3\n",
    "\n",
    "Dado un número primo, encontrar el siguiente número primo"
   ]
  },
  {
   "cell_type": "markdown",
   "metadata": {},
   "source": [
    "#### Entradas y Salidas"
   ]
  },
  {
   "cell_type": "markdown",
   "metadata": {},
   "source": [
    "| E/S | Nombre | Tipo | Descripción |\n",
    "| - | - | - | - |\n",
    "| E | n | **nat** | Número primo al que se le busca encontrar su siguiente primo |\n",
    "| S | r | **nat** | Número primo siguiente al número n |"
   ]
  },
  {
   "cell_type": "markdown",
   "metadata": {},
   "source": [
    "#### Funciones y Predicados"
   ]
  },
  {
   "cell_type": "markdown",
   "metadata": {},
   "source": [
    "$\\text{isPrime}(s) \\equiv  \\left( s \\geq 2 \\wedge (\\forall i \\in \\mathbb{N} \\,\\, | \\,\\, 2 \\leq i < s : s \\mod i > 0) \\right)$"
   ]
  },
  {
   "cell_type": "markdown",
   "metadata": {},
   "source": [
    "#### Especificación"
   ]
  },
  {
   "cell_type": "markdown",
   "metadata": {},
   "source": [
    "$Q : \\{ \\text{isPrime}(n) \\}$\n",
    "\n",
    "$R : \\{ r > n \\,\\, \\wedge \\,\\, \\text{isPrime}(r) \\,\\, \\wedge \\,\\, \\left( \\forall i \\in \\mathbb{N} \\,\\, | \\,\\, n < i < r : \\neg \\,\\, \\text{isPrime}(i) \\right) \\}$"
   ]
  },
  {
   "cell_type": "markdown",
   "metadata": {},
   "source": [
    "### Problema 4\n",
    "\n",
    "Dado un arreglo de números naturales, encontrar la posición en la que se encuentra el número más pequeño del arreglo que sea par. Si el arreglo no tiene números pares, la respuesta debe ser $-1$"
   ]
  },
  {
   "cell_type": "markdown",
   "metadata": {},
   "source": [
    "#### Entradas y Salidas"
   ]
  },
  {
   "cell_type": "markdown",
   "metadata": {},
   "source": [
    "| E/S | Nombre | Tipo | Descripción |\n",
    "| - | - | - | - |\n",
    "| E | A | **Array** of **nat** | Arreglo de números naturales al que se le busca la posición del número par más pequeño |\n",
    "| E | r | **nat** | Posición del número entero par mas pequeño del arreglo |"
   ]
  },
  {
   "cell_type": "markdown",
   "metadata": {},
   "source": [
    "#### Funciones y Predicados"
   ]
  },
  {
   "cell_type": "markdown",
   "metadata": {},
   "source": [
    "#### Especificación"
   ]
  },
  {
   "cell_type": "markdown",
   "metadata": {},
   "source": [
    "### Problema 5\n",
    "\n",
    "Dado un conjunto de estudiantes ordenados por código y un rango de fechas dentro de un año, encontrar los estudiantes que cumplen años en el rango de fechas dado\n"
   ]
  },
  {
   "cell_type": "markdown",
   "metadata": {},
   "source": [
    "#### Entradas y Salidas"
   ]
  },
  {
   "cell_type": "markdown",
   "metadata": {},
   "source": [
    "| E/S | Nombre | Tipo | Descripción |\n",
    "| - | - | - | - |\n",
    "| E | S | **Array** of **Students** | Arreglo de estudiantes ordenados por codigo y por rango de fechas de nacimiento. Cada estudiante e tiene un **codigo** e.c y una **fecha** de nacimiento e.f|\n",
    "| E | f1 | **fecha** | Fecha de inicio del rango dado|\n",
    "| E | f2 | **fecha** | Fecha de finalizacion del rango dado|\n",
    "| S | r | **Set** of **Students** | Conjunto de estudiantes que nacieron en el rango de fecha descrito por f1 y f2|"
   ]
  },
  {
   "cell_type": "markdown",
   "metadata": {},
   "source": [
    "#### Especificación"
   ]
  },
  {
   "cell_type": "markdown",
   "metadata": {},
   "source": [
    "$Q : \\{ \\forall i \\in \\mathbb{N} \\,\\, | \\,\\, 1 \\leq i < \\text{len}(S) : S[i-1].c < S[i].c\\}$\n",
    "\n",
    "$R : \\{ \\forall e \\in  r : f_1 \\leq e.f \\leq f_2 \\,\\, \\wedge \\,\\, (\\exists i \\in \\mathbb{N} \\,\\, | \\,\\, 0 \\leq i < \\text{len}(S) : e = S[i])\\}$"
   ]
  },
  {
   "cell_type": "markdown",
   "metadata": {},
   "source": [
    "### Problema 6\n",
    "\n",
    "Dado un conjunto de $n$ cadenas, encontrar la cadena más corta tal que cada una de las cadenas de entrada sea una subcadena de la cadena de salida"
   ]
  },
  {
   "cell_type": "markdown",
   "metadata": {},
   "source": [
    "#### Entradas y Salidas"
   ]
  },
  {
   "cell_type": "markdown",
   "metadata": {},
   "source": [
    "| E/S | Nombre | Tipo | Descripción |\n",
    "| - | - | - | - |\n",
    "| E | A | **Set** of **string** | Conjunto de cadenas de entrada |\n",
    "| S | r | **string** | Cadena más corta tal que las cadenas de entrada son subcadenas de esta |"
   ]
  },
  {
   "cell_type": "markdown",
   "metadata": {},
   "source": [
    "#### Funciones y Predicados"
   ]
  },
  {
   "cell_type": "markdown",
   "metadata": {},
   "source": [
    "#### Especificación"
   ]
  }
 ],
 "metadata": {
  "language_info": {
   "name": "python"
  }
 },
 "nbformat": 4,
 "nbformat_minor": 2
}
