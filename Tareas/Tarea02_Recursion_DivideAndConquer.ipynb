{
 "cells": [
  {
   "cell_type": "markdown",
   "metadata": {},
   "source": [
    "# Desarrollo Tarea 2\n",
    "\n",
    "#### **Estudiante:** Omar David Toledo Leguizamón"
   ]
  },
  {
   "cell_type": "markdown",
   "metadata": {},
   "source": [
    "## Parte 1"
   ]
  },
  {
   "cell_type": "markdown",
   "metadata": {},
   "source": [
    "El primer paso a realizar, será generar los archivos con las diferentes cantidades de numeros aleatorios usadas para comparar los algoritmos"
   ]
  },
  {
   "cell_type": "code",
   "execution_count": 16,
   "metadata": {},
   "outputs": [],
   "source": [
    "import random\n",
    "\n",
    "def generate_random_integers_file(filename, num_integers, min_value=0, max_value=10000):\n",
    "    with open(filename, 'w') as file:\n",
    "        for _ in range(num_integers):\n",
    "            random_integer = random.randint(min_value, max_value)\n",
    "            file.write(f\"{random_integer}\\n\")\n",
    "    print(f'{num_integers} numbers file generaterd')\n"
   ]
  },
  {
   "cell_type": "code",
   "execution_count": 17,
   "metadata": {},
   "outputs": [
    {
     "name": "stdout",
     "output_type": "stream",
     "text": [
      "100 numbers file generaterd\n",
      "1000 numbers file generaterd\n",
      "10000 numbers file generaterd\n",
      "100000 numbers file generaterd\n",
      "1000000 numbers file generaterd\n"
     ]
    }
   ],
   "source": [
    "generate_random_integers_file('TallerRecursion/data/numbers100.txt', 100)\n",
    "generate_random_integers_file('TallerRecursion/data/numbers1k.txt', 1000)\n",
    "generate_random_integers_file('TallerRecursion/data/numbers10k.txt', 10000)\n",
    "generate_random_integers_file('TallerRecursion/data/numbers100k.txt', 100000)\n",
    "generate_random_integers_file('TallerRecursion/data/numbers1M.txt', 1000000)"
   ]
  },
  {
   "cell_type": "markdown",
   "metadata": {},
   "source": [
    "A partir de estos, se realizará la carga de datos para los algoritmos de QuickSort, MergeSort y BubbleSort para todos los conjuntos de datos y se compararán las seis salidas"
   ]
  },
  {
   "cell_type": "markdown",
   "metadata": {},
   "source": [
    "#### 1. QuickSort"
   ]
  },
  {
   "cell_type": "markdown",
   "metadata": {},
   "source": [
    "Resultado con 100 datos:\n",
    "```\n",
    "ArrayList size: 100 recursive list size: 100\n",
    "First location of number 2370. In ArrayList: 11 in recursive list: 11\n",
    "Last location of number 2370. In ArrayList: 11 in recursive list: 11\n",
    "Element in position 11. ArrayList: 2370 recursive list 2370\n",
    "The list is not sorted\n",
    "Number of even elements. Divide and conquer: 50. recursive list 50\n",
    "Maximum. Divide and conquer: 9922. recursive list 9922\n",
    "Position of value 2370. Divide and conquer: 11. Value in numbers 2370\n",
    "Sorting algorithm: Quick\n",
    "Numbers sorted. Total time(milliseconds): 1\n",
    "Position of value 2370. Divide and conquer: 26. Value in numbers 2370\n",
    "```\n",
    "\n",
    "Resultado con 1000 datos:\n",
    "```\n",
    "ArrayList size: 1000 recursive list size: 1000\n",
    "First location of number 492. In ArrayList: 779 in recursive list: 779\n",
    "Last location of number 492. In ArrayList: 779 in recursive list: 779\n",
    "Element in position 779. ArrayList: 492 recursive list 492\n",
    "The list is not sorted\n",
    "Number of even elements. Divide and conquer: 496. recursive list 496\n",
    "Maximum. Divide and conquer: 9994. recursive list 9994\n",
    "Position of value 492. Divide and conquer: 779. Value in numbers 492\n",
    "Sorting algorithm: Quick\n",
    "Numbers sorted. Total time(milliseconds): 1\n",
    "Position of value 492. Divide and conquer: 52. Value in numbers 492\n",
    "```\n",
    "\n",
    "Resultado con 10000 datos:\n",
    "```\n",
    "ArrayList size: 10000 recursive list size: 10000\n",
    "First location of number 1794. In ArrayList: 9721 in recursive list: 9721\n",
    "Last location of number 1794. In ArrayList: 9721 in recursive list: 9721\n",
    "Element in position 9721. ArrayList: 1794 recursive list 1794\n",
    "The list is not sorted\n",
    "Number of even elements. Divide and conquer: 4985. recursive list 4985\n",
    "Maximum. Divide and conquer: 9998. recursive list 9998\n",
    "Position of value 1794. Divide and conquer: 9721. Value in numbers 1794\n",
    "Sorting algorithm: Quick\n",
    "Numbers sorted. Total time(milliseconds): 9\n",
    "Position of value 1794. Divide and conquer: 1784. Value in numbers 1794\n",
    "\n",
    "```\n",
    "\n",
    "Resultado con 100000 datos:\n",
    "```\n",
    "ArrayList size: 100000 recursive list size: 100000\n",
    "First location of number 312. In ArrayList: 3360 in recursive list: 3360\n",
    "Last location of number 312. In ArrayList: 74670 in recursive list: 74670\n",
    "Element in position 74670. ArrayList: 312 recursive list 312\n",
    "The list is not sorted\n",
    "Number of even elements. Divide and conquer: 50175. recursive list 50175\n",
    "Maximum. Divide and conquer: 10000. recursive list 10000\n",
    "Position of value 312. Divide and conquer: 3360. Value in numbers 312\n",
    "Sorting algorithm: Quick\n",
    "Numbers sorted. Total time(milliseconds): 49\n",
    "Position of value 312. Divide and conquer: 3050. Value in numbers 312\n",
    "\n",
    "```\n",
    "\n",
    "Resultado con 100000 datos:\n",
    "```\n",
    "ArrayList size: 1000000 recursive list size: 1000000\n",
    "First location of number 4832. In ArrayList: 7641 in recursive list: 7641\n",
    "Last location of number 4832. In ArrayList: 998803 in recursive list: 998803\n",
    "Element in position 146651. ArrayList: 4832 recursive list 4832\n",
    "The list is not sorted\n",
    "Number of even elements. Divide and conquer: 500119. recursive list 500119\n",
    "Maximum. Divide and conquer: 10000. recursive list 10000\n",
    "Position of value 4832. Divide and conquer: 7641. Value in numbers 4832\n",
    "Sorting algorithm: Quick\n",
    "Numbers sorted. Total time(milliseconds): 1125\n",
    "Position of value 4832. Divide and conquer: 482969. Value in numbers 4832\n",
    "```"
   ]
  },
  {
   "cell_type": "markdown",
   "metadata": {},
   "source": [
    "#### 2. BubbleSort"
   ]
  },
  {
   "cell_type": "markdown",
   "metadata": {},
   "source": [
    "Resultado con 100 datos:\n",
    "```\n",
    "ArrayList size: 100 recursive list size: 100\n",
    "First location of number 9016. In ArrayList: 15 in recursive list: 15\n",
    "Last location of number 9016. In ArrayList: 15 in recursive list: 15\n",
    "Element in position 15. ArrayList: 9016 recursive list 9016\n",
    "The list is not sorted\n",
    "Number of even elements. Divide and conquer: 50. recursive list 50\n",
    "Maximum. Divide and conquer: 9922. recursive list 9922\n",
    "Position of value 9016. Divide and conquer: 15. Value in numbers 9016\n",
    "Sorting algorithm: Bubble\n",
    "Numbers sorted. Total time(milliseconds): 2\n",
    "Position of value 9016. Divide and conquer: 86. Value in numbers 9016\n",
    "```\n",
    "\n",
    "Resultado con 1000 datos:\n",
    "```\n",
    "ArrayList size: 1000 recursive list size: 1000\n",
    "First location of number 6462. In ArrayList: 638 in recursive list: 638\n",
    "Last location of number 6462. In ArrayList: 638 in recursive list: 638\n",
    "Element in position 638. ArrayList: 6462 recursive list 6462\n",
    "The list is not sorted\n",
    "Number of even elements. Divide and conquer: 496. recursive list 496\n",
    "Maximum. Divide and conquer: 9994. recursive list 9994\n",
    "Position of value 6462. Divide and conquer: 638. Value in numbers 6462\n",
    "Sorting algorithm: Bubble\n",
    "Numbers sorted. Total time(milliseconds): 28\n",
    "Position of value 6462. Divide and conquer: 638. Value in numbers 6462\n",
    "```\n",
    "\n",
    "Resultado con 10000 datos:\n",
    "```\n",
    "ArrayList size: 10000 recursive list size: 10000\n",
    "First location of number 8711. In ArrayList: 6659 in recursive list: 6659\n",
    "Last location of number 8711. In ArrayList: 8428 in recursive list: 8428\n",
    "Element in position 8428. ArrayList: 8711 recursive list 8711\n",
    "The list is not sorted\n",
    "Number of even elements. Divide and conquer: 4985. recursive list 4985\n",
    "Maximum. Divide and conquer: 9998. recursive list 9998\n",
    "Position of value 8711. Divide and conquer: 6659. Value in numbers 8711\n",
    "Sorting algorithm: Bubble\n",
    "Numbers sorted. Total time(milliseconds): 433\n",
    "Position of value 8711. Divide and conquer: 8727. Value in numbers 8711\n",
    "```\n",
    "\n",
    "Resultado con 100000 datos:\n",
    "```\n",
    "ArrayList size: 100000 recursive list size: 100000\n",
    "First location of number 7701. In ArrayList: 10054 in recursive list: 10054\n",
    "Last location of number 7701. In ArrayList: 99820 in recursive list: 99820\n",
    "Element in position 85224. ArrayList: 7701 recursive list 7701\n",
    "The list is not sorted\n",
    "Number of even elements. Divide and conquer: 50175. recursive list 50175\n",
    "Maximum. Divide and conquer: 10000. recursive list 10000\n",
    "Position of value 7701. Divide and conquer: 10054. Value in numbers 7701\n",
    "Sorting algorithm: Bubble\n",
    "Numbers sorted. Total time(milliseconds): 78663\n",
    "Position of value 7701. Divide and conquer: 76840. Value in numbers 7701\n",
    "\n",
    "```\n",
    "\n",
    "Resultado con 100000 datos:\n",
    "```\n",
    "ArrayList size: 1000000 recursive list size: 1000000\n",
    "First location of number 6724. In ArrayList: 19323 in recursive list: 19323\n",
    "Last location of number 6724. In ArrayList: 999200 in recursive list: 999200\n",
    "Element in position 747411. ArrayList: 6724 recursive list 6724\n",
    "The list is not sorted\n",
    "Number of even elements. Divide and conquer: 500119. recursive list 500119\n",
    "Maximum. Divide and conquer: 10000. recursive list 10000\n",
    "Position of value 6724. Divide and conquer: 19323. Value in numbers 6724\n",
    "Sorting algorithm: Bubble\n",
    "Numbers sorted. Total time(milliseconds): 6708568\n",
    "Position of value 6724. Divide and conquer: 671507. Value in numbers 6724\n",
    "```"
   ]
  },
  {
   "cell_type": "markdown",
   "metadata": {},
   "source": [
    "#### 3. MergeSort"
   ]
  },
  {
   "cell_type": "markdown",
   "metadata": {},
   "source": [
    "Resultado con 100 datos:\n",
    "```\n",
    "ArrayList size: 100 recursive list size: 100\n",
    "First location of number 159. In ArrayList: 40 in recursive list: 40\n",
    "Last location of number 159. In ArrayList: 40 in recursive list: 40\n",
    "Element in position 40. ArrayList: 159 recursive list 159\n",
    "The list is not sorted\n",
    "Number of even elements. Divide and conquer: 50. recursive list 50\n",
    "Maximum. Divide and conquer: 9922. recursive list 9922\n",
    "Position of value 159. Divide and conquer: 40. Value in numbers 159\n",
    "Sorting algorithm: Merge\n",
    "Numbers sorted. Total time(milliseconds): 1\n",
    "Position of value 159. Divide and conquer: 2. Value in numbers 159\n",
    "```\n",
    "\n",
    "Resultado con 1000 datos:\n",
    "```\n",
    "ArrayList size: 1000 recursive list size: 1000\n",
    "First location of number 4414. In ArrayList: 918 in recursive list: 918\n",
    "Last location of number 4414. In ArrayList: 918 in recursive list: 918\n",
    "Element in position 918. ArrayList: 4414 recursive list 4414\n",
    "The list is not sorted\n",
    "Number of even elements. Divide and conquer: 496. recursive list 496\n",
    "Maximum. Divide and conquer: 9994. recursive list 9994\n",
    "Position of value 4414. Divide and conquer: 918. Value in numbers 4414\n",
    "Sorting algorithm: Merge\n",
    "Numbers sorted. Total time(milliseconds): 2\n",
    "Position of value 4414. Divide and conquer: 441. Value in numbers 4414\n",
    "```\n",
    "\n",
    "Resultado con 10000 datos:\n",
    "```\n",
    "ArrayList size: 10000 recursive list size: 10000\n",
    "First location of number 8938. In ArrayList: 2764 in recursive list: 2764\n",
    "Last location of number 8938. In ArrayList: 3867 in recursive list: 3867\n",
    "Element in position 3867. ArrayList: 8938 recursive list 8938\n",
    "The list is not sorted\n",
    "Number of even elements. Divide and conquer: 4985. recursive list 4985\n",
    "Maximum. Divide and conquer: 9998. recursive list 9998\n",
    "Position of value 8938. Divide and conquer: 2764. Value in numbers 8938\n",
    "Sorting algorithm: Merge\n",
    "Numbers sorted. Total time(milliseconds): 13\n",
    "Position of value 8938. Divide and conquer: 8973. Value in numbers 8938\n",
    "```\n",
    "\n",
    "Resultado con 100000 datos:\n",
    "```\n",
    "ArrayList size: 100000 recursive list size: 100000\n",
    "First location of number 7885. In ArrayList: 7555 in recursive list: 7555\n",
    "Last location of number 7885. In ArrayList: 96377 in recursive list: 96377\n",
    "Element in position 27666. ArrayList: 7885 recursive list 7885\n",
    "The list is not sorted\n",
    "Number of even elements. Divide and conquer: 50175. recursive list 50175\n",
    "Maximum. Divide and conquer: 10000. recursive list 10000\n",
    "Position of value 7885. Divide and conquer: 7555. Value in numbers 7885\n",
    "Sorting algorithm: Merge\n",
    "Numbers sorted. Total time(milliseconds): 151\n",
    "Position of value 7885. Divide and conquer: 78696. Value in numbers 7885\n",
    "```\n",
    "\n",
    "Resultado con 100000 datos:\n",
    "```\n",
    "ArrayList size: 1000000 recursive list size: 1000000\n",
    "First location of number 4012. In ArrayList: 1086 in recursive list: 1086\n",
    "Last location of number 4012. In ArrayList: 994811 in recursive list: 994811\n",
    "Element in position 754714. ArrayList: 4012 recursive list 4012\n",
    "The list is not sorted\n",
    "Number of even elements. Divide and conquer: 500119. recursive list 500119\n",
    "Maximum. Divide and conquer: 10000. recursive list 10000\n",
    "Position of value 4012. Divide and conquer: 1086. Value in numbers 4012\n",
    "Sorting algorithm: Merge\n",
    "Numbers sorted. Total time(milliseconds): 966\n",
    "Position of value 4012. Divide and conquer: 400755. Value in numbers 4012\n",
    "```"
   ]
  },
  {
   "cell_type": "markdown",
   "metadata": {},
   "source": [
    "#### Resumen"
   ]
  },
  {
   "cell_type": "markdown",
   "metadata": {},
   "source": [
    "Finalmente, diseñamos una tabla que resuma los tiempos de ejecución para cada tipo de datos en milisegundos\n",
    "\n",
    "| Algoritmo | 100 | 1k | 10k | 100k | 1M |\n",
    "|-----------|-----|----|-----|------|----|\n",
    "| BubbleSort | 2 | 28 | 433 | 78663 | 6708568 |\n",
    "| QuickSort | 1 | 1  | 9  | 49 | 1125 |\n",
    "| MergeSort | 1 | 2 | 13 | 151 | 966 |\n",
    "\n",
    "Adicionalmente, diseñamos una rutina que nos permita visualizar los resultados de manera gráfica de este conbjunto de datos obtenido.\n",
    "\n"
   ]
  },
  {
   "cell_type": "code",
   "execution_count": 18,
   "metadata": {},
   "outputs": [],
   "source": [
    "import matplotlib.pyplot as plt\n",
    "\n",
    "def plot_execution_values(dictionary_info):\n",
    "    methods = list(dictionary_info.keys())\n",
    "    values = list(dictionary_info[methods[0]].keys())\n",
    "    fig = plt.figure(figsize=(8,6))\n",
    "    for method in methods:\n",
    "        data = [dictionary_info[method][value] for value in values]\n",
    "        plt.plot(values,data,label = method, marker = 'v')\n",
    "    plt.xlabel('n')\n",
    "    plt.ylabel('t (ms)')\n",
    "    plt.title('Sorting algorithms time performance comparison')\n",
    "    plt.legend()\n",
    "    plt.tight_layout()\n",
    "    plt.show()"
   ]
  },
  {
   "cell_type": "code",
   "execution_count": 19,
   "metadata": {},
   "outputs": [
    {
     "data": {
      "image/png": "[encoded data removed]",
      "text/plain": [
       "<Figure size 800x600 with 1 Axes>"
      ]
     },
     "metadata": {},
     "output_type": "display_data"
    }
   ],
   "source": [
    "dict_ = {\n",
    "    'BubbleSort' : {100:2 , 1000:28, 10000: 433, 100000: 78663, 1000000: 6708568},\n",
    "    'QuickSort' : {100:1 , 1000:1, 10000: 9, 100000: 49, 1000000: 1125},\n",
    "    'MergeSort' : {100:1 , 1000:2, 10000: 13, 100000: 151, 1000000: 966}\n",
    "}\n",
    "\n",
    "plot_execution_values(dict_)"
   ]
  },
  {
   "cell_type": "code",
   "execution_count": 20,
   "metadata": {},
   "outputs": [
    {
     "data": {
      "image/png": "[encoded data removed]",
      "text/plain": [
       "<Figure size 800x600 with 1 Axes>"
      ]
     },
     "metadata": {},
     "output_type": "display_data"
    }
   ],
   "source": [
    "dict_ = {\n",
    "    'QuickSort' : {100:1 , 1000:1, 10000: 9, 100000: 49, 1000000: 1125},\n",
    "    'MergeSort' : {100:1 , 1000:2, 10000: 13, 100000: 151, 1000000: 966}\n",
    "}\n",
    "\n",
    "plot_execution_values(dict_)"
   ]
  },
  {
   "cell_type": "markdown",
   "metadata": {},
   "source": [
    "## Parte 2"
   ]
  },
  {
   "cell_type": "markdown",
   "metadata": {},
   "source": [
    "El desarrollo de esta segunda parte se encuentra en el proyecto de Java adjunto a este documento. Dado esto, no se hará enfasis en el proceso en este documento y para su revisión se recomienda revisar las clases DivideAndConquerIntegerArrays y RecursiveIntegerLinkedList."
   ]
  },
  {
   "cell_type": "markdown",
   "metadata": {},
   "source": [
    "## Parte 3"
   ]
  },
  {
   "cell_type": "markdown",
   "metadata": {},
   "source": [
    "Encontrar una fórmula cerrada para las siguientes ecuaciones de recurrencia:"
   ]
  },
  {
   "cell_type": "markdown",
   "metadata": {},
   "source": [
    "#### $f(n) = 4f(n-2) + 3^n \\quad \\quad f(0)=1 \\quad  f(1)=2$"
   ]
  },
  {
   "cell_type": "markdown",
   "metadata": {},
   "source": [
    "Podemos denotar que la ecuación descrita es una recurrencia lineal no homogenea. Dado esto, el proceso a seguir será hallar la solución homogenea y la solución particular de la ecuación, para luego relacionar las condiciones iniciales"
   ]
  },
  {
   "cell_type": "markdown",
   "metadata": {},
   "source": [
    "##### Solución Homogénea"
   ]
  },
  {
   "cell_type": "markdown",
   "metadata": {},
   "source": [
    "Vamos a solucionar la recurrencia homogénea:\n",
    "\n",
    "$$h(n) - 4h(n-2) = 0$$\n",
    "\n",
    "Para ello, vamos a asociar su polinomio característico y sus raíces:\n",
    "\n",
    "$$\\lambda^2 - 4 = 0 \\quad \\Longrightarrow \\quad \\lambda=2 \\,\\, \\wedge \\,\\, \\lambda = -2$$\n",
    "\n",
    "Dado esto, la solución homogénea de la recurrencia está dada por:\n",
    "\n",
    "$$ h(n) = c_1 (2)^n + c_2 (-2)^n$$\n"
   ]
  },
  {
   "cell_type": "markdown",
   "metadata": {},
   "source": [
    "##### Solución Particular"
   ]
  },
  {
   "cell_type": "markdown",
   "metadata": {},
   "source": [
    "Para la solución de la parte no homogénea, vamos a suponer una solución $p(n)$ que cumple lo siguiente:\n",
    "\n",
    "$$p(n) - 4p(n-2) = 3^n$$\n",
    "\n",
    "Utiizando la heurística, supondremos que la solución es de la forma $p(n) = c_3 3^n$. Dado esto, tratamos de hallar el valor de $c_3$:\n",
    "\n",
    "\\begin{array}{rcl}\n",
    "    p(n) - 4p(n-2) & = & 3^n \\\\ \\\\\n",
    "    c_3 3^n - 4c_3 3^{n-2} & = &  3^n \\\\ \\\\\n",
    "    c_3 3^n - \\dfrac{4}{9} c_3 3^{n} & = &  3^n \\\\ \\\\\n",
    "    \\dfrac{5}{9} c_3 3^{n} & = &  3^n \\\\ \\\\\n",
    "    \\dfrac{5}{9} c_3 3^{n} - 3^n & = & 0   \\\\ \\\\\n",
    "    3^n \\left( \\dfrac{5}{9} c_3 - 1 \\right) & = & 0   \\\\\n",
    "    & \\Downarrow & \\\\\n",
    "    \\dfrac{5}{9} c_3 - 1 & = & 0   \\\\ \\\\\n",
    "    c_3 & = & \\dfrac{9}{5}\n",
    "\\end{array}\n",
    "\n",
    "Dado esto, nuestra solución particular esta dada por:\n",
    "\n",
    "$$p(n) = \\dfrac{9}{5} 3^n = \\dfrac{3^{n+2}}{5}$$"
   ]
  },
  {
   "cell_type": "markdown",
   "metadata": {},
   "source": [
    "##### Aplicación de Condiciones iniciales"
   ]
  },
  {
   "cell_type": "markdown",
   "metadata": {},
   "source": [
    "La solución de nuestra ecuación esta descrita de la forma:\n",
    "\n",
    "$$f(n) = h(n) + p(n) = c_1 (2)^n + c_2 (-2)^n + \\dfrac{3^{n+2}}{5}$$\n",
    "\n",
    "El siguiente proceso sera usar las condiciones $f(0)=1$ y $f(1)=2$ para determinar los valores de $c_1$ y $c_2$\n",
    "\n",
    "\\begin{array}{rcccl}\n",
    "    f(0) = 1 &=& c_1 (2)^0 + c_2 (-2)^0 + \\dfrac{3^{0+2}}{5} &=& c_1 + c_2 + \\dfrac{9}{5} &\\Longrightarrow& c_1 + c_2 = -\\dfrac{4}{5}\\\\  \\\\\n",
    "    f(1) = 2 &=& c_1 (2)^1 + c_2 (-2)^1 + \\dfrac{3^{1+2}}{5} &=& 2c_1 - 2 c_2 + \\dfrac{27}{5} &\\Longrightarrow&  2c_1 - 2c_2 = - \\dfrac{17}{5}\n",
    "\\end{array}\n",
    "\n",
    "Resolvemos el sistema de ecuaciones lineales $2 \\times 2$\n",
    "\n",
    "$$\n",
    "\\begin{array}{c}\n",
    "    \\left(\n",
    "    \\begin{array}{cc|c}\n",
    "        1 & 1 & -\\dfrac{4}{5}  \\\\ \\\\\n",
    "        2 & -2 & -\\dfrac{17}{5}\n",
    "    \\end{array}\n",
    "    \\right)\n",
    "    \\Longrightarrow\n",
    "    \\left(\n",
    "    \\begin{array}{cc|c}\n",
    "        1 & 1 & -\\dfrac{4}{5}  \\\\ \\\\\n",
    "        0 & -4 & -\\dfrac{9}{5}\n",
    "    \\end{array}\n",
    "    \\right)\n",
    "    \\Longrightarrow\n",
    "    \\left(\n",
    "    \\begin{array}{cc|c}\n",
    "        1 & 1 & -\\dfrac{4}{5}  \\\\ \\\\\n",
    "        0 & 1 & \\dfrac{9}{20}\n",
    "    \\end{array}\n",
    "    \\right)\n",
    "    \\Longrightarrow\n",
    "    \\left(\n",
    "    \\begin{array}{cc|c}\n",
    "        1 & 0 & -\\dfrac{5}{4}  \\\\ \\\\\n",
    "        0 & 1 & \\dfrac{9}{20}\n",
    "    \\end{array}\n",
    "    \\right)\n",
    "\\end{array}\n",
    "$$\n",
    "\n",
    "\n",
    "En ese orden de ideas, la solución cerrada de la ecuación de recurrencia es:\n",
    "\n",
    "$$\\fbox{$f(n) = -\\dfrac{5}{4} (2)^n + \\dfrac{9}{20} (-2)^n + \\dfrac{3^{n+2}}{5}$}$$\n",
    "\n",
    "\n"
   ]
  },
  {
   "cell_type": "markdown",
   "metadata": {},
   "source": [
    "#### $f(n) = 4f(n-2) + 2^n \\quad \\quad f(0)=1 \\quad  f(1)=3$"
   ]
  },
  {
   "cell_type": "markdown",
   "metadata": {},
   "source": [
    "Podemos denotar que la ecuación descrita es una recurrencia lineal no homogenea. Dado esto, el proceso a seguir será hallar la solución homogenea y la solución particular de la ecuación, para luego relacionar las condiciones iniciales"
   ]
  },
  {
   "cell_type": "markdown",
   "metadata": {},
   "source": [
    "##### Solución Homogénea"
   ]
  },
  {
   "cell_type": "markdown",
   "metadata": {},
   "source": [
    "Vamos a solucionar la recurrencia homogénea:\n",
    "\n",
    "$$h(n) - 4h(n-2) = 0$$\n",
    "\n",
    "Para ello, vamos a asociar su polinomio característico y sus raíces:\n",
    "\n",
    "$$\\lambda^2 - 4 = 0 \\quad \\Longrightarrow \\quad \\lambda=2 \\,\\, \\wedge \\,\\, \\lambda = -2$$\n",
    "\n",
    "Dado esto, la solución homogénea de la recurrencia está dada por:\n",
    "\n",
    "$$ h(n) = c_1 (2)^n + c_2 (-2)^n$$\n"
   ]
  },
  {
   "cell_type": "markdown",
   "metadata": {},
   "source": [
    "##### Solución Particular"
   ]
  },
  {
   "cell_type": "markdown",
   "metadata": {},
   "source": [
    "Para la solución de la parte no homogénea, vamos a suponer una solución $p(n)$ que cumple lo siguiente:\n",
    "\n",
    "$$p(n) - 4p(n-2) = 2^n$$\n",
    "\n",
    "Utiizando la heurística, supondremos que la solución es de la forma $p(n) = c_3\\, n \\,  2^n$. Dado esto, tratamos de hallar el valor de $c_3$:\n",
    "\n",
    "\\begin{array}{rcl}\n",
    "    p(n) - 4p(n-2) & = & 2^n \\\\ \\\\\n",
    "    c_3\\, n \\,  2^n - 4c_3\\, (n-2) \\,  2^{n-2} & = &  2^n \\\\ \\\\\n",
    "    c_3 \\, n \\, 2^n - c_3\\, (n-2) \\,  2^{n} & = &  2^n \\\\ \\\\\n",
    "    2 c_3 2^n & = &  2^n \\\\ \\\\\n",
    "    2 c_3 2^n - 2^n & = & 0   \\\\ \\\\\n",
    "    2^n \\left( 2 c_3 - 1 \\right) & = & 0   \\\\\n",
    "    & \\Downarrow & \\\\\n",
    "    2 c_3 - 1 & = & 0   \\\\ \\\\\n",
    "    c_3 & = & \\dfrac{1}{2}\n",
    "\\end{array}\n",
    "\n",
    "Dado esto, nuestra solución particular esta dada por:\n",
    "\n",
    "$$p(n) = \\dfrac{1}{2} \\, n \\, 2^n = n \\, 2^{n-1}$$"
   ]
  },
  {
   "cell_type": "markdown",
   "metadata": {},
   "source": [
    "##### Aplicación de Condiciones iniciales"
   ]
  },
  {
   "cell_type": "markdown",
   "metadata": {},
   "source": [
    "La solución de nuestra ecuación esta descrita de la forma:\n",
    "\n",
    "$$f(n) = h(n) + p(n) = c_1 (2)^n + c_2 (-2)^n + n \\, 2^{n-1}$$\n",
    "\n",
    "El siguiente proceso sera usar las condiciones $f(0)=1$ y $f(1)=3$ para determinar los valores de $c_1$ y $c_2$\n",
    "\n",
    "\\begin{array}{rcccl}\n",
    "    f(0) = 1 &=& c_1 (2)^0 + c_2 (-2)^0 + (0) 2^{0-1} &=& c_1 + c_2 &\\Longrightarrow& c_1 + c_2 = 1\\\\  \\\\\n",
    "    f(1) = 3 &=& c_1 (2)^1 + c_2 (-2)^1 + (1) \\, 2^{1-1} &=& 2c_1 - 2 c_2 + 1 &\\Longrightarrow&  2c_1 - 2c_2 = 2\n",
    "\\end{array}\n",
    "\n",
    "Resolvemos el sistema de ecuaciones lineales $2 \\times 2$\n",
    "\n",
    "$$\n",
    "\\begin{array}{c}\n",
    "    \\left(\n",
    "    \\begin{array}{cc|c}\n",
    "        1 & 1 & 1  \\\\\n",
    "        2 & -2 & 2\n",
    "    \\end{array}\n",
    "    \\right)\n",
    "    \\Longrightarrow\n",
    "    \\left(\n",
    "    \\begin{array}{cc|c}\n",
    "        1 & 1 & 1  \\\\\n",
    "        0 & -4 & 0\n",
    "    \\end{array}\n",
    "    \\right)\n",
    "    \\Longrightarrow\n",
    "    \\left(\n",
    "    \\begin{array}{cc|c}\n",
    "        1 & 1 & 1  \\\\\n",
    "        0 & 1 & 0\n",
    "    \\end{array}\n",
    "    \\right)\n",
    "    \\Longrightarrow\n",
    "    \\left(\n",
    "    \\begin{array}{cc|c}\n",
    "        1 & 0 & 1  \\\\\n",
    "        0 & 1 & 0\n",
    "    \\end{array}\n",
    "    \\right)\n",
    "\\end{array}\n",
    "$$\n",
    "\n",
    "\n",
    "En ese orden de ideas, la solución cerrada de la ecuación de recurrencia es:\n",
    "\n",
    "$$\\fbox{$f(n) = 2^n + n \\, 2^{n-1}$}$$\n",
    "\n",
    "\n"
   ]
  },
  {
   "cell_type": "markdown",
   "metadata": {},
   "source": [
    "#### $f(n) = 5f(n-1) - 6f(n-2) + n \\quad \\quad f(0)=0 \\quad  f(1)=2$"
   ]
  },
  {
   "cell_type": "markdown",
   "metadata": {},
   "source": [
    "Podemos denotar que la ecuación descrita es una recurrencia lineal no homogenea. Dado esto, el proceso a seguir será hallar la solución homogenea y la solución particular de la ecuación, para luego relacionar las condiciones iniciales"
   ]
  },
  {
   "cell_type": "markdown",
   "metadata": {},
   "source": [
    "##### Solución Homogénea"
   ]
  },
  {
   "cell_type": "markdown",
   "metadata": {},
   "source": [
    "Vamos a solucionar la recurrencia homogénea:\n",
    "\n",
    "$$h(n) - 5h(n-1) + 6h(n-2) = 0$$\n",
    "\n",
    "Para ello, vamos a asociar su polinomio característico y sus raíces:\n",
    "\n",
    "$$\\lambda^2 - 5\\lambda + 6 = 0 \\quad \\Longrightarrow \\quad (\\lambda - 2)(\\lambda - 3) = 0 \\quad \\Longrightarrow \\quad \\lambda=2 \\,\\, \\wedge \\,\\, \\lambda = 3$$\n",
    "\n",
    "Dado esto, la solución homogénea de la recurrencia está dada por:\n",
    "\n",
    "$$ h(n) = c_1 (2)^n + c_2 (3)^n$$\n"
   ]
  },
  {
   "cell_type": "markdown",
   "metadata": {},
   "source": [
    "##### Solución Particular"
   ]
  },
  {
   "cell_type": "markdown",
   "metadata": {},
   "source": [
    "Para la solución de la parte no homogénea, vamos a suponer una solución $p(n)$ que cumple lo siguiente:\n",
    "\n",
    "$$p(n) - 5p(n-1) + 6p(n-2) = n$$\n",
    "\n",
    "Utiizando la heurística, supondremos que la solución es de la forma $p(n) = c_3 \\, n + c_4$. Dado esto, tratamos de hallar el valor de $c_3$:\n",
    "\n",
    "\\begin{array}{rcl}\n",
    "    p(n) - 5p(n-1) + 6p(n-2) & = & n \\\\ \\\\\n",
    "    c_3 \\, n + c_4 - 5(c_3 \\, (n-1) + c_4) +6(c_3 \\, (n-2) + c_4)& = &  n \\\\ \\\\\n",
    "    c_3 \\, n + c_4 - 5c_3 \\, n + 5c_3 - 5c_4 + 6c_3 \\, n -12c_3+ 6c_4 & = &  n \\\\ \\\\\n",
    "    n(c_3 - 5c_3 + 6c_3 ) + (c_4 + 5c_3 - 5c_4 -12c_3+ 6c_4) & = &  n \\\\ \\\\\n",
    "    2c_3 n + (2c_4 - 7c_3) - n & = & 0   \\\\ \\\\\n",
    "     n (2c_3-1) + (2c_4 - 7c_3)& = & 0   \\\\\n",
    "    & \\Downarrow & \\\\\n",
    "    2 c_3 - 1  = 0 & \\wedge & 2c_4 - 7c_3 = 0   \\\\ \\\\\n",
    "    c_3 = \\dfrac{1}{2}& \\wedge & c_4 = \\dfrac{7}{4}\n",
    "\\end{array}\n",
    "\n",
    "Dado esto, nuestra solución particular esta dada por:\n",
    "\n",
    "$$p(n) = \\dfrac{1}{2} \\, n + \\dfrac{7}{4}$$"
   ]
  },
  {
   "cell_type": "markdown",
   "metadata": {},
   "source": [
    "##### Aplicación de Condiciones iniciales"
   ]
  },
  {
   "cell_type": "markdown",
   "metadata": {},
   "source": [
    "La solución de nuestra ecuación esta descrita de la forma:\n",
    "\n",
    "$$f(n) = h(n) + p(n) = c_1 (2)^n + c_2 (3)^n + \\dfrac{1}{2} \\, n + \\dfrac{7}{4}$$\n",
    "\n",
    "El siguiente proceso sera usar las condiciones $f(0)=0$ y $f(1)=2$ para determinar los valores de $c_1$ y $c_2$\n",
    "\n",
    "\\begin{array}{rcccl}\n",
    "    f(0) = 0 &=& c_1 (2)^0 + c_2 (3)^0 + \\dfrac{1}{2} \\, (0) + \\dfrac{7}{4} &=& c_1 + c_2 + \\dfrac{7}{4}&\\Longrightarrow& c_1 + c_2 = -\\dfrac{7}{4}\\\\  \\\\\n",
    "    f(1) = 2 &=& c_1 (2)^1 + c_2 (3)^1 + \\dfrac{1}{2} \\, (1) + \\dfrac{7}{4} &=& 2c_1 + 3c_2 + \\dfrac{9}{4} &\\Longrightarrow&  2c_1 + 3c_2 = -\\dfrac{1}{4}\n",
    "\\end{array}\n",
    "\n",
    "Resolvemos el sistema de ecuaciones lineales $2 \\times 2$\n",
    "\n",
    "$$\n",
    "\\begin{array}{c}\n",
    "    \\left(\n",
    "    \\begin{array}{cc|c}\n",
    "        1 & 1 & -\\dfrac{7}{4}  \\\\ \\\\\n",
    "        2 & 3 & -\\dfrac{1}{4}\n",
    "    \\end{array}\n",
    "    \\right)\n",
    "    \\Longrightarrow\n",
    "    \\left(\n",
    "    \\begin{array}{cc|c}\n",
    "        1 & 1 & -\\dfrac{7}{4}  \\\\ \\\\\n",
    "        0 & 1 & \\dfrac{13}{4}\n",
    "    \\end{array}\n",
    "    \\right)\n",
    "    \\Longrightarrow\n",
    "    \\left(\n",
    "    \\begin{array}{cc|c}\n",
    "        1 & 0 & -5  \\\\ \\\\\n",
    "        0 & 1 & \\dfrac{13}{4}\n",
    "    \\end{array}\n",
    "    \\right)\n",
    "\\end{array}\n",
    "$$\n",
    "\n",
    "\n",
    "En ese orden de ideas, la solución cerrada de la ecuación de recurrencia es:\n",
    "\n",
    "$$\\fbox{$f(n) = -5(2)^n + \\dfrac{13}{4}(3)^n + \\dfrac{1}{2} \\, n + \\dfrac{7}{4}$} $$\n",
    "\n",
    "\n"
   ]
  },
  {
   "cell_type": "markdown",
   "metadata": {},
   "source": [
    "#### $f(n) = 4f(n-1) – 4f(n-2) + 5 \\quad \\quad f(0)=0 \\quad  f(1)=1$"
   ]
  },
  {
   "cell_type": "markdown",
   "metadata": {},
   "source": [
    "Podemos denotar que la ecuación descrita es una recurrencia lineal no homogenea. Dado esto, el proceso a seguir será hallar la solución homogenea y la solución particular de la ecuación, para luego relacionar las condiciones iniciales"
   ]
  },
  {
   "cell_type": "markdown",
   "metadata": {},
   "source": [
    "##### Solución Homogénea"
   ]
  },
  {
   "cell_type": "markdown",
   "metadata": {},
   "source": [
    "Vamos a solucionar la recurrencia homogénea:\n",
    "\n",
    "$$h(n) - 4h(n-1) + 4h(n-2) = 0$$\n",
    "\n",
    "Para ello, vamos a asociar su polinomio característico y sus raíces:\n",
    "\n",
    "$$\\lambda^2 - 4\\lambda + 4 = 0 \\quad \\Longrightarrow \\quad (\\lambda - 2)^2 = 0 \\quad \\Longrightarrow \\quad \\lambda=2 $$\n",
    "\n",
    "Dado esto, la solución homogénea de la recurrencia está dada por:\n",
    "\n",
    "$$ h(n) = c_1 (2)^n + c_2 \\, n \\, (2)^n$$\n"
   ]
  },
  {
   "cell_type": "markdown",
   "metadata": {},
   "source": [
    "##### Solución Particular"
   ]
  },
  {
   "cell_type": "markdown",
   "metadata": {},
   "source": [
    "Para la solución de la parte no homogénea, vamos a suponer una solución $p(n)$ que cumple lo siguiente:\n",
    "\n",
    "$$p(n) - 4p(n-1) + 4p(n-2) = 5$$\n",
    "\n",
    "Utiizando la heurística, supondremos que la solución es de la forma $p(n) = c_3 $. Dado esto, tratamos de hallar el valor de $c_3$:\n",
    "\n",
    "\\begin{array}{rcl}\n",
    "    p(n) - 4p(n-1) + 4p(n-2) & = & 5 \\\\\n",
    "    c_3 - 4c_3 + 4c_3& = &  5 \\\\\n",
    "    c_3 & = & 5\n",
    "\n",
    "\\end{array}\n",
    "\n",
    "Dado esto, nuestra solución particular esta dada por:\n",
    "\n",
    "$$p(n) = 5$$"
   ]
  },
  {
   "cell_type": "markdown",
   "metadata": {},
   "source": [
    "##### Aplicación de Condiciones iniciales"
   ]
  },
  {
   "cell_type": "markdown",
   "metadata": {},
   "source": [
    "La solución de nuestra ecuación esta descrita de la forma:\n",
    "\n",
    "$$f(n) = h(n) + p(n) = c_1 (2)^n + c_2 \\, n \\, (2)^n + 5$$\n",
    "\n",
    "El siguiente proceso sera usar las condiciones $f(0)=0$ y $f(1)=1$ para determinar los valores de $c_1$ y $c_2$\n",
    "\n",
    "\\begin{array}{rcccl}\n",
    "    f(0) = 0 &=& c_1 (2)^0 + c_2 \\, (0) \\, (2)^0 + 5 &=& c_1 + 5&\\Longrightarrow& c_1 = -5\\\\  \\\\\n",
    "    f(1) = 1 &=& c_1 (2)^1 + c_2 \\, (1) \\, (2)^1 + 5 &=& 2c_1 + 2c_2 + 5 &\\Longrightarrow&  2c_1 + 2c_2 = -4\n",
    "\\end{array}\n",
    "\n",
    "Resolvemos el sistema de ecuaciones lineales $2 \\times 2$\n",
    "\n",
    "$$\n",
    "\\begin{array}{c}\n",
    "    \\left(\n",
    "    \\begin{array}{cc|c}\n",
    "        1 & 0 & -5  \\\\\n",
    "        2 & 2 & -4\n",
    "    \\end{array}\n",
    "    \\right)\n",
    "    \\Longrightarrow\n",
    "    \\left(\n",
    "    \\begin{array}{cc|c}\n",
    "        1 & 0 & -5  \\\\\n",
    "        0 & 2 & 6\n",
    "    \\end{array}\n",
    "    \\right)\n",
    "    \\Longrightarrow\n",
    "    \\left(\n",
    "    \\begin{array}{cc|c}\n",
    "        1 & 0 & -5  \\\\\n",
    "        0 & 1 & 3\n",
    "    \\end{array}\n",
    "    \\right)\n",
    "\\end{array}\n",
    "$$\n",
    "\n",
    "\n",
    "En ese orden de ideas, la solución cerrada de la ecuación de recurrencia es:\n",
    "\n",
    "$$\\fbox{$f(n) = -5 (2)^n + 3 \\, n \\, (2)^n + 5$} $$\n",
    "\n",
    "\n"
   ]
  },
  {
   "cell_type": "markdown",
   "metadata": {},
   "source": [
    "#### $f(n) = 4f(n-1) – 4f(n-2) + 2^n \\quad \\quad f(0)=1 \\quad  f(1)=4$"
   ]
  },
  {
   "cell_type": "markdown",
   "metadata": {},
   "source": [
    "Podemos denotar que la ecuación descrita es una recurrencia lineal no homogenea. Dado esto, el proceso a seguir será hallar la solución homogenea y la solución particular de la ecuación, para luego relacionar las condiciones iniciales"
   ]
  },
  {
   "cell_type": "markdown",
   "metadata": {},
   "source": [
    "##### Solución Homogénea"
   ]
  },
  {
   "cell_type": "markdown",
   "metadata": {},
   "source": [
    "Vamos a solucionar la recurrencia homogénea:\n",
    "\n",
    "$$h(n) - 4h(n-1) + 4h(n-2) = 0$$\n",
    "\n",
    "Para ello, vamos a asociar su polinomio característico y sus raíces:\n",
    "\n",
    "$$\\lambda^2 - 4\\lambda + 4 = 0 \\quad \\Longrightarrow \\quad (\\lambda - 2)^2 = 0 \\quad \\Longrightarrow \\quad \\lambda=2 $$\n",
    "\n",
    "Dado esto, la solución homogénea de la recurrencia está dada por:\n",
    "\n",
    "$$ h(n) = c_1 (2)^n + c_2 \\, n \\, (2)^n$$\n"
   ]
  },
  {
   "cell_type": "markdown",
   "metadata": {},
   "source": [
    "##### Solución Particular"
   ]
  },
  {
   "cell_type": "markdown",
   "metadata": {},
   "source": [
    "Para la solución de la parte no homogénea, vamos a suponer una solución $p(n)$ que cumple lo siguiente:\n",
    "\n",
    "$$p(n) - 4p(n-1) + 4p(n-2) = 2^n$$\n",
    "\n",
    "Utiizando la heurística, supondremos que la solución es de la forma $p(n) = c_3 \\, n^2 \\, 2^n$. Dado esto, tratamos de hallar el valor de $c_3$:\n",
    "\n",
    "\\begin{array}{rcl}\n",
    "    p(n) - 4p(n-1) + 4p(n-2) & = & 2^n \\\\\n",
    "    c_3 \\, n^2 \\, 2^n - 4(c_3 \\, (n-1)^2 \\, 2^{n-1}) + 4(c_3 \\, (n-2)^2 \\, 2^{n-2})& = &  2^n \\\\\n",
    "    c_3 \\, n^2 \\, 2^n - 4(c_3 \\, (n^2 -2n + 1) \\, 2^{n-1}) + 4(c_3 \\, (n^2-4n+4) \\, 2^{n-2})& = & 2^n \\\\\n",
    "    c_3 \\, n^2 \\, 2^n - 2c_3 \\, (n^2 -2n + 1) \\, 2^{n} + c_3\\, 2^{n}(n^2-4n+4) & = &  2^n \\\\\n",
    "    2^n \\, n^2 \\, (c_3 - 2c_3 + c_3) + 2^n \\, n \\, (4c_3 - 4c_3) + 2^n (-2c_3 + 4c_3)& = &  2^n \\\\\n",
    "    2c_3\\, 2^n & = & 2^n \\\\\n",
    "    2c_3\\, 2^n - 2^n& = & 0 \\\\\n",
    "    2^n\\,(2c_3 - 1)& = & 0 \\\\\n",
    "    &\\Downarrow & \\\\\n",
    "    2c_3 - 1 & = & 0 \\\\ \\\\\n",
    "    c_3 &=& \\dfrac{1}{2}\n",
    "\n",
    "\\end{array}\n",
    "\n",
    "Dado esto, nuestra solución particular esta dada por:\n",
    "\n",
    "$$p(n) = \\dfrac{1}{2} \\, n^2 \\, 2^n = n^2 \\, 2^{n-1}$$"
   ]
  },
  {
   "cell_type": "markdown",
   "metadata": {},
   "source": [
    "##### Aplicación de Condiciones iniciales"
   ]
  },
  {
   "cell_type": "markdown",
   "metadata": {},
   "source": [
    "La solución de nuestra ecuación esta descrita de la forma:\n",
    "\n",
    "$$f(n) = h(n) + p(n) = c_1 (2)^n + c_2 \\, n \\, (2)^n +  n^2 \\, 2^{n-1}$$\n",
    "\n",
    "El siguiente proceso sera usar las condiciones $f(0)=1$ y $f(1)=4$ para determinar los valores de $c_1$ y $c_2$\n",
    "\n",
    "\\begin{array}{rcccl}\n",
    "    f(0) = 1 &=& c_1 (2)^0 + c_2 \\, (0) \\, (2)^0 +  (0)^2 \\, 2^{0-1} &=& c_1 &\\Longrightarrow& c_1 = 1\\\\  \\\\\n",
    "    f(1) = 4 &=& c_1 (2)^1 + c_2 \\, (1) \\, (2)^1 +  (1)^2 \\, 2^{1-1} &=& 2c_1 + 2c_2 + 1 &\\Longrightarrow&  2c_1 + 2c_2 = 3\n",
    "\\end{array}\n",
    "\n",
    "Resolvemos el sistema de ecuaciones lineales $2 \\times 2$\n",
    "$$\n",
    "\\begin{array}{c}\n",
    "    \\left( \n",
    "    \\begin{array}{cc|c}\n",
    "        1 & 0 & 1  \\\\\n",
    "        2 & 2 & 3\n",
    "    \\end{array} \n",
    "    \\right) \n",
    "    \\Longrightarrow \n",
    "    \\left( \n",
    "    \\begin{array}{cc|c}\n",
    "        1 & 0 & 1  \\\\\n",
    "        0 & 2 & 1\n",
    "    \\end{array} \n",
    "    \\right) \n",
    "    \\Longrightarrow \n",
    "    \\left( \n",
    "    \\begin{array}{cc|c}\n",
    "        1 & 0 & 1  \\\\\n",
    "        0 & 1 & \\frac{1}{2}\n",
    "    \\end{array} \n",
    "    \\right) \n",
    "\\end{array}\n",
    "$$\n",
    "En ese orden de ideas, la solución cerrada de la ecuación de recurrencia es:\n",
    "\n",
    "$$f(n) =  (2)^n + \\dfrac{1}{2} \\, n \\, (2)^n +  n^2 \\, 2^{n-1} = 2 (2)^{n-1} + n \\, (2)^{n-1} +  n^2 \\, 2^{n-1}$$\n",
    "\n",
    "$$\\fbox{$f(n) = (2)^{n-1}\\,(n^2 + n + 2)$} $$\n",
    "\n",
    "\n"
   ]
  },
  {
   "cell_type": "markdown",
   "metadata": {},
   "source": [
    "#### $ f(n) = 2f(\\frac{n}{4}) + 10 \\quad \\quad f(1)=1$"
   ]
  },
  {
   "cell_type": "markdown",
   "metadata": {},
   "source": [
    "Podemos denotar que la ecuación descrita es una recurrencia no lineal no homogenea. Dado esto, el proceso a seguir será aplicar el cambio de dominio para obtener una recurrencia lineal, hallar la solución homogenea y la solución particular de la nueva ecuación, para luego relacionar las condiciones iniciales."
   ]
  },
  {
   "cell_type": "markdown",
   "metadata": {},
   "source": [
    "##### Cambio de Dominio"
   ]
  },
  {
   "cell_type": "markdown",
   "metadata": {},
   "source": [
    "Dada la natualeza de la recurrencia, aplicaremos el cambio de dominio dado por $g(m) = n = 4^m$ y definimos a función $\\gamma(m) = f(g(m)) = f(n)$\n",
    "\n",
    "\\begin{array}{}\n",
    "    f(n) &=& f(g(m)) & = & 2f(\\frac{4^m}{4}) + 10 \\\\\n",
    "         & &  & = & 2f(4^{m-1}) + 10 \\\\\n",
    "         & & \\gamma(m)  & = & 2\\gamma(m-1) + 10 \\\\\n",
    "\\end{array}\n",
    "\n",
    "Dada la recurrencia lineal no homogenea en térmimos de gamma, procedemos a encontrar su solución."
   ]
  },
  {
   "cell_type": "markdown",
   "metadata": {},
   "source": [
    "##### Solución Homogénea"
   ]
  },
  {
   "cell_type": "markdown",
   "metadata": {},
   "source": [
    "Vamos a solucionar la recurrencia homogénea:\n",
    "\n",
    "$$h(m) - 2h(m-1)  = 0$$\n",
    "\n",
    "Para ello, vamos a asociar su polinomio característico y sus raíces:\n",
    "\n",
    "$$\\lambda - 2 = 0 \\quad \\Longrightarrow  \\quad \\lambda=2 $$\n",
    "\n",
    "Dado esto, la solución homogénea de la recurrencia está dada por:\n",
    "\n",
    "$$ h(m) = c_1 (2)^m$$\n"
   ]
  },
  {
   "cell_type": "markdown",
   "metadata": {},
   "source": [
    "##### Solución Particular"
   ]
  },
  {
   "cell_type": "markdown",
   "metadata": {},
   "source": [
    "Para la solución de la parte no homogénea, vamos a suponer una solución $p(m)$ que cumple lo siguiente:\n",
    "\n",
    "$$p(m) - 2p(m-1)  = 10$$\n",
    "\n",
    "Utiizando la heurística, supondremos que la solución es de la forma $p(m) = c_2 $. Dado esto, tratamos de hallar el valor de $c_2$:\n",
    "\n",
    "\\begin{array}{rcl}\n",
    "    p(m) - 2p(m-1) & = & 10 \\\\\n",
    "    c_2 - 2c_2 & = & 10 \\\\\n",
    "    c_2 &=& -10\n",
    "\n",
    "\\end{array}\n",
    "\n",
    "Dado esto, nuestra solución particular esta dada por:\n",
    "\n",
    "$$p(m) = -10$$"
   ]
  },
  {
   "cell_type": "markdown",
   "metadata": {},
   "source": [
    "##### Aplicación de Condiciones iniciales"
   ]
  },
  {
   "cell_type": "markdown",
   "metadata": {},
   "source": [
    "Para aplicar las condiciones iniciales, tomaremos la solución general de la reccurrencia lineal y aplicaremos el cambio de dominio para regresar a $n$ mediante $m = \\log_{4} n = \\dfrac{\\log_2 n}{\\log_2 4} = \\dfrac{\\log_2 n}{2} $.\n",
    "\n",
    "$$\\gamma(m) = c_1(2)^m - 10 \\quad \\quad \\Longrightarrow \\quad \\quad f(n) = c_1 (2)^\\frac{\\log_2 n}{2} - 10 = c_1 \\left( (2)^{\\log_2 n} \\right)^\\frac{1}{2} - 10 = c_1 \\sqrt{n} - 10$$\n",
    "\n",
    "Aplicamos la condición $f(1) = 1$ para determinar el valor de $c_1$\n",
    "\n",
    "$$f(1) = 1 = c_1 \\sqrt{1} - 10 \\quad \\Longrightarrow \\quad c = 11$$\n",
    "\n",
    "En ese orden de ideas, la solución cerrada de la ecuación de recurrencia es:\n",
    "\n",
    "\n",
    "$$\\fbox{$f(n) = 11 \\sqrt{n} - 10$} $$"
   ]
  },
  {
   "cell_type": "markdown",
   "metadata": {},
   "source": [
    "## Bono"
   ]
  },
  {
   "cell_type": "markdown",
   "metadata": {},
   "source": [
    "Realizamos el mismo proceso de la primera parte para comparar RadixSort y CountSort"
   ]
  },
  {
   "cell_type": "markdown",
   "metadata": {},
   "source": [
    "#### 4. RadixSort"
   ]
  },
  {
   "cell_type": "markdown",
   "metadata": {},
   "source": [
    "Resultado con 100 datos:\n",
    "```\n",
    "ArrayList size: 100 recursive list size: 100\n",
    "First location of number 2876. In ArrayList: 65 in recursive list: 65\n",
    "Last location of number 2876. In ArrayList: 65 in recursive list: 65\n",
    "Element in position 65. ArrayList: 2876 recursive list 2876\n",
    "The list is not sorted\n",
    "Number of even elements. Divide and conquer: 50. recursive list 50\n",
    "Maximum. Divide and conquer: 9922. recursive list 9922\n",
    "Position of value 2876. Divide and conquer: 65. Value in numbers 2876\n",
    "Sorting algorithm: Radix\n",
    "Numbers sorted. Total time(milliseconds): 1\n",
    "Position of value 2876. Divide and conquer: 30. Value in numbers 2876\n",
    "```\n",
    "Resultado con 1000 datos:\n",
    "```\n",
    "ArrayList size: 1000 recursive list size: 1000\n",
    "First location of number 1465. In ArrayList: 690 in recursive list: 690\n",
    "Last location of number 1465. In ArrayList: 690 in recursive list: 690\n",
    "Element in position 690. ArrayList: 1465 recursive list 1465\n",
    "The list is not sorted\n",
    "Number of even elements. Divide and conquer: 496. recursive list 496\n",
    "Maximum. Divide and conquer: 9994. recursive list 9994\n",
    "Position of value 1465. Divide and conquer: 690. Value in numbers 1465\n",
    "Sorting algorithm: Radix\n",
    "Numbers sorted. Total time(milliseconds): 1\n",
    "Position of value 1465. Divide and conquer: 149. Value in numbers 1465\n",
    "```\n",
    "\n",
    "Resultado con 10000 datos:\n",
    "```\n",
    "ArrayList size: 10000 recursive list size: 10000\n",
    "First location of number 2266. In ArrayList: 1472 in recursive list: 1472\n",
    "Last location of number 2266. In ArrayList: 8581 in recursive list: 8581\n",
    "Element in position 8581. ArrayList: 2266 recursive list 2266\n",
    "The list is not sorted\n",
    "Number of even elements. Divide and conquer: 4985. recursive list 4985\n",
    "Maximum. Divide and conquer: 9998. recursive list 9998\n",
    "Position of value 2266. Divide and conquer: 1472. Value in numbers 2266\n",
    "Sorting algorithm: Radix\n",
    "Numbers sorted. Total time(milliseconds): 8\n",
    "Position of value 2266. Divide and conquer: 2225. Value in numbers 2266\n",
    "```\n",
    "\n",
    "Resultado con 100000 datos:\n",
    "```\n",
    "ArrayList size: 100000 recursive list size: 100000\n",
    "First location of number 120. In ArrayList: 17730 in recursive list: 17730\n",
    "Last location of number 120. In ArrayList: 83235 in recursive list: 83235\n",
    "Element in position 26708. ArrayList: 120 recursive list 120\n",
    "The list is not sorted\n",
    "Number of even elements. Divide and conquer: 50175. recursive list 50175\n",
    "Maximum. Divide and conquer: 10000. recursive list 10000\n",
    "Position of value 120. Divide and conquer: 17730. Value in numbers 120\n",
    "Sorting algorithm: Radix\n",
    "Numbers sorted. Total time(milliseconds): 39\n",
    "Position of value 120. Divide and conquer: 1194. Value in numbers 120\n",
    "```\n",
    "\n",
    "Resultado con 100000 datos:\n",
    "```\n",
    "ArrayList size: 1000000 recursive list size: 1000000\n",
    "First location of number 8953. In ArrayList: 12919 in recursive list: 12919\n",
    "Last location of number 8953. In ArrayList: 996065 in recursive list: 996065\n",
    "Element in position 455830. ArrayList: 8953 recursive list 8953\n",
    "The list is not sorted\n",
    "Number of even elements. Divide and conquer: 500119. recursive list 500119\n",
    "Maximum. Divide and conquer: 10000. recursive list 10000\n",
    "Position of value 8953. Divide and conquer: 12919. Value in numbers 8953\n",
    "Sorting algorithm: Radix\n",
    "Numbers sorted. Total time(milliseconds): 153\n",
    "Position of value 8953. Divide and conquer: 895018. Value in numbers 8953\n",
    "```"
   ]
  },
  {
   "cell_type": "markdown",
   "metadata": {},
   "source": [
    "#### 5. CountSort"
   ]
  },
  {
   "cell_type": "markdown",
   "metadata": {},
   "source": [
    "Resultado con 100 datos:\n",
    "```\n",
    "ArrayList size: 100 recursive list size: 100\n",
    "First location of number 4046. In ArrayList: 70 in recursive list: 70\n",
    "Last location of number 4046. In ArrayList: 70 in recursive list: 70\n",
    "Element in position 70. ArrayList: 4046 recursive list 4046\n",
    "The list is not sorted\n",
    "Number of even elements. Divide and conquer: 50. recursive list 50\n",
    "Maximum. Divide and conquer: 9922. recursive list 9922\n",
    "Position of value 4046. Divide and conquer: 70. Value in numbers 4046\n",
    "Sorting algorithm: Count\n",
    "Numbers sorted. Total time(milliseconds): 0\n",
    "Position of value 4046. Divide and conquer: 35. Value in numbers 4046\n",
    "```\n",
    "Resultado con 1000 datos:\n",
    "\n",
    "```\n",
    "ArrayList size: 1000 recursive list size: 1000\n",
    "First location of number 8856. In ArrayList: 949 in recursive list: 949\n",
    "Last location of number 8856. In ArrayList: 949 in recursive list: 949\n",
    "Element in position 949. ArrayList: 8856 recursive list 8856\n",
    "The list is not sorted\n",
    "Number of even elements. Divide and conquer: 496. recursive list 496\n",
    "Maximum. Divide and conquer: 9994. recursive list 9994\n",
    "Position of value 8856. Divide and conquer: 949. Value in numbers 8856\n",
    "Sorting algorithm: Count\n",
    "Numbers sorted. Total time(milliseconds): 1\n",
    "Position of value 8856. Divide and conquer: 862. Value in numbers 8856\n",
    "```\n",
    "\n",
    "Resultado con 10000 datos:\n",
    "```\n",
    "ArrayList size: 10000 recursive list size: 10000\n",
    "First location of number 3941. In ArrayList: 733 in recursive list: 733\n",
    "Last location of number 3941. In ArrayList: 3742 in recursive list: 3742\n",
    "Element in position 3742. ArrayList: 3941 recursive list 3941\n",
    "The list is not sorted\n",
    "Number of even elements. Divide and conquer: 4985. recursive list 4985\n",
    "Maximum. Divide and conquer: 9998. recursive list 9998\n",
    "Position of value 3941. Divide and conquer: 733. Value in numbers 3941\n",
    "Sorting algorithm: Count\n",
    "Numbers sorted. Total time(milliseconds): 4\n",
    "Position of value 3941. Divide and conquer: 3856. Value in numbers 3941\n",
    "```\n",
    "Resultado con 100000 datos:\n",
    "```\n",
    "ArrayList size: 100000 recursive list size: 100000\n",
    "First location of number 2970. In ArrayList: 27314 in recursive list: 27314\n",
    "Last location of number 2970. In ArrayList: 90834 in recursive list: 90834\n",
    "Element in position 79282. ArrayList: 2970 recursive list 2970\n",
    "The list is not sorted\n",
    "Number of even elements. Divide and conquer: 50175. recursive list 50175\n",
    "Maximum. Divide and conquer: 10000. recursive list 10000\n",
    "Position of value 2970. Divide and conquer: 27314. Value in numbers 2970\n",
    "Sorting algorithm: Count\n",
    "Numbers sorted. Total time(milliseconds): 19\n",
    "Position of value 2970. Divide and conquer: 29569. Value in numbers 2970\n",
    "```\n",
    "Resultado con 100000 datos:\n",
    "```\n",
    "ArrayList size: 1000000 recursive list size: 1000000\n",
    "First location of number 3992. In ArrayList: 30015 in recursive list: 30015\n",
    "Last location of number 3992. In ArrayList: 980456 in recursive list: 980456\n",
    "Element in position 788948. ArrayList: 3992 recursive list 3992\n",
    "The list is not sorted\n",
    "Number of even elements. Divide and conquer: 500119. recursive list 500119\n",
    "Maximum. Divide and conquer: 10000. recursive list 10000\n",
    "Position of value 3992. Divide and conquer: 30015. Value in numbers 3992\n",
    "Sorting algorithm: Count\n",
    "Numbers sorted. Total time(milliseconds): 43\n",
    "Position of value 3992. Divide and conquer: 398741. Value in numbers 3992\n",
    "```"
   ]
  },
  {
   "cell_type": "markdown",
   "metadata": {},
   "source": [
    "Finalmente, diseñamos una tabla que resuma los tiempos de ejecución para cada tipo de datos en milisegundos\n",
    "\n",
    "| Algoritmo | 100 | 1k | 10k | 100k | 1M |\n",
    "|-----------|-----|----|-----|------|----|\n",
    "| QuickSort | 1 | 1  | 9  | 49 | 1125 |\n",
    "| MergeSort | 1 | 2 | 13 | 151 | 966 |\n",
    "| RadixSort | 1 | 1 | 8 | 39 | 153 |\n",
    "| CountSort | 0 | 1 | 4 | 19 | 43 |"
   ]
  },
  {
   "cell_type": "code",
   "execution_count": 21,
   "metadata": {},
   "outputs": [
    {
     "data": {
      "image/png": "[encoded data removed]",
      "text/plain": [
       "<Figure size 800x600 with 1 Axes>"
      ]
     },
     "metadata": {},
     "output_type": "display_data"
    }
   ],
   "source": [
    "dict_ = {\n",
    "    'QuickSort' : {100:1 , 1000:1, 10000: 9, 100000: 49, 1000000: 1125},\n",
    "    'MergeSort' : {100:1 , 1000:2, 10000: 13, 100000: 151, 1000000: 966},\n",
    "    'RadixSort' : {100:1 , 1000:1, 10000: 8, 100000:39, 1000000: 153},\n",
    "    'CountSort' : {100:0 , 1000:1, 10000: 4, 100000: 19, 1000000: 43}\n",
    "}\n",
    "\n",
    "plot_execution_values(dict_)"
   ]
  }
 ],
 "metadata": {
  "kernelspec": {
   "display_name": "Python 3",
   "language": "python",
   "name": "python3"
  },
  "language_info": {
   "codemirror_mode": {
    "name": "ipython",
    "version": 3
   },
   "file_extension": ".py",
   "mimetype": "text/x-python",
   "name": "python",
   "nbconvert_exporter": "python",
   "pygments_lexer": "ipython3",
   "version": "3.11.9"
  }
 },
 "nbformat": 4,
 "nbformat_minor": 2
}
