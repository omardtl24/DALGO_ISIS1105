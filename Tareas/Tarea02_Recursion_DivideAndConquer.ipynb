{
 "cells": [
  {
   "cell_type": "markdown",
   "metadata": {},
   "source": [
    "# Desarrollo Tarea 2\n",
    "\n",
    "#### **Estudiante:** Omar David Toledo Leguizamón"
   ]
  },
  {
   "cell_type": "markdown",
   "metadata": {},
   "source": [
    "## Parte 1"
   ]
  },
  {
   "cell_type": "markdown",
   "metadata": {},
   "source": [
    "## Parte 2"
   ]
  },
  {
   "cell_type": "markdown",
   "metadata": {},
   "source": [
    "## Parte 3"
   ]
  },
  {
   "cell_type": "markdown",
   "metadata": {},
   "source": [
    "Encontrar una fórmula cerrada para las siguientes ecuaciones de recurrencia:"
   ]
  },
  {
   "cell_type": "markdown",
   "metadata": {},
   "source": [
    "#### $f(n) = 4f(n-2) + 3^n \\quad \\quad f(0)=1 \\quad  f(1)=2$"
   ]
  },
  {
   "cell_type": "markdown",
   "metadata": {},
   "source": [
    "Podemos denotar que la ecuación descrita es una recurrencia lineal no homogenea. Dado esto, el proceso a seguir será hallar la solución homogenea y la solución particular de la ecuación, para luego relacionar las condiciones iniciales"
   ]
  },
  {
   "cell_type": "markdown",
   "metadata": {},
   "source": [
    "##### Solución Homogénea"
   ]
  },
  {
   "cell_type": "markdown",
   "metadata": {},
   "source": [
    "Vamos a solucionar la recurrencia homogénea:\n",
    "\n",
    "$$h(n) - 4h(n-2) = 0$$\n",
    "\n",
    "Para ello, vamos a asociar su polinomio característico y sus raíces:\n",
    "\n",
    "$$\\lambda^2 - 4 = 0 \\quad \\Longrightarrow \\quad \\lambda=2 \\,\\, \\wedge \\,\\, \\lambda = -2$$\n",
    "\n",
    "Dado esto, la solución homogénea de la recurrencia está dada por:\n",
    "\n",
    "$$ h(n) = c_1 (2)^n + c_2 (-2)^n$$\n"
   ]
  },
  {
   "cell_type": "markdown",
   "metadata": {},
   "source": [
    "##### Solución Particular"
   ]
  },
  {
   "cell_type": "markdown",
   "metadata": {},
   "source": [
    "Para la solución de la parte no homogénea, vamos a suponer una solución $p(n)$ que cumple lo siguiente:\n",
    "\n",
    "$$p(n) - 4p(n-2) = 3^n$$\n",
    "\n",
    "Utiizando la heurística, supondremos que la solución es de la forma $p(n) = c_3 3^n$. Dado esto, tratamos de hallar el valor de $c_3$:\n",
    "\n",
    "\\begin{array}{rcl}\n",
    "    p(n) - 4p(n-2) & = & 3^n \\\\ \\\\\n",
    "    c_3 3^n - 4c_3 3^{n-2} & = &  3^n \\\\ \\\\\n",
    "    c_3 3^n - \\dfrac{4}{9} c_3 3^{n} & = &  3^n \\\\ \\\\\n",
    "    \\dfrac{5}{9} c_3 3^{n} & = &  3^n \\\\ \\\\\n",
    "    \\dfrac{5}{9} c_3 3^{n} - 3^n & = & 0   \\\\ \\\\\n",
    "    3^n \\left( \\dfrac{5}{9} c_3 - 1 \\right) & = & 0   \\\\\n",
    "    & \\Downarrow & \\\\\n",
    "    \\dfrac{5}{9} c_3 - 1 & = & 0   \\\\ \\\\\n",
    "    c_3 & = & \\dfrac{9}{5}\n",
    "\\end{array}\n",
    "\n",
    "Dado esto, nuestra solución particular esta dada por:\n",
    "\n",
    "$$p(n) = \\dfrac{9}{5} 3^n = \\dfrac{3^{n+2}}{5}$$"
   ]
  },
  {
   "cell_type": "markdown",
   "metadata": {},
   "source": [
    "##### Aplicación de Condiciones iniciales"
   ]
  },
  {
   "cell_type": "markdown",
   "metadata": {},
   "source": [
    "La solución de nuestra ecuación esta descrita de la forma:\n",
    "\n",
    "$$f(n) = h(n) + p(n) = c_1 (2)^n + c_2 (-2)^n + \\dfrac{3^{n+2}}{5}$$\n",
    "\n",
    "El siguiente proceso sera usar las condiciones $f(0)=1$ y $f(1)=2$ para determinar los valores de $c_1$ y $c_2$\n",
    "\n",
    "\\begin{array}{rcccl}\n",
    "    f(0) = 1 &=& c_1 (2)^0 + c_2 (-2)^0 + \\dfrac{3^{0+2}}{5} &=& c_1 + c_2 + \\dfrac{9}{5} &\\Longrightarrow& c_1 + c_2 = -\\dfrac{4}{5}\\\\  \\\\\n",
    "    f(1) = 2 &=& c_1 (2)^1 + c_2 (-2)^1 + \\dfrac{3^{1+2}}{5} &=& 2c_1 - 2 c_2 + \\dfrac{27}{5} &\\Longrightarrow&  2c_1 - 2c_2 = - \\dfrac{17}{5}\n",
    "\\end{array}\n",
    "\n",
    "Resolvemos el sistema de ecuaciones lineales $2 \\times 2$\n",
    "\n",
    "\\begin{array}{lcr}\n",
    "    \\left(\n",
    "    \\begin{array}{cc|c}\n",
    "        1 & 1 & -\\frac{4}{5}  \\\\ \\\\\n",
    "        2 & -2 & -\\frac{17}{5}  \\\\\n",
    "    \\end{array}\n",
    "    \\right) & \\Longrightarrow & \n",
    "    \\left(\n",
    "    \\begin{array}{cc|c}\n",
    "        1 & 1 & -\\frac{4}{5}  \\\\ \\\\\n",
    "        0 & -4 & -\\frac{9}{5}  \\\\\n",
    "    \\end{array}\n",
    "    \\right) \\\\ \\\\\n",
    "    \\left(\n",
    "    \\begin{array}{cc|c}\n",
    "        1 & 1 & -\\frac{4}{5}  \\\\ \\\\\n",
    "        0 & 1 & \\frac{9}{20}  \\\\\n",
    "    \\end{array}\n",
    "    \\right) & \\Longrightarrow & \n",
    "    \\left(\n",
    "    \\begin{array}{cc|c}\n",
    "        1 & 0 & -\\frac{5}{4}  \\\\ \\\\\n",
    "        0 & 1 & \\frac{9}{20}  \\\\\n",
    "    \\end{array}\n",
    "    \\right) \n",
    "\\end{array}\n",
    "\n",
    "En ese orden de ideas, la solución cerrada de la ecuación de recurrencia es:\n",
    "\n",
    "$$\\fbox{$f(n) = -\\dfrac{5}{4} (2)^n + \\dfrac{9}{20} (-2)^n + \\dfrac{3^{n+2}}{5}$}$$\n",
    "\n",
    "\n"
   ]
  },
  {
   "cell_type": "markdown",
   "metadata": {},
   "source": [
    "#### $f(n) = 4f(n-2) + 2^n \\quad \\quad f(0)=1 \\quad  f(1)=3$"
   ]
  },
  {
   "cell_type": "markdown",
   "metadata": {},
   "source": [
    "Podemos denotar que la ecuación descrita es una recurrencia lineal no homogenea. Dado esto, el proceso a seguir será hallar la solución homogenea y la solución particular de la ecuación, para luego relacionar las condiciones iniciales"
   ]
  },
  {
   "cell_type": "markdown",
   "metadata": {},
   "source": [
    "##### Solución Homogénea"
   ]
  },
  {
   "cell_type": "markdown",
   "metadata": {},
   "source": [
    "Vamos a solucionar la recurrencia homogénea:\n",
    "\n",
    "$$h(n) - 4h(n-2) = 0$$\n",
    "\n",
    "Para ello, vamos a asociar su polinomio característico y sus raíces:\n",
    "\n",
    "$$\\lambda^2 - 4 = 0 \\quad \\Longrightarrow \\quad \\lambda=2 \\,\\, \\wedge \\,\\, \\lambda = -2$$\n",
    "\n",
    "Dado esto, la solución homogénea de la recurrencia está dada por:\n",
    "\n",
    "$$ h(n) = c_1 (2)^n + c_2 (-2)^n$$\n"
   ]
  },
  {
   "cell_type": "markdown",
   "metadata": {},
   "source": [
    "##### Solución Particular"
   ]
  },
  {
   "cell_type": "markdown",
   "metadata": {},
   "source": [
    "Para la solución de la parte no homogénea, vamos a suponer una solución $p(n)$ que cumple lo siguiente:\n",
    "\n",
    "$$p(n) - 4p(n-2) = 2^n$$\n",
    "\n",
    "Utiizando la heurística, supondremos que la solución es de la forma $p(n) = c_3\\, n \\,  2^n$. Dado esto, tratamos de hallar el valor de $c_3$:\n",
    "\n",
    "\\begin{array}{rcl}\n",
    "    p(n) - 4p(n-2) & = & 2^n \\\\ \\\\\n",
    "    c_3\\, n \\,  2^n - 4c_3\\, (n-2) \\,  2^{n-2} & = &  2^n \\\\ \\\\\n",
    "    c_3 \\, n \\, 2^n - c_3\\, (n-2) \\,  2^{n} & = &  2^n \\\\ \\\\\n",
    "    2 c_3 2^n & = &  2^n \\\\ \\\\\n",
    "    2 c_3 2^n - 2^n & = & 0   \\\\ \\\\\n",
    "    2^n \\left( 2 c_3 - 1 \\right) & = & 0   \\\\\n",
    "    & \\Downarrow & \\\\\n",
    "    2 c_3 - 1 & = & 0   \\\\ \\\\\n",
    "    c_3 & = & \\dfrac{1}{2}\n",
    "\\end{array}\n",
    "\n",
    "Dado esto, nuestra solución particular esta dada por:\n",
    "\n",
    "$$p(n) = \\dfrac{1}{2} \\, n \\, 2^n = n \\, 2^{n-1}$$"
   ]
  },
  {
   "cell_type": "markdown",
   "metadata": {},
   "source": [
    "##### Aplicación de Condiciones iniciales"
   ]
  },
  {
   "cell_type": "markdown",
   "metadata": {},
   "source": [
    "La solución de nuestra ecuación esta descrita de la forma:\n",
    "\n",
    "$$f(n) = h(n) + p(n) = c_1 (2)^n + c_2 (-2)^n + n \\, 2^{n-1}$$\n",
    "\n",
    "El siguiente proceso sera usar las condiciones $f(0)=1$ y $f(1)=3$ para determinar los valores de $c_1$ y $c_2$\n",
    "\n",
    "\\begin{array}{rcccl}\n",
    "    f(0) = 1 &=& c_1 (2)^0 + c_2 (-2)^0 + (0) 2^{0-1} &=& c_1 + c_2 &\\Longrightarrow& c_1 + c_2 = 1\\\\  \\\\\n",
    "    f(1) = 3 &=& c_1 (2)^1 + c_2 (-2)^1 + (1) \\, 2^{1-1} &=& 2c_1 - 2 c_2 + 1 &\\Longrightarrow&  2c_1 - 2c_2 = 2\n",
    "\\end{array}\n",
    "\n",
    "Resolvemos el sistema de ecuaciones lineales $2 \\times 2$\n",
    "\n",
    "\\begin{array}{lcr}\n",
    "    \\left(\n",
    "    \\begin{array}{cc|c}\n",
    "        1 & 1 & 1  \\\\\n",
    "        2 & -2 & 2  \\\\\n",
    "    \\end{array}\n",
    "    \\right) & \\Longrightarrow & \n",
    "    \\left(\n",
    "    \\begin{array}{cc|c}\n",
    "        1 & 1 & 1  \\\\\n",
    "        0 & -4 & 0  \\\\\n",
    "    \\end{array}\n",
    "    \\right) \\\\ \\\\\n",
    "    \\left(\n",
    "    \\begin{array}{cc|c}\n",
    "        1 & 1 & 1  \\\\\n",
    "        0 & 1 & 0  \\\\\n",
    "    \\end{array}\n",
    "    \\right) & \\Longrightarrow & \n",
    "    \\left(\n",
    "    \\begin{array}{cc|c}\n",
    "        1 & 0 & 1  \\\\\n",
    "        0 & 1 & 0  \\\\\n",
    "    \\end{array}\n",
    "    \\right) \n",
    "\\end{array}\n",
    "\n",
    "En ese orden de ideas, la solución cerrada de la ecuación de recurrencia es:\n",
    "\n",
    "$$\\fbox{$f(n) = 2^n + n \\, 2^{n-1}$}$$\n",
    "\n",
    "\n"
   ]
  },
  {
   "cell_type": "markdown",
   "metadata": {},
   "source": [
    "#### $f(n) = 5f(n-1) - 6f(n-2) + n \\quad \\quad f(0)=0 \\quad  f(1)=2$"
   ]
  },
  {
   "cell_type": "markdown",
   "metadata": {},
   "source": [
    "Podemos denotar que la ecuación descrita es una recurrencia lineal no homogenea. Dado esto, el proceso a seguir será hallar la solución homogenea y la solución particular de la ecuación, para luego relacionar las condiciones iniciales"
   ]
  },
  {
   "cell_type": "markdown",
   "metadata": {},
   "source": [
    "##### Solución Homogénea"
   ]
  },
  {
   "cell_type": "markdown",
   "metadata": {},
   "source": [
    "Vamos a solucionar la recurrencia homogénea:\n",
    "\n",
    "$$h(n) - 5h(n-1) + 6h(n-2) = 0$$\n",
    "\n",
    "Para ello, vamos a asociar su polinomio característico y sus raíces:\n",
    "\n",
    "$$\\lambda^2 - 5\\lambda + 6 = 0 \\quad \\Longrightarrow \\quad (\\lambda - 2)(\\lambda - 3) = 0 \\quad \\Longrightarrow \\quad \\lambda=2 \\,\\, \\wedge \\,\\, \\lambda = 3$$\n",
    "\n",
    "Dado esto, la solución homogénea de la recurrencia está dada por:\n",
    "\n",
    "$$ h(n) = c_1 (2)^n + c_2 (3)^n$$\n"
   ]
  },
  {
   "cell_type": "markdown",
   "metadata": {},
   "source": [
    "##### Solución Particular"
   ]
  },
  {
   "cell_type": "markdown",
   "metadata": {},
   "source": [
    "Para la solución de la parte no homogénea, vamos a suponer una solución $p(n)$ que cumple lo siguiente:\n",
    "\n",
    "$$p(n) - 5p(n-1) + 6p(n-2) = n$$\n",
    "\n",
    "Utiizando la heurística, supondremos que la solución es de la forma $p(n) = c_3 \\, n + c_4$. Dado esto, tratamos de hallar el valor de $c_3$:\n",
    "\n",
    "\\begin{array}{rcl}\n",
    "    p(n) - 5p(n-1) + 6p(n-2) & = & n \\\\ \\\\\n",
    "    c_3 \\, n + c_4 - 5(c_3 \\, (n-1) + c_4) +6(c_3 \\, (n-2) + c_4)& = &  n \\\\ \\\\\n",
    "    c_3 \\, n + c_4 - 5c_3 \\, n + 5c_3 - 5c_4 + 6c_3 \\, n -12c_3+ 6c_4 & = &  n \\\\ \\\\\n",
    "    n(c_3 - 5c_3 + 6c_3 ) + (c_4 + 5c_3 - 5c_4 -12c_3+ 6c_4) & = &  n \\\\ \\\\\n",
    "    2c_3 n + (2c_4 - 7c_3) - n & = & 0   \\\\ \\\\\n",
    "     n (2c_3-1) + (2c_4 - 7c_3)& = & 0   \\\\\n",
    "    & \\Downarrow & \\\\\n",
    "    2 c_3 - 1  = 0 & \\wedge & 2c_4 - 7c_3 = 0   \\\\ \\\\\n",
    "    c_3 = \\dfrac{1}{2}& \\wedge & c_4 = \\dfrac{7}{4}\n",
    "\\end{array}\n",
    "\n",
    "Dado esto, nuestra solución particular esta dada por:\n",
    "\n",
    "$$p(n) = \\dfrac{1}{2} \\, n + \\dfrac{7}{4}$$"
   ]
  },
  {
   "cell_type": "markdown",
   "metadata": {},
   "source": [
    "##### Aplicación de Condiciones iniciales"
   ]
  },
  {
   "cell_type": "markdown",
   "metadata": {},
   "source": [
    "La solución de nuestra ecuación esta descrita de la forma:\n",
    "\n",
    "$$f(n) = h(n) + p(n) = c_1 (2)^n + c_2 (3)^n + \\dfrac{1}{2} \\, n + \\dfrac{7}{4}$$\n",
    "\n",
    "El siguiente proceso sera usar las condiciones $f(0)=0$ y $f(1)=2$ para determinar los valores de $c_1$ y $c_2$\n",
    "\n",
    "\\begin{array}{rcccl}\n",
    "    f(0) = 0 &=& c_1 (2)^0 + c_2 (3)^0 + \\dfrac{1}{2} \\, (0) + \\dfrac{7}{4} &=& c_1 + c_2 + \\dfrac{7}{4}&\\Longrightarrow& c_1 + c_2 = -\\dfrac{7}{4}\\\\  \\\\\n",
    "    f(1) = 2 &=& c_1 (2)^1 + c_2 (3)^1 + \\dfrac{1}{2} \\, (1) + \\dfrac{7}{4} &=& 2c_1 + 3c_2 + \\dfrac{9}{4} &\\Longrightarrow&  2c_1 + 3c_2 = -\\dfrac{1}{4}\n",
    "\\end{array}\n",
    "\n",
    "Resolvemos el sistema de ecuaciones lineales $2 \\times 2$\n",
    "\n",
    "\\begin{array}{lcr}\n",
    "    \\left(\n",
    "    \\begin{array}{cc|c}\n",
    "        1 & 1 & -\\dfrac{7}{4}  \\\\ \\\\\n",
    "        2 & 3 & -\\dfrac{1}{4}  \\\\\n",
    "    \\end{array}\n",
    "    \\right) & \\Longrightarrow & \n",
    "    \\left(\n",
    "    \\begin{array}{cc|c}\n",
    "        1 & 1 & -\\dfrac{7}{4}  \\\\ \\\\\n",
    "        0 & 1 & \\dfrac{13}{4}  \\\\\n",
    "    \\end{array}\n",
    "    \\right) \\\\ \\\\\n",
    "    & \\left(\n",
    "    \\begin{array}{cc|c}\n",
    "        1 & 0 & -5  \\\\ \\\\\n",
    "        0 & 1 & \\dfrac{13}{4}  \\\\\n",
    "    \\end{array}\n",
    "    \\right)  & \n",
    "\\end{array}\n",
    "\n",
    "En ese orden de ideas, la solución cerrada de la ecuación de recurrencia es:\n",
    "\n",
    "$$\\fbox{$f(n) = -5(2)^n + \\dfrac{13}{4}(3)^n + \\dfrac{1}{2} \\, n + \\dfrac{7}{4}$} $$\n",
    "\n",
    "\n"
   ]
  },
  {
   "cell_type": "markdown",
   "metadata": {},
   "source": [
    "#### $f(n) = 4f(n-1) – 4f(n-2) + 5 \\quad \\quad f(0)=0 \\quad  f(1)=1$"
   ]
  },
  {
   "cell_type": "markdown",
   "metadata": {},
   "source": [
    "Podemos denotar que la ecuación descrita es una recurrencia lineal no homogenea. Dado esto, el proceso a seguir será hallar la solución homogenea y la solución particular de la ecuación, para luego relacionar las condiciones iniciales"
   ]
  },
  {
   "cell_type": "markdown",
   "metadata": {},
   "source": [
    "##### Solución Homogénea"
   ]
  },
  {
   "cell_type": "markdown",
   "metadata": {},
   "source": [
    "Vamos a solucionar la recurrencia homogénea:\n",
    "\n",
    "$$h(n) - 4h(n-1) + 4h(n-2) = 0$$\n",
    "\n",
    "Para ello, vamos a asociar su polinomio característico y sus raíces:\n",
    "\n",
    "$$\\lambda^2 - 4\\lambda + 4 = 0 \\quad \\Longrightarrow \\quad (\\lambda - 2)^2 = 0 \\quad \\Longrightarrow \\quad \\lambda=2 $$\n",
    "\n",
    "Dado esto, la solución homogénea de la recurrencia está dada por:\n",
    "\n",
    "$$ h(n) = c_1 (2)^n + c_2 \\, n \\, (2)^n$$\n"
   ]
  },
  {
   "cell_type": "markdown",
   "metadata": {},
   "source": [
    "##### Solución Particular"
   ]
  },
  {
   "cell_type": "markdown",
   "metadata": {},
   "source": [
    "Para la solución de la parte no homogénea, vamos a suponer una solución $p(n)$ que cumple lo siguiente:\n",
    "\n",
    "$$p(n) - 4p(n-1) + 4p(n-2) = 5$$\n",
    "\n",
    "Utiizando la heurística, supondremos que la solución es de la forma $p(n) = c_3 $. Dado esto, tratamos de hallar el valor de $c_3$:\n",
    "\n",
    "\\begin{array}{rcl}\n",
    "    p(n) - 4p(n-1) + 4p(n-2) & = & 5 \\\\\n",
    "    c_3 - 4c_3 + 4c_3& = &  5 \\\\\n",
    "    c_3 & = & 5\n",
    "\n",
    "\\end{array}\n",
    "\n",
    "Dado esto, nuestra solución particular esta dada por:\n",
    "\n",
    "$$p(n) = 5$$"
   ]
  },
  {
   "cell_type": "markdown",
   "metadata": {},
   "source": [
    "##### Aplicación de Condiciones iniciales"
   ]
  },
  {
   "cell_type": "markdown",
   "metadata": {},
   "source": [
    "La solución de nuestra ecuación esta descrita de la forma:\n",
    "\n",
    "$$f(n) = h(n) + p(n) = c_1 (2)^n + c_2 \\, n \\, (2)^n + 5$$\n",
    "\n",
    "El siguiente proceso sera usar las condiciones $f(0)=0$ y $f(1)=1$ para determinar los valores de $c_1$ y $c_2$\n",
    "\n",
    "\\begin{array}{rcccl}\n",
    "    f(0) = 0 &=& c_1 (2)^0 + c_2 \\, (0) \\, (2)^0 + 5 &=& c_1 + 5&\\Longrightarrow& c_1 = -5\\\\  \\\\\n",
    "    f(1) = 1 &=& c_1 (2)^1 + c_2 \\, (1) \\, (2)^1 + 5 &=& 2c_1 + 2c_2 + 5 &\\Longrightarrow&  2c_1 + 2c_2 = -4\n",
    "\\end{array}\n",
    "\n",
    "Resolvemos el sistema de ecuaciones lineales $2 \\times 2$\n",
    "\n",
    "\\begin{array}{lcr}\n",
    "    \\left(\n",
    "    \\begin{array}{cc|c}\n",
    "        1 & 0 & -5  \\\\\n",
    "        2 & 2 & -4  \\\\\n",
    "    \\end{array}\n",
    "    \\right) & \\Longrightarrow & \n",
    "    \\left(\n",
    "    \\begin{array}{cc|c}\n",
    "        1 & 0 & -5  \\\\\n",
    "        0 & 2 & 6  \\\\\n",
    "    \\end{array}\n",
    "    \\right) \\\\\n",
    "    & \\left(\n",
    "    \\begin{array}{cc|c}\n",
    "        1 & 0 & -5  \\\\\n",
    "        0 & 1 & 3  \\\\\n",
    "    \\end{array}\n",
    "    \\right)  & \n",
    "\\end{array}\n",
    "\n",
    "En ese orden de ideas, la solución cerrada de la ecuación de recurrencia es:\n",
    "\n",
    "$$\\fbox{$f(n) = -5 (2)^n + 3 \\, n \\, (2)^n + 5$} $$\n",
    "\n",
    "\n"
   ]
  },
  {
   "cell_type": "markdown",
   "metadata": {},
   "source": [
    "#### $f(n) = 4f(n-1) – 4f(n-2) + 2^n \\quad \\quad f(0)=1 \\quad  f(1)=4$"
   ]
  },
  {
   "cell_type": "markdown",
   "metadata": {},
   "source": [
    "Podemos denotar que la ecuación descrita es una recurrencia lineal no homogenea. Dado esto, el proceso a seguir será hallar la solución homogenea y la solución particular de la ecuación, para luego relacionar las condiciones iniciales"
   ]
  },
  {
   "cell_type": "markdown",
   "metadata": {},
   "source": [
    "##### Solución Homogénea"
   ]
  },
  {
   "cell_type": "markdown",
   "metadata": {},
   "source": [
    "Vamos a solucionar la recurrencia homogénea:\n",
    "\n",
    "$$h(n) - 4h(n-1) + 4h(n-2) = 0$$\n",
    "\n",
    "Para ello, vamos a asociar su polinomio característico y sus raíces:\n",
    "\n",
    "$$\\lambda^2 - 4\\lambda + 4 = 0 \\quad \\Longrightarrow \\quad (\\lambda - 2)^2 = 0 \\quad \\Longrightarrow \\quad \\lambda=2 $$\n",
    "\n",
    "Dado esto, la solución homogénea de la recurrencia está dada por:\n",
    "\n",
    "$$ h(n) = c_1 (2)^n + c_2 \\, n \\, (2)^n$$\n"
   ]
  },
  {
   "cell_type": "markdown",
   "metadata": {},
   "source": [
    "##### Solución Particular"
   ]
  },
  {
   "cell_type": "markdown",
   "metadata": {},
   "source": [
    "Para la solución de la parte no homogénea, vamos a suponer una solución $p(n)$ que cumple lo siguiente:\n",
    "\n",
    "$$p(n) - 4p(n-1) + 4p(n-2) = 2^n$$\n",
    "\n",
    "Utiizando la heurística, supondremos que la solución es de la forma $p(n) = c_3 \\, n^2 \\, 2^n$. Dado esto, tratamos de hallar el valor de $c_3$:\n",
    "\n",
    "\\begin{array}{rcl}\n",
    "    p(n) - 4p(n-1) + 4p(n-2) & = & 2^n \\\\\n",
    "    c_3 \\, n^2 \\, 2^n - 4(c_3 \\, (n-1)^2 \\, 2^{n-1}) + 4(c_3 \\, (n-2)^2 \\, 2^{n-2})& = &  2^n \\\\\n",
    "    c_3 \\, n^2 \\, 2^n - 4(c_3 \\, (n^2 -2n + 1) \\, 2^{n-1}) + 4(c_3 \\, (n^2-4n+4) \\, 2^{n-2})& = & 2^n \\\\\n",
    "    c_3 \\, n^2 \\, 2^n - 2c_3 \\, (n^2 -2n + 1) \\, 2^{n} + c_3\\, 2^{n}(n^2-4n+4) & = &  2^n \\\\\n",
    "    2^n \\, n^2 \\, (c_3 - 2c_3 + c_3) + 2^n \\, n \\, (4c_3 - 4c_3) + 2^n (-2c_3 + 4c_3)& = &  2^n \\\\\n",
    "    2c_3\\, 2^n & = & 2^n \\\\\n",
    "    2c_3\\, 2^n - 2^n& = & 0 \\\\\n",
    "    2^n\\,(2c_3 - 1)& = & 0 \\\\\n",
    "    &\\Downarrow & \\\\\n",
    "    2c_3 - 1 & = & 0 \\\\ \\\\\n",
    "    c_3 &=& \\dfrac{1}{2}\n",
    "\n",
    "\\end{array}\n",
    "\n",
    "Dado esto, nuestra solución particular esta dada por:\n",
    "\n",
    "$$p(n) = \\dfrac{1}{2} \\, n^2 \\, 2^n = n^2 \\, 2^{n-1}$$"
   ]
  },
  {
   "cell_type": "markdown",
   "metadata": {},
   "source": [
    "##### Aplicación de Condiciones iniciales"
   ]
  },
  {
   "cell_type": "markdown",
   "metadata": {},
   "source": [
    "La solución de nuestra ecuación esta descrita de la forma:\n",
    "\n",
    "$$f(n) = h(n) + p(n) = c_1 (2)^n + c_2 \\, n \\, (2)^n +  n^2 \\, 2^{n-1}$$\n",
    "\n",
    "El siguiente proceso sera usar las condiciones $f(0)=1$ y $f(1)=4$ para determinar los valores de $c_1$ y $c_2$\n",
    "\n",
    "\\begin{array}{rcccl}\n",
    "    f(0) = 1 &=& c_1 (2)^0 + c_2 \\, (0) \\, (2)^0 +  (0)^2 \\, 2^{0-1} &=& c_1 &\\Longrightarrow& c_1 = 1\\\\  \\\\\n",
    "    f(1) = 4 &=& c_1 (2)^1 + c_2 \\, (1) \\, (2)^1 +  (1)^2 \\, 2^{1-1} &=& 2c_1 + 2c_2 + 1 &\\Longrightarrow&  2c_1 + 2c_2 = 3\n",
    "\\end{array}\n",
    "\n",
    "Resolvemos el sistema de ecuaciones lineales $2 \\times 2$\n",
    "\n",
    "\\begin{array}{lcr}\n",
    "    \\left(\n",
    "    \\begin{array}{cc|c}\n",
    "        1 & 0 & 1  \\\\\n",
    "        2 & 2 & 3  \\\\\n",
    "    \\end{array}\n",
    "    \\right) & \\Longrightarrow & \n",
    "    \\left(\n",
    "    \\begin{array}{cc|c}\n",
    "        1 & 0 & 1  \\\\\n",
    "        0 & 2 & 1  \\\\\n",
    "    \\end{array}\n",
    "    \\right) \\\\ \\\\\n",
    "    & \\left(\n",
    "    \\begin{array}{cc|c}\n",
    "        1 & 0 & 1  \\\\ \\\\\n",
    "        0 & 1 & \\dfrac{1}{2}  \\\\\n",
    "    \\end{array}\n",
    "    \\right)  & \n",
    "\\end{array}\n",
    "\n",
    "En ese orden de ideas, la solución cerrada de la ecuación de recurrencia es:\n",
    "\n",
    "$$f(n) =  (2)^n + \\dfrac{1}{2} \\, n \\, (2)^n +  n^2 \\, 2^{n-1} = 2 (2)^{n-1} + n \\, (2)^{n-1} +  n^2 \\, 2^{n-1}$$\n",
    "\n",
    "$$\\fbox{$f(n) = (2)^{n-1}\\,(n^2 + n + 2)$} $$\n",
    "\n",
    "\n"
   ]
  },
  {
   "cell_type": "markdown",
   "metadata": {},
   "source": [
    "#### $ f(n) = 2f(\\frac{n}{4}) + 10 \\quad \\quad f(1)=1$"
   ]
  },
  {
   "cell_type": "markdown",
   "metadata": {},
   "source": [
    "Podemos denotar que la ecuación descrita es una recurrencia no lineal no homogenea. Dado esto, el proceso a seguir será aplicar el cambio de dominio para obtener una recurrencia lineal, hallar la solución homogenea y la solución particular de la nueva ecuación, para luego relacionar las condiciones iniciales."
   ]
  },
  {
   "cell_type": "markdown",
   "metadata": {},
   "source": [
    "##### Cambio de Dominio"
   ]
  },
  {
   "cell_type": "markdown",
   "metadata": {},
   "source": [
    "Dada la natualeza de la recurrencia, aplicaremos el cambio de dominio dado por $g(m) = n = 4^m$ y definimos a función $\\gamma(m) = f(g(m)) = f(n)$\n",
    "\n",
    "\\begin{array}{}\n",
    "    f(n) &=& f(g(m)) & = & 2f(\\frac{4^m}{4}) + 10 \\\\\n",
    "         & &  & = & 2f(4^{m-1}) + 10 \\\\\n",
    "         & & \\gamma(m)  & = & 2\\gamma(m-1) + 10 \\\\\n",
    "\\end{array}\n",
    "\n",
    "Dada la recurrencia lineal no homogenea en térmimos de gamma, procedemos a encontrar su solución."
   ]
  },
  {
   "cell_type": "markdown",
   "metadata": {},
   "source": [
    "##### Solución Homogénea"
   ]
  },
  {
   "cell_type": "markdown",
   "metadata": {},
   "source": [
    "Vamos a solucionar la recurrencia homogénea:\n",
    "\n",
    "$$h(m) - 2h(m-1)  = 0$$\n",
    "\n",
    "Para ello, vamos a asociar su polinomio característico y sus raíces:\n",
    "\n",
    "$$\\lambda - 2 = 0 \\quad \\Longrightarrow  \\quad \\lambda=2 $$\n",
    "\n",
    "Dado esto, la solución homogénea de la recurrencia está dada por:\n",
    "\n",
    "$$ h(m) = c_1 (2)^m$$\n"
   ]
  },
  {
   "cell_type": "markdown",
   "metadata": {},
   "source": [
    "##### Solución Particular"
   ]
  },
  {
   "cell_type": "markdown",
   "metadata": {},
   "source": [
    "Para la solución de la parte no homogénea, vamos a suponer una solución $p(m)$ que cumple lo siguiente:\n",
    "\n",
    "$$p(m) - 2p(m-1)  = 10$$\n",
    "\n",
    "Utiizando la heurística, supondremos que la solución es de la forma $p(m) = c_2 $. Dado esto, tratamos de hallar el valor de $c_2$:\n",
    "\n",
    "\\begin{array}{rcl}\n",
    "    p(m) - 2p(m-1) & = & 10 \\\\\n",
    "    c_2 - 2c_2 & = & 10 \\\\\n",
    "    c_2 &=& -10\n",
    "\n",
    "\\end{array}\n",
    "\n",
    "Dado esto, nuestra solución particular esta dada por:\n",
    "\n",
    "$$p(m) = -10$$"
   ]
  },
  {
   "cell_type": "markdown",
   "metadata": {},
   "source": [
    "##### Aplicación de Condiciones iniciales"
   ]
  },
  {
   "cell_type": "markdown",
   "metadata": {},
   "source": [
    "Para aplicar las condiciones iniciales, tomaremos la solución general de la reccurrencia lineal y aplicaremos el cambio de dominio para regresar a $n$ mediante $m = \\log_{4} n = \\dfrac{\\log_2 n}{\\log_2 4} = \\dfrac{\\log_2 n}{2} $.\n",
    "\n",
    "$$\\gamma(m) = c_1(2)^m - 10 \\quad \\quad \\Longrightarrow \\quad \\quad f(n) = c_1 (2)^\\frac{\\log_2 n}{2} - 10 = c_1 \\left( (2)^{\\log_2 n} \\right)^\\frac{1}{2} - 10 = c_1 \\sqrt{n} - 10$$\n",
    "\n",
    "Aplicamos la condición $f(1) = 1$ para determinar el valor de $c_1$\n",
    "\n",
    "$$f(1) = 1 = c_1 \\sqrt{1} - 10 \\quad \\Longrightarrow \\quad c = 11$$\n",
    "\n",
    "En ese orden de ideas, la solución cerrada de la ecuación de recurrencia es:\n",
    "\n",
    "\n",
    "$$\\fbox{$f(n) = 11 \\sqrt{n} - 10$} $$"
   ]
  }
 ],
 "metadata": {
  "language_info": {
   "name": "python"
  }
 },
 "nbformat": 4,
 "nbformat_minor": 2
}
