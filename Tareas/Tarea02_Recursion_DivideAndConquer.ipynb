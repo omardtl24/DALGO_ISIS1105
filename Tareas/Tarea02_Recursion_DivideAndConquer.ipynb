{
 "cells": [
  {
   "cell_type": "markdown",
   "metadata": {},
   "source": [
    "# Desarrollo Tarea 2\n",
    "\n",
    "#### **Estudiante:** Omar David Toledo Leguizamón"
   ]
  },
  {
   "cell_type": "markdown",
   "metadata": {},
   "source": [
    "## Parte 1"
   ]
  },
  {
   "cell_type": "markdown",
   "metadata": {},
   "source": [
    "## Parte 2"
   ]
  },
  {
   "cell_type": "markdown",
   "metadata": {},
   "source": [
    "## Parte 3"
   ]
  },
  {
   "cell_type": "markdown",
   "metadata": {},
   "source": [
    "Encontrar una fórmula cerrada para las siguientes ecuaciones de recurrencia:"
   ]
  },
  {
   "cell_type": "markdown",
   "metadata": {},
   "source": [
    "#### $f(n) = 4f(n-2) + 3^n \\quad \\quad f(0)=1 \\quad  f(1)=2$"
   ]
  },
  {
   "cell_type": "markdown",
   "metadata": {},
   "source": [
    "Podemos denotar que la ecuación descrita es una recurrencia lineal no homogenea. Dado esto, el proceso a seguir será hallar la solución homogenea y la solución particular de la ecuación, paara luego relacional las condiciones iniciales"
   ]
  },
  {
   "cell_type": "markdown",
   "metadata": {},
   "source": [
    "##### Solución Homogénea"
   ]
  },
  {
   "cell_type": "markdown",
   "metadata": {},
   "source": [
    "Vamos a solucionar la recurrencia homogénea:\n",
    "\n",
    "$$f(n) - 4f(n-2) = 0$$\n",
    "\n",
    "Para ello, vamos a asociar su polinomio característico y sus raíces:\n",
    "\n",
    "$$\\lambda^2 - 4 = 0 \\quad \\Longrightarrow \\quad \\lambda=2 \\,\\, \\wedge \\,\\, \\lambda = -2$$\n",
    "\n",
    "Dado esto, la solución homogénea de la recurrencia está dada por:\n",
    "\n",
    "$$ h(n) = c_1 (2)^n + c_2 (-2)^n$$\n"
   ]
  },
  {
   "cell_type": "markdown",
   "metadata": {},
   "source": [
    "##### Solución Particular"
   ]
  },
  {
   "cell_type": "markdown",
   "metadata": {},
   "source": [
    "Para la solución de la parte no homogénea, vamos a suponer una solución $p(n)$ que cumple lo siguiente:\n",
    "\n",
    "$$p(n) - 4p(n-2) = 3^n$$\n",
    "\n",
    "Utiizando la heurística, supondremos que la solución es de la forma $p(n) = c_3 3^n$. Dado esto, tratamos de hallar el valor de $c_3$:\n",
    "\n",
    "\\begin{array}{rcl}\n",
    "    p(n) - 4p(n-2) & = & 3^n \\\\ \\\\\n",
    "    c_3 3^n - 4c_3 3^{n-2} & = &  3^n \\\\ \\\\\n",
    "    c_3 3^n - \\dfrac{4}{9} c_3 3^{n} & = &  3^n \\\\ \\\\\n",
    "    \\dfrac{5}{9} c_3 3^{n} & = &  3^n \\\\ \\\\\n",
    "    \\dfrac{5}{9} c_3 3^{n} - 3^n & = & 0   \\\\ \\\\\n",
    "    3^n \\left( \\dfrac{5}{9} c_3 - 1 \\right) & = & 0   \\\\\n",
    "    & \\Downarrow & \\\\\n",
    "    \\dfrac{5}{9} c_3 - 1 & = & 0   \\\\ \\\\\n",
    "    c_3 & = & \\dfrac{9}{5}\n",
    "\\end{array}\n",
    "\n",
    "Dado esto, nuestra solución particular esta dada por:\n",
    "\n",
    "$$p(n) = \\dfrac{9}{5} 3^n = \\dfrac{3^{n+2}}{5}$$"
   ]
  },
  {
   "cell_type": "markdown",
   "metadata": {},
   "source": [
    "##### Aplicación de Condiciones iniciales"
   ]
  },
  {
   "cell_type": "markdown",
   "metadata": {},
   "source": [
    "La solución de nuestra ecuación esta descrita de la forma:\n",
    "\n",
    "$$f(n) = h(n) + p(n) = c_1 (2)^n + c_2 (-2)^n + \\dfrac{3^{n+2}}{5}$$\n",
    "\n",
    "El siguiente proceso sera usar las condiciones $f(0)=1$ y $f(1)=2$ para determinar los valores de $c_1$ y $c_2$\n",
    "\n",
    "\\begin{array}{rcccl}\n",
    "    f(0) = 1 &=& c_1 (2)^0 + c_2 (-2)^0 + \\dfrac{3^{0+2}}{5} &=& c_1 + c_2 + \\dfrac{9}{5} &\\Longrightarrow& c_1 + c_2 = -\\dfrac{4}{5}\\\\  \\\\\n",
    "    f(1) = 2 &=& c_1 (2)^1 + c_2 (-2)^1 + \\dfrac{3^{1+2}}{5} &=& 2c_1 - 2 c_2 + \\dfrac{27}{5} &\\Longrightarrow&  2c_1 - 2c_2 = - \\dfrac{17}{5}\n",
    "\\end{array}\n",
    "\n",
    "Resolvemos el sistema de ecuaciones lineales $2 \\times 2$\n",
    "\n",
    "\\begin{array}{lcr}\n",
    "    \\left(\n",
    "    \\begin{array}{cc|c}\n",
    "        1 & 1 & -\\frac{4}{5}  \\\\ \\\\\n",
    "        2 & -2 & -\\frac{17}{5}  \\\\\n",
    "    \\end{array}\n",
    "    \\right) & \\Longrightarrow & \n",
    "    \\left(\n",
    "    \\begin{array}{cc|c}\n",
    "        1 & 1 & -\\frac{4}{5}  \\\\ \\\\\n",
    "        0 & -4 & -\\frac{9}{5}  \\\\\n",
    "    \\end{array}\n",
    "    \\right) \\\\ \\\\\n",
    "    \\left(\n",
    "    \\begin{array}{cc|c}\n",
    "        1 & 1 & -\\frac{4}{5}  \\\\ \\\\\n",
    "        0 & 1 & \\frac{9}{20}  \\\\\n",
    "    \\end{array}\n",
    "    \\right) & \\Longrightarrow & \n",
    "    \\left(\n",
    "    \\begin{array}{cc|c}\n",
    "        1 & 0 & -\\frac{5}{4}  \\\\ \\\\\n",
    "        0 & 1 & \\frac{9}{20}  \\\\\n",
    "    \\end{array}\n",
    "    \\right) \n",
    "\\end{array}\n",
    "\n",
    "En ese orden de ideas, la solución cerrada de la ecuación de recurrencia es:\n",
    "\n",
    "$$\\fbox{$f(n) = -\\dfrac{5}{4} (2)^n + \\dfrac{9}{20} (-2)^n + \\dfrac{3^{n+2}}{5}$}$$\n",
    "\n",
    "\n"
   ]
  },
  {
   "cell_type": "markdown",
   "metadata": {},
   "source": [
    "#### $f(n) = 4f(n-2) + 2^n \\quad \\quad f(0)=1 \\quad  f(1)=3$"
   ]
  },
  {
   "cell_type": "markdown",
   "metadata": {},
   "source": [
    "Podemos denotar que la ecuación descrita es una recurrencia lineal no homogenea. Dado esto, el proceso a seguir será hallar la solución homogenea y la solución particular de la ecuación, paara luego relacional las condiciones iniciales"
   ]
  },
  {
   "cell_type": "markdown",
   "metadata": {},
   "source": [
    "##### Solución Homogénea"
   ]
  },
  {
   "cell_type": "markdown",
   "metadata": {},
   "source": [
    "Vamos a solucionar la recurrencia homogénea:\n",
    "\n",
    "$$f(n) - 4f(n-2) = 0$$\n",
    "\n",
    "Para ello, vamos a asociar su polinomio característico y sus raíces:\n",
    "\n",
    "$$\\lambda^2 - 4 = 0 \\quad \\Longrightarrow \\quad \\lambda=2 \\,\\, \\wedge \\,\\, \\lambda = -2$$\n",
    "\n",
    "Dado esto, la solución homogénea de la recurrencia está dada por:\n",
    "\n",
    "$$ h(n) = c_1 (2)^n + c_2 (-2)^n$$\n"
   ]
  },
  {
   "cell_type": "markdown",
   "metadata": {},
   "source": [
    "##### Solución Particular"
   ]
  }
 ],
 "metadata": {
  "language_info": {
   "name": "python"
  }
 },
 "nbformat": 4,
 "nbformat_minor": 2
}
