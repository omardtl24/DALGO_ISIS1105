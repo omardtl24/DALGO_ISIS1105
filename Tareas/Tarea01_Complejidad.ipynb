{
 "cells": [
  {
   "cell_type": "markdown",
   "metadata": {},
   "source": [
    "# Desarrollo Tarea 1\n",
    "\n",
    "#### **Estudiante:** Omar David Toledo Leguizamón"
   ]
  },
  {
   "cell_type": "markdown",
   "metadata": {},
   "source": [
    "Realizar el análisis de complejidad para los siguientes algoritmos:"
   ]
  },
  {
   "cell_type": "markdown",
   "metadata": {},
   "source": [
    "## Ejercicio 1"
   ]
  },
  {
   "cell_type": "markdown",
   "metadata": {},
   "source": [
    "```java\n",
    "/**\n",
    " * Tells if a given number is prime\n",
    " * @param n Number to verify\n",
    " * @return boolean true if the number is prime, false otherwise\n",
    " */\n",
    "boolean isPrime(int n) {\n",
    "    boolean b = n>=2;\n",
    "    for(int i=2; i<n && b;i++){\n",
    "        b = b && n%i>0;\n",
    "    }\n",
    "    return b;\n",
    "}"
   ]
  },
  {
   "cell_type": "markdown",
   "metadata": {},
   "source": [
    "#### Peor Caso de Ejecución"
   ]
  },
  {
   "cell_type": "markdown",
   "metadata": {},
   "source": [
    "#### Tabla de Operaciones Básicas"
   ]
  },
  {
   "cell_type": "markdown",
   "metadata": {},
   "source": [
    "| Operaciones | Constante asociada |\n",
    "|----------|----------|\n",
    "| Asignación (=) | $c_1$ |\n",
    "| Mayor o igual (>=) | $c_2$ |\n",
    "| Menor que (<) | $c_3$ |\n",
    "| Suma (+) | $c_4$ |\n",
    "| And (&&) | $c_5$ |\n",
    "| Módulo (%) | $c_6$ |\n",
    "| Mayor que (>) | $c_7$ |\n",
    "\n"
   ]
  },
  {
   "cell_type": "markdown",
   "metadata": {},
   "source": [
    "#### Tiempo de Ejecución"
   ]
  },
  {
   "cell_type": "markdown",
   "metadata": {},
   "source": [
    "#### Orden de Complejidad"
   ]
  },
  {
   "cell_type": "markdown",
   "metadata": {},
   "source": [
    "## Ejercicio 2"
   ]
  },
  {
   "cell_type": "markdown",
   "metadata": {},
   "source": [
    "``` java\n",
    "/**\n",
    " * Calculates the quotient and the remainder of the division between two numbers\n",
    " * @param a Dividend\n",
    " * @param b Divisor. b>0\n",
    " * @return int [] array with two entries, the quotient and the remainder\n",
    " */\n",
    "int [] division (int a, int b) {\n",
    "    int q = 0;\n",
    "    int r = a;\n",
    "    while(r>=b) {\n",
    "        q = q+1;\n",
    "        r = r-b;\n",
    "    }\n",
    "    int [] answer = {q,r};\n",
    "    return answer;\n",
    "}"
   ]
  },
  {
   "cell_type": "markdown",
   "metadata": {},
   "source": [
    "#### Peor Caso de Ejecución"
   ]
  },
  {
   "cell_type": "markdown",
   "metadata": {},
   "source": [
    "El peor caso en tiempo de ejecución ocurre cuando el dividendo $a$ es mucho mas grande que el divisor $b$. En este caso, el ciclo tendrá que realizar muchas más iteraciones para hallar los dos valores deseados"
   ]
  },
  {
   "cell_type": "markdown",
   "metadata": {},
   "source": [
    "#### Tabla de Operaciones Básicas"
   ]
  },
  {
   "cell_type": "markdown",
   "metadata": {},
   "source": [
    "| Operaciones | Constante asociada |\n",
    "|----------|----------|\n",
    "| Asignación (=) | $c_1$ |\n",
    "| Mayor o igual (>=) | $c_2$ |\n",
    "| Resta (-) | $c_3$ |\n",
    "| Suma (+) | $c_4$ |\n",
    "| Reserva de memoria ({}) | $c_5$ |"
   ]
  },
  {
   "cell_type": "markdown",
   "metadata": {},
   "source": [
    "#### Tiempo de Ejecución"
   ]
  },
  {
   "cell_type": "markdown",
   "metadata": {},
   "source": [
    "```java\n",
    "int q = 0;\n",
    "int r = a;\n",
    "```\n",
    "Constantes asociadas: $c_1$\n",
    "```java\n",
    "while(r>=b) {\n",
    "    q = q+1;\n",
    "    r = r-b;\n",
    "}\n",
    "```\n",
    "Tiene asociado: \n",
    "\\begin{array}{}\n",
    "    \\underbrace{\\left( \\left \\lfloor \\frac{a}{b} \\right \\rfloor + 1 \\right)c_2} & + & \\underbrace{\\left( \\left \\lfloor \\frac{a}{b} \\right \\rfloor \\right)(2c_1 + c_3 + c_4)}\\\\\n",
    "    \\text{Verificación condición} & & \\text{Cuerpo del ciclo}\n",
    "\\end{array}\n",
    "\n",
    "```java\n",
    "int [] answer = {q,r};\n",
    "```\n",
    "Constantes asociadas: $c_1 + c_5$\n",
    "\n",
    "En ese orden de ideas, el tiempo de ejecución esta dado por la siguiente expresión (Donde $a$ representa el dividendo y $b$ representa el divisor):\n",
    "\n",
    "\\begin{array}{rcl}\n",
    "    T(a,b) &=& c_1 + \\left( \\left \\lfloor \\frac{a}{b} \\right \\rfloor + 1 \\right)c_2 + \\left( \\left \\lfloor \\frac{a}{b} \\right \\rfloor \\right)(2c_1 + c_3 + c_4) +c_1 + c_5 \\\\ \\\\\n",
    "         &=& \\left( \\left \\lfloor \\frac{a}{b} \\right \\rfloor \\right) (2c_1 + c_2 + c_3 + c_4) + (2c_1 + c_5)\n",
    "\\end{array}\n",
    "\n"
   ]
  },
  {
   "cell_type": "markdown",
   "metadata": {},
   "source": [
    "#### Orden de Complejidad"
   ]
  },
  {
   "cell_type": "markdown",
   "metadata": {},
   "source": [
    "Dada la ecuación que describe el tiempo de ejecución, podemos concluir que $T(a,b)$ es de orden $O(\\left \\lfloor \\frac{a}{b} \\right \\rfloor)$ donde $a$ representa el dividendo y $b$ representa el divisor que son tenidos en cuenta por el algoritmo."
   ]
  },
  {
   "cell_type": "markdown",
   "metadata": {},
   "source": [
    "## Ejercicio 3"
   ]
  },
  {
   "cell_type": "markdown",
   "metadata": {},
   "source": [
    "```java\n",
    "/**\n",
    " * Calculates the sum of the main diagonal of the matrix a\n",
    " * @param a Matrix of numbers. It must be squared\n",
    " * @return int sum of the elements in the main diagonal\n",
    " */\n",
    "int sumMainDiagonal(int [][] a) {\n",
    "    int s = 0;\n",
    "    for(int i=0;i<a.length;i++) {\n",
    "        for(int j=0;j<a.length;j++) {\n",
    "            if (i==j) {\n",
    "                s = s+a[i][j];\n",
    "            }\n",
    "        }\n",
    "    }\n",
    "    return s;\n",
    "}\n"
   ]
  },
  {
   "cell_type": "markdown",
   "metadata": {},
   "source": [
    "#### Peor Caso de Ejecución"
   ]
  },
  {
   "cell_type": "markdown",
   "metadata": {},
   "source": [
    "#### Tabla de Operaciones Básicas"
   ]
  },
  {
   "cell_type": "markdown",
   "metadata": {},
   "source": [
    "| Operaciones | Constante asociada |\n",
    "|----------|----------|\n",
    "| Asignación (=) | $c_1$ |\n",
    "| Menor que (<) | $c_2$ |\n",
    "| length (método) | $c_3$ |\n",
    "| Suma (+) | $c_4$ |\n",
    "| Igual a (==) | $c_5$ |\n",
    "| Indexación ([ ]) | $c_6$ |"
   ]
  },
  {
   "cell_type": "markdown",
   "metadata": {},
   "source": [
    "#### Tiempo de Ejecución"
   ]
  },
  {
   "cell_type": "markdown",
   "metadata": {},
   "source": [
    "```java\n",
    "int s = 0;\n",
    "```\n",
    "Constantes asociadas: $c_1$\n",
    "```java\n",
    "for(int i=0;i<a.length;i++) {\n",
    "        for(int j=0;j<a.length;j++) {\n",
    "            if (i==j) {\n",
    "                s = s+a[i][j];\n",
    "            }\n",
    "        }\n",
    "    }\n",
    "```\n",
    "Tiene asociado: \n",
    "\\begin{array}{}\n",
    "    \\underbrace{c_1} & + & \\underbrace{(n+1)(c_3 + c_2)} & + & \\underbrace{n(c_4 + c_1)} &+& \\underbrace{n(c_1)} &+&\\\\\n",
    "    \\text{Inicialización del ciclo 1} & & \\text{Verificación condición 1} & & \\text{Actualización de i} & & \\text{Inicialización del ciclo 2} & & \\\\ \\\\\n",
    "     \\underbrace{(n^2 + n)(c_3 + c_2)} & + & \\underbrace{n^2(c_4 + c_1)} & + & \\underbrace{n^2(c_5) + n(c_4 + c_1 + 2c_6)} \\\\\n",
    "    \\text{Verificación condición 1} & & \\text{Actualización de j} & & \\text{Cuerpo de ciclo 2}\n",
    "\\end{array}\n",
    "\n",
    "En ese orden de ideas, el tiempo de ejecución esta dado por la siguiente expresión (Donde $n$ representa el número de filas y columnas de la matriz de entrada (Al ser cuadrado podemos resumirlo a una única entrada)):\n",
    "\n",
    "\\begin{array}{rcl}\n",
    "    T(n) &=&  c_1 + c_1 + (n+1)(c_3 + c_2) + n(c_4 + c_1) + n(c_1) + (n^2+n)(c_3+c_2) + n^2(c_4 + c_1) + n^2(c_5) + n(c_4+c_1+2c_6)\\\\\n",
    "         &=& n^2 (c_1 + c_2 + c_3 + c_4 + c_5) + n(2c_1 + 2c_2 + 2c_3 + 2c_4 + 2c_6) + (2c_1 + c_2 + c_3)\n",
    "\\end{array}\n"
   ]
  },
  {
   "cell_type": "markdown",
   "metadata": {},
   "source": [
    "#### Orden de Complejidad"
   ]
  },
  {
   "cell_type": "markdown",
   "metadata": {},
   "source": [
    "Dada la ecuación que describe el tiempo de ejecución, podemos concluir que $T(n)$ es de orden $O(n^2)$ donde $n$ representa el número de filas y columnas de la matriz de entrada que es tenida en cuenta por el algoritmo."
   ]
  },
  {
   "cell_type": "markdown",
   "metadata": {},
   "source": [
    "## Ejercicio 4"
   ]
  },
  {
   "cell_type": "markdown",
   "metadata": {},
   "source": [
    "```java\n",
    "/**\n",
    " * Calculates the sum of the main diagonal of the matrix a\n",
    " * @param a Matrix of numbers. It must be squared\n",
    " * @return int sum of the elements in the main diagonal\n",
    " */\n",
    "int sumMainDiagonal2(int [][] a) {\n",
    "    int s = 0;\n",
    "    for(int i=0;i<a.length;i++) {\n",
    "        s = s+a[i][i];\n",
    "    }\n",
    "    return s;\n",
    "}\n"
   ]
  },
  {
   "cell_type": "markdown",
   "metadata": {},
   "source": [
    "#### Peor Caso de Ejecución"
   ]
  },
  {
   "cell_type": "markdown",
   "metadata": {},
   "source": [
    "Para este algoritmo, el peor caso en términos de tiempo de ejecución ocurre cuando "
   ]
  },
  {
   "cell_type": "markdown",
   "metadata": {},
   "source": [
    "#### Tabla de Operaciones Básicas"
   ]
  },
  {
   "cell_type": "markdown",
   "metadata": {},
   "source": [
    "| Operaciones | Constante asociada |\n",
    "|----------|----------|\n",
    "| Asignación (=) | $c_1$ |\n",
    "| Menor que (<) | $c_2$ |\n",
    "| length (método) | $c_3$ |\n",
    "| Suma (+) | $c_4$ |\n",
    "| Indexación ([ ]) | $c_5$ |"
   ]
  },
  {
   "cell_type": "markdown",
   "metadata": {},
   "source": [
    "#### Tiempo de Ejecución"
   ]
  },
  {
   "cell_type": "markdown",
   "metadata": {},
   "source": [
    "```java\n",
    "int s = 0;\n",
    "```\n",
    "Constantes asociadas: $c_1$\n",
    "```java\n",
    "for(int i=0;i<a.length;i++) {\n",
    "        s = s+a[i][i];\n",
    "    }\n",
    "```\n",
    "Tiene asociado: \n",
    "\\begin{array}{}\n",
    "    \\underbrace{c_1} & + & \\underbrace{(n+1)(c_3 + c_2)} & + & \\underbrace{n(c_4 + c_1)} &+& \\underbrace{n(2c_5+c_4+c_1)}\\\\\n",
    "    \\text{Inicialización del ciclo} & & \\text{Verificación condición} & & \\text{Actualización de i} & & \\text{Cuerpo del ciclo}\n",
    "\\end{array}\n",
    "\n",
    "En ese orden de ideas, el tiempo de ejecución esta dado por la siguiente expresión (Donde $n$ representa el número de filas y columnas de la matriz de entrada (Al ser cuadrado podemos resumirlo a una única entrada)):\n",
    "\n",
    "\\begin{array}{rcl}\n",
    "    T(n) &=&  c_1 + c_1 + (n+1)(c_3 + c_2) + n(c_4 + c_1) + n(2c_5+c_4+c_1)\\\\\n",
    "         &=& n(2c_1 +c_2 + c_3 + 2c_4 + 2c_5) + (2c_1 + c_2 + c_3)\n",
    "\\end{array}\n",
    "\n"
   ]
  },
  {
   "cell_type": "markdown",
   "metadata": {},
   "source": [
    "#### Orden de Complejidad"
   ]
  },
  {
   "cell_type": "markdown",
   "metadata": {},
   "source": [
    "Dada la ecuación que describe el tiempo de ejecución, podemos concluir que $T(n)$ es de orden $O(n)$ donde $n$ representa el número de filas y columnas de la matriz de entrada que es tenida en cuenta por el algoritmo."
   ]
  },
  {
   "cell_type": "markdown",
   "metadata": {},
   "source": [
    "## Ejercicio 5"
   ]
  },
  {
   "cell_type": "markdown",
   "metadata": {},
   "source": [
    "```java\n",
    "/**\n",
    " * Calculates the sum of the even elements in the matrix a\n",
    " * @param a matrix of m rows and n columns to calculate the sum.\n",
    " * @return int sum of the even elements in the matrix\n",
    " */\n",
    "int sumEven(int [][] a) {\n",
    "    int s = 0;\n",
    "    int i=0\n",
    "    int j=0;\n",
    "    while(i<a.length) {\n",
    "        if(a[i][j]%2==0) {\n",
    "            s = s+a[i][j];\n",
    "        }\n",
    "        if(j<a[i].length-1) j++;\n",
    "        else {\n",
    "            i++;\n",
    "            j=0;\n",
    "        }\n",
    "    }\n",
    "    return s;\n",
    "}"
   ]
  },
  {
   "cell_type": "markdown",
   "metadata": {},
   "source": [
    "#### Peor Caso de Ejecución\n"
   ]
  },
  {
   "cell_type": "markdown",
   "metadata": {},
   "source": [
    "Para este algoritmo, el peor caso en términos de tiempo de ejecución ocurre cuando todos los elementos de la matriz son pares. Esto se debe a que en ese caso, la operación de suma se ejecutará la mayor cantidad de veces posibles que en otros casos de matrices con las mismas dimensiones."
   ]
  },
  {
   "cell_type": "markdown",
   "metadata": {},
   "source": [
    "#### Tabla de Operaciones Básicas"
   ]
  },
  {
   "cell_type": "markdown",
   "metadata": {},
   "source": [
    "| Operaciones | Constante asociada |\n",
    "|----------|----------|\n",
    "| Asignación (=) | $c_1$ |\n",
    "| Menor que (<) | $c_2$ |\n",
    "| length (método) | $c_3$ |\n",
    "| Suma (+) | $c_4$ |\n",
    "| Indexación ([ ]) | $c_5$ |\n",
    "| Modulo (%) | $c_6$ |\n",
    "| Igual que (==) | $c_7$ |\n",
    "| Resta (-) | $c_8$ |"
   ]
  },
  {
   "cell_type": "markdown",
   "metadata": {},
   "source": [
    "#### Tiempo de Ejecución"
   ]
  },
  {
   "cell_type": "markdown",
   "metadata": {},
   "source": [
    "```java\n",
    "int s = 0;\n",
    "int i = 0;\n",
    "int j = 0;\n",
    "```\n",
    "Constantes asociadas: $3c_1$\n",
    "```java\n",
    "while(i<a.length) {\n",
    "        if(a[i][j]%2==0) {\n",
    "            s = s+a[i][j];\n",
    "        }\n",
    "        if(j<a[i].length-1) j++;\n",
    "        else {\n",
    "            i++;\n",
    "            j=0;\n",
    "        }\n",
    "    }\n",
    "```\n",
    "\n",
    "Tiene asociado: \n",
    "\\begin{array}{}\n",
    "    \\underbrace{(m\\cdot n + 1)(c_2+c_3)} & + & \\underbrace{(m\\cdot n)(4c_5 + c_4 + c_1 + c_7)} & + & \\underbrace{(m \\cdot n)(c_5 + c_3 + c_8)} &+& \\underbrace{(m \\cdot n - n)(c_4 + c_1)} &+& \\underbrace{n(c_4 + 2c_1)}\\\\\n",
    "    \\text{Condición del ciclo} & & \\text{Verificación pariedad} & & \\text{Verificación j} & & \\text{Actualización j} & & \\text{Actualización i y j}\n",
    "\\end{array}\n",
    "\n",
    "En ese orden de ideas, el tiempo de ejecución esta dado por la siguiente expresión (Donde $n$ representa el número de filas y $m$ representa el número de columnas de la matrix de entrada):\n",
    "\n",
    "\\begin{array}{rcl}\n",
    "    T(n,m) &=& 3c_1 + (m\\cdot n + 1)(c_2+c_3) + (m\\cdot n)(4c_5 + c_4 + c_1 + c_6 + c_7) + (m \\cdot n)(c_5 + c_3 + c_8) + (m \\cdot n - n)(c_4 + c_1) + n(c_4 + 2c_1) \\\\\n",
    "         &=& (m \\cdot n)(2c_1 + c_2 + 2c_3 + 2c_4 + 5c_5+ c_6 +c_7 + c_8) + n(c_1) + (3c_1+c_2+c_3)\n",
    "\\end{array}\n",
    "\n"
   ]
  },
  {
   "cell_type": "markdown",
   "metadata": {},
   "source": [
    "#### Orden de Complejidad"
   ]
  },
  {
   "cell_type": "markdown",
   "metadata": {},
   "source": [
    "Dada la ecuación que describe el tiempo de ejecución, podemos concluir que $T(n,m)$ es de orden $O(m \\cdot n)$ donde $n$ representa el número de filas y $m$ representa el número de columnas de la matriz de entrada que tenida en cuenta por el algoritmo."
   ]
  },
  {
   "cell_type": "markdown",
   "metadata": {},
   "source": [
    "## Ejercicio 6"
   ]
  },
  {
   "cell_type": "markdown",
   "metadata": {},
   "source": [
    "```java\n",
    "/**\n",
    " * Determines the position where a number appears in an integer array\n",
    " * @param a Array of numbers to search\n",
    " * @param e Number to find in a\n",
    " * @param f Last position of a to consider\n",
    " * @return int position i such that 0<=i<=f and a[i]=e or -1 if e is not present\n",
    " * between the positions 0 and f of the array a\n",
    " */\n",
    "int search (int [] a, int e, int f) {\n",
    "    if(a[f]==e) return f;\n",
    "    if(f==0) return -1;\n",
    "    return search(a,e,f-1);\n",
    "}\n"
   ]
  },
  {
   "cell_type": "markdown",
   "metadata": {},
   "source": [
    "#### Peor Caso de Ejecución"
   ]
  },
  {
   "cell_type": "markdown",
   "metadata": {},
   "source": [
    "Para este algoritmo de búsqueda, el peor caso de ejecución está dado cuando el elemento $e$ no se encuentra en el arreglo $a$, esto se debe a que en este caso, el algoritmo tendrá que pasar indirectamente por todos los elementos del espacio de búsqueda para poder concluir que este no se encuentra en el arreglo."
   ]
  },
  {
   "cell_type": "markdown",
   "metadata": {},
   "source": [
    "#### Tabla de Operaciones Básicas"
   ]
  },
  {
   "cell_type": "markdown",
   "metadata": {},
   "source": [
    "| Operaciones | Constante asociada |\n",
    "|----------|----------|\n",
    "| Indexación ([ ]) | $c_1$ |\n",
    "| Igual que (==) | $c_2$ |\n",
    "| Resta (-) | $c_3$ |"
   ]
  },
  {
   "cell_type": "markdown",
   "metadata": {},
   "source": [
    "#### Tiempo de Ejecución"
   ]
  },
  {
   "cell_type": "markdown",
   "metadata": {},
   "source": [
    "```java\n",
    "if(a[f]==e) return f;\n",
    "```\n",
    "Constantes asociadas: $c_2 + c_1$\n",
    "```java\n",
    "if(f==0) return -1;\n",
    "```\n",
    "Constantes asociadas: $c_2$\n",
    "```java\n",
    "return search(a,e,f-1);\n",
    "```\n",
    "Tiene asociado: $c_3 + T(n-1)$\n",
    "\n",
    "En ese orden de ideas, el tiempo de ejecución está dado por la ecuación (donde $n$ es el espacio de búsqueda aún no explorado dado por $f+1$):\n",
    "\n",
    "$$T(n) = c_1 + 2c_2 + c_3 + T(n-1)$$\n",
    "\n",
    "y de condición inicial se tendría:\n",
    "\n",
    "$$T(1) = c_2$$\n",
    "\n",
    "\n"
   ]
  },
  {
   "cell_type": "markdown",
   "metadata": {},
   "source": [
    "#### Solución de la Recurrencia"
   ]
  },
  {
   "cell_type": "markdown",
   "metadata": {},
   "source": [
    "$$T(n) = c_1 + 2c_2 + c_3 + T(n-1) \\quad \\quad T(1)=c_2$$\n",
    "\n",
    "Dado que la expresión es una recurrencia lineal no homogenea, podemos aprovechar la busqueda de una solucion no homogénea y una particular para determinar la función que describe el tiempo de ejecución.\n",
    "\n",
    "##### Homogénea\n",
    "\n",
    "Dada la ecuación homogenea de primer grado:\n",
    "\n",
    "$$h(n) - h(n-1) = 0$$\n",
    "\n",
    "Plantearemos su solución homogenea en base a las raíces del polinomio característico:\n",
    "\n",
    "$$\\lambda - 1 = 0 \\quad \\Longrightarrow \\quad \\lambda = 1$$\n",
    "\n",
    "Por consiguiente, la solución homogénea está dada por:\n",
    "\n",
    "$$h(n) = k_1 (1)^n = k_1$$\n",
    "\n",
    "##### No Homogénea\n",
    "\n",
    "Dada la solución particular que satisface:\n",
    "\n",
    "$$p(n) - p(n-1) = c_1 + 2c_2 + c_3$$\n",
    "\n",
    "Dado que el lado derecho son constantes y que la solución de la homogénea es una constante, eso significa que la solución particular debe ser lineal, es decir que debe tener de forma $p(n)=An+B$\n",
    "\n",
    "\\begin{array}{rcl}\n",
    "    An+B - (A(n-1)+B) &=& c_1 + 2c_2 + c_3 \\\\\n",
    "    An+B - An + A - B &=& c_1 + 2c_2 + c_3 \\\\\n",
    "    A &=& c_1 + 2c_2 + c_3\\\\\n",
    "\\end{array}\n",
    "\n",
    "$$A = c_1 + 2c_2 + c_3 \\quad \\quad \\wedge \\quad \\quad B = 0$$\n",
    "\n",
    "A partir de esto, podemos determinar la solución de la recurrencia lineal no homogenea:\n",
    "\n",
    "$$T(n) = p(n) + h(n) = (c_1 + 2c_2 + c_3)n + k_1$$\n",
    "\n",
    "Finalmente, aprovecharemos la condición inicial para determinar el valor de $k_1$:\n",
    "\n",
    "$$T(1) = c_2 = (c_1 + 2c_2 + c_3)(1) + k_1$$\n",
    "\n",
    "$$c_2 = c_1 + 2c_2 + c_3 + k_1$$\n",
    "\n",
    "$$k_1 = -c_1 - c_2 - c_3$$\n",
    "\n",
    "Dandonos finalmente la siguiente función que describe el tiempo de ejecución del algoritmo de búsqueda: \n",
    "\n",
    "$$T(n) = (c_1 + 2c_2 + c_3)n -c_1 - c_2 - c_3$$"
   ]
  },
  {
   "cell_type": "markdown",
   "metadata": {},
   "source": [
    "#### Orden de Complejidad"
   ]
  },
  {
   "cell_type": "markdown",
   "metadata": {},
   "source": [
    "Dada la ecuación que describe el tiempo de ejecución, podemos concluir que $T(n)$ es de orden $O(n)$ donde $n$ representa el espacio de búsqueda que es tenido en cuenta por el algoritmo."
   ]
  },
  {
   "cell_type": "markdown",
   "metadata": {},
   "source": [
    "## Ejercicio 7"
   ]
  },
  {
   "cell_type": "markdown",
   "metadata": {},
   "source": [
    "```java\n",
    "/**\n",
    " * Determines the position where a number appears in an integer array\n",
    " * @param a Array of numbers to search\n",
    " * @param e Number to find in a\n",
    " * @param s First position of a to consider\n",
    " * @param f Last position of a to consider. f>=s\n",
    " * @return int position i such that s<=i<=f and a[i]=e or -1 if e is not present\n",
    " * between the positions s and f of the array a\n",
    " */\n",
    "int search (int [] a, int e, int s, int f) {\n",
    "    int m = (s+f)/2;\n",
    "    if(a[m]==e) return m;\n",
    "    if(s==f) return -1;\n",
    "    int i = search(a,e,s,m);\n",
    "    if(i==-1) i= search(a, e, m+1,f);\n",
    "    return i;\n",
    "}\n"
   ]
  },
  {
   "cell_type": "markdown",
   "metadata": {},
   "source": [
    "#### Peor Caso de Ejecución"
   ]
  },
  {
   "cell_type": "markdown",
   "metadata": {},
   "source": [
    "Para este algoritmo de búsqueda, el peor caso de ejecución está dado cuando el elemento $e$ no se encuentra en el arreglo $a$, esto se debe a que en este caso, el algoritmo tendrá que pasar indirectamente por todos los elementos del espacio de búsqueda para poder concluir que este no se encuentra en el arreglo."
   ]
  },
  {
   "cell_type": "markdown",
   "metadata": {},
   "source": [
    "#### Tabla de Operaciones Básicas"
   ]
  },
  {
   "cell_type": "markdown",
   "metadata": {},
   "source": [
    "| Operaciones | Constante asociada |\n",
    "|----------|----------|\n",
    "| Asignación (=) | $c_1$ |\n",
    "| División (/) | $c_2$ |\n",
    "| Suma (+) | $c_3$ |\n",
    "| Indexación ([ ]) | $c_4$ |\n",
    "| Igual que (==) | $c_5$ |"
   ]
  },
  {
   "cell_type": "markdown",
   "metadata": {},
   "source": [
    "#### Tiempo de Ejecución"
   ]
  },
  {
   "cell_type": "markdown",
   "metadata": {},
   "source": [
    "```java\n",
    "int m = (s+f)/2;\n",
    "```\n",
    "Tiene constantes: $c_1 + c_2 + c_3$\n",
    "```java\n",
    "if(a[m]==e) return m;\n",
    "```\n",
    "Tiene constantes: $c_4+ c_5$\n",
    "```java\n",
    "if(s==f) return -1;\n",
    "```\n",
    "Tiene constantes: $c_5$\n",
    "```java\n",
    "int i = search(a,e,s,m);\n",
    "```\n",
    "Tiene asociado: $c_1 + T(\\frac{n}{2})$\n",
    "```java\n",
    "if(i==-1) i = search(a, e, m+1,f);\n",
    "```\n",
    "Tiene asociado: $c_1 + c_5 +  T(\\frac{n}{2})$\n",
    "\n",
    "En ese orden de ideas, la ecuación del tiempo de ejecución esta dada por:\n",
    "\n",
    "$$T(n) = 3c_1 + c_2 + c_3 + c_4 + 3c_5 + 2 T(\\frac{n}{2})$$\n",
    "\n",
    "donde $n$ representa el tamaño del espacio de búsqueda del algoritmo (Descrito por $f-s+1$):\n",
    "\n",
    "$$T(1) = c_5$$"
   ]
  },
  {
   "cell_type": "markdown",
   "metadata": {},
   "source": [
    "#### Solución de la Recurrencia"
   ]
  },
  {
   "cell_type": "markdown",
   "metadata": {},
   "source": [
    "$$T(n) = 3c_1 + c_2 + c_3 + c_4 + 3c_5 + 2 T\\left(\\frac{n}{2}\\right) \\quad \\quad , \\quad \\quad T(1) = c_5$$\n",
    "\n",
    "Dado que tenemos una recurrencia no lineal, plantearemos un cambio de dominio y la solucionaremos como una recurrencia lineal no homogénea\n",
    "\n",
    "##### Cambio de dominio\n",
    "\n",
    "Dado que cada subproblema tiene la mitad del tamaño anterior, vamos a suponer que la entrada $n$ es una potencia de $2$, es decir que $n = 2^m = g(m)$. Dado esto, definimos la siguiente recurrencia donde $\\gamma = T \\circ g$:\n",
    "\n",
    "\\begin{array}{cccc}\n",
    "    T(n) &=& T(g(m)) &=& 3c_1 + c_2 + c_3 + c_4 + 3c_5 + 2 T(\\frac{2^m}{2}) \\\\\n",
    "    & & \\gamma(m) &=& 3c_1 + c_2 + c_3 + c_4 + 3c_5 + 2 \\gamma(m-1) \\\\\n",
    "\\end{array}\n",
    "\n",
    "Dada la recurrencia lineal no homogenea descrita por $\\gamma$, procederemos a hallar la solución homogenea y no homogenea para describir la solución general.\n",
    "\n",
    "##### Homogénea\n",
    "\n",
    "Solucionaremos primero la versión homogénea de la ecuación descrita por:\n",
    "\n",
    "$$h(m) - 2h(m-1) = 0$$\n",
    "\n",
    "Utilizamos el polinomio característico y hallamos sus raíces:\n",
    "\n",
    "$$\\lambda - 2 = 0 \\quad \\Longrightarrow \\quad \\lambda = 2$$\n",
    "\n",
    "A partir de este, sabemos que la solución homogénea está descrita por:\n",
    "\n",
    "$$h(m) = k_1 2^m$$\n",
    "\n",
    "##### No Homogénea\n",
    "\n",
    "Solucionames la parte no homogénea de la ecuación:\n",
    "\n",
    "$$p(m) - 2p(m-1) = 3c_1 + c_2 + c_3 + c_4 + 3c_5$$\n",
    "\n",
    "Dado esto, podemos suponer la forma de solución particular $p(m)$, siendo esta $p(m) = k_2$. Procedemos a reemplazarlo en la ecuación:\n",
    "\n",
    "\n",
    "$$ k_2 -  2 k_2 = 3c_1 + c_2 + c_3 + c_4 + 3c_5$$\n",
    "$$ -k_2 = 3c_1 + c_2 + c_3 + c_4 + 3c_5$$\n",
    "$$ k_2 = -3c_1 - c_2 - c_3 - c_4 - 3c_5$$\n",
    "\n",
    "Con esto, podemos concluir que la función $\\gamma$ esta dada por:\n",
    "\n",
    "$$\\gamma(m) = h(m)+p(m) = k_1 2^m -3c_1 - c_2 - c_3 - c_4 - 3c_5$$\n",
    "\n",
    "Dado que nos interesa el valor para $T(n)$, vamos a aplicar el inverso del cambio de dominio, es decir $m = \\log_{2}n$. En ese sentido, el tiempo de ejecución está descrito por:\n",
    "\n",
    "$$T(n) = k_1 2^{\\log_{2}n}  -3c_1 - c_2 - c_3 - c_4 - 3c_5 = k_1 n  -3c_1 - c_2 - c_3 - c_4 - 3c_5$$\n",
    "\n",
    "Dado esto, utilizaremos el valor inicial para obtener el valor de la constante $k_1$:\n",
    "\n",
    "$$T(1) = c_5 = k_1 (1)  -3c_1 - c_2 - c_3 - c_4 - 3c_5$$\n",
    "\n",
    "\\begin{array}{rcl}\n",
    "    c_5 &=& k_1  -3c_1 - c_2 - c_3 - c_4 - 3c_5 \\\\\n",
    "    k_1  &=&  3c_1 + c_2 + c_3 + c_4 + 4c_5\n",
    "\\end{array}\n",
    "\n",
    "Finalmente, la función que describe la complejidad de este algoritmo es:\n",
    "\n",
    "$$T(n)  = (3c_1 + c_2 + c_3 + c_4 + 4c_5) n  -3c_1 - c_2 - c_3 - c_4 - 3c_5$$"
   ]
  },
  {
   "cell_type": "markdown",
   "metadata": {},
   "source": [
    "#### Orden de Complejidad"
   ]
  },
  {
   "cell_type": "markdown",
   "metadata": {},
   "source": [
    "Dada la ecuación que describe el tiempo de ejecución, podemos concluir que $T(n)$ es de orden $O(n)$ donde $n$ representa el espacio de búsqueda que es tenido en cuenta por el algoritmo."
   ]
  },
  {
   "cell_type": "markdown",
   "metadata": {},
   "source": [
    "## Ejercicio 8"
   ]
  },
  {
   "cell_type": "markdown",
   "metadata": {},
   "source": [
    "```java\n",
    "/**\n",
    " * Raises the number x to the power y\n",
    " * @param x Number to raise\n",
    " * @param y exponent. It must be greater or equal to zero\n",
    " * @return int result of x raised to y\n",
    " */\n",
    "int power(int x, int y) {\n",
    "    if(y==0) return 1;\n",
    "    if(y==1) return x;\n",
    "    return x*power(x,y-2)*x;\n",
    "}"
   ]
  },
  {
   "cell_type": "markdown",
   "metadata": {},
   "source": [
    "#### Peor Caso de Ejecución"
   ]
  },
  {
   "cell_type": "markdown",
   "metadata": {},
   "source": [
    "#### Tabla de Operaciones Básicas"
   ]
  },
  {
   "cell_type": "markdown",
   "metadata": {},
   "source": [
    "| Operaciones | Constante asociada |\n",
    "|----------|----------|\n",
    "| Multiplicación (*) | $c_1$ |\n",
    "| Resta (-) | $c_2$ |\n",
    "| Igual que (==) | $c_3$ |"
   ]
  },
  {
   "cell_type": "markdown",
   "metadata": {},
   "source": [
    "#### Tiempo de Ejecución"
   ]
  },
  {
   "cell_type": "markdown",
   "metadata": {},
   "source": [
    "\n",
    "```java \n",
    "if(y==0) return 1;\n",
    "```    \n",
    "Tiene constantes: $c_3$\n",
    "\n",
    "```java \n",
    "if(y==1) return x;\n",
    "```\n",
    "Tiene constantes: $c_3$\n",
    "```java\n",
    "return x*power(x,y-2)*x;\n",
    "```\n",
    "Tiene asociado: $c_2 + 2c_1 + T(n-2)$\n",
    "\n",
    "En ese orden de ideas, la ecuación del tiempo de ejecución esta dada por:\n",
    "\n",
    "$$T(n) = 2c_1 + c_2 + 2c_3 + T(n-2)$$\n",
    "\n",
    "donde $n$ representa el valor el entero usado como exponente y se tiene de condiciones iniciales:\n",
    "\n",
    "$$T(0) = T(1) = c_3$$"
   ]
  },
  {
   "cell_type": "markdown",
   "metadata": {},
   "source": [
    "#### Solución de la Recurrencia"
   ]
  },
  {
   "cell_type": "markdown",
   "metadata": {},
   "source": [
    "$$T(n) = 2c_1 + c_2 + 2c_3 + T(n-2) \\quad \\quad \\quad T(0) = T(1) = c_3$$\n",
    "\n",
    "Dado que es una recurrencia lineal no homogénea, procedemos a organizarla para dejar las recurrencias a un lado y el resto de términos al otro:\n",
    "\n",
    "$$T(n) - T(n-2) = 2c_1 + c_2 + 2c_3$$\n",
    "\n",
    "##### Homogénea\n",
    "\n",
    "Solucionamos primero la versión homogénea de la ecuación.\n",
    "\n",
    "$$h(n) - h(n-2) = 0$$\n",
    "\n",
    "Procedemos a generar el polinomio característico y sus raíces:\n",
    "\n",
    "$$\\lambda^2 - 1 = 0 \\quad \\Longrightarrow \\quad \\lambda = 1 \\,\\, \\wedge \\,\\, \\lambda = -1$$\n",
    "\n",
    "A partir de eso, sabemos que la solución de la ecuación homogénea es:\n",
    "\n",
    "$$h(n) = k_1(1)^n + k_2(-1)^n = k_1 + k_2 (-1)^n$$\n",
    "\n",
    "##### No Homogénea\n",
    "\n",
    "Solucionamos la parte no homogénea de la ecuación.\n",
    "\n",
    "$$p(n) - p(n-2) = 2c_1 + c_2 + 2c_3$$\n",
    "\n",
    "Dado que ya hay un termino constante para la parte homogenea de la ecuación, debemos suponer que la solución particular es de la forma $p(n) = An + B$\n",
    "\n",
    "\\begin{array}{rcl}\n",
    "    An + B - (A(n-2) + B) & = & 2c_1 + c_2 + 2c_3 \\\\\n",
    "    An + B - An + 2A - B & = & 2c_1 + c_2 + 2c_3 \\\\\n",
    "    2A& = & 2c_1 + c_2 + 2c_3 \\\\\n",
    "\\end{array}\n",
    "\n",
    "$$A = \\dfrac{2c_1 + c_2 + 2c_3}{2} \\quad \\quad \\wedge \\quad \\quad B = 0$$\n",
    "\n",
    "La solución general de la ecuación esta dada por:\n",
    "\n",
    "$$T(n) = h(n)+p(n) = k_1 + k_2 (-1)^n + \\dfrac{2c_1 + c_2 + 2c_3}{2}n$$\n",
    "\n",
    "Finalmente, usamos las condiciones iniciales para hallar la solución para nuestro problema del tiempo de ejecución:\n",
    "\n",
    "$$T(0) = c_3 = k_1 + k_2$$\n",
    "$$T(1) = c_3 = k_1 - k_2 + \\dfrac{2c_1 + c_2 + 2c_3}{2}$$\n",
    "\n",
    "Solucionamos el sistema de ecuaciones $2 \\times 2$\n",
    "\n",
    "\\begin{array}{rcl}\n",
    "    E_1: c_3 &=& k_1 + k_2 \\\\\n",
    "    E_2: c_3 &=& k_1 - k_2 + \\dfrac{2c_1 + c_2 + 2c_3}{2} \\\\ \\\\\n",
    "    & \\downarrow  & E_2 + E_1\\\\ \\\\\n",
    "    2 c_3 &=& 2 k_1 + \\dfrac{2c_1 + c_2 + 2c_3}{2} \\\\ \\\\\n",
    "    k_1 & = & \\dfrac{-2c_1 - c_2 + 2c_3}{4} \\\\ \\\\\n",
    "    & \\downarrow  & \\text{Sustituimos }k_1 \\text{ en }E_1\\\\ \\\\\n",
    "    c_3 &=& \\dfrac{-2c_1 - c_2 + 2c_3}{4} + k_2 \\\\ \\\\\n",
    "    k_2 &=& \\dfrac{2c_1 + c_2 + 2c_3}{4}\n",
    "\\end{array}\n",
    "\n",
    "Dado esto, podemos concluir que el tiempo de ejecución esta descrito por la siguiente ecuación:\n",
    "\n",
    "$$ T(n) = \\dfrac{-2c_1 - c_2 + 2c_3}{4} +  \\dfrac{2c_1 + c_2 + 2c_3}{4} (-1)^n + \\dfrac{2c_1 + c_2 + 2c_3}{2}n $$"
   ]
  },
  {
   "cell_type": "markdown",
   "metadata": {},
   "source": [
    "#### Orden de Complejidad"
   ]
  },
  {
   "cell_type": "markdown",
   "metadata": {},
   "source": [
    "Dada la ecuación que describe el tiempo de ejecución, podemos concluir que $T(n)$ es de orden $O(n)$ donde $n$ representa el entero que es exponente en la operación de potenciación descrita por el algoritmo."
   ]
  }
 ],
 "metadata": {
  "kernelspec": {
   "display_name": "Python 3",
   "language": "python",
   "name": "python3"
  },
  "language_info": {
   "codemirror_mode": {
    "name": "ipython",
    "version": 3
   },
   "file_extension": ".py",
   "mimetype": "text/x-python",
   "name": "python",
   "nbconvert_exporter": "python",
   "pygments_lexer": "ipython3",
   "version": "3.11.9"
  }
 },
 "nbformat": 4,
 "nbformat_minor": 2
}
