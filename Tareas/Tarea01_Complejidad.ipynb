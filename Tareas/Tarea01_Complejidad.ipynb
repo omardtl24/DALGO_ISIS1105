{
 "cells": [
  {
   "cell_type": "markdown",
   "metadata": {},
   "source": [
    "# Desarrollo Tarea 1\n",
    "\n",
    "#### **Estudiante:** Omar David Toledo Leguizamón"
   ]
  },
  {
   "cell_type": "markdown",
   "metadata": {},
   "source": [
    "Realizar el análisis de complejidad para los siguientes algoritmos:"
   ]
  },
  {
   "cell_type": "markdown",
   "metadata": {},
   "source": [
    "## Ejercicio 1"
   ]
  },
  {
   "cell_type": "markdown",
   "metadata": {},
   "source": [
    "```java\n",
    "/**\n",
    " * Tells if a given number is prime\n",
    " * @param n Number to verify\n",
    " * @return boolean true if the number is prime, false otherwise\n",
    " */\n",
    "boolean isPrime(int n) {\n",
    "    boolean b = n>=2;\n",
    "    for(int i=2; i<n && b;i++){\n",
    "        b = b && n%i>0;\n",
    "    }\n",
    "    return b;\n",
    "}"
   ]
  },
  {
   "cell_type": "markdown",
   "metadata": {},
   "source": [
    "#### Peor Caso de Ejecución"
   ]
  },
  {
   "cell_type": "markdown",
   "metadata": {},
   "source": [
    "#### Tabla de Operaciones Básicas"
   ]
  },
  {
   "cell_type": "markdown",
   "metadata": {},
   "source": [
    "| Operaciones | Constante asociada |\n",
    "|----------|----------|\n",
    "| Asignación (=) | $c_1$ |\n",
    "| Mayor o igual (>=) | $c_2$ |\n",
    "| Menor que (<) | $c_3$ |\n",
    "| Suma (+) | $c_4$ |\n",
    "| And (&&) | $c_5$ |\n",
    "| Módulo (%) | $c_6$ |\n",
    "| Mayor que (>) | $c_7$ |\n",
    "\n"
   ]
  },
  {
   "cell_type": "markdown",
   "metadata": {},
   "source": [
    "#### Tiempo de Ejecución"
   ]
  },
  {
   "cell_type": "markdown",
   "metadata": {},
   "source": [
    "#### Orden de Complejidad"
   ]
  },
  {
   "cell_type": "markdown",
   "metadata": {},
   "source": [
    "## Ejercicio 2"
   ]
  },
  {
   "cell_type": "markdown",
   "metadata": {},
   "source": [
    "``` java\n",
    "/**\n",
    " * Calculates the quotient and the remainder of the division between two numbers\n",
    " * @param a Dividend\n",
    " * @param b Divisor. b>0\n",
    " * @return int [] array with two entries, the quotient and the remainder\n",
    " */\n",
    "int [] division (int a, int b) {\n",
    "    int q = 0;\n",
    "    int r = a;\n",
    "    while(r>=b) {\n",
    "        q = q+1;\n",
    "        r = r-b;\n",
    "    }\n",
    "    int [] answer = {q,r};\n",
    "    return answer;\n",
    "}"
   ]
  },
  {
   "cell_type": "markdown",
   "metadata": {},
   "source": [
    "#### Peor Caso de Ejecución"
   ]
  },
  {
   "cell_type": "markdown",
   "metadata": {},
   "source": [
    "#### Tabla de Operaciones Básicas"
   ]
  },
  {
   "cell_type": "markdown",
   "metadata": {},
   "source": [
    "| Operaciones | Constante asociada |\n",
    "|----------|----------|\n",
    "| Asignación (=) | $c_1$ |\n",
    "| Mayor o igual (>=) | $c_2$ |\n",
    "| Resta (-) | $c_3$ |\n",
    "| Suma (+) | $c_4$ |"
   ]
  },
  {
   "cell_type": "markdown",
   "metadata": {},
   "source": [
    "#### Tiempo de Ejecución"
   ]
  },
  {
   "cell_type": "markdown",
   "metadata": {},
   "source": [
    "#### Orden de Complejidad"
   ]
  },
  {
   "cell_type": "markdown",
   "metadata": {},
   "source": [
    "## Ejercicio 3"
   ]
  },
  {
   "cell_type": "markdown",
   "metadata": {},
   "source": [
    "```java\n",
    "/**\n",
    " * Calculates the sum of the main diagonal of the matrix a\n",
    " * @param a Matrix of numbers. It must be squared\n",
    " * @return int sum of the elements in the main diagonal\n",
    " */\n",
    "int sumMainDiagonal(int [][] a) {\n",
    "    int s = 0;\n",
    "    for(int i=0;i<a.length;i++) {\n",
    "        for(int j=0;j<a.length;j++) {\n",
    "            if (i==j) {\n",
    "                s = s+a[i][j];\n",
    "            }\n",
    "        }\n",
    "    }\n",
    "    return s;\n",
    "}\n"
   ]
  },
  {
   "cell_type": "markdown",
   "metadata": {},
   "source": [
    "#### Peor Caso de Ejecución"
   ]
  },
  {
   "cell_type": "markdown",
   "metadata": {},
   "source": [
    "#### Tabla de Operaciones Básicas"
   ]
  },
  {
   "cell_type": "markdown",
   "metadata": {},
   "source": [
    "#### Tiempo de Ejecución"
   ]
  },
  {
   "cell_type": "markdown",
   "metadata": {},
   "source": [
    "#### Orden de Complejidad"
   ]
  },
  {
   "cell_type": "markdown",
   "metadata": {},
   "source": [
    "## Ejercicio 4"
   ]
  },
  {
   "cell_type": "markdown",
   "metadata": {},
   "source": [
    "```java\n",
    "/**\n",
    " * Calculates the sum of the main diagonal of the matrix a\n",
    " * @param a Matrix of numbers. It must be squared\n",
    " * @return int sum of the elements in the main diagonal\n",
    " */\n",
    "int sumMainDiagonal2(int [][] a) {\n",
    "    int s = 0;\n",
    "    for(int i=0;i<a.length;i++) {\n",
    "        s = s+a[i][i];\n",
    "    }\n",
    "    return s;\n",
    "}\n"
   ]
  },
  {
   "cell_type": "markdown",
   "metadata": {},
   "source": [
    "#### Peor Caso de Ejecución"
   ]
  },
  {
   "cell_type": "markdown",
   "metadata": {},
   "source": [
    "#### Tabla de Operaciones Básicas"
   ]
  },
  {
   "cell_type": "markdown",
   "metadata": {},
   "source": [
    "#### Tiempo de Ejecución"
   ]
  },
  {
   "cell_type": "markdown",
   "metadata": {},
   "source": [
    "#### Orden de Complejidad"
   ]
  },
  {
   "cell_type": "markdown",
   "metadata": {},
   "source": [
    "## Ejercicio 5"
   ]
  },
  {
   "cell_type": "markdown",
   "metadata": {},
   "source": [
    "```java\n",
    "/**\n",
    " * Calculates the sum of the even elements in the matrix a\n",
    " * @param a matrix of m rows and n columns to calculate the sum.\n",
    " * @return int sum of the even elements in the matrix\n",
    " */\n",
    "int sumEven(int [][] a) {\n",
    "    int s = 0;\n",
    "    int i=0\n",
    "    int j=0;\n",
    "    while(i<a.length) {\n",
    "        if(a[i][j]%2==0) {\n",
    "            s = s+a[i][j];\n",
    "        }\n",
    "        if(j<a[i].length-1) j++;\n",
    "        else {\n",
    "            i++;\n",
    "            j=0;\n",
    "        }\n",
    "    }\n",
    "    return s;\n",
    "}"
   ]
  },
  {
   "cell_type": "markdown",
   "metadata": {},
   "source": [
    "#### Peor Caso de Ejecución\n",
    "#### Tabla de Operaciones Básicas"
   ]
  },
  {
   "cell_type": "markdown",
   "metadata": {},
   "source": [
    "#### Tiempo de Ejecución"
   ]
  },
  {
   "cell_type": "markdown",
   "metadata": {},
   "source": [
    "#### Orden de Complejidad"
   ]
  },
  {
   "cell_type": "markdown",
   "metadata": {},
   "source": [
    "## Ejercicio 6"
   ]
  },
  {
   "cell_type": "markdown",
   "metadata": {},
   "source": [
    "```java\n",
    "/**\n",
    " * Determines the position where a number appears in an integer array\n",
    " * @param a Array of numbers to search\n",
    " * @param e Number to find in a\n",
    " * @param f Last position of a to consider\n",
    " * @return int position i such that 0<=i<=f and a[i]=e or -1 if e is not present\n",
    " * between the positions 0 and f of the array a\n",
    " */\n",
    "int search (int [] a, int e, int f) {\n",
    "    if(a[f]==e) return f;\n",
    "    if(f==0) return -1;\n",
    "    return search(a,e,f-1);\n",
    "}\n"
   ]
  },
  {
   "cell_type": "markdown",
   "metadata": {},
   "source": [
    "#### Peor Caso de Ejecución"
   ]
  },
  {
   "cell_type": "markdown",
   "metadata": {},
   "source": [
    "#### Tabla de Operaciones Básicas"
   ]
  },
  {
   "cell_type": "markdown",
   "metadata": {},
   "source": [
    "#### Tiempo de Ejecución"
   ]
  },
  {
   "cell_type": "markdown",
   "metadata": {},
   "source": [
    "#### Orden de Complejidad"
   ]
  },
  {
   "cell_type": "markdown",
   "metadata": {},
   "source": [
    "## Ejercicio 7"
   ]
  },
  {
   "cell_type": "markdown",
   "metadata": {},
   "source": [
    "```java\n",
    "/**\n",
    " * Determines the position where a number appears in an integer array\n",
    " * @param a Array of numbers to search\n",
    " * @param e Number to find in a\n",
    " * @param s First position of a to consider\n",
    " * @param f Last position of a to consider. f>=s\n",
    " * @return int position i such that s<=i<=f and a[i]=e or -1 if e is not present\n",
    " * between the positions s and f of the array a\n",
    " */\n",
    "int search (int [] a, int e, int s, int f) {\n",
    "    int m = (s+f)/2;\n",
    "    if(a[m]==e) return m;\n",
    "    if(s==f) return -1;\n",
    "    int i = search(a,e,s,m);\n",
    "    if(i==-1) i= search(a, e, m+1,f);\n",
    "    return i;\n",
    "}\n"
   ]
  },
  {
   "cell_type": "markdown",
   "metadata": {},
   "source": [
    "#### Peor Caso de Ejecución"
   ]
  },
  {
   "cell_type": "markdown",
   "metadata": {},
   "source": [
    "#### Tabla de Operaciones Básicas"
   ]
  },
  {
   "cell_type": "markdown",
   "metadata": {},
   "source": [
    "#### Tiempo de Ejecución"
   ]
  },
  {
   "cell_type": "markdown",
   "metadata": {},
   "source": [
    "#### Orden de Complejidad"
   ]
  },
  {
   "cell_type": "markdown",
   "metadata": {},
   "source": [
    "## Ejercicio 8"
   ]
  },
  {
   "cell_type": "markdown",
   "metadata": {},
   "source": [
    "```java\n",
    "/**\n",
    " * Raises the number x to the power y\n",
    " * @param x Number to raise\n",
    " * @param y exponent. It must be greater or equal to zero\n",
    " * @return int result of x raised to y\n",
    " */\n",
    "int power(int x, int y) {\n",
    "    if(y==0) return 1;\n",
    "    if(y==1) return x;\n",
    "    return x*power(x,y-2)*x;\n",
    "}"
   ]
  },
  {
   "cell_type": "markdown",
   "metadata": {},
   "source": [
    "#### Peor Caso de Ejecución"
   ]
  },
  {
   "cell_type": "markdown",
   "metadata": {},
   "source": [
    "#### Tabla de Operaciones Básicas"
   ]
  },
  {
   "cell_type": "markdown",
   "metadata": {},
   "source": [
    "#### Tiempo de Ejecución"
   ]
  },
  {
   "cell_type": "markdown",
   "metadata": {},
   "source": [
    "#### Orden de Complejidad"
   ]
  }
 ],
 "metadata": {
  "language_info": {
   "name": "python"
  }
 },
 "nbformat": 4,
 "nbformat_minor": 2
}
